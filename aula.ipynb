{
 "cells": [
  {
   "cell_type": "markdown",
   "metadata": {
    "toc-hr-collapsed": false
   },
   "source": [
    "# Métodos Numéricos Aplicados à Transferência de Calor"
   ]
  },
  {
   "cell_type": "markdown",
   "metadata": {
    "colab_type": "text",
    "id": "xWip5AS5OehT"
   },
   "source": [
    "## Introdução"
   ]
  },
  {
   "cell_type": "markdown",
   "metadata": {
    "colab_type": "text",
    "id": "hoOtyRJEOehU"
   },
   "source": [
    "### Sobre o material\n",
    "\n",
    "* O objetivo desta palestra é **introduzir os principais conceitos empregados em programação e Python**, mais especificamente, no contexto interativo da plataforma Jupyter Notebook;\n",
    "* Além de demonstrar como **solucionar problemas em transferência de calor** por meio de propostas computacionais;\n",
    "* Para tanto, o material inclui uma breve **revisão de conceitos fundamentais** e as principais bibliotecas científicas disponíveis. Para maiores detalhes, **pode-se consultar a documentação disponível** ou mesmo as diversas leituras recomendadas que aparecem no decorrer do texto.\n",
    "* Finalmente, **a prática leva a perfeição**, há uma série de exercícios propostos ao final do material, visando a fixação do conhecimento."
   ]
  },
  {
   "cell_type": "markdown",
   "metadata": {
    "colab_type": "text",
    "id": "1Imc09KQOehV"
   },
   "source": [
    "### Porque Python?"
   ]
  },
  {
   "cell_type": "markdown",
   "metadata": {
    "colab_type": "text",
    "id": "CGAn5ZvWOehW"
   },
   "source": [
    "<img src=\"https://github.com/fschuch/Python-Transferencia-de-Calor/blob/master/notebook.png?raw=1\">"
   ]
  },
  {
   "cell_type": "markdown",
   "metadata": {
    "colab_type": "text",
    "id": "33N69O2MOehX"
   },
   "source": [
    "* [10 motivos para você aprender Python](https://www.hostgator.com.br/blog/10-motivos-para-voce-aprender-python/)"
   ]
  },
  {
   "cell_type": "markdown",
   "metadata": {
    "colab_type": "text",
    "id": "AumqKUUhOehX",
    "toc-hr-collapsed": false
   },
   "source": [
    "### Porque Jupyter Notebooks?\n",
    "\n",
    "![jupyter](https://jupyter.org/assets/main-logo.svg  \"jupyter\")\n",
    "\n",
    "* Ferramenta web interativa, grátis, de código aberto;\n",
    "* Exploração de dados. Permite executar o código, ver o que acontece, modificar e repetir, onde o cientista tem uma *\"conversa\"* com os dados disponíveis;\n",
    "* Útil para a criação de tutoriais interativos;\n",
    "* Ele fala a nossa língua. Disponível para várias liguagens de programação, como Python, Julia, R e Fortran;\n",
    "* É possível combinar o código com células `Markdown`, para renderizar equações e tabelas, inserir figuras e explicações sobre o código;\n",
    "* Facilmente extensível para apresentações de slides.\n",
    "* Disponível em [jupyter.org](https://jupyter.org)"
   ]
  },
  {
   "cell_type": "markdown",
   "metadata": {
    "colab_type": "text",
    "id": "5jhtc_hHOehY"
   },
   "source": [
    "#### Como acessar\n",
    "\n",
    "![anaconda](https://www.anaconda.com/wp-content/uploads/2018/06/cropped-Anaconda_horizontal_RGB-1-600x102.png \"anaconda\")\n",
    "\n",
    "1. Instalação por meio do pacote [Anaconda](https://www.anaconda.com/);\n",
    "\n",
    "![colab](https://colab.research.google.com/img/colab_favicon.ico \"colab\")\n",
    "\n",
    "2. Ferramenta colaborativa na núvem: [Google colab](https://colab.research.google.com);\n",
    "\n",
    "3. Palestra disponível em: [github.com/fschuch/Python-Transferencia-de-Calor](https://github.com/fschuch/Python-Transferencia-de-Calor)"
   ]
  },
  {
   "cell_type": "markdown",
   "metadata": {
    "colab_type": "text",
    "id": "ZZ2DTXF9OehZ"
   },
   "source": [
    "### Material Complementar\n",
    "\n",
    "* [Markdown quick reference](https://en.support.wordpress.com/markdown-quick-reference/)\n",
    "* [Jupyter tools to increase productivity](https://towardsdatascience.com/jupyter-tools-to-increase-productivity-7b3c6b90be09)\n",
    "* [LaTeX/Mathematics](https://en.wikibooks.org/wiki/LaTeX/Mathematics)\n",
    "* [Why Jupyter is data scientists’ computational notebook of choice](https://www.nature.com/articles/d41586-018-07196-1)\n",
    "* [5 reasons why jupyter notebooks suck](https://towardsdatascience.com/5-reasons-why-jupyter-notebooks-suck-4dc201e27086)\n",
    "* [12 passos para Navier-Stokes](https://github.com/fschuch/CFDPython-BR)\n",
    "* [An example machine learning notebook](https://nbviewer.jupyter.org/github/rhiever/Data-Analysis-and-Machine-Learning-Projects/blob/master/example-data-science-notebook/Example%2520Machine%2520Learning%2520Notebook.ipynb)\n",
    "* [Mythbusters Demo GPU versus CPU](https://www.youtube.com/watch?v=-P28LKWTzrI)\n",
    "* [Why I write with LaTeX (and why you should too)](https://medium.com/@marko_kovic/why-i-write-with-latex-and-why-you-should-too-ba6a764fadf9)\n",
    "* [New Developer? You should’ve learned Git yesterday](https://codeburst.io/number-one-piece-of-advice-for-new-developers-ddd08abc8bfa)\n",
    "* [Python: Introdução e aplicações da linguagem de programação em engenharia - JAEP 2019](https://github.com/fschuch/JAEP-2019.py)"
   ]
  },
  {
   "cell_type": "markdown",
   "metadata": {
    "colab_type": "text",
    "id": "KMHr-02qOeha"
   },
   "source": [
    "## Revisão"
   ]
  },
  {
   "cell_type": "markdown",
   "metadata": {
    "colab_type": "text",
    "id": "ZRiAA9-4Oehb"
   },
   "source": [
    "* As primeiras linhas de código (`Shift+Enter` executam o bloco):"
   ]
  },
  {
   "cell_type": "code",
   "execution_count": null,
   "metadata": {
    "colab": {},
    "colab_type": "code",
    "id": "yq7eFbnlOehb"
   },
   "outputs": [],
   "source": [
    "'''\n",
    "Isso é um comentário\n",
    "'''\n",
    "\n",
    "print(\"Olá mundo\")\n",
    "\n",
    "#Isso também é um comentário"
   ]
  },
  {
   "cell_type": "markdown",
   "metadata": {
    "colab_type": "text",
    "id": "i4wlPN_kOehf"
   },
   "source": [
    "* Declarando variáveis:"
   ]
  },
  {
   "cell_type": "code",
   "execution_count": null,
   "metadata": {
    "colab": {},
    "colab_type": "code",
    "id": "s8dPgPbMOehg"
   },
   "outputs": [],
   "source": [
    "i = 5        #inteiro\n",
    "f = 6.7      #ponto flutuante\n",
    "g = 1e-2     #notação exponencial\n",
    "s = 'abcdef' #string\n",
    "c = 5.0 + 6j #complexo"
   ]
  },
  {
   "cell_type": "markdown",
   "metadata": {
    "colab_type": "text",
    "id": "Kx2K9v7bOehk"
   },
   "source": [
    "* Operações matemáticas"
   ]
  },
  {
   "cell_type": "code",
   "execution_count": null,
   "metadata": {
    "colab": {},
    "colab_type": "code",
    "id": "aACxizWxOehl"
   },
   "outputs": [],
   "source": [
    "1. + 1. # Soma\n",
    "2. - 1. # Subtração\n",
    "6. * 7. # Multiplicação\n",
    "8. / 4. # Divisão\n",
    "2. **3. # Potência"
   ]
  },
  {
   "cell_type": "code",
   "execution_count": null,
   "metadata": {
    "colab": {},
    "colab_type": "code",
    "id": "nkq3O0QYOehn"
   },
   "outputs": [],
   "source": [
    "5. // 2. # Parte inteira da divisão"
   ]
  },
  {
   "cell_type": "code",
   "execution_count": null,
   "metadata": {
    "colab": {},
    "colab_type": "code",
    "id": "VqWYy10HOehp"
   },
   "outputs": [],
   "source": [
    "5. % 2. # Resto da divisão"
   ]
  },
  {
   "cell_type": "code",
   "execution_count": null,
   "metadata": {
    "colab": {},
    "colab_type": "code",
    "id": "oQ05VM1SOehr"
   },
   "outputs": [],
   "source": [
    "i = i + 1    #Acumulador \n",
    "i"
   ]
  },
  {
   "cell_type": "code",
   "execution_count": null,
   "metadata": {
    "colab": {},
    "colab_type": "code",
    "id": "dkVW2Af0Oeht"
   },
   "outputs": [],
   "source": [
    "i += 1       #Forma alternativa para acumulador\n",
    "i"
   ]
  },
  {
   "cell_type": "markdown",
   "metadata": {
    "colab_type": "text",
    "id": "YgTV2JraOehv"
   },
   "source": [
    "* Laço de zero a 4"
   ]
  },
  {
   "cell_type": "code",
   "execution_count": null,
   "metadata": {
    "colab": {},
    "colab_type": "code",
    "id": "rMMWLrXHOehw"
   },
   "outputs": [],
   "source": [
    "for i in range(5):\n",
    "    print(i)"
   ]
  },
  {
   "cell_type": "markdown",
   "metadata": {
    "colab_type": "text",
    "id": "EjPM3SmAOehy"
   },
   "source": [
    "* Teste lógico"
   ]
  },
  {
   "cell_type": "code",
   "execution_count": null,
   "metadata": {
    "colab": {},
    "colab_type": "code",
    "id": "aZKkh1juOehy"
   },
   "outputs": [],
   "source": [
    "if i == 4:\n",
    "    print('i é igual a 4')\n",
    "else:\n",
    "    print('i não é igual a 4, i é igual a '+str(i))"
   ]
  },
  {
   "cell_type": "markdown",
   "metadata": {
    "colab_type": "text",
    "id": "eH4kyitYOeh0"
   },
   "source": [
    "Material complementar:\n",
    "\n",
    "* [More Control Flow Tools](https://docs.python.org/3/tutorial/controlflow.html)\n",
    "* [Python - Modules](https://www.tutorialspoint.com/python/python_modules)\n",
    "* [The Python Tutorial - Modules](https://docs.python.org/3/tutorial/modules.html)\n",
    "* [Data Structures](https://docs.python.org/3/tutorial/datastructures.html)\n",
    "* [Dictionaries in Python](https://realpython.com/python-dicts/)\n",
    "* [Classes](https://docs.python.org/2/tutorial/classes.html)"
   ]
  },
  {
   "cell_type": "markdown",
   "metadata": {
    "colab_type": "text",
    "id": "q4dW6qDfOeiB"
   },
   "source": [
    "### Principais Bibliotecas"
   ]
  },
  {
   "cell_type": "markdown",
   "metadata": {
    "colab_type": "text",
    "id": "9apCaxQSOeiC"
   },
   "source": [
    "#### SciPy\n",
    "\n",
    "![SciPy](https://www.scipy.org/_static/images/scipy_med.png \"SciPy\")\n",
    "\n",
    "Ferramentas de computação científica para Python. SciPy refere-se a várias entidades relacionadas, mas distintas:\n",
    "\n",
    "* O ecossistema SciPy, uma coleção de software de código aberto para computação científica em Python;\n",
    "* A comunidade de pessoas que usam e desenvolvem essa biblioteca;\n",
    "* Várias conferências dedicadas à computação científica em Python - SciPy, EuroSciPy e SciPy.in;\n",
    "* Fazem parte da família os pacotes, que serão melhor descritos a seguir:\n",
    "    * Numpy;\n",
    "    * Matplotlib;\n",
    "    * Sympy;\n",
    "    * IPython;\n",
    "    * Pandas."
   ]
  },
  {
   "cell_type": "markdown",
   "metadata": {
    "colab_type": "text",
    "id": "qlis2j8OOeiE"
   },
   "source": [
    "* Além disso, a própria biblioteca SciPy, um componente do conjunto SciPy, fornecendo muitas rotinas numéricas:\n",
    "    * Funções especiais;\n",
    "    * Integração numérica;\n",
    "    * Diferenciação numérica;\n",
    "    * Otimização;\n",
    "    * Interpolação;\n",
    "    * Transformada de Fourier;\n",
    "    * Processamento de sinal;\n",
    "    * Algebra linear e Algebra linear esparsa;\n",
    "    * Problema de autovalor esparso com ARPACK;\n",
    "    * Algoritmos e estruturas de dados espaciais;\n",
    "    * Estatistica;\n",
    "    * Processamento de imagem multidimensional;\n",
    "    * I/O de arquivos;"
   ]
  },
  {
   "cell_type": "code",
   "execution_count": null,
   "metadata": {
    "colab": {},
    "colab_type": "code",
    "id": "VxTfWu9MOeiE"
   },
   "outputs": [],
   "source": [
    "import scipy as sp\n",
    "import scipy.sparse as sps"
   ]
  },
  {
   "cell_type": "markdown",
   "metadata": {
    "colab_type": "text",
    "id": "5mZLE2EtOeiH"
   },
   "source": [
    "Material complementar:\n",
    "* [SciPy](https://www.scipy.org/)\n",
    "* [Getting Started](https://www.scipy.org/getting-started.html)\n",
    "* [Scipy Lecture Notes](http://scipy-lectures.org/index.html)"
   ]
  },
  {
   "cell_type": "markdown",
   "metadata": {
    "colab_type": "text",
    "id": "DbN37YL6OeiH"
   },
   "source": [
    "#### Numpy\n",
    "\n",
    "![Numpy](https://www.scipy.org/_static/images/numpylogo_med.png \"Numpy\")\n",
    "\n",
    "Numpy é um pacote fundamental para a **computação científica em Python**. Entre outras coisas, destaca-se:\n",
    "* Objetos em arranjos N-dimensionais\n",
    "* Funções sofisticadas\n",
    "* Ferramentas para integrar código C/C++ e Fortran\n",
    "* Conveniente álgebra linear, transformada de Fourier e capacidade de números aleatórios\n",
    "\n",
    "Além de seus usos científicos óbvios, o NumPy também pode ser usado como um contêiner multidimensional eficiente de dados genéricos. Tipos de dados arbitrários podem ser definidos. Isso permite que o NumPy integre-se de forma fácil e rápida a uma ampla variedade de bancos de dados."
   ]
  },
  {
   "cell_type": "code",
   "execution_count": null,
   "metadata": {
    "colab": {},
    "colab_type": "code",
    "id": "QhODk5alOeiI"
   },
   "outputs": [],
   "source": [
    "import numpy as np #Importando a biblioteca numpy e definindo-a com o codnome de np"
   ]
  },
  {
   "cell_type": "code",
   "execution_count": null,
   "metadata": {
    "colab": {},
    "colab_type": "code",
    "id": "ANwZhgdTOeiK",
    "scrolled": true
   },
   "outputs": [],
   "source": [
    "help(np.arange) #É sempre possível ver a documentação de uma dada função"
   ]
  },
  {
   "cell_type": "code",
   "execution_count": null,
   "metadata": {
    "colab": {},
    "colab_type": "code",
    "id": "YhAS_Qe_OeiM"
   },
   "outputs": [],
   "source": [
    "a = np.arange(15).reshape(3, 5) #Criando um arranjo com 15 elementos e o redimensionando para o formato 3x5"
   ]
  },
  {
   "cell_type": "code",
   "execution_count": null,
   "metadata": {
    "colab": {},
    "colab_type": "code",
    "id": "Z4fA9FNrOeiO"
   },
   "outputs": [],
   "source": [
    "# Exemplos da obtenção de várias propriedades de a\n",
    "a.shape # Verificando as dimensões do arranjo\n",
    "a.ndim # O número de dimensões\n",
    "a.dtype.name # Classificação quando ao tipo dos elementos\n",
    "a.itemsize # Tamanho em bytes de cada elemento\n",
    "a.size # Número total de elementos no arranjo\n",
    "type(a)\n",
    "\n",
    "#Escrevendo a\n",
    "a"
   ]
  },
  {
   "cell_type": "code",
   "execution_count": null,
   "metadata": {
    "colab": {},
    "colab_type": "code",
    "id": "daYPYKtVOeiQ",
    "scrolled": true
   },
   "outputs": [],
   "source": [
    "#Outras funções que merecem destaque:\n",
    "for f in [np.zeros, np.zeros_like, np.ones, np.linspace]:\n",
    "    print('=============== '+f.__name__+' ===============\\n')\n",
    "    print(f.__doc__+'\\n')"
   ]
  },
  {
   "cell_type": "markdown",
   "metadata": {
    "colab_type": "text",
    "id": "BrYR_0QLOeiS"
   },
   "source": [
    "Material complementar:\n",
    "* [NumPy](https://www.numpy.org/)\n",
    "* [Quickstart tutorial](https://www.numpy.org/devdocs/user/quickstart.html)"
   ]
  },
  {
   "cell_type": "markdown",
   "metadata": {
    "colab_type": "text",
    "id": "PjAE7_eFOeiS"
   },
   "source": [
    "#### Pandas\n",
    "\n",
    "![Pandas](https://www.scipy.org/_static/images/pandas_badge2.jpg \"Pandas\")\n",
    "\n",
    "O pandas é um pacote Python que fornece **estruturas de dados rápidas, flexíveis e expressivas**, projetadas para tornar o trabalho com dados “relacionais” ou “rotulados” fáceis e intuitivos. O objetivo é ser o alicerce fundamental de alto nível para a análise prática de dados do mundo real em Python. Além disso, tem o objetivo mais amplo de se tornar a mais poderosa e flexível ferramenta de análise / manipulação de dados de código aberto disponível em qualquer linguagem.\n",
    "\n",
    "Pandas é bem adequado para muitos tipos diferentes de dados:\n",
    "* Dados tabulares com colunas de tipos heterogêneos, como em uma **tabela SQL, arquivo `.csv` ou planilha do Excel**;\n",
    "* Dados de **séries temporais** ordenados e não ordenados (não necessariamente de frequência fixa);\n",
    "* Dados de matriz arbitrária (homogeneamente digitados ou heterogêneos) com rótulos de linha e coluna;\n",
    "* Qualquer outra forma de conjuntos de dados observacionais / estatísticos. Os dados realmente não precisam ser rotulados para serem colocados em uma estrutura de dados de pandas."
   ]
  },
  {
   "cell_type": "code",
   "execution_count": null,
   "metadata": {
    "colab": {},
    "colab_type": "code",
    "id": "dE3vNVG_OeiT"
   },
   "outputs": [],
   "source": [
    "import pandas as pd"
   ]
  },
  {
   "cell_type": "code",
   "execution_count": null,
   "metadata": {
    "colab": {},
    "colab_type": "code",
    "id": "daN02fYJOeiU"
   },
   "outputs": [],
   "source": [
    "df2 = pd.DataFrame({'A': 1.,\n",
    "                    'B': pd.Timestamp('20130102'),\n",
    "                    'C': pd.Series(1, index=list(range(4)), dtype='float32'),\n",
    "                    'D': np.array([3] * 4, dtype='int32'),\n",
    "                    'E': pd.Categorical([\"test\", \"train\", \"test\", \"train\"]),\n",
    "                    'F': 'foo'})"
   ]
  },
  {
   "cell_type": "code",
   "execution_count": null,
   "metadata": {
    "colab": {},
    "colab_type": "code",
    "id": "J4Hmlwm8OeiY"
   },
   "outputs": [],
   "source": [
    "df2"
   ]
  },
  {
   "cell_type": "markdown",
   "metadata": {
    "colab_type": "text",
    "id": "6swLJPK9Oeib"
   },
   "source": [
    "Material complementar:\n",
    "* [Pandas](https://pandas.pydata.org/)\n",
    "* [10 minutes to pandas](https://pandas.pydata.org/pandas-docs/version/0.25.0/getting_started/10min.html)"
   ]
  },
  {
   "cell_type": "markdown",
   "metadata": {
    "colab_type": "text",
    "id": "l_ahr8v1Oeib"
   },
   "source": [
    "#### Sympy\n",
    "\n",
    "![Sympy](https://scipy.org/_static/images/sympy_logo.png \"Sympy\")\n",
    "\n",
    "SymPy é uma biblioteca Python para **matemática simbólica**. O objetivo é tornar-se um sistema de álgebra computacional (CAS) completo, mantendo o código o mais simples possível para ser compreensível e facilmente extensível. SymPy é escrito inteiramente em Python."
   ]
  },
  {
   "cell_type": "code",
   "execution_count": null,
   "metadata": {
    "colab": {},
    "colab_type": "code",
    "id": "xnuuj4aLOeic"
   },
   "outputs": [],
   "source": [
    "import sympy as sm\n",
    "sm.init_printing() #Para escrever equações na tela"
   ]
  },
  {
   "cell_type": "markdown",
   "metadata": {
    "colab_type": "text",
    "id": "-jZnleP5Oeiv"
   },
   "source": [
    "Material complementar:\n",
    "* [Sympy](https://www.sympy.org/en/index.html)\n",
    "* [Documentation](https://docs.sympy.org/latest/index.html)"
   ]
  },
  {
   "cell_type": "markdown",
   "metadata": {
    "colab_type": "text",
    "id": "FUrzoPIHOeiw"
   },
   "source": [
    "#### Matplotlib\n",
    "\n",
    "![Matplotlib](https://www.scipy.org/_static/images/matplotlib_med.png \"Matplotlib\")\n",
    "\n",
    "A Matplotlib é uma biblioteca de plotagem 2D do Python, que produz figuras de qualidade de publicação em uma variedade de formatos impressos e ambientes interativos entre plataformas. O Matplotlib pode ser usado em scripts Python, nos shells do Python e do IPython, no notebook Jupyter, nos servidores de aplicativos da web e em quatro kits de ferramentas de interface gráfica do usuário.\n",
    "\n",
    "A **Matplotlib tenta tornar as coisas fáceis simples e as coisas difíceis possíveis**. Você pode gerar gráficos, histogramas, espectros de potência, gráficos de barras, gráficos de erros, diagramas de dispersão, etc., com apenas algumas linhas de código.\n",
    "\n",
    "Material complementar:\n",
    "* [Matplotlib](https://matplotlib.org/)\n",
    "* [Style sheets reference](https://matplotlib.org/3.1.0/gallery/style_sheets/style_sheets_reference.html)\n",
    "* [Gallery](https://matplotlib.org/3.1.0/gallery/index.html)"
   ]
  },
  {
   "cell_type": "code",
   "execution_count": null,
   "metadata": {
    "colab": {},
    "colab_type": "code",
    "id": "-DWBTFwmOeiw"
   },
   "outputs": [],
   "source": [
    "import matplotlib.pyplot as plt"
   ]
  },
  {
   "cell_type": "code",
   "execution_count": null,
   "metadata": {
    "colab": {},
    "colab_type": "code",
    "id": "WiIpHZXwOeiz"
   },
   "outputs": [],
   "source": [
    "# Definindo um novo estilo para as figuras [opcional]\n",
    "# Esse bloco modifica alguns dos valores padrões para\n",
    "\n",
    "plt.rcdefaults()\n",
    "\n",
    "# https://matplotlib.org/3.1.0/gallery/style_sheets/style_sheets_reference.html\n",
    "plt.style.use('ggplot')\n",
    "\n",
    "# https://matplotlib.org/3.1.1/tutorials/introductory/customizing.html\n",
    "plt.rcParams.update({'figure.dpi' : 100,\n",
    "                     \"figure.figsize\" : (6, 6)\n",
    "                    })"
   ]
  },
  {
   "cell_type": "code",
   "execution_count": null,
   "metadata": {
    "colab": {},
    "colab_type": "code",
    "id": "PHkuAOHfOei2"
   },
   "outputs": [],
   "source": [
    "x = np.arange(0, 5, 0.1)\n",
    "y = np.sin(x)\n",
    "plt.plot(x, y)\n",
    "plt.show()"
   ]
  },
  {
   "cell_type": "markdown",
   "metadata": {
    "colab_type": "text",
    "id": "7cXkW1EyOei7",
    "toc-hr-collapsed": false
   },
   "source": [
    "## Exercícios Resolvidos"
   ]
  },
  {
   "cell_type": "markdown",
   "metadata": {
    "colab_type": "text",
    "id": "2YIM2keYUJKL"
   },
   "source": [
    "### Métodos numéricos"
   ]
  },
  {
   "cell_type": "markdown",
   "metadata": {
    "colab_type": "text",
    "id": "FuUeXPN3Oei8"
   },
   "source": [
    "#### Diferenciação\n",
    "\n",
    "\n",
    "* Esquema em diferenças finitas, explícito, centrado e com precisão de O($\\Delta x^2$):\n",
    "\n",
    "\\begin{equation}\n",
    "    \\frac{d f}{d x} = f_i' = \\dfrac{f_{i+1}-f_{i-1}}{2\\Delta x}\n",
    "\\end{equation}\n",
    "\n",
    "\\begin{equation}\n",
    "\\begin{split}\n",
    "\\begin{bmatrix} f'_{0} \\\\ f'_{1} \\\\ \\vdots \\\\ f'_{i} \\\\ \\vdots \\\\ f'_{n-2}\\\\ f'_{n-1}\\end{bmatrix} =\n",
    "\\underbrace{\n",
    "\\frac{1}{2 \\Delta x}\n",
    "\\begin{bmatrix}\n",
    "0 & 1 & & & & & -1 \\\\\n",
    "-1 & 0 & 1 & & \\\\\n",
    " & \\ddots & \\ddots & \\ddots & & & \\\\\n",
    "& & -1 & 0 & 1 & \\\\\n",
    "& & & \\ddots & \\ddots & \\ddots & \\\\\n",
    "& & & & -1 & 0 & 1\\\\\n",
    "1 & & & & & -1 & 0\n",
    "\\end{bmatrix}\n",
    "}_{D_x = \\text{ Operador diferencial de primeira ordem}}\n",
    "\\begin{bmatrix} f_{0} \\\\ f_{1} \\\\ \\vdots \\\\ f_{i} \\\\ \\vdots \\\\ f_{n-2}\\\\ f_{n-1}\\end{bmatrix}\n",
    "\\\\\n",
    "\\mbox{com $2\\leq i \\leq n -3$ e $f_0 = f_n$}\n",
    "\\end{split}\n",
    "\\end{equation}\n",
    "\n",
    "\\begin{equation}\n",
    "    f' = D_x f\n",
    "\\end{equation}"
   ]
  },
  {
   "cell_type": "markdown",
   "metadata": {
    "colab_type": "text",
    "id": "kVdmUxysOei8"
   },
   "source": [
    "* Esquema em diferenças finitas, explícito, centrado e com precisão de O($\\Delta x^2$):\n",
    "\n",
    "\\begin{equation}\n",
    "    \\frac{d^2 f}{d x^2} = f_i'' = \\dfrac{f_{i+1} - 2 f_{i} + f_{i-1}}{(\\Delta x)^2}\n",
    "\\end{equation}\n",
    "\n",
    "\\begin{equation}\n",
    "\\begin{split}\n",
    "\\begin{bmatrix} f''_{0} \\\\ f''_{1} \\\\ \\vdots \\\\ f''_{i} \\\\ \\vdots \\\\ f''_{n-2}\\\\ f''_{n-1}\\end{bmatrix} =\n",
    "\\underbrace{\n",
    "\\frac{1}{(\\Delta x)^2}\n",
    "\\begin{bmatrix}\n",
    "-2 & 1 & & & & & 1\\\\\n",
    "1 & -2 & 1 & & \\\\\n",
    " & \\ddots & \\ddots & \\ddots & & & \\\\\n",
    "& & 1 & -2 & 1 & \\\\\n",
    "& & & \\ddots & \\ddots & \\ddots & \\\\\n",
    "& & & & 1 & -2 & 1\\\\\n",
    "1 & & & & & 1 & -2\n",
    "\\end{bmatrix}\n",
    "}_{D_x^2 = \\text{ Operador diferencial de segunda ordem}}\n",
    "\\begin{bmatrix} f_{0} \\\\ f_{1} \\\\ \\vdots \\\\ f_{i} \\\\ \\vdots \\\\ f_{n-2}\\\\ f_{n-1}\\end{bmatrix}\n",
    "\\\\\n",
    "\\mbox{com $2\\leq i \\leq n -3$ e $f_0 = f_n$}\n",
    "\\end{split}\n",
    "\\end{equation}\n",
    "\n",
    "\\begin{equation}\n",
    "    f'' = D_x^2 f\n",
    "\\end{equation}"
   ]
  },
  {
   "cell_type": "markdown",
   "metadata": {
    "colab_type": "text",
    "id": "dq206Hz8Pyuh"
   },
   "source": [
    "Esse é um bom momento para a criação de uma sub-rotina, já que operadores diferenciais serão muito utilizados durante os exemplos práticos. Repare nas boas práticas de programação, a sub-rotina está documentada e possui valores padrões para cada argumento de entrada."
   ]
  },
  {
   "cell_type": "code",
   "execution_count": null,
   "metadata": {
    "colab": {},
    "colab_type": "code",
    "id": "yXg08ikWPvi_"
   },
   "outputs": [],
   "source": [
    "def ordem2(f=2*np.pi, i=0., n=7, P=False):\n",
    "    '''ordem2(f=2*pi, i=0., n=7, P=False)\n",
    "\n",
    "    Calcula os operadores diferenciais da primeira e segunda derivada, para uma\n",
    "    malha equidistante de i a f, com n pontos, e erro da ordem de h**2.\n",
    "\n",
    "    Parâmetros\n",
    "    ----------\n",
    "    f : real\n",
    "        Valor do contorno superior de x.\n",
    "        Padrão é 2*pi.\n",
    "    i : real\n",
    "        Valor do contorno inferior de x.\n",
    "        Padrão é zero.\n",
    "    n : inteiro\n",
    "        Número de pontos da malha na direção x.\n",
    "        Padrão é 7.\n",
    "    P : bool, opcional\n",
    "        Define que a condição de contorno é periódica quando True.\n",
    "        Padrão é False.\n",
    "\n",
    "    Retorna\n",
    "    -------\n",
    "    x, Dx e Dx2, respectivamente o vetor posição e os operadores diferenciais\n",
    "    para primeira e segunda ordem.\n",
    "    '''\n",
    "    #Vetor posição\n",
    "    x = np.linspace(i, f, num=n, endpoint=not P)\n",
    "    #Operador diferencial de primeira ordem\n",
    "    Dx = sps.diags([-1., 0., 1.],\n",
    "                   offsets=[-1, 0, 1],\n",
    "                   shape=(x.size,x.size)\n",
    "                   ).toarray()\n",
    "    #Operador diferencial de segunda ordem\n",
    "    Dx2 = sps.diags([1., -2., 1.],\n",
    "                    offsets=[-1, 0, 1],\n",
    "                    shape=(x.size,x.size)\n",
    "                    ).toarray()\n",
    "\n",
    "    if P: #Condições de contorno periódicas\n",
    "        for D in [Dx, Dx2]:\n",
    "            D[0,-1] = D[1,0]\n",
    "            D[-1,0] = D[-2,-1]\n",
    "    else: #Não Periódica\n",
    "        Dx[0,0], Dx[0,1], Dx[0,2] = -3., 4., -1.\n",
    "        Dx[-1,-3], Dx[-1,-2], Dx[-1,-1] = 1., -4., 3.\n",
    "        Dx2[0,0], Dx2[0,1], Dx2[0,2] = 1., -2., 1.\n",
    "        Dx2[-1,-3], Dx2[-1,-2], Dx2[-1,-1] = 1., -2., 1.\n",
    "\n",
    "    h = (x[1]-x[0])\n",
    "    Dx /= 2.*h\n",
    "    Dx2 /= h**2.\n",
    "    return x, Dx, Dx2"
   ]
  },
  {
   "cell_type": "markdown",
   "metadata": {
    "colab_type": "text",
    "id": "VHIUSThaRAYW"
   },
   "source": [
    "Agora verificando a resposta:"
   ]
  },
  {
   "cell_type": "code",
   "execution_count": null,
   "metadata": {
    "colab": {},
    "colab_type": "code",
    "id": "QQdqGLyLOejA"
   },
   "outputs": [],
   "source": [
    "x, Dx, Dx2 = ordem2(n=100, P=False)\n",
    "\n",
    "f = np.cos\n",
    "\n",
    "plt.plot(x, f(x), label='f(x)')\n",
    "plt.plot(x, Dx.dot(f(x)), label=\"f'(x)\")\n",
    "plt.plot(x, Dx2.dot(f(x)), label=\"f''(x)\")\n",
    "\n",
    "plt.legend()\n",
    "plt.show()"
   ]
  },
  {
   "cell_type": "markdown",
   "metadata": {
    "colab_type": "text",
    "id": "5c92uAClOejB"
   },
   "source": [
    "* Esquema em diferenças finitas, explícito, diferença para frente e com precisão de O($\\Delta t^1$):\n",
    "\n",
    "\\begin{equation}\n",
    "    \\frac{d f}{d t} = \\dfrac{f_{k+1}-f_{k}}{\\Delta t}\n",
    "\\end{equation}"
   ]
  },
  {
   "cell_type": "markdown",
   "metadata": {
    "colab_type": "text",
    "id": "a2YZ_jxFOejC"
   },
   "source": [
    "* Esquema em diferenças finitas, implícito, centrado e com precisão de O($\\Delta x^6$):\n",
    "\n",
    "\n",
    "\\begin{equation}\n",
    "    \\frac{1}{3} f_{i-1}' + f_{i}' + \\frac{1}{3} f_{i+1}' = \\frac{14}{9} \\frac{f_{i+1}-f_{i-1}}{2\\Delta x} + \\frac{1}{9} \\frac{f_{i+2}-f_{i-2}}{4\\Delta x}\n",
    "\\end{equation}\n",
    "\n",
    "\n",
    "\\begin{equation}\n",
    "    f' = \\underbrace{A^{-1}B}_{D_x} f\n",
    "\\end{equation}"
   ]
  },
  {
   "cell_type": "markdown",
   "metadata": {
    "colab_type": "text",
    "id": "puD-ntlbOejC"
   },
   "source": [
    "\\begin{equation}\n",
    "\\begin{split}\n",
    "\\underbrace{\n",
    "\\begin{bmatrix}\n",
    "1 & 1/3 & & & & & 1/3 \\\\\n",
    "1/3 & 1 & 1/3 & & \\\\\n",
    " & \\ddots & \\ddots & \\ddots & & & \\\\\n",
    "& & 1/3 & 1 & 1/3 & \\\\\n",
    "& & & \\ddots & \\ddots & \\ddots & \\\\\n",
    "& & & & 1/3 & 1 & 1/3\\\\\n",
    "1/3 & & & & & 1/3 & 1\n",
    "\\end{bmatrix}\n",
    "}_{A}\n",
    "\\begin{bmatrix} f'_{0} \\\\ f'_{1} \\\\ \\vdots \\\\ f'_{i} \\\\ \\vdots \\\\ f'_{n-2}\\\\ f'_{n-1}\\end{bmatrix} =\n",
    "\\underbrace{\n",
    "\\frac{1}{\\Delta x}\n",
    "\\begin{bmatrix}\n",
    "0 & 7/9 & 1/36 & & & 1/36 & 7/9 \\\\\n",
    "7/9 & 0 & 7/9 & 1/36 & & & 1/36\\\\\n",
    "& \\ddots & \\ddots & \\ddots & & & \\\\\n",
    "& 1/36 & 7/9 & 0 & 7/9 & 1/36 \\\\\n",
    "& & & \\ddots & \\ddots & \\ddots & \\\\\n",
    "1/36 & & & 1/36 & 7/9 & 0 & 7/9 \\\\\n",
    "7/9 & 1/36 & & & 1/36 & 7/9 & 0\n",
    "\\end{bmatrix}\n",
    "}_{B}\n",
    "\\begin{bmatrix} f_{0} \\\\ f_{1} \\\\ \\vdots \\\\ f_{i} \\\\ \\vdots \\\\ f_{n-2}\\\\ f_{n-1}\\end{bmatrix}\n",
    "\\\\\n",
    "\\mbox{com $2\\leq i \\leq n -3$, $f_0 = f_n$ e $f_0' = f_n'$}\n",
    "\\end{split}\n",
    "\\label{eq.dxx_matrix}\n",
    "\\end{equation}"
   ]
  },
  {
   "cell_type": "markdown",
   "metadata": {
    "colab_type": "text",
    "id": "Pv0mJS5gOejC"
   },
   "source": [
    "#### Integração\n",
    "\n",
    "\n",
    "* Regra do Trapézio:"
   ]
  },
  {
   "cell_type": "markdown",
   "metadata": {
    "colab_type": "text",
    "id": "XsvBxgB6OejD"
   },
   "source": [
    "\\begin{equation}\n",
    "\\int_a^b f(x)dx \\approx \\dfrac{f(a) + f(b)}{2} (b-a)\n",
    "\\end{equation}\n",
    "\n",
    "Pode-se dividir em $N$ intervalos:"
   ]
  },
  {
   "cell_type": "markdown",
   "metadata": {
    "colab_type": "text",
    "id": "oQgFtyTTOejD"
   },
   "source": [
    "\\begin{equation}\n",
    "\\int_a^b fdx \\approx \\sum_{i=0}^{n-1} \\dfrac{f_{i} + f_{i+1}}{2} \\Delta x = \\dfrac{\\Delta x}{2} \\left( f_0 + 2f_1 + \\dots + 2f_{n-1} + f_{n}\\right)\n",
    "\\end{equation}\n",
    "\n",
    "Podemos ver que o erro do método numérico decresce exponencialmente, na ordem de \\\\( n^{-2} \\\\), em função do aumento do número de pontos:\n",
    "\n",
    "![Integração numérica com a Regra dos Trapézios](https://github.com/fschuch/aprenda.py/raw/master/images/trapezoidal-rule.gif)\n",
    "\n",
    "Mas ele fica saturado por volta de \\\\( 10^{-12} \\\\). É hora da reflexão, você sabe me dizer o que acontece ali?"
   ]
  },
  {
   "cell_type": "code",
   "execution_count": null,
   "metadata": {
    "colab": {},
    "colab_type": "code",
    "id": "nIWeBYP6OejF"
   },
   "outputs": [],
   "source": [
    "# Uma alternativa é utilizando o scipy:\n",
    "import scipy.integrate\n",
    "\n",
    "print(sp.integrate.trapz(f(x),x))"
   ]
  },
  {
   "cell_type": "markdown",
   "metadata": {
    "colab_type": "text",
    "id": "kxhNK8dtOejH"
   },
   "source": [
    "Material complementar:\n",
    "* [Integração numérica com a Regra dos Trapézios](https://fschuch.github.io/aprenda.py/blog/trapezoidal-rule.html)\n",
    "* [Finite Difference Coefficients Calculator](http://web.media.mit.edu/~crtaylor/calculator.html)\n",
    "* [Trapezoidal rule](https://en.wikipedia.org/wiki/Trapezoidal_rule)\n",
    "* MOIN, Parviz. **Fundamentals of engineering numerical analysis**. Cambridge University Press, 2010."
   ]
  },
  {
   "cell_type": "code",
   "execution_count": null,
   "metadata": {
    "colab": {},
    "colab_type": "code",
    "id": "XczvFh4sOejI"
   },
   "outputs": [],
   "source": [
    "del Dx, Dx2, f, x\n",
    "plt.close('all')"
   ]
  },
  {
   "cell_type": "markdown",
   "metadata": {
    "colab_type": "text",
    "id": "2blbUt27OejJ"
   },
   "source": [
    "### Transferência de Calor"
   ]
  },
  {
   "cell_type": "markdown",
   "metadata": {
    "colab_type": "text",
    "id": "gjvGWTV5UZF2"
   },
   "source": [
    "#### Radiação e convecção combinadas em transferência de calor permanente unidirecional"
   ]
  },
  {
   "cell_type": "markdown",
   "metadata": {
    "colab_type": "text",
    "id": "vh0K2yb2OejK"
   },
   "source": [
    "A superfície interior de uma parede de espessura $L=0,25m$ é mantida a $21^oC$, enquanto a temperatura no meio externo é $T_\\infty = 4^oC$. Considere que há troca de calor com a vizinhança $T_{viz} = 250 K$, o coeficiente de convecção é $h=23W/m^2$, a condutividade térmica do material que compõe a parede é $k=0,65 W/m \\cdot ^oC$, a emissividade da superfície externa vale $\\epsilon = 0,8$ e a constante de Stefan-Boltzmann $\\sigma = 5,67 \\times 10^{-8} [W/m^2 \\cdot K^4]$. Determine a temperatura externa da parede $T_2$.\n",
    "\n",
    "<img src=\"https://github.com/fschuch/Python-Transferencia-de-Calor/blob/master/radiacao.png?raw=1\">\n",
    "\n",
    "\\begin{equation}\n",
    "    k \\left( \\dfrac{T_1-T_2}{L} \\right) = \\epsilon \\sigma \\left( T_2^4 - T_{viz}^4 \\right) + h \\left( T_2 - T_\\infty \\right)\n",
    "\\end{equation}"
   ]
  },
  {
   "cell_type": "code",
   "execution_count": null,
   "metadata": {
    "colab": {},
    "colab_type": "code",
    "id": "nnO9b1HnOejL"
   },
   "outputs": [],
   "source": [
    "# A esquerda como as variáveis serão tratadas computacionalmente, a direita como elas serão exibidas visualmente\n",
    "k, t1, t2, l, epsi, sigma, tviz, too, h = sm.symbols(\"k t_1 t_2 L \\epsilon \\sigma t_{viz} t_\\infty h\")\n",
    "\n",
    "# Definindo a equação do problema\n",
    "eq1 = sm.Eq(k*(t1-t2)/l,epsi*sigma*(t2**4.-tviz**4.)+h*(t2-too))"
   ]
  },
  {
   "cell_type": "code",
   "execution_count": null,
   "metadata": {
    "colab": {},
    "colab_type": "code",
    "id": "nnO9b1HnOejL"
   },
   "outputs": [],
   "source": [
    "# Dicionário com os valores que serão substituidos na eq1\n",
    "dic = {k: .65, t1: 21.+273., l: .25, epsi: .8, sigma: 5.67e-8, tviz: 255., too: 4.+273., h: 23.}\n",
    "\n",
    "# Resolvendo a equação\n",
    "sol = sm.solve(eq1.subs(dic), t2)\n",
    "\n",
    "# Procurando a solução desejada\n",
    "for val in sol:\n",
    "    if val.is_real: #A solução deve ser real\n",
    "        if val.is_positive: #E positiva\n",
    "            print('T2 = {0:3.2f} graus celsius'.format(val-273.))  "
   ]
  },
  {
   "cell_type": "code",
   "execution_count": null,
   "metadata": {
    "colab": {},
    "colab_type": "code",
    "id": "PCpHTi9NOejN"
   },
   "outputs": [],
   "source": [
    "del k, t1, t2, l, epsi, sigma, tviz, too, h, eq1, dic, sol, val"
   ]
  },
  {
   "cell_type": "markdown",
   "metadata": {
    "colab_type": "text",
    "id": "TgCiNuiIUqmT"
   },
   "source": [
    "#### Condução de calor transiente bidimensional"
   ]
  },
  {
   "cell_type": "markdown",
   "metadata": {
    "colab_type": "text",
    "id": "ipFQNb0JOejO"
   },
   "source": [
    "Uma placa de cobre de $50cm \\times 50cm$ inicialmente possui temperatura em toda a sua extensão igual a $0^oC$. Instantaneamente, suas bordas são levadas às temperaturas de $60^oC$ em $x=0$; $20^oC$ em $x=50cm$; $0^oC$ em $y=0$ e $100^oC$ em $y=50$. A difusividade térmica do cobre é $1,1532cm^2/s$. Considerando um $\\Delta t = 4s$, $\\Delta x = \\Delta y = 5cm$, calcule a evolução da temperatura para a posição central da placa até o tempo de $400s$. Para o tempo de $200s$ apresente o perfil de temperatura em todos os pontos discretos do domínio.\n",
    "    Equação bidimensional:\n",
    "\\begin{equation}\n",
    "\\alpha \\left( \\dfrac{\\partial ^2 T}{\\partial x^2} + \\dfrac{\\partial ^2 T}{\\partial y^2} \\right) =\\dfrac{\\partial T}{\\partial t}\n",
    "\\end{equation}\n",
    "    Discretizando com a derivada segunda numa representação por diferença central e a derivada primeira com diferença ascendente:\n",
    "\n",
    "\\begin{equation}\n",
    "\\dfrac{T^{n+1}_{l,j}-T^{n}_{l,j}}{\\Delta t}=\\alpha \\left[ \\dfrac{T^{n}_{l-1,j}-2T^{n}_{l,j}+T^{n}_{l+1,j}}{(\\Delta x)^2} +\\dfrac{T^{n}_{l,j-1}-2T^{n}_{l,j}+T^{n}_{l,j+1}}{(\\Delta y)^2}  \\right]\n",
    "\\end{equation}"
   ]
  },
  {
   "cell_type": "code",
   "execution_count": null,
   "metadata": {
    "colab": {},
    "colab_type": "code",
    "id": "1rCPKhlrOejP"
   },
   "outputs": [],
   "source": [
    "x = np.linspace(0., 50., num=11, endpoint=True)\n",
    "y = np.linspace(0., 50., num=11, endpoint=True)\n",
    "t = np.linspace(0., 400., num=101, endpoint=True)\n",
    "\n",
    "a = 1.1532\n",
    "\n",
    "# Condição inicial\n",
    "T = np.zeros((x.size,y.size,t.size))\n",
    "\n",
    "# Condições de contorno\n",
    "T[0,:,:], T[-1,:,:], T[:,0,:], T[:,-1,:] = 60., 20., 0., 100."
   ]
  },
  {
   "cell_type": "code",
   "execution_count": null,
   "metadata": {
    "colab": {},
    "colab_type": "code",
    "id": "NmVcVXhjOejQ"
   },
   "outputs": [],
   "source": [
    "dt = t[1]-t[0]\n",
    "dx2 = (x[1]-x[0])**2.\n",
    "dy2 = (y[1]-y[0])**2.\n",
    "for n in range(t.size-1):\n",
    "    for i in range(1,x.size-1):\n",
    "        for j in range(1,y.size-1):\n",
    "            T[i,j,n+1] = dt*a*((T[i-1,j,n]-2.*T[i,j,n]+T[i+1,j,n])/dx2+(T[i,j-1,n]-2.*T[i,j,n]+T[i,j+1,n])/dy2)+T[i,j,n]"
   ]
  },
  {
   "cell_type": "code",
   "execution_count": null,
   "metadata": {
    "colab": {},
    "colab_type": "code",
    "id": "aCDEcHOsOejS"
   },
   "outputs": [],
   "source": [
    "#Adicionar subplot\n",
    "fig, ax = plt.subplots(nrows=1, ncols=5, sharex=True, sharey=True, figsize=(12,6))\n",
    "\n",
    "for i, n in enumerate(T[:,:,::25].T):\n",
    "    ax[i].imshow(n, cmap='coolwarm')\n",
    "    ax[i].set_title('t={}'.format(t[i*25]))\n",
    "\n",
    "plt.show()"
   ]
  },
  {
   "cell_type": "code",
   "execution_count": null,
   "metadata": {
    "colab": {},
    "colab_type": "code",
    "id": "sPP1zCeFOejU"
   },
   "outputs": [],
   "source": [
    "plt.plot(t, T[x.size//2,y.size//2,:])\n",
    "plt.title('Evolução da temperatura no centro da placa')\n",
    "plt.xlabel('t')\n",
    "plt.ylabel('T')\n",
    "plt.show()"
   ]
  },
  {
   "cell_type": "code",
   "execution_count": null,
   "metadata": {},
   "outputs": [],
   "source": [
    "plt.plot(y, T[x.size//2,:,-1])\n",
    "plt.title(f'Evolução espacial da temperatura: x={x[x.size//2]}, t={t[-1]}')\n",
    "plt.xlabel('y')\n",
    "plt.ylabel('T')\n",
    "plt.show()"
   ]
  },
  {
   "cell_type": "code",
   "execution_count": null,
   "metadata": {},
   "outputs": [],
   "source": [
    "plt.plot(x, T[:,y.size//2,-1])\n",
    "plt.title(f'Evolução espacial da temperatura: y={y[y.size//2]}, t={t[-1]}')\n",
    "plt.xlabel('x')\n",
    "plt.ylabel('T')\n",
    "plt.show()"
   ]
  },
  {
   "cell_type": "code",
   "execution_count": null,
   "metadata": {
    "colab": {},
    "colab_type": "code",
    "id": "7-N7G41eOejW"
   },
   "outputs": [],
   "source": [
    "del T, x, y, t, a, dx2, dy2, dt, i, n, ax, fig, j"
   ]
  },
  {
   "cell_type": "markdown",
   "metadata": {
    "colab_type": "text",
    "id": "qZ8y1YLNU1Ld"
   },
   "source": [
    "#### Convecção e difusão transiente unidimensional"
   ]
  },
  {
   "cell_type": "markdown",
   "metadata": {
    "colab_type": "text",
    "id": "RGvQcvfhOejX"
   },
   "source": [
    "Resolver a EDP:\n",
    "\\begin{equation}\n",
    "    \\dfrac{\\partial T}{\\partial t}+u\\dfrac{\\partial T}{\\partial x}=\\alpha \\dfrac{\\partial^2 T}{\\partial x^2} \\quad 0\\leq x \\leq 1 ; 0\\leq t \\leq 8\n",
    "\\end{equation}\n",
    "Condições de contorno:\n",
    "\\begin{equation}\n",
    "    T(0,t)=T(1,t)=0\n",
    "\\end{equation}\n",
    "Condição inicial:\n",
    "\\begin{equation}\n",
    "    T(x,0) =  1 - ( 10 x - 1 )^2 \\quad \\text{ se $0 \\leq x \\leq 0,2$}, \\quad \\text{ senão } T(x,0) = 0\n",
    "\\end{equation}\n",
    "Discretizando com as derivadas espaciais numa representação por diferença central e a derivada temporal com diferença ascendente:\n",
    "\\begin{equation}\n",
    "\\dfrac{T_{i,k+1}-T_{i,k}}{\\Delta t}=\\alpha \\dfrac{T_{i-1,k}-2T_{i,k}+T_{i+1,k}}{(\\Delta x)^2} -u\\dfrac{T_{i+1,k}-T_{i-1,k}}{2\\Delta x}\n",
    "\\end{equation}"
   ]
  },
  {
   "cell_type": "markdown",
   "metadata": {
    "colab_type": "text",
    "id": "uO9BkQ-8OejX"
   },
   "source": [
    "O problema pode ser escrito na forma matricial como:\n",
    "\\begin{equation}\n",
    "\\begin{split}\n",
    "\\begin{bmatrix} T_{0,k+1} \\\\ T_{1,k+1} \\\\ \\vdots \\\\ T_{i,k+1} \\\\ \\vdots \\\\ T_{n-2,k+1}\\\\ T_{n-1,k+1}\\end{bmatrix} =\n",
    "\\begin{bmatrix} T_{0,k} \\\\ T_{1,k} \\\\ \\vdots \\\\ T_{i,k} \\\\ \\vdots \\\\ T_{n-2,k}\\\\ T_{n-1,k}\\end{bmatrix} +\n",
    "\\frac{\\alpha \\Delta t}{(\\Delta x)^2}\n",
    "\\begin{bmatrix}\n",
    "0 & 0 & & & & & \\\\\n",
    "1 & -2 & 1 & & \\\\\n",
    " & \\ddots & \\ddots & \\ddots & & & \\\\\n",
    "& & 1 & -2 & 1 & \\\\\n",
    "& & & \\ddots & \\ddots & \\ddots & \\\\\n",
    "& & & & 1 & -2 & 1\\\\\n",
    " & & & & & 0 & 0\n",
    "\\end{bmatrix}\n",
    "\\begin{bmatrix} T_{0,k} \\\\ T_{1,k} \\\\ \\vdots \\\\ T_{i,k} \\\\ \\vdots \\\\ T_{n-2,k}\\\\ T_{n-1,k}\\end{bmatrix} -\n",
    "\\frac{u \\Delta t}{2\\Delta x}\n",
    "\\begin{bmatrix}\n",
    "0 & 0 & & & & & \\\\\n",
    "-1 & 0 & 1 & & \\\\\n",
    " & \\ddots & \\ddots & \\ddots & & & \\\\\n",
    "& & -1 & 0 & 1 & \\\\\n",
    "& & & \\ddots & \\ddots & \\ddots & \\\\\n",
    "& & & & -1 & 0 & 1\\\\\n",
    " & & & & & 0 & 0\n",
    "\\end{bmatrix}\n",
    "\\begin{bmatrix} T_{0,k} \\\\ T_{1,k} \\\\ \\vdots \\\\ T_{i,k} \\\\ \\vdots \\\\ T_{n-2,k}\\\\ T_{n-1,k}\\end{bmatrix}\n",
    "\\\\\n",
    "\\mbox{com $2\\leq i \\leq n -3$,}\n",
    "\\end{split}\n",
    "\\end{equation}"
   ]
  },
  {
   "cell_type": "markdown",
   "metadata": {
    "colab_type": "text",
    "id": "QBnueMXnOejX"
   },
   "source": [
    "ou simplesmente:\n",
    "\\begin{equation}\n",
    "   T_{k+1} = T_{k} + \\underbrace{ \\Delta t \\left( \\alpha D_x - u D_x^2 \\right)}_{A} T_{k},\n",
    "\\end{equation}\n",
    "\n",
    "onde $D_x$ e $D_x^2$ são os operadores diferenciais de primeira e segunda ordem, respectivamente."
   ]
  },
  {
   "cell_type": "code",
   "execution_count": null,
   "metadata": {
    "colab": {},
    "colab_type": "code",
    "id": "-o6fiDK-OejY"
   },
   "outputs": [],
   "source": [
    "x, Dx, Dx2 = ordem2(1., n=101)\n",
    "\n",
    "t = np.linspace(0., 8., num=8001, endpoint=True)\n",
    "\n",
    "dt = t[1]-t[0]\n",
    "\n",
    "#Condições de contorno\n",
    "for D in [Dx, Dx2]:\n",
    "    D[0,:] = 0.\n",
    "    D[-1,:] = 0."
   ]
  },
  {
   "cell_type": "code",
   "execution_count": null,
   "metadata": {
    "colab": {},
    "colab_type": "code",
    "id": "h8Pq7FpGOejZ"
   },
   "outputs": [],
   "source": [
    "def convdiff(alpha, u):\n",
    "\n",
    "    # Condição inicial\n",
    "    T = np.zeros((x.size))\n",
    "    for i, ival in enumerate(x):\n",
    "        if ival > 0.2:\n",
    "            break\n",
    "        T[i] = 1. - (10. * ival - 1)**2.\n",
    "\n",
    "    # Operador matricial\n",
    "    A = dt*(alpha*Dx2-u*Dx)\n",
    "    \n",
    "    return A, T"
   ]
  },
  {
   "cell_type": "code",
   "execution_count": null,
   "metadata": {
    "colab": {},
    "colab_type": "code",
    "id": "M6WUXEVSOejc"
   },
   "outputs": [],
   "source": [
    "alpha, u, visu = 0.001, 0.08, 2000 #Parâmetro de visualização: a cada quantos passos de tempo se deve graficar os resultados\n",
    "\n",
    "A, T = convdiff(alpha, u)\n",
    "for n in range(t.size):\n",
    "    T += A.dot(T)\n",
    "    if n % visu == 0:\n",
    "        plt.plot(x, T, label='t={}'.format(t[n]))\n",
    "\n",
    "plt.xlabel('x')\n",
    "plt.ylabel('T(x)')\n",
    "plt.legend()\n",
    "plt.show()"
   ]
  },
  {
   "cell_type": "markdown",
   "metadata": {
    "colab_type": "text",
    "id": "niU9NDsaOejd"
   },
   "source": [
    "Mas o que acontece quando combinados diferentes valores para $\\alpha$ e $u$?"
   ]
  },
  {
   "cell_type": "code",
   "execution_count": null,
   "metadata": {
    "colab": {},
    "colab_type": "code",
    "id": "HQmly-gyOeje"
   },
   "outputs": [],
   "source": [
    "alpha_list = [0., 0.001]\n",
    "u_list = [0., 0.08]\n",
    "\n",
    "fig, ax = plt.subplots(nrows=len(alpha_list), ncols=len(u_list),\n",
    "                       sharex=True, sharey=True)\n",
    "\n",
    "for i, alpha in enumerate(alpha_list):\n",
    "    for j, u in enumerate(u_list ):\n",
    "        A, T = convdiff(alpha, u)\n",
    "        for n in range(t.size):\n",
    "            T += A.dot(T)\n",
    "            if n % visu == 0:\n",
    "                ax[i,j].plot(x, T, label=fr'$t={t[n]}$')\n",
    "                ax[-1,j].set_xlabel(fr'$u = {u}$')\n",
    "                ax[i,0].set_ylabel(fr'$\\alpha = {alpha}$')"
   ]
  },
  {
   "cell_type": "code",
   "execution_count": null,
   "metadata": {
    "colab": {},
    "colab_type": "code",
    "id": "l6D3YqT4Oejf"
   },
   "outputs": [],
   "source": [
    "del A,D,Dx,Dx2,T,alpha,ax,dt,fig,i,j,n,t,u,visu,x\n",
    "plt.close('all')"
   ]
  },
  {
   "cell_type": "markdown",
   "metadata": {
    "colab_type": "text",
    "id": "xyxDPtUuU-Ij"
   },
   "source": [
    "#### Condução permanente com geração de calor"
   ]
  },
  {
   "cell_type": "markdown",
   "metadata": {
    "colab_type": "text",
    "id": "szp6sq5TOeji"
   },
   "source": [
    "Considere uma placa de urânio de espessura $L = 4cm$ e condutividade térmica $k = 28 W/m \\cdot K$ em que o calor é gerado uniformemente a uma taxa constante de $\\dot{e} = 5 \\times 10^6 W/m^3$. Um dos lados da placa é mantido a $0^oC$ com água gelada, enquanto o outro lado está sujeito à convecção para o ambiente a $T_\\infty = 30^oC$, com o coeficiente de transferência de calor $h=45 W/m^2 \\cdot K$. Considerando o total de três pontos igualmente espaçados no meio, dois nos contornos e um no centro, estime a temperatura da superfície exposta da placa sob condições permanentes usando a abordagem de diferenças finitas."
   ]
  },
  {
   "cell_type": "code",
   "execution_count": null,
   "metadata": {
    "colab": {},
    "colab_type": "code",
    "id": "ufw4Z828Oejj"
   },
   "outputs": [],
   "source": [
    "L = 0.04 #m\n",
    "k = 28.0 # W/mK\n",
    "eg = 5.0e6 # W/m^3\n",
    "T8 = 30.0 # graus C\n",
    "h = 45.0 # W/m^2K\n",
    "n = 3"
   ]
  },
  {
   "cell_type": "markdown",
   "metadata": {
    "colab_type": "text",
    "id": "u6SHfFWCOejk"
   },
   "source": [
    "<img src=\"https://github.com/fschuch/Python-Transferencia-de-Calor/blob/master/uranio.png?raw=1\">\n",
    "\n",
    "Escrevendo a equações para cada nó:\n",
    "\\begin{equation}\n",
    "T_0 = 0 \\\\\n",
    "\\dfrac{T_0 - 2 T_1 + T_2}{\\Delta x^2} + \\dfrac{\\dot{e}_1}{k} = 0 \\\\\n",
    "h(T_\\infty - T_2) + k\\dfrac{T_1 - T_2}{\\Delta x} + \\dot{e}(\\Delta x/2) = 0\n",
    "\\end{equation}"
   ]
  },
  {
   "cell_type": "markdown",
   "metadata": {
    "colab_type": "text",
    "id": "KhYJ1uHzOejl"
   },
   "source": [
    "O problema pode ser reescrito na forma matricial como:\n",
    "\\begin{equation}\n",
    "\\begin{split}\n",
    "\\underbrace{\n",
    "\\begin{bmatrix}\n",
    "1 & 0 & 0 \\\\\n",
    "1/\\Delta x^2 & -2/\\Delta x^2 & 1/\\Delta x^2 \\\\\n",
    "0 & k/\\Delta x & -h-k/\\Delta x\n",
    "\\end{bmatrix}\n",
    "}_{A}\n",
    "\\begin{bmatrix}\n",
    "T_{0} \\\\ T_{1} \\\\ T_{2}\n",
    "\\end{bmatrix}\n",
    "=\n",
    "\\underbrace{\n",
    "\\begin{bmatrix} 0 \\\\ -\\dot{e}/k \\\\ -\\dot{e}\\Delta x/2 -hT_\\infty \\end{bmatrix}\n",
    "}_{B}\n",
    "\\end{split}\n",
    "\\end{equation}"
   ]
  },
  {
   "cell_type": "code",
   "execution_count": null,
   "metadata": {
    "colab": {},
    "colab_type": "code",
    "id": "wxCgUN7oOejl"
   },
   "outputs": [],
   "source": [
    "x = np.linspace(0., L, num=n, endpoint=True)\n",
    "dx = x[1] - x[0]\n",
    "\n",
    "A = np.array([[1., 0., 0.],\n",
    "              [1./dx**2., -2./dx**2., 1./dx**2.],\n",
    "              [0., k/dx, -h-k/dx]])\n",
    "B = np.array([0., -eg/k, -eg*(dx/2.)-h*T8])\n",
    "\n",
    "# Solver de álgebra linear do pacote numpy\n",
    "T = np.linalg.solve(A,B)"
   ]
  },
  {
   "cell_type": "code",
   "execution_count": null,
   "metadata": {
    "colab": {},
    "colab_type": "code",
    "id": "Zf_PuRYkOejn"
   },
   "outputs": [],
   "source": [
    "# Escrevendo o resultado na tela\n",
    "for i, t in enumerate(T):\n",
    "    print(f'T{i} = {t:5.2f}')"
   ]
  },
  {
   "cell_type": "markdown",
   "metadata": {
    "colab_type": "text",
    "id": "S6C8rEVDOejp"
   },
   "source": [
    "Esse problema pode também ser resolvido analiticamente como:\n",
    "\\begin{equation}\n",
    "    T(x) = \\dfrac{0,5 \\dot{e}hL^2/k + \\dot{e}L + T_\\infty h}{hL + k}x - \\dfrac{\\dot{e}x^2}{2k}\n",
    "\\end{equation}"
   ]
  },
  {
   "cell_type": "code",
   "execution_count": null,
   "metadata": {
    "colab": {},
    "colab_type": "code",
    "id": "rz0IzBQuOejq"
   },
   "outputs": [],
   "source": [
    "def T_exata(x):\n",
    "    return x*(0.5*eg*h*L**2./k + eg*L + T8*h)/(h*L +k) - 0.5*eg*x**2./k"
   ]
  },
  {
   "cell_type": "code",
   "execution_count": null,
   "metadata": {
    "colab": {},
    "colab_type": "code",
    "id": "MxP0gBcQOejr"
   },
   "outputs": [],
   "source": [
    "# Resposta numérica obtida anteriormente\n",
    "plt.plot(x,T, label=f'n={n}')\n",
    "\n",
    "# Solução exata\n",
    "x_exato = np.linspace(0., L, num=101, endpoint=True)\n",
    "plt.plot(x_exato,T_exata(x_exato),\n",
    "         label='Analítica',\n",
    "         color='black',\n",
    "         ls='--')\n",
    "\n",
    "plt.legend()\n",
    "plt.xlabel('x[m]')\n",
    "plt.ylabel(r'T[$^o$C]')\n",
    "plt.show()"
   ]
  },
  {
   "cell_type": "markdown",
   "metadata": {
    "colab_type": "text",
    "id": "FxBnYCDWOejs"
   },
   "source": [
    "O sistema matricial pode ser escrito de maneira genérica para uma decomposição em $n$ pontos, como:\n",
    "\\begin{equation}\n",
    "\\begin{split}\n",
    "\\begin{bmatrix}\n",
    "1 & 0 & 0 \\\\\n",
    "& \\ddots & \\ddots & \\ddots \\\\\n",
    "& & 1/\\Delta x^2 & -2/\\Delta x^2 & 1/\\Delta x^2 \\\\\n",
    "& & & \\ddots & \\ddots & \\ddots \\\\\n",
    "& & & 0 & k/\\Delta x & -h-k/\\Delta x\n",
    "\\end{bmatrix}\n",
    "\\begin{bmatrix}\n",
    "T_{0} \\\\ \\vdots \\\\ T_{i} \\\\ \\vdots \\\\ T_{n}\n",
    "\\end{bmatrix}\n",
    "=\n",
    "\\begin{bmatrix} 0 \\\\ \\vdots \\\\ -\\dot{e}_i/k \\\\ \\vdots \\\\ -\\dot{e}_n\\Delta x/2 -hT_\\infty \\end{bmatrix}\n",
    "\\\\\n",
    "\\mbox{com $1\\leq i \\leq n -1$,}\n",
    "\\end{split}\n",
    "\\end{equation}"
   ]
  },
  {
   "cell_type": "code",
   "execution_count": null,
   "metadata": {
    "colab": {},
    "colab_type": "code",
    "id": "2Eh7FftmOejt"
   },
   "outputs": [],
   "source": [
    "# Agora vamos testar a convergência da solução, para três valores de n\n",
    "for n in [3, 5, 10]:\n",
    "    x, Dx, Dx2 = ordem2(L, n=n)\n",
    "    dx = x[1] - x[0]\n",
    "\n",
    "    A = Dx2\n",
    "    B = 0. * x - (eg/k)\n",
    "\n",
    "    ## Condição de contorno em x=0\n",
    "    A[0,0] = 1.\n",
    "    A[0,1:] = 0.\n",
    "    B[0] = 0.\n",
    "    ## Condição de contorno em x=L    \n",
    "    A[-1,-3] = 0.\n",
    "    A[-1,-2] = k/dx\n",
    "    A[-1,-1] = -h-k/dx\n",
    "    B[-1] = -eg*(dx/2.)-h*T8\n",
    "\n",
    "    T = np.linalg.solve(A,B)\n",
    "\n",
    "    plt.plot(x,T, label=f'n={n}')\n",
    "\n",
    "plt.plot(x_exato,T_exata(x_exato),\n",
    "         label='Analítica',\n",
    "         color='black',\n",
    "         ls='--')\n",
    "\n",
    "plt.xlabel('x[m]')\n",
    "plt.ylabel(r'T[$^o$C]')\n",
    "plt.legend()\n",
    "plt.show()"
   ]
  },
  {
   "cell_type": "code",
   "execution_count": null,
   "metadata": {
    "colab": {},
    "colab_type": "code",
    "id": "S5-2jLKwOejv"
   },
   "outputs": [],
   "source": [
    "del L, k, eg, T8, h, n, x, dx, A, B, T, i, t, x_exato\n",
    "plt.close('all')"
   ]
  },
  {
   "cell_type": "markdown",
   "metadata": {
    "colab_type": "text",
    "id": "_wrHfnSMVLHp"
   },
   "source": [
    "#### Armazenamento de energia solar em paredes de Trombe"
   ]
  },
  {
   "cell_type": "markdown",
   "metadata": {
    "colab_type": "text",
    "id": "hW_w1eNfOejw"
   },
   "source": [
    "As paredes de alvenaria pintadas de cor escura, chamadas paredes de Trombe, são comumente usadas do lado sul das casas com energia solar passiva para absorver energia solar, armazenálas durante o dia e liberá-la para a casa durante a noite (mais informações [aqui](https://en.wikipedia.org/wiki/Trombe_wall)). Normalmente uma camada única ou dupla de vidro é colocada fora da parede e transmite a maior parte da energia solar, bloqueando as perdas de calor da superfície exposta da parede externa. Além disso, saídas de ar são comumente instaladas nas partes inferior e superior entre a parede de Trombe e os vidros. Em sua passagem, o ar tem a temperatura elevada e entra na sala através da abertura no lado superior da parece.\n",
    "\n",
    "<img src=\"https://github.com/fschuch/Python-Transferencia-de-Calor/blob/master/casa_1.png?raw=1\" width=\"300\">\n",
    "\n",
    "Considere uma parede Trombe com $30cm$ de espessura, condutividade térmica de $k=0,69W/m\\cdot K$ e difusividade térmica $\\alpha = 4,44 \\times 10^-7 m^2/s$. A variação de temperatura ambiente $T_{sai}$ e do fluxo de calor solar $\\dot{q}_{solar}$ inidente sobre a face vertical da superfície virada ao Sul ao longo de um dia típico de janeiro é dada por\n",
    "\n",
    "|Período do dia| Temperatura ambiente, $^oC$|Radiação solar, $W/m^2$|\n",
    "|--|--|--|\n",
    "|7h-10h|0,6|360|\n",
    "|10h-13|6,1|763|\n",
    "|13h-16h|7,2|562|\n",
    "|16h-19h|2,8|0|\n",
    "|19h-22h|0|0|\n",
    "|22h-1h|-2,8|0|\n",
    "|1h-4h|-3,3|0|\n",
    "|4h-7h|-3,9|0|\n",
    "\n",
    "A parede de Trombe tem vidro simples com um produto de absortividade e transmissividade de $ \\kappa = 0,77$ (ou seja, 77% da energia solar incidente é absorvida pela superfície exposta da parede de Trombe), e o coeficiente médio de transferência de calor combinada para perda de calor da parede de Trombe no ambiente é determinada a $h_{sai} = 4 W/m^2 \\cdot C$. O interior da casa é mantido a $T_{ent} = 21 ^oC$ todo o tempo, e o coeficiente de transferência de calor na superfície interna da parede de Trombe é $h_{ent} = 10 W/m^2 \\cdot ^oC$. Além disso, as aberturas na parede são mantidas fechadas, portanto a transferência de calor entre o ar da casa e a parede de Trombe ocorre apenas através da superfície interior da parede. Pressupondo que a temperatura da parede de Trombe varie linearmente entre $21 ^oC$ na superfície interna e $-1 ^oC$ na superfície externa às 7 h da manhã e usando o método explícito das diferenças finitas com espaçamento nodal uniforme de $\\Delta x = 6 cm$, determine a distribuição de temperatura ao longo da espessura da parede de Trombe após 12, 24, 36 e 48 h. Além disso, determine a quantidade líquida de calor transferido da parede de Trombe para a casa durante o primeiro e o segundo dia. Considere que a parede tem $3m$ de altura e $7,5m$ de comprimento e utilize um passo de tempo de $\\Delta t = 15min$. "
   ]
  },
  {
   "cell_type": "code",
   "execution_count": null,
   "metadata": {
    "colab": {},
    "colab_type": "code",
    "id": "PpIGjtS3Oejw"
   },
   "outputs": [],
   "source": [
    "L = 0.3 # m\n",
    "dx = 0.06 # m\n",
    "dth = 0.25 # h\n",
    "k = 0.69 # W/mK\n",
    "alpha = 4.44e-7 # m^2/s\n",
    "kappa = 0.77\n",
    "hsai = 4 # W/m^2K\n",
    "Tent = 21.0 # graus C\n",
    "hent = 10 # W/m^2K"
   ]
  },
  {
   "cell_type": "code",
   "execution_count": null,
   "metadata": {
    "colab": {},
    "colab_type": "code",
    "id": "-YznZc4XOejy"
   },
   "outputs": [],
   "source": [
    "table = pd.DataFrame({\n",
    "    \"ti\": [7., 10., 13., 16., 19., 22., 1., 4.],\n",
    "    \"tf\": [10., 13., 16., 19., 22., 1., 4., 7.],\n",
    "    \"Tsai\": [0.6, 6.1, 7.2, 2.8, 0.0, -2.8, -3.3, -3.9],\n",
    "    \"qsol\": [360., 763., 562., 0., 0., 0., 0., 0.]\n",
    "})"
   ]
  },
  {
   "cell_type": "markdown",
   "metadata": {
    "colab_type": "text",
    "id": "jyTyeMw5Oej0"
   },
   "source": [
    "<img src=\"https://github.com/fschuch/Python-Transferencia-de-Calor/blob/master/casa_0.png?raw=1\" width=\"300\">\n",
    "\n",
    "Escrevendo a equações para cada nó:\n",
    "\\begin{equation}\n",
    "T_0^{j+1} = \\left( 1 - 2\\tau -2 \\tau \\dfrac{h_{ent}\\Delta x}{k} \\right) T_0^{j} + 2\\tau T_1^{j} + 2\\tau \\dfrac{h_{ent}\\Delta x}{k} T_{ent} \\\\\n",
    "T_i^{j+1} = \\underbrace{\\tau (T_{i-1}^j + T_{i+1}^j) + (1-2\\tau)T_{i}^j}_{\\Delta t \\alpha D_x^2 + I}, \\mbox{com $1\\leq i \\leq n-1$,}\\\\\n",
    "T_n^{j+1} = \\left( 1 - 2\\tau -2 \\tau \\dfrac{h_{sai}\\Delta x}{k} \\right) T_n^{j} + 2\\tau T_{n-1}^{j} + 2\\tau \\dfrac{h_{sai}\\Delta x}{k} T_{sai}^j + 2\\tau \\dfrac{\\kappa \\dot{q}_{solar}^j \\Delta x}{k}\n",
    "\\end{equation}\n",
    "onde\n",
    "\n",
    "\\begin{equation}\n",
    "\\tau = \\dfrac{\\alpha \\Delta t}{\\Delta x^2}\n",
    "\\end{equation}"
   ]
  },
  {
   "cell_type": "markdown",
   "metadata": {
    "colab_type": "text",
    "id": "tQ65oNRPOej0"
   },
   "source": [
    "O problema pode ser reescrito na forma matricial como:\n",
    "\\begin{equation}\n",
    "\\begin{split}\n",
    "\\begin{bmatrix}\n",
    "T_{0}^{j+1} \\\\ \\vdots \\\\ T_{i}^{j+1} \\\\ \\vdots \\\\ T_{n}^{j+1}\n",
    "\\end{bmatrix}\n",
    "=\n",
    "\\underbrace{\n",
    "\\begin{bmatrix}\n",
    "1 - 2\\tau -2 \\tau \\dfrac{h_{ent}\\Delta x}{k} & 2\\tau & 0 \\\\\n",
    "\\ddots & \\ddots & \\ddots \\\\\n",
    "\\tau & 1-2\\tau & \\tau \\\\\n",
    "\\ddots & \\ddots & \\ddots \\\\\n",
    "0 & 2\\tau & 1 - 2\\tau -2 \\tau \\dfrac{h_{sai}\\Delta x}{k}\n",
    "\\end{bmatrix}\n",
    "}_{A}\n",
    "\\begin{bmatrix}\n",
    "T_{0}^j \\\\ \\vdots \\\\ T_{i}^j \\\\ \\vdots \\\\ T_{n}^j\n",
    "\\end{bmatrix}\n",
    "+\n",
    "\\underbrace{\n",
    "\\begin{bmatrix} -2\\tau \\dfrac{h_{ent}\\Delta x}{k} T_{ent} \\\\ \\vdots \\\\ 0 \\\\ \\vdots \\\\ - 2\\tau \\dfrac{h_{sai}\\Delta x}{k} T_{sai}^j - 2\\tau \\dfrac{\\kappa \\dot{q}_{solar}^j \\Delta x}{k} \\end{bmatrix}\n",
    "}_{B}\n",
    "\\\\\n",
    "\\mbox{com $1 \\leq i \\leq n -1$,}\n",
    "\\end{split}\n",
    "\\end{equation}"
   ]
  },
  {
   "cell_type": "markdown",
   "metadata": {
    "colab_type": "text",
    "id": "B30ybBjpOej1"
   },
   "source": [
    "O critério de estabilidade para esse problema é dado por:\n",
    "\\begin{equation}\n",
    "\\Delta t \\le \\dfrac{\\Delta x^2}{3,74 \\alpha} = 36,13min\n",
    "\\end{equation}"
   ]
  },
  {
   "cell_type": "code",
   "execution_count": null,
   "metadata": {
    "colab": {},
    "colab_type": "code",
    "id": "wAEzKdLQOej1"
   },
   "outputs": [],
   "source": [
    "x, Dx, Dx2 = ordem2(L, n=int(L/dx + 1))\n",
    "time = np.arange(0., 48.+dth, dth)\n",
    "\n",
    "T = np.zeros((x.size,time.size))\n",
    "\n",
    "#convertendo para segundos\n",
    "dt = dth * 3600.\n",
    "\n",
    "tau = alpha * dt / dx**2.\n",
    "\n",
    "# Condição Inicial\n",
    "T[:,0] = 21.0 - (22.0/L)*x\n",
    "time += 7.\n",
    "\n",
    "# Construção dos Operadores\n",
    "A = dt*(alpha*Dx2) + np.eye(x.size)\n",
    "B = np.zeros_like(x)\n",
    "\n",
    "# Laço de avanço temporal\n",
    "for j in range(time.size-1):\n",
    "    #\n",
    "    # Obter os valores do contorno à partir da tabela\n",
    "    #\n",
    "    index = int((time[j] - 7. )% 24. // 3)\n",
    "    Tsai = table.loc[index].Tsai\n",
    "    qsol = table.loc[index].qsol\n",
    "    #\n",
    "    # Condição de contorno em x=0\n",
    "    #\n",
    "    A[0,0] = 1.-2*tau-2.*tau*hent*dx/k\n",
    "    A[0,1] = 2.*tau\n",
    "    A[0,2] = 0.\n",
    "    B[0] = 2.*tau*hent*dx*Tent/k\n",
    "    #\n",
    "    # Condição de contorno em x=L\n",
    "    #\n",
    "    A[-1,-3] = 0.\n",
    "    A[-1,-2] = 2.*tau\n",
    "    A[-1,-1] = 1.+-2.*tau -2.*tau*hsai*dx/k\n",
    "    B[-1] = 2.*tau*hsai*dx*Tsai/k + 2*tau*kappa*qsol*dx/k\n",
    "    #\n",
    "    T[:,j+1] = A.dot(T[:,j]) + B"
   ]
  },
  {
   "cell_type": "markdown",
   "metadata": {
    "colab_type": "text",
    "id": "DAFpZNy6Oej2"
   },
   "source": [
    "* Visualizando os resultados:"
   ]
  },
  {
   "cell_type": "code",
   "execution_count": null,
   "metadata": {
    "colab": {},
    "colab_type": "code",
    "id": "ykTBsGQPOej2"
   },
   "outputs": [],
   "source": [
    "for j in range(0,time.size,20):\n",
    "    plt.plot(x,T[:,j],label=f't={time[j]}')\n",
    "\n",
    "plt.legend(title='tempo [h]')\n",
    "plt.xlabel('x [m]')\n",
    "plt.ylabel(r'Temperatura [$^o$C]')\n",
    "plt.show()"
   ]
  },
  {
   "cell_type": "code",
   "execution_count": null,
   "metadata": {
    "colab": {},
    "colab_type": "code",
    "id": "8JY31zuCOej4"
   },
   "outputs": [],
   "source": [
    "plt.pcolormesh(x,time,T.T, cmap='coolwarm')\n",
    "\n",
    "plt.colorbar(label='Temperatura [$^o$C]', orientation='vertical') \n",
    "\n",
    "plt.xlabel('x [m]')\n",
    "plt.ylabel(r'Tempo [h]')\n",
    "plt.show()"
   ]
  },
  {
   "cell_type": "markdown",
   "metadata": {
    "colab_type": "text",
    "id": "NblobETwOej5"
   },
   "source": [
    "* Variação da temperatura em três pontos da parede, em função do tempo"
   ]
  },
  {
   "cell_type": "code",
   "execution_count": null,
   "metadata": {
    "colab": {},
    "colab_type": "code",
    "id": "wIIp-yMWOej6"
   },
   "outputs": [],
   "source": [
    "for i in [0, x.size//2, -1]:\n",
    "    plt.plot(time,T[i,:],label=f'{x[i]}')\n",
    "\n",
    "plt.legend(title='x [m]')\n",
    "plt.xlabel('tempo [h]')\n",
    "plt.ylabel(r'Temperatura [$^o$C]')\n",
    "plt.show()"
   ]
  },
  {
   "cell_type": "code",
   "execution_count": null,
   "metadata": {
    "colab": {},
    "colab_type": "code",
    "id": "p76CS6TJOej7"
   },
   "outputs": [],
   "source": [
    "plt.close('all')\n",
    "del L, dx, dth, k, alpha, kappa, hsai, Tent, hent, table, x, Dx, Dx2, time, T, dt, tau, A, B, Tsai, qsol"
   ]
  },
  {
   "cell_type": "markdown",
   "metadata": {
    "colab_type": "text",
    "id": "h7W2dqyetswZ"
   },
   "source": [
    "## Exercícios Propostos\n",
    "1. O exercício **Radiação e convecção combinadas em transferência de calor permanente unidirecional** foi resolvido por meio de matemática simbólica, com o pacote `Sympy`. Exercite as suas habilidades de programação ao resolver o mesmo exemplo por meio de métodos numéricos com `Scipy`. Compare os dois resultados para verificar o correto funcionamento do novo código.\n",
    "\n",
    "    Material complementar:\n",
    "    * [Otimização e localização da raiz com scipy.optimize](https://fschuch.github.io/aprenda.py/blog/localizacao-da-raiz.html)\n",
    "    \n",
    "2. Com base no exemplo resolvido **Radiação e convecção combinadas em transferência de calor permanente unidirecional**, grafique como a temperatura na parede $T_2$ varia em função da emissividade da superfície externa, considerando $0 \\le \\epsilon \\le 1$.\n",
    "\n",
    "3. **Visualizações animadas**. Pode-se tirar proveito de belas animações interativas produzidas pela Matplotlib. Para tanto, o problema **Condução de calor transiente bidimensional** pode ser revisitado, gerando uma uma animação para a evolução temporal da temperatura na placa.\n",
    "\n",
    "    Material complementar:\n",
    "    * [Embedding Matplotlib Animations in Jupyter as Interactive JavaScript Widgets](http://louistiao.me/posts/notebooks/embedding-matplotlib-animations-in-jupyter-as-interactive-javascript-widgets/)\n",
    "  \n",
    "4. Empregar o conceito de operador diferencial estabelecido pela subrotina `ordem2` ao exercício resolvido **Condução de calor transiente bidimensional**. Comparar com a resposta obtida anteriormente para verificação do novo código.\n",
    "\n",
    "5. **Armazenamento de energia solar em paredes de Trombe**:\n",
    "\n",
    "    a) Reproduzir o exemplo resolvido aumentando a resolução espacial. Lembre-se de calcular o passo de tempo apropriado de acordo com o critério de estabilidade.\n",
    "\n",
    "    b) Além disso, para garantir uma transição suave entre as diferentes condições de temperatura e fluxo de calor na parede direita, obtenha um polinômio interpolador à partir dos dados tabelados e utilize-o para resolver o problema.\n",
    "    \n",
    "    Material complementar:\n",
    "    * [numpy.polyfit](https://docs.scipy.org/doc/numpy/reference/generated/numpy.polyfit.html)"
   ]
  },
  {
   "cell_type": "markdown",
   "metadata": {
    "colab": {},
    "colab_type": "code",
    "id": "hOC-0GylxlgY"
   },
   "source": [
    "-----\n",
    "\n",
    "> **Felipe N. Schuch**,<br>\n",
    "> Dr. Eng. Mecânico pela PUCRS. Possui experiência em fluidodinâmica computacional, transferência de calor e massa, computação de alto desempenho, métodos numéricos, educação financeira e outros.<br>\n",
    "> [felipeschuch@outlook.com](mailto:felipeschuch@outlook.com \"Email\") [@fschuch](https://twitter.com/fschuch \"Twitter\") [Aprenda.py](https://fschuch.github.io/aprenda.py \"Blog\") [@aprenda.py](https://www.instagram.com/aprenda.py/ \"Instagram\")<br>\n",
    "\n",
    "-----"
   ]
  },
  {
   "cell_type": "code",
   "execution_count": null,
   "metadata": {},
   "outputs": [],
   "source": []
  }
 ],
 "metadata": {
  "celltoolbar": "Slideshow",
  "colab": {
   "include_colab_link": true,
   "name": "aula.ipynb",
   "provenance": [],
   "toc_visible": true
  },
  "kernelspec": {
   "display_name": "Python 3",
   "language": "python",
   "name": "python3"
  },
  "language_info": {
   "codemirror_mode": {
    "name": "ipython",
    "version": 3
   },
   "file_extension": ".py",
   "mimetype": "text/x-python",
   "name": "python",
   "nbconvert_exporter": "python",
   "pygments_lexer": "ipython3",
   "version": "3.8.2"
  },
  "toc": {
   "base_numbering": 1,
   "nav_menu": {},
   "number_sections": true,
   "sideBar": true,
   "skip_h1_title": true,
   "title_cell": "Sumário",
   "title_sidebar": "Sumário",
   "toc_cell": true,
   "toc_position": {
    "height": "calc(100% - 180px)",
    "left": "10px",
    "top": "150px",
    "width": "334.6px"
   },
   "toc_section_display": true,
   "toc_window_display": true
  },
  "varInspector": {
   "cols": {
    "lenName": 16,
    "lenType": 16,
    "lenVar": 40
   },
   "kernels_config": {
    "python": {
     "delete_cmd_postfix": "",
     "delete_cmd_prefix": "del ",
     "library": "var_list.py",
     "varRefreshCmd": "print(var_dic_list())"
    },
    "r": {
     "delete_cmd_postfix": ") ",
     "delete_cmd_prefix": "rm(",
     "library": "var_list.r",
     "varRefreshCmd": "cat(var_dic_list()) "
    }
   },
   "oldHeight": 413.85,
   "position": {
    "height": "576.85px",
    "left": "1476px",
    "right": "20px",
    "top": "189px",
    "width": "342px"
   },
   "types_to_exclude": [
    "module",
    "function",
    "builtin_function_or_method",
    "instance",
    "_Feature"
   ],
   "varInspector_section_display": "block",
   "window_display": false
  }
 },
 "nbformat": 4,
 "nbformat_minor": 4
}
