{
 "cells": [
  {
   "cell_type": "markdown",
   "metadata": {
    "slideshow": {
     "slide_type": "slide"
    },
    "toc": true
   },
   "source": [
    "<h1>Sumário<span class=\"tocSkip\"></span></h1>\n",
    "<div class=\"toc\"><ul class=\"toc-item\"><li><span><a href=\"#Introdução\" data-toc-modified-id=\"Introdução-1\"><span class=\"toc-item-num\">1&nbsp;&nbsp;</span>Introdução</a></span><ul class=\"toc-item\"><li><span><a href=\"#Sobre-o-autor\" data-toc-modified-id=\"Sobre-o-autor-1.1\"><span class=\"toc-item-num\">1.1&nbsp;&nbsp;</span>Sobre o autor</a></span></li><li><span><a href=\"#Sobre-o-material\" data-toc-modified-id=\"Sobre-o-material-1.2\"><span class=\"toc-item-num\">1.2&nbsp;&nbsp;</span>Sobre o material</a></span></li><li><span><a href=\"#Porque-Python?\" data-toc-modified-id=\"Porque-Python?-1.3\"><span class=\"toc-item-num\">1.3&nbsp;&nbsp;</span>Porque Python?</a></span></li><li><span><a href=\"#Porque-Jupyter-Notebooks?\" data-toc-modified-id=\"Porque-Jupyter-Notebooks?-1.4\"><span class=\"toc-item-num\">1.4&nbsp;&nbsp;</span>Porque Jupyter Notebooks?</a></span><ul class=\"toc-item\"><li><span><a href=\"#Como-acessar\" data-toc-modified-id=\"Como-acessar-1.4.1\"><span class=\"toc-item-num\">1.4.1&nbsp;&nbsp;</span>Como acessar</a></span></li></ul></li><li><span><a href=\"#Material-Complementar\" data-toc-modified-id=\"Material-Complementar-1.5\"><span class=\"toc-item-num\">1.5&nbsp;&nbsp;</span>Material Complementar</a></span></li></ul></li><li><span><a href=\"#Revisão\" data-toc-modified-id=\"Revisão-2\"><span class=\"toc-item-num\">2&nbsp;&nbsp;</span>Revisão</a></span><ul class=\"toc-item\"><li><span><a href=\"#Listas\" data-toc-modified-id=\"Listas-2.1\"><span class=\"toc-item-num\">2.1&nbsp;&nbsp;</span>Listas</a></span></li><li><span><a href=\"#Dicionários\" data-toc-modified-id=\"Dicionários-2.2\"><span class=\"toc-item-num\">2.2&nbsp;&nbsp;</span>Dicionários</a></span></li><li><span><a href=\"#Módulos\" data-toc-modified-id=\"Módulos-2.3\"><span class=\"toc-item-num\">2.3&nbsp;&nbsp;</span>Módulos</a></span></li><li><span><a href=\"#Principais-Bibliotecas\" data-toc-modified-id=\"Principais-Bibliotecas-2.4\"><span class=\"toc-item-num\">2.4&nbsp;&nbsp;</span>Principais Bibliotecas</a></span></li><li><span><a href=\"#Fortran-vs.-Python\" data-toc-modified-id=\"Fortran-vs.-Python-2.5\"><span class=\"toc-item-num\">2.5&nbsp;&nbsp;</span>Fortran vs. Python</a></span></li></ul></li><li><span><a href=\"#Exercícios-Resolvidos\" data-toc-modified-id=\"Exercícios-Resolvidos-3\"><span class=\"toc-item-num\">3&nbsp;&nbsp;</span>Exercícios Resolvidos</a></span><ul class=\"toc-item\"><li><span><a href=\"#Métodos-numéricos\" data-toc-modified-id=\"Métodos-numéricos-3.1\"><span class=\"toc-item-num\">3.1&nbsp;&nbsp;</span>Métodos numéricos</a></span></li><li><span><a href=\"#Fenômenos-de-Transporte\" data-toc-modified-id=\"Fenômenos-de-Transporte-3.2\"><span class=\"toc-item-num\">3.2&nbsp;&nbsp;</span>Fenômenos de Transporte</a></span></li><li><span><a href=\"#Vibrações-Mecânicas\" data-toc-modified-id=\"Vibrações-Mecânicas-3.3\"><span class=\"toc-item-num\">3.3&nbsp;&nbsp;</span>Vibrações Mecânicas</a></span></li><li><span><a href=\"#Eletrônica\" data-toc-modified-id=\"Eletrônica-3.4\"><span class=\"toc-item-num\">3.4&nbsp;&nbsp;</span>Eletrônica</a></span></li><li><span><a href=\"#Resistência-dos-Materiais\" data-toc-modified-id=\"Resistência-dos-Materiais-3.5\"><span class=\"toc-item-num\">3.5&nbsp;&nbsp;</span>Resistência dos Materiais</a></span></li></ul></li><li><span><a href=\"#Exercícios-Propostos\" data-toc-modified-id=\"Exercícios-Propostos-4\"><span class=\"toc-item-num\">4&nbsp;&nbsp;</span>Exercícios Propostos</a></span></li></ul></div>"
   ]
  },
  {
   "cell_type": "markdown",
   "metadata": {
    "slideshow": {
     "slide_type": "slide"
    }
   },
   "source": [
    "## Introdução\n",
    "\n",
    "### Sobre o autor\n",
    "\n",
    "Possui graduação em Engenharia Mecânica pela Pontifícia Universidade Católica do Rio Grande do Sul (2013) e Mestrado em Engenharia e Tecnologia de Materiais pela mesma instituição. Atualmente atua como doutorando no Laboratório de Simulação de Escoamentos Turbulentos, Escola Politécnica da PUCRS. Possui experiencia em mecânica dos fluidos computacional, simulação numérica direta, simulação de grandes escalas, fenômenos de transporte, programação, programação paralela e métodos numéricos.\n",
    "\n",
    "> **Felipe Nornberg Schuch**,<br>\n",
    "> Laboratório de Simulação de Escoamentos Turbulentos (LaSET),<br>\n",
    "> Escola Politécnica, Pontifícia Universidade Católica do Rio Grande do Sul.<br>\n",
    "> felipe.schuch@edu.pucrs.br"
   ]
  },
  {
   "cell_type": "markdown",
   "metadata": {
    "slideshow": {
     "slide_type": "subslide"
    }
   },
   "source": [
    "### Sobre o material\n",
    "\n",
    "* O objetivo desta palestra é **introduzir os principais conceitos empregados em programação e Python**, mais especificamente no contexto interativo da plataforma Jupyter Notebook;\n",
    "* Além de demonstrar como **solucionar problemas em transferência de calor** por meio de propostas computacionais;\n",
    "* Para tanto, o material inclui uma breve **revisão de conceitos fundamentais** e as principais bibliotecas científicas disponíveis. Para maiores detalhes, **pode-se consultar a documentação disponível** ou mesmo as diversas leituras recomendadas que aparecem no decorrer do texto."
   ]
  },
  {
   "cell_type": "markdown",
   "metadata": {
    "slideshow": {
     "slide_type": "skip"
    }
   },
   "source": [
    "### Porque Python?"
   ]
  },
  {
   "cell_type": "markdown",
   "metadata": {
    "slideshow": {
     "slide_type": "subslide"
    }
   },
   "source": [
    "<img src=\"notebook.png\">"
   ]
  },
  {
   "cell_type": "markdown",
   "metadata": {
    "slideshow": {
     "slide_type": "skip"
    }
   },
   "source": [
    "* [10 motivos para você aprender Python](https://www.hostgator.com.br/blog/10-motivos-para-voce-aprender-python/)"
   ]
  },
  {
   "cell_type": "markdown",
   "metadata": {
    "slideshow": {
     "slide_type": "subslide"
    },
    "toc-hr-collapsed": false
   },
   "source": [
    "### Porque Jupyter Notebooks?\n",
    "\n",
    "![jupyter](https://jupyter.org/assets/main-logo.svg  \"jupyter\")\n",
    "\n",
    "* Ferramenta web interativa, grátis, de código aberto;\n",
    "* Exploração de dados. Permite executar o código, ver o que acontece, modificar e repetir, onde o cientista tem uma *\"conversa\"* com os dados disponíveis;\n",
    "* Útil para a criação de tutoriais interativos;\n",
    "* Ele fala a nossa língua. Disponível para várias liguagens de programação, como Python, Julia, R e Fortran;\n",
    "* É possível combinar o código com células `Markdown`, para renderizar equações e tabelas, inserir figuras e explicações sobre o código;\n",
    "* Facilmente extensível para apresentações de slides.\n",
    "* Disponível em [jupyter.org](https://jupyter.org)"
   ]
  },
  {
   "cell_type": "markdown",
   "metadata": {
    "slideshow": {
     "slide_type": "subslide"
    }
   },
   "source": [
    "#### Como acessar\n",
    "\n",
    "![anaconda](https://www.anaconda.com/wp-content/uploads/2018/06/cropped-Anaconda_horizontal_RGB-1-600x102.png \"anaconda\")\n",
    "\n",
    "1. Instalação por meio do pacote [Anaconda](https://www.anaconda.com/);\n",
    "\n",
    "![colab](https://colab.research.google.com/img/colab_favicon.ico \"colab\")\n",
    "\n",
    "2. Ferramenta colaborativa na núvem: [Google colab](https://colab.research.google.com);\n",
    "\n",
    "3. Palestra disponível em: [github.com/fschuch/JAEP-2019.py](https://github.com/fschuch/JAEP-2019.py)"
   ]
  },
  {
   "cell_type": "markdown",
   "metadata": {
    "slideshow": {
     "slide_type": "skip"
    }
   },
   "source": [
    "Material complementar:\n",
    "* [Markdown quick reference](https://en.support.wordpress.com/markdown-quick-reference/)\n",
    "* [Jupyter tools to increase productivity](https://towardsdatascience.com/jupyter-tools-to-increase-productivity-7b3c6b90be09)\n",
    "* [LaTeX/Mathematics](https://en.wikibooks.org/wiki/LaTeX/Mathematics)\n",
    "* [Why Jupyter is data scientists’ computational notebook of choice](https://www.nature.com/articles/d41586-018-07196-1)\n",
    "* [5 reasons why jupyter notebooks suck](https://towardsdatascience.com/5-reasons-why-jupyter-notebooks-suck-4dc201e27086)"
   ]
  },
  {
   "cell_type": "markdown",
   "metadata": {
    "slideshow": {
     "slide_type": "skip"
    }
   },
   "source": [
    "### Material Complementar\n",
    "\n",
    "* [12 Steps to Navier-Stokes](https://github.com/barbagroup/CFDPython)\n",
    "* [An example machine learning notebook](https://nbviewer.jupyter.org/github/rhiever/Data-Analysis-and-Machine-Learning-Projects/blob/master/example-data-science-notebook/Example%2520Machine%2520Learning%2520Notebook.ipynb)\n",
    "* [Mythbusters Demo GPU versus CPU](https://www.youtube.com/watch?v=-P28LKWTzrI)\n",
    "* [Why I write with LaTeX (and why you should too)](https://medium.com/@marko_kovic/why-i-write-with-latex-and-why-you-should-too-ba6a764fadf9)\n",
    "* [New Developer? You should’ve learned Git yesterday](https://codeburst.io/number-one-piece-of-advice-for-new-developers-ddd08abc8bfa)"
   ]
  },
  {
   "cell_type": "markdown",
   "metadata": {
    "slideshow": {
     "slide_type": "slide"
    }
   },
   "source": [
    "## Revisão"
   ]
  },
  {
   "cell_type": "markdown",
   "metadata": {},
   "source": [
    "* As primeiras linhas de código (`Shift+Enter` executam o bloco):"
   ]
  },
  {
   "cell_type": "code",
   "execution_count": 1,
   "metadata": {
    "slideshow": {
     "slide_type": "fragment"
    }
   },
   "outputs": [
    {
     "name": "stdout",
     "output_type": "stream",
     "text": [
      "Olá mundo\n"
     ]
    }
   ],
   "source": [
    "'''\n",
    "Isso é um comentário\n",
    "'''\n",
    "\n",
    "print(\"Olá mundo\")\n",
    "\n",
    "#Isso também é um comentário"
   ]
  },
  {
   "cell_type": "markdown",
   "metadata": {},
   "source": [
    "* Declarando variáveis:"
   ]
  },
  {
   "cell_type": "code",
   "execution_count": 615,
   "metadata": {
    "slideshow": {
     "slide_type": "fragment"
    }
   },
   "outputs": [],
   "source": [
    "i = 5        #inteiro\n",
    "f = 6.7      #ponto flutuante\n",
    "g = 1e-2     #notação exponencial\n",
    "s = 'abcdef' #string\n",
    "c = 5.0 + 6j #complexo"
   ]
  },
  {
   "cell_type": "markdown",
   "metadata": {},
   "source": [
    "* Operações matemáticas"
   ]
  },
  {
   "cell_type": "code",
   "execution_count": 676,
   "metadata": {},
   "outputs": [
    {
     "data": {
      "image/png": "[encoded data removed]",
      "text/latex": [
       "$\\displaystyle 8.0$"
      ],
      "text/plain": [
       "8.0"
      ]
     },
     "execution_count": 676,
     "metadata": {},
     "output_type": "execute_result"
    }
   ],
   "source": [
    "1. + 1. # Soma\n",
    "2. - 1. # Subtração\n",
    "6. * 7. # Multiplicação\n",
    "8. / 4. # Divisão\n",
    "2. **3. # Potência"
   ]
  },
  {
   "cell_type": "code",
   "execution_count": 626,
   "metadata": {},
   "outputs": [
    {
     "data": {
      "image/png": "[encoded data removed]",
      "text/latex": [
       "$\\displaystyle 2.0$"
      ],
      "text/plain": [
       "2.0"
      ]
     },
     "execution_count": 626,
     "metadata": {},
     "output_type": "execute_result"
    }
   ],
   "source": [
    "5. // 2. # Parte inteira da divisão"
   ]
  },
  {
   "cell_type": "code",
   "execution_count": 627,
   "metadata": {},
   "outputs": [
    {
     "data": {
      "image/png": "[encoded data removed]",
      "text/latex": [
       "$\\displaystyle 1.0$"
      ],
      "text/plain": [
       "1.0"
      ]
     },
     "execution_count": 627,
     "metadata": {},
     "output_type": "execute_result"
    }
   ],
   "source": [
    "5. % 2. # Resto da divisão"
   ]
  },
  {
   "cell_type": "code",
   "execution_count": 3,
   "metadata": {
    "slideshow": {
     "slide_type": "fragment"
    }
   },
   "outputs": [
    {
     "data": {
      "text/plain": [
       "6"
      ]
     },
     "execution_count": 3,
     "metadata": {},
     "output_type": "execute_result"
    }
   ],
   "source": [
    "i = i + 1    #Acumulador \n",
    "i"
   ]
  },
  {
   "cell_type": "code",
   "execution_count": 4,
   "metadata": {
    "slideshow": {
     "slide_type": "fragment"
    }
   },
   "outputs": [
    {
     "data": {
      "text/plain": [
       "7"
      ]
     },
     "execution_count": 4,
     "metadata": {},
     "output_type": "execute_result"
    }
   ],
   "source": [
    "i += 1       #Forma alternativa para acumulador\n",
    "i"
   ]
  },
  {
   "cell_type": "markdown",
   "metadata": {},
   "source": [
    "* Laço de zero a 4"
   ]
  },
  {
   "cell_type": "code",
   "execution_count": 628,
   "metadata": {
    "slideshow": {
     "slide_type": "subslide"
    }
   },
   "outputs": [
    {
     "name": "stdout",
     "output_type": "stream",
     "text": [
      "0\n",
      "1\n",
      "2\n",
      "3\n",
      "4\n"
     ]
    }
   ],
   "source": [
    "for i in range(5):\n",
    "    print(i)"
   ]
  },
  {
   "cell_type": "markdown",
   "metadata": {},
   "source": [
    "* Teste lógico"
   ]
  },
  {
   "cell_type": "code",
   "execution_count": 629,
   "metadata": {
    "slideshow": {
     "slide_type": "fragment"
    }
   },
   "outputs": [
    {
     "name": "stdout",
     "output_type": "stream",
     "text": [
      "i é igual a 4\n"
     ]
    }
   ],
   "source": [
    "if i == 4:\n",
    "    print('i é igual a 4')\n",
    "else:\n",
    "    print('i não é igual a 4, i é igual a '+str(i))"
   ]
  },
  {
   "cell_type": "markdown",
   "metadata": {
    "slideshow": {
     "slide_type": "skip"
    }
   },
   "source": [
    "Material complementar:\n",
    "\n",
    "* [More Control Flow Tools](https://docs.python.org/3/tutorial/controlflow.html)"
   ]
  },
  {
   "cell_type": "markdown",
   "metadata": {
    "slideshow": {
     "slide_type": "subslide"
    }
   },
   "source": [
    "### Módulos\n",
    "\n",
    "Se você sair do interpretador Python e voltar novamente, as definições feitas (funções e variáveis) serão perdidas. Portanto, se você quiser escrever um programa um pouco mais longo, é melhor usar um editor de texto para preparar a entrada para o interpretador e executá-lo com esse arquivo como entrada. **Isso é conhecido como criar um script**. À medida que seu programa fica mais longo, você pode querer dividi-lo em vários arquivos para **facilitar a manutenção**. Você também pode usar uma função útil que tenha escrito em **vários programas sem copiar sua definição** em cada programa.\n",
    "\n",
    "Para suportar isso, o Python tem uma maneira de colocar as definições em um arquivo e usá-las em um script ou em uma instância interativa do interpretador. **Esse arquivo é chamado de módulo**; As definições de um módulo podem ser importadas para outros módulos ou para o módulo principal.\n",
    "\n",
    "Um módulo é um arquivo contendo definições e instruções do Python. O nome do arquivo é o nome do módulo com o sufixo `.py` acrescentado. Dentro de um módulo, o nome do módulo (como uma string) está disponível como o valor da variável global `__name__`."
   ]
  },
  {
   "cell_type": "markdown",
   "metadata": {
    "slideshow": {
     "slide_type": "subslide"
    }
   },
   "source": [
    "Por exemplo, use seu editor de texto favorito para criar um arquivo chamado `fibo.py` no diretório atual com o seguinte conteúdo:\n",
    "\n",
    "```Python\n",
    "#Módulo dos números de Fibonacci\n",
    "\n",
    "def fib(n):    #escreve a série de Fibonacci até n\n",
    "    a, b = 0, 1\n",
    "    while a < n:\n",
    "        print(a, end=' ')\n",
    "        a, b = b, a+b\n",
    "    print()\n",
    "\n",
    "def fib2(n):   # retorna a série de Fibonacci até n\n",
    "    result = []\n",
    "    a, b = 0, 1\n",
    "    while a < n:\n",
    "        result.append(a)\n",
    "        a, b = b, a+b\n",
    "    return result\n",
    "```"
   ]
  },
  {
   "cell_type": "code",
   "execution_count": 32,
   "metadata": {
    "slideshow": {
     "slide_type": "subslide"
    }
   },
   "outputs": [],
   "source": [
    "import fibo"
   ]
  },
  {
   "cell_type": "code",
   "execution_count": 33,
   "metadata": {
    "scrolled": true,
    "slideshow": {
     "slide_type": "fragment"
    }
   },
   "outputs": [
    {
     "name": "stdout",
     "output_type": "stream",
     "text": [
      "0 1 1 2 3 5 8 13 21 34 55 89 144 233 377 610 987 \n"
     ]
    }
   ],
   "source": [
    "fibo.fib(1000)"
   ]
  },
  {
   "cell_type": "code",
   "execution_count": 34,
   "metadata": {
    "slideshow": {
     "slide_type": "fragment"
    }
   },
   "outputs": [
    {
     "data": {
      "text/plain": [
       "[0, 1, 1, 2, 3, 5, 8, 13, 21, 34, 55, 89]"
      ]
     },
     "execution_count": 34,
     "metadata": {},
     "output_type": "execute_result"
    }
   ],
   "source": [
    "fibo.fib2(100)"
   ]
  },
  {
   "cell_type": "code",
   "execution_count": 35,
   "metadata": {
    "slideshow": {
     "slide_type": "fragment"
    }
   },
   "outputs": [
    {
     "data": {
      "text/plain": [
       "'fibo'"
      ]
     },
     "execution_count": 35,
     "metadata": {},
     "output_type": "execute_result"
    }
   ],
   "source": [
    "fibo.__name__"
   ]
  },
  {
   "cell_type": "code",
   "execution_count": 36,
   "metadata": {
    "slideshow": {
     "slide_type": "skip"
    }
   },
   "outputs": [
    {
     "data": {
      "text/plain": [
       "['__builtins__',\n",
       " '__cached__',\n",
       " '__doc__',\n",
       " '__file__',\n",
       " '__loader__',\n",
       " '__name__',\n",
       " '__package__',\n",
       " '__spec__',\n",
       " 'fib',\n",
       " 'fib2']"
      ]
     },
     "execution_count": 36,
     "metadata": {},
     "output_type": "execute_result"
    }
   ],
   "source": [
    "dir(fibo)"
   ]
  },
  {
   "cell_type": "markdown",
   "metadata": {
    "slideshow": {
     "slide_type": "skip"
    }
   },
   "source": [
    "Material complementar:\n",
    "\n",
    "* [Python - Modules](https://www.tutorialspoint.com/python/python_modules)\n",
    "* [The Python Tutorial - Modules](https://docs.python.org/3/tutorial/modules.html)\n",
    "* [Data Structures](https://docs.python.org/3/tutorial/datastructures.html)\n",
    "* [Dictionaries in Python](https://realpython.com/python-dicts/)\n",
    "* [Classes](https://docs.python.org/2/tutorial/classes.html)"
   ]
  },
  {
   "cell_type": "markdown",
   "metadata": {
    "slideshow": {
     "slide_type": "subslide"
    }
   },
   "source": [
    "### Principais Bibliotecas"
   ]
  },
  {
   "cell_type": "markdown",
   "metadata": {
    "slideshow": {
     "slide_type": "subslide"
    }
   },
   "source": [
    "1.  **SciPy**\n",
    "\n",
    "![SciPy](https://www.scipy.org/_static/images/scipy_med.png \"SciPy\")\n",
    "\n",
    "Ferramentas de computação científica para Python. SciPy refere-se a várias entidades relacionadas, mas distintas:\n",
    "\n",
    "* O ecossistema SciPy, uma coleção de software de código aberto para computação científica em Python;\n",
    "* A comunidade de pessoas que usam e desenvolvem essa biblioteca;\n",
    "* Várias conferências dedicadas à computação científica em Python - SciPy, EuroSciPy e SciPy.in;\n",
    "* Fazem parte da família os pacotes, que serão melhor descritos a seguir:\n",
    "    * Numpy;\n",
    "    * Matplotlib;\n",
    "    * Sympy;\n",
    "    * IPython;\n",
    "    * Pandas."
   ]
  },
  {
   "cell_type": "markdown",
   "metadata": {
    "slideshow": {
     "slide_type": "subslide"
    }
   },
   "source": [
    "* Além disso, a própria biblioteca SciPy, um componente do conjunto SciPy, fornecendo muitas rotinas numéricas:\n",
    "    * Funções especiais;\n",
    "    * Integração numérica;\n",
    "    * Diferenciação numérica;\n",
    "    * Otimização;\n",
    "    * Interpolação;\n",
    "    * Transformada de Fourier;\n",
    "    * Processamento de sinal;\n",
    "    * Algebra linear e Algebra linear esparsa;\n",
    "    * Problema de autovalor esparso com ARPACK;\n",
    "    * Algoritmos e estruturas de dados espaciais;\n",
    "    * Estatistica;\n",
    "    * Processamento de imagem multidimensional;\n",
    "    * I/O de arquivos;"
   ]
  },
  {
   "cell_type": "code",
   "execution_count": 38,
   "metadata": {
    "slideshow": {
     "slide_type": "fragment"
    }
   },
   "outputs": [],
   "source": [
    "import scipy as sp\n",
    "import scipy.sparse as sps"
   ]
  },
  {
   "cell_type": "markdown",
   "metadata": {
    "slideshow": {
     "slide_type": "skip"
    }
   },
   "source": [
    "Material complementar:\n",
    "* [SciPy](https://www.scipy.org/)\n",
    "* [Getting Started](https://www.scipy.org/getting-started.html)\n",
    "* [Scipy Lecture Notes](http://scipy-lectures.org/index.html)"
   ]
  },
  {
   "cell_type": "markdown",
   "metadata": {
    "slideshow": {
     "slide_type": "subslide"
    }
   },
   "source": [
    "2.  **Numpy**\n",
    "\n",
    "![Numpy](https://www.scipy.org/_static/images/numpylogo_med.png \"Numpy\")\n",
    "\n",
    "Numpy é um pacote fundamental para a **computação científica em Python**. Entre outras coisas, destaca-se:\n",
    "* Objetos em arranjos N-dimensionais\n",
    "* Funções sofisticadas\n",
    "* Ferramentas para integrar código C/C++ e Fortran\n",
    "* Conveniente álgebra linear, transformada de Fourier e capacidade de números aleatórios\n",
    "\n",
    "Além de seus usos científicos óbvios, o NumPy também pode ser usado como um contêiner multidimensional eficiente de dados genéricos. Tipos de dados arbitrários podem ser definidos. Isso permite que o NumPy integre-se de forma fácil e rápida a uma ampla variedade de bancos de dados."
   ]
  },
  {
   "cell_type": "code",
   "execution_count": 39,
   "metadata": {
    "slideshow": {
     "slide_type": "subslide"
    }
   },
   "outputs": [],
   "source": [
    "import numpy as np #Importando a biblioteca numpy e definindo-a com o codnome de np"
   ]
  },
  {
   "cell_type": "code",
   "execution_count": 677,
   "metadata": {
    "scrolled": true,
    "slideshow": {
     "slide_type": "subslide"
    }
   },
   "outputs": [
    {
     "name": "stdout",
     "output_type": "stream",
     "text": [
      "Help on built-in function arange in module numpy:\n",
      "\n",
      "arange(...)\n",
      "    arange([start,] stop[, step,], dtype=None)\n",
      "    \n",
      "    Return evenly spaced values within a given interval.\n",
      "    \n",
      "    Values are generated within the half-open interval ``[start, stop)``\n",
      "    (in other words, the interval including `start` but excluding `stop`).\n",
      "    For integer arguments the function is equivalent to the Python built-in\n",
      "    `range` function, but returns an ndarray rather than a list.\n",
      "    \n",
      "    When using a non-integer step, such as 0.1, the results will often not\n",
      "    be consistent.  It is better to use `numpy.linspace` for these cases.\n",
      "    \n",
      "    Parameters\n",
      "    ----------\n",
      "    start : number, optional\n",
      "        Start of interval.  The interval includes this value.  The default\n",
      "        start value is 0.\n",
      "    stop : number\n",
      "        End of interval.  The interval does not include this value, except\n",
      "        in some cases where `step` is not an integer and floating point\n",
      "        round-off affects the length of `out`.\n",
      "    step : number, optional\n",
      "        Spacing between values.  For any output `out`, this is the distance\n",
      "        between two adjacent values, ``out[i+1] - out[i]``.  The default\n",
      "        step size is 1.  If `step` is specified as a position argument,\n",
      "        `start` must also be given.\n",
      "    dtype : dtype\n",
      "        The type of the output array.  If `dtype` is not given, infer the data\n",
      "        type from the other input arguments.\n",
      "    \n",
      "    Returns\n",
      "    -------\n",
      "    arange : ndarray\n",
      "        Array of evenly spaced values.\n",
      "    \n",
      "        For floating point arguments, the length of the result is\n",
      "        ``ceil((stop - start)/step)``.  Because of floating point overflow,\n",
      "        this rule may result in the last element of `out` being greater\n",
      "        than `stop`.\n",
      "    \n",
      "    See Also\n",
      "    --------\n",
      "    linspace : Evenly spaced numbers with careful handling of endpoints.\n",
      "    ogrid: Arrays of evenly spaced numbers in N-dimensions.\n",
      "    mgrid: Grid-shaped arrays of evenly spaced numbers in N-dimensions.\n",
      "    \n",
      "    Examples\n",
      "    --------\n",
      "    >>> np.arange(3)\n",
      "    array([0, 1, 2])\n",
      "    >>> np.arange(3.0)\n",
      "    array([ 0.,  1.,  2.])\n",
      "    >>> np.arange(3,7)\n",
      "    array([3, 4, 5, 6])\n",
      "    >>> np.arange(3,7,2)\n",
      "    array([3, 5])\n",
      "\n"
     ]
    }
   ],
   "source": [
    "help(np.arange) #É sempre possível ver a documentação de uma dada função"
   ]
  },
  {
   "cell_type": "code",
   "execution_count": 685,
   "metadata": {
    "slideshow": {
     "slide_type": "subslide"
    }
   },
   "outputs": [],
   "source": [
    "a = np.arange(15).reshape(3, 5) #Criando um arranjo com 15 elementos e o redimensionando para o formato 3x5"
   ]
  },
  {
   "cell_type": "code",
   "execution_count": 686,
   "metadata": {
    "slideshow": {
     "slide_type": "fragment"
    }
   },
   "outputs": [
    {
     "data": {
      "text/plain": [
       "array([[ 0,  1,  2,  3,  4],\n",
       "       [ 5,  6,  7,  8,  9],\n",
       "       [10, 11, 12, 13, 14]])"
      ]
     },
     "execution_count": 686,
     "metadata": {},
     "output_type": "execute_result"
    }
   ],
   "source": [
    "# Exemplos da obtenção de várias propriedades de a\n",
    "a.shape # Verificando as dimensões do arranjo\n",
    "a.ndim # O número de dimensões\n",
    "a.dtype.name # Classificação quando ao tipo dos elementos\n",
    "a.itemsize # Tamanho em bytes de cada elemento\n",
    "a.size # Número total de elementos no arranjo\n",
    "type(a)\n",
    "\n",
    "#Escrevendo a\n",
    "a"
   ]
  },
  {
   "cell_type": "code",
   "execution_count": 49,
   "metadata": {
    "scrolled": true,
    "slideshow": {
     "slide_type": "skip"
    }
   },
   "outputs": [
    {
     "name": "stdout",
     "output_type": "stream",
     "text": [
      "=============== zeros ===============\n",
      "\n",
      "zeros(shape, dtype=float, order='C')\n",
      "\n",
      "    Return a new array of given shape and type, filled with zeros.\n",
      "\n",
      "    Parameters\n",
      "    ----------\n",
      "    shape : int or tuple of ints\n",
      "        Shape of the new array, e.g., ``(2, 3)`` or ``2``.\n",
      "    dtype : data-type, optional\n",
      "        The desired data-type for the array, e.g., `numpy.int8`.  Default is\n",
      "        `numpy.float64`.\n",
      "    order : {'C', 'F'}, optional, default: 'C'\n",
      "        Whether to store multi-dimensional data in row-major\n",
      "        (C-style) or column-major (Fortran-style) order in\n",
      "        memory.\n",
      "\n",
      "    Returns\n",
      "    -------\n",
      "    out : ndarray\n",
      "        Array of zeros with the given shape, dtype, and order.\n",
      "\n",
      "    See Also\n",
      "    --------\n",
      "    zeros_like : Return an array of zeros with shape and type of input.\n",
      "    empty : Return a new uninitialized array.\n",
      "    ones : Return a new array setting values to one.\n",
      "    full : Return a new array of given shape filled with value.\n",
      "\n",
      "    Examples\n",
      "    --------\n",
      "    >>> np.zeros(5)\n",
      "    array([ 0.,  0.,  0.,  0.,  0.])\n",
      "\n",
      "    >>> np.zeros((5,), dtype=int)\n",
      "    array([0, 0, 0, 0, 0])\n",
      "\n",
      "    >>> np.zeros((2, 1))\n",
      "    array([[ 0.],\n",
      "           [ 0.]])\n",
      "\n",
      "    >>> s = (2,2)\n",
      "    >>> np.zeros(s)\n",
      "    array([[ 0.,  0.],\n",
      "           [ 0.,  0.]])\n",
      "\n",
      "    >>> np.zeros((2,), dtype=[('x', 'i4'), ('y', 'i4')]) # custom dtype\n",
      "    array([(0, 0), (0, 0)],\n",
      "          dtype=[('x', '<i4'), ('y', '<i4')])\n",
      "\n",
      "=============== zeros_like ===============\n",
      "\n",
      "\n",
      "    Return an array of zeros with the same shape and type as a given array.\n",
      "\n",
      "    Parameters\n",
      "    ----------\n",
      "    a : array_like\n",
      "        The shape and data-type of `a` define these same attributes of\n",
      "        the returned array.\n",
      "    dtype : data-type, optional\n",
      "        Overrides the data type of the result.\n",
      "\n",
      "        .. versionadded:: 1.6.0\n",
      "    order : {'C', 'F', 'A', or 'K'}, optional\n",
      "        Overrides the memory layout of the result. 'C' means C-order,\n",
      "        'F' means F-order, 'A' means 'F' if `a` is Fortran contiguous,\n",
      "        'C' otherwise. 'K' means match the layout of `a` as closely\n",
      "        as possible.\n",
      "\n",
      "        .. versionadded:: 1.6.0\n",
      "    subok : bool, optional.\n",
      "        If True, then the newly created array will use the sub-class\n",
      "        type of 'a', otherwise it will be a base-class array. Defaults\n",
      "        to True.\n",
      "    shape : int or sequence of ints, optional.\n",
      "        Overrides the shape of the result. If order='K' and the number of\n",
      "        dimensions is unchanged, will try to keep order, otherwise,\n",
      "        order='C' is implied.\n",
      "\n",
      "        .. versionadded:: 1.17.0\n",
      "\n",
      "    Returns\n",
      "    -------\n",
      "    out : ndarray\n",
      "        Array of zeros with the same shape and type as `a`.\n",
      "\n",
      "    See Also\n",
      "    --------\n",
      "    empty_like : Return an empty array with shape and type of input.\n",
      "    ones_like : Return an array of ones with shape and type of input.\n",
      "    full_like : Return a new array with shape of input filled with value.\n",
      "    zeros : Return a new array setting values to zero.\n",
      "\n",
      "    Examples\n",
      "    --------\n",
      "    >>> x = np.arange(6)\n",
      "    >>> x = x.reshape((2, 3))\n",
      "    >>> x\n",
      "    array([[0, 1, 2],\n",
      "           [3, 4, 5]])\n",
      "    >>> np.zeros_like(x)\n",
      "    array([[0, 0, 0],\n",
      "           [0, 0, 0]])\n",
      "\n",
      "    >>> y = np.arange(3, dtype=float)\n",
      "    >>> y\n",
      "    array([0., 1., 2.])\n",
      "    >>> np.zeros_like(y)\n",
      "    array([0.,  0.,  0.])\n",
      "\n",
      "    \n",
      "\n",
      "=============== ones ===============\n",
      "\n",
      "\n",
      "    Return a new array of given shape and type, filled with ones.\n",
      "\n",
      "    Parameters\n",
      "    ----------\n",
      "    shape : int or sequence of ints\n",
      "        Shape of the new array, e.g., ``(2, 3)`` or ``2``.\n",
      "    dtype : data-type, optional\n",
      "        The desired data-type for the array, e.g., `numpy.int8`.  Default is\n",
      "        `numpy.float64`.\n",
      "    order : {'C', 'F'}, optional, default: C\n",
      "        Whether to store multi-dimensional data in row-major\n",
      "        (C-style) or column-major (Fortran-style) order in\n",
      "        memory.\n",
      "\n",
      "    Returns\n",
      "    -------\n",
      "    out : ndarray\n",
      "        Array of ones with the given shape, dtype, and order.\n",
      "\n",
      "    See Also\n",
      "    --------\n",
      "    ones_like : Return an array of ones with shape and type of input.\n",
      "    empty : Return a new uninitialized array.\n",
      "    zeros : Return a new array setting values to zero.\n",
      "    full : Return a new array of given shape filled with value.\n",
      "\n",
      "\n",
      "    Examples\n",
      "    --------\n",
      "    >>> np.ones(5)\n",
      "    array([1., 1., 1., 1., 1.])\n",
      "\n",
      "    >>> np.ones((5,), dtype=int)\n",
      "    array([1, 1, 1, 1, 1])\n",
      "\n",
      "    >>> np.ones((2, 1))\n",
      "    array([[1.],\n",
      "           [1.]])\n",
      "\n",
      "    >>> s = (2,2)\n",
      "    >>> np.ones(s)\n",
      "    array([[1.,  1.],\n",
      "           [1.,  1.]])\n",
      "\n",
      "    \n",
      "\n",
      "=============== linspace ===============\n",
      "\n",
      "\n",
      "    Return evenly spaced numbers over a specified interval.\n",
      "\n",
      "    Returns `num` evenly spaced samples, calculated over the\n",
      "    interval [`start`, `stop`].\n",
      "\n",
      "    The endpoint of the interval can optionally be excluded.\n",
      "\n",
      "    .. versionchanged:: 1.16.0\n",
      "        Non-scalar `start` and `stop` are now supported.\n",
      "\n",
      "    Parameters\n",
      "    ----------\n",
      "    start : array_like\n",
      "        The starting value of the sequence.\n",
      "    stop : array_like\n",
      "        The end value of the sequence, unless `endpoint` is set to False.\n",
      "        In that case, the sequence consists of all but the last of ``num + 1``\n",
      "        evenly spaced samples, so that `stop` is excluded.  Note that the step\n",
      "        size changes when `endpoint` is False.\n",
      "    num : int, optional\n",
      "        Number of samples to generate. Default is 50. Must be non-negative.\n",
      "    endpoint : bool, optional\n",
      "        If True, `stop` is the last sample. Otherwise, it is not included.\n",
      "        Default is True.\n",
      "    retstep : bool, optional\n",
      "        If True, return (`samples`, `step`), where `step` is the spacing\n",
      "        between samples.\n",
      "    dtype : dtype, optional\n",
      "        The type of the output array.  If `dtype` is not given, infer the data\n",
      "        type from the other input arguments.\n",
      "\n",
      "        .. versionadded:: 1.9.0\n",
      "\n",
      "    axis : int, optional\n",
      "        The axis in the result to store the samples.  Relevant only if start\n",
      "        or stop are array-like.  By default (0), the samples will be along a\n",
      "        new axis inserted at the beginning. Use -1 to get an axis at the end.\n",
      "\n",
      "        .. versionadded:: 1.16.0\n",
      "\n",
      "    Returns\n",
      "    -------\n",
      "    samples : ndarray\n",
      "        There are `num` equally spaced samples in the closed interval\n",
      "        ``[start, stop]`` or the half-open interval ``[start, stop)``\n",
      "        (depending on whether `endpoint` is True or False).\n",
      "    step : float, optional\n",
      "        Only returned if `retstep` is True\n",
      "\n",
      "        Size of spacing between samples.\n",
      "\n",
      "\n",
      "    See Also\n",
      "    --------\n",
      "    arange : Similar to `linspace`, but uses a step size (instead of the\n",
      "             number of samples).\n",
      "    geomspace : Similar to `linspace`, but with numbers spaced evenly on a log\n",
      "                scale (a geometric progression).\n",
      "    logspace : Similar to `geomspace`, but with the end points specified as\n",
      "               logarithms.\n",
      "\n",
      "    Examples\n",
      "    --------\n",
      "    >>> np.linspace(2.0, 3.0, num=5)\n",
      "    array([2.  , 2.25, 2.5 , 2.75, 3.  ])\n",
      "    >>> np.linspace(2.0, 3.0, num=5, endpoint=False)\n",
      "    array([2. ,  2.2,  2.4,  2.6,  2.8])\n",
      "    >>> np.linspace(2.0, 3.0, num=5, retstep=True)\n",
      "    (array([2.  ,  2.25,  2.5 ,  2.75,  3.  ]), 0.25)\n",
      "\n",
      "    Graphical illustration:\n",
      "\n",
      "    >>> import matplotlib.pyplot as plt\n",
      "    >>> N = 8\n",
      "    >>> y = np.zeros(N)\n",
      "    >>> x1 = np.linspace(0, 10, N, endpoint=True)\n",
      "    >>> x2 = np.linspace(0, 10, N, endpoint=False)\n",
      "    >>> plt.plot(x1, y, 'o')\n",
      "    [<matplotlib.lines.Line2D object at 0x...>]\n",
      "    >>> plt.plot(x2, y + 0.5, 'o')\n",
      "    [<matplotlib.lines.Line2D object at 0x...>]\n",
      "    >>> plt.ylim([-0.5, 1])\n",
      "    (-0.5, 1)\n",
      "    >>> plt.show()\n",
      "\n",
      "    \n",
      "\n"
     ]
    }
   ],
   "source": [
    "#Outras funções que merecem destaque:\n",
    "for f in [np.zeros, np.zeros_like, np.ones, np.linspace]:\n",
    "    print('=============== '+f.__name__+' ===============\\n')\n",
    "    print(f.__doc__+'\\n')"
   ]
  },
  {
   "cell_type": "markdown",
   "metadata": {
    "slideshow": {
     "slide_type": "skip"
    }
   },
   "source": [
    "Material complementar:\n",
    "* [NumPy](https://www.numpy.org/)\n",
    "* [Quickstart tutorial](https://www.numpy.org/devdocs/user/quickstart.html)"
   ]
  },
  {
   "cell_type": "markdown",
   "metadata": {
    "slideshow": {
     "slide_type": "subslide"
    }
   },
   "source": [
    "3. **Pandas**\n",
    "\n",
    "![Pandas](https://www.scipy.org/_static/images/pandas_badge2.jpg \"Pandas\")\n",
    "\n",
    "O pandas é um pacote Python que fornece **estruturas de dados rápidas, flexíveis e expressivas**, projetadas para tornar o trabalho com dados “relacionais” ou “rotulados” fáceis e intuitivos. O objetivo é ser o alicerce fundamental de alto nível para a análise prática de dados do mundo real em Python. Além disso, tem o objetivo mais amplo de se tornar a mais poderosa e flexível ferramenta de análise / manipulação de dados de código aberto disponível em qualquer linguagem.\n",
    "\n",
    "Pandas é bem adequado para muitos tipos diferentes de dados:\n",
    "* Dados tabulares com colunas de tipos heterogêneos, como em uma **tabela SQL, arquivo `.csv` ou planilha do Excel**;\n",
    "* Dados de **séries temporais** ordenados e não ordenados (não necessariamente de frequência fixa);\n",
    "* Dados de matriz arbitrária (homogeneamente digitados ou heterogêneos) com rótulos de linha e coluna;\n",
    "* Qualquer outra forma de conjuntos de dados observacionais / estatísticos. Os dados realmente não precisam ser rotulados para serem colocados em uma estrutura de dados de pandas."
   ]
  },
  {
   "cell_type": "code",
   "execution_count": 50,
   "metadata": {
    "slideshow": {
     "slide_type": "subslide"
    }
   },
   "outputs": [],
   "source": [
    "import pandas as pd"
   ]
  },
  {
   "cell_type": "code",
   "execution_count": 51,
   "metadata": {
    "slideshow": {
     "slide_type": "fragment"
    }
   },
   "outputs": [],
   "source": [
    "df2 = pd.DataFrame({'A': 1.,\n",
    "                    'B': pd.Timestamp('20130102'),\n",
    "                    'C': pd.Series(1, index=list(range(4)), dtype='float32'),\n",
    "                    'D': np.array([3] * 4, dtype='int32'),\n",
    "                    'E': pd.Categorical([\"test\", \"train\", \"test\", \"train\"]),\n",
    "                    'F': 'foo'})"
   ]
  },
  {
   "cell_type": "code",
   "execution_count": 52,
   "metadata": {
    "slideshow": {
     "slide_type": "fragment"
    }
   },
   "outputs": [
    {
     "data": {
      "text/html": [
       "<div>\n",
       "<style scoped>\n",
       "    .dataframe tbody tr th:only-of-type {\n",
       "        vertical-align: middle;\n",
       "    }\n",
       "\n",
       "    .dataframe tbody tr th {\n",
       "        vertical-align: top;\n",
       "    }\n",
       "\n",
       "    .dataframe thead th {\n",
       "        text-align: right;\n",
       "    }\n",
       "</style>\n",
       "<table border=\"1\" class=\"dataframe\">\n",
       "  <thead>\n",
       "    <tr style=\"text-align: right;\">\n",
       "      <th></th>\n",
       "      <th>A</th>\n",
       "      <th>B</th>\n",
       "      <th>C</th>\n",
       "      <th>D</th>\n",
       "      <th>E</th>\n",
       "      <th>F</th>\n",
       "    </tr>\n",
       "  </thead>\n",
       "  <tbody>\n",
       "    <tr>\n",
       "      <td>0</td>\n",
       "      <td>1.0</td>\n",
       "      <td>2013-01-02</td>\n",
       "      <td>1.0</td>\n",
       "      <td>3</td>\n",
       "      <td>test</td>\n",
       "      <td>foo</td>\n",
       "    </tr>\n",
       "    <tr>\n",
       "      <td>1</td>\n",
       "      <td>1.0</td>\n",
       "      <td>2013-01-02</td>\n",
       "      <td>1.0</td>\n",
       "      <td>3</td>\n",
       "      <td>train</td>\n",
       "      <td>foo</td>\n",
       "    </tr>\n",
       "    <tr>\n",
       "      <td>2</td>\n",
       "      <td>1.0</td>\n",
       "      <td>2013-01-02</td>\n",
       "      <td>1.0</td>\n",
       "      <td>3</td>\n",
       "      <td>test</td>\n",
       "      <td>foo</td>\n",
       "    </tr>\n",
       "    <tr>\n",
       "      <td>3</td>\n",
       "      <td>1.0</td>\n",
       "      <td>2013-01-02</td>\n",
       "      <td>1.0</td>\n",
       "      <td>3</td>\n",
       "      <td>train</td>\n",
       "      <td>foo</td>\n",
       "    </tr>\n",
       "  </tbody>\n",
       "</table>\n",
       "</div>"
      ],
      "text/plain": [
       "     A          B    C  D      E    F\n",
       "0  1.0 2013-01-02  1.0  3   test  foo\n",
       "1  1.0 2013-01-02  1.0  3  train  foo\n",
       "2  1.0 2013-01-02  1.0  3   test  foo\n",
       "3  1.0 2013-01-02  1.0  3  train  foo"
      ]
     },
     "execution_count": 52,
     "metadata": {},
     "output_type": "execute_result"
    }
   ],
   "source": [
    "df2"
   ]
  },
  {
   "cell_type": "markdown",
   "metadata": {
    "slideshow": {
     "slide_type": "skip"
    }
   },
   "source": [
    "Material complementar:\n",
    "* [Pandas](https://pandas.pydata.org/)\n",
    "* [10 minutes to pandas](https://pandas.pydata.org/pandas-docs/version/0.25.0/getting_started/10min.html)"
   ]
  },
  {
   "cell_type": "markdown",
   "metadata": {
    "slideshow": {
     "slide_type": "subslide"
    }
   },
   "source": [
    "4. **Sympy**\n",
    "\n",
    "![Sympy](https://scipy.org/_static/images/sympy_logo.png \"Sympy\")\n",
    "\n",
    "SymPy é uma biblioteca Python para **matemática simbólica**. O objetivo é tornar-se um sistema de álgebra computacional (CAS) completo, mantendo o código o mais simples possível para ser compreensível e facilmente extensível. SymPy é escrito inteiramente em Python."
   ]
  },
  {
   "cell_type": "code",
   "execution_count": 54,
   "metadata": {
    "slideshow": {
     "slide_type": "subslide"
    }
   },
   "outputs": [],
   "source": [
    "import sympy as sm\n",
    "sm.init_printing() #Para escrever equações na tela"
   ]
  },
  {
   "cell_type": "code",
   "execution_count": 55,
   "metadata": {
    "slideshow": {
     "slide_type": "fragment"
    }
   },
   "outputs": [],
   "source": [
    "x, t = sm.symbols('x t') # Criando símbolos"
   ]
  },
  {
   "cell_type": "markdown",
   "metadata": {
    "slideshow": {
     "slide_type": "subslide"
    }
   },
   "source": [
    "\\begin{equation}\n",
    "\\text{calcular } \\int (e^x \\sin(x) + e^x \\cos(x)) dx\n",
    "\\end{equation}"
   ]
  },
  {
   "cell_type": "code",
   "execution_count": 56,
   "metadata": {
    "slideshow": {
     "slide_type": "fragment"
    }
   },
   "outputs": [
    {
     "data": {
      "image/png": "[encoded data removed]",
      "text/latex": [
       "$\\displaystyle e^{x} \\sin{\\left(x \\right)}$"
      ],
      "text/plain": [
       " x       \n",
       "ℯ ⋅sin(x)"
      ]
     },
     "execution_count": 56,
     "metadata": {},
     "output_type": "execute_result"
    }
   ],
   "source": [
    "sm.integrate(sm.exp(x)*sm.sin(x) + sm.exp(x)*sm.cos(x), x)"
   ]
  },
  {
   "cell_type": "markdown",
   "metadata": {
    "slideshow": {
     "slide_type": "subslide"
    }
   },
   "source": [
    "\\begin{equation}\n",
    "\\text{calcular a derivada de }\\sin(x)e^x\n",
    "\\end{equation}"
   ]
  },
  {
   "cell_type": "code",
   "execution_count": 57,
   "metadata": {
    "slideshow": {
     "slide_type": "fragment"
    }
   },
   "outputs": [
    {
     "data": {
      "image/png": "[encoded data removed]",
      "text/latex": [
       "$\\displaystyle e^{x} \\sin{\\left(x \\right)} + e^{x} \\cos{\\left(x \\right)}$"
      ],
      "text/plain": [
       " x           x       \n",
       "ℯ ⋅sin(x) + ℯ ⋅cos(x)"
      ]
     },
     "execution_count": 57,
     "metadata": {},
     "output_type": "execute_result"
    }
   ],
   "source": [
    "sm.diff(sm.sin(x)*sm.exp(x), x)"
   ]
  },
  {
   "cell_type": "markdown",
   "metadata": {
    "slideshow": {
     "slide_type": "subslide"
    }
   },
   "source": [
    "\\begin{equation}\n",
    "\\text{calcular } \\int_{-\\infty}^{\\infty} \\sin(x^2)\n",
    "\\end{equation}"
   ]
  },
  {
   "cell_type": "code",
   "execution_count": 58,
   "metadata": {
    "slideshow": {
     "slide_type": "fragment"
    }
   },
   "outputs": [
    {
     "data": {
      "image/png": "[encoded data removed]",
      "text/latex": [
       "$\\displaystyle \\frac{\\sqrt{2} \\sqrt{\\pi}}{2}$"
      ],
      "text/plain": [
       "√2⋅√π\n",
       "─────\n",
       "  2  "
      ]
     },
     "execution_count": 58,
     "metadata": {},
     "output_type": "execute_result"
    }
   ],
   "source": [
    "sm.integrate(sm.sin(x**2), (x, -sm.oo, sm.oo))"
   ]
  },
  {
   "cell_type": "markdown",
   "metadata": {
    "slideshow": {
     "slide_type": "subslide"
    }
   },
   "source": [
    "\\begin{equation}\n",
    "\\text{calcular } \\lim_{x \\to 0} \\dfrac{\\sin(x)}{x}\n",
    "\\end{equation}"
   ]
  },
  {
   "cell_type": "code",
   "execution_count": 59,
   "metadata": {
    "slideshow": {
     "slide_type": "fragment"
    }
   },
   "outputs": [
    {
     "data": {
      "image/png": "[encoded data removed]",
      "text/latex": [
       "$\\displaystyle 1$"
      ],
      "text/plain": [
       "1"
      ]
     },
     "execution_count": 59,
     "metadata": {},
     "output_type": "execute_result"
    }
   ],
   "source": [
    "sm.limit(sm.sin(x)/x, x, 0)"
   ]
  },
  {
   "cell_type": "markdown",
   "metadata": {
    "slideshow": {
     "slide_type": "subslide"
    }
   },
   "source": [
    "\\begin{equation}\n",
    "\\text{resolver } x^2 - 2 = 0\n",
    "\\end{equation}"
   ]
  },
  {
   "cell_type": "code",
   "execution_count": 60,
   "metadata": {
    "slideshow": {
     "slide_type": "fragment"
    }
   },
   "outputs": [
    {
     "data": {
      "image/png": "[encoded data removed]",
      "text/latex": [
       "$\\displaystyle \\left[ - \\sqrt{2}, \\  \\sqrt{2}\\right]$"
      ],
      "text/plain": [
       "[-√2, √2]"
      ]
     },
     "execution_count": 60,
     "metadata": {},
     "output_type": "execute_result"
    }
   ],
   "source": [
    "sm.solve(x**2 - 2, x)"
   ]
  },
  {
   "cell_type": "markdown",
   "metadata": {
    "slideshow": {
     "slide_type": "subslide"
    }
   },
   "source": [
    "\\begin{equation}\n",
    "\\text{resolver a equação diferencial } y'' - y = e^t\n",
    "\\end{equation}"
   ]
  },
  {
   "cell_type": "code",
   "execution_count": 61,
   "metadata": {
    "scrolled": true,
    "slideshow": {
     "slide_type": "fragment"
    }
   },
   "outputs": [
    {
     "data": {
      "image/png": "[encoded data removed]",
      "text/latex": [
       "$\\displaystyle y{\\left(t \\right)} = C_{2} e^{- t} + \\left(C_{1} + \\frac{t}{2}\\right) e^{t}$"
      ],
      "text/plain": [
       "           -t   ⎛     t⎞  t\n",
       "y(t) = C₂⋅ℯ   + ⎜C₁ + ─⎟⋅ℯ \n",
       "                ⎝     2⎠   "
      ]
     },
     "execution_count": 61,
     "metadata": {},
     "output_type": "execute_result"
    }
   ],
   "source": [
    "y = sm.Function('y')\n",
    "eq1 = sm.dsolve(sm.Eq(y(t).diff(t, t) - y(t), sm.exp(t)), y(t))\n",
    "eq1"
   ]
  },
  {
   "cell_type": "markdown",
   "metadata": {
    "slideshow": {
     "slide_type": "skip"
    }
   },
   "source": [
    "Material complementar:\n",
    "* [Sympy](https://www.sympy.org/en/index.html)\n",
    "* [Documentation](https://docs.sympy.org/latest/index.html)"
   ]
  },
  {
   "cell_type": "markdown",
   "metadata": {
    "slideshow": {
     "slide_type": "subslide"
    }
   },
   "source": [
    "5. **Matplotlib**\n",
    "\n",
    "![Matplotlib](https://www.scipy.org/_static/images/matplotlib_med.png \"Matplotlib\")\n",
    "\n",
    "A Matplotlib é uma biblioteca de plotagem 2D do Python, que produz figuras de qualidade de publicação em uma variedade de formatos impressos e ambientes interativos entre plataformas. O Matplotlib pode ser usado em scripts Python, nos shells do Python e do IPython, no notebook Jupyter, nos servidores de aplicativos da web e em quatro kits de ferramentas de interface gráfica do usuário.\n",
    "\n",
    "A **Matplotlib tenta tornar as coisas fáceis simples e as coisas difíceis possíveis**. Você pode gerar gráficos, histogramas, espectros de potência, gráficos de barras, gráficos de erros, diagramas de dispersão, etc., com apenas algumas linhas de código.\n",
    "\n",
    "Material complementar:\n",
    "* [Matplotlib](https://matplotlib.org/)\n",
    "* [Style sheets reference](https://matplotlib.org/3.1.0/gallery/style_sheets/style_sheets_reference.html)\n",
    "* [Gallery](https://matplotlib.org/3.1.0/gallery/index.html)"
   ]
  },
  {
   "cell_type": "code",
   "execution_count": 63,
   "metadata": {
    "slideshow": {
     "slide_type": "subslide"
    }
   },
   "outputs": [],
   "source": [
    "import matplotlib.pyplot as plt"
   ]
  },
  {
   "cell_type": "code",
   "execution_count": 678,
   "metadata": {
    "slideshow": {
     "slide_type": "fragment"
    }
   },
   "outputs": [],
   "source": [
    "#Definindo um novo estilo para as figuras [opcional]\n",
    "plt.style.use(['seaborn-notebook'])"
   ]
  },
  {
   "cell_type": "code",
   "execution_count": 679,
   "metadata": {
    "slideshow": {
     "slide_type": "subslide"
    }
   },
   "outputs": [
    {
     "data": {
      "image/png": "[encoded data removed]",
      "text/plain": [
       "<Figure size 576x396 with 1 Axes>"
      ]
     },
     "metadata": {
      "needs_background": "light"
     },
     "output_type": "display_data"
    }
   ],
   "source": [
    "x = np.arange(0, 5, 0.1)\n",
    "y = np.sin(x)\n",
    "plt.plot(x, y)\n",
    "plt.show()"
   ]
  },
  {
   "cell_type": "markdown",
   "metadata": {},
   "source": [
    "6. **ipywidgets**\n",
    "\n",
    "Widgets são objetos python com eventos que têm uma representação no seu navegador, geralmente como um controle como uma barra deslizante, uma caixa de texto ou outros. Você pode usar widgets para criar GUIs interativas para seus notebooks."
   ]
  },
  {
   "cell_type": "code",
   "execution_count": 660,
   "metadata": {},
   "outputs": [],
   "source": [
    "import ipywidgets as widgets"
   ]
  },
  {
   "cell_type": "code",
   "execution_count": 669,
   "metadata": {},
   "outputs": [
    {
     "data": {
      "application/vnd.jupyter.widget-view+json": {
       "model_id": "",
       "version_major": 2,
       "version_minor": 0
      },
      "text/plain": [
       "interactive(children=(IntSlider(value=50, description='n', min=1), Output()), _dom_classes=('widget-interact',…"
      ]
     },
     "metadata": {},
     "output_type": "display_data"
    }
   ],
   "source": [
    "widgets.interact(fibo.fib, n=(1, 100, 1));"
   ]
  },
  {
   "cell_type": "markdown",
   "metadata": {},
   "source": [
    "Material complementar:\n",
    "* [Documentação](https://ipywidgets.readthedocs.io/en/latest/)"
   ]
  },
  {
   "cell_type": "markdown",
   "metadata": {
    "slideshow": {
     "slide_type": "slide"
    },
    "toc-hr-collapsed": false
   },
   "source": [
    "## Exercícios Resolvidos"
   ]
  },
  {
   "cell_type": "markdown",
   "metadata": {
    "slideshow": {
     "slide_type": "subslide"
    }
   },
   "source": [
    "### Métodos numéricos\n",
    "\n",
    "1. Diferenciação\n",
    "\n",
    "\n",
    "* Esquema em diferenças finitas, explícito, centrado e com precisão de O($\\Delta x^2$):\n",
    "\n",
    "\\begin{equation}\n",
    "    \\frac{\\partial f}{\\partial x} = f_i' = \\dfrac{f_{i+1}-f_{i-1}}{2\\Delta x}\n",
    "\\end{equation}\n",
    "\n",
    "\\begin{equation}\n",
    "\\begin{split}\n",
    "\\begin{bmatrix} f'_{0} \\\\ f'_{1} \\\\ \\vdots \\\\ f'_{i} \\\\ \\vdots \\\\ f'_{n-2}\\\\ f'_{n-1}\\end{bmatrix} =\n",
    "\\underbrace{\n",
    "\\frac{1}{2 \\Delta x}\n",
    "\\begin{bmatrix}\n",
    "0 & 1 & & & & & -1 \\\\\n",
    "-1 & 0 & 1 & & \\\\\n",
    " & \\ddots & \\ddots & \\ddots & & & \\\\\n",
    "& & -1 & 0 & 1 & \\\\\n",
    "& & & \\ddots & \\ddots & \\ddots & \\\\\n",
    "& & & & -1 & 0 & 1\\\\\n",
    "1 & & & & & -1 & 0\n",
    "\\end{bmatrix}\n",
    "}_{D_x = \\text{ Operador diferencial de primeira ordem}}\n",
    "\\begin{bmatrix} f_{0} \\\\ f_{1} \\\\ \\vdots \\\\ f_{i} \\\\ \\vdots \\\\ f_{n-2}\\\\ f_{n-1}\\end{bmatrix}\n",
    "\\\\\n",
    "\\mbox{com $2\\leq i \\leq n -3$ e $f_0 = f_n$}\n",
    "\\end{split}\n",
    "\\end{equation}\n",
    "\n",
    "\\begin{equation}\n",
    "    f' = D_x f\n",
    "\\end{equation}"
   ]
  },
  {
   "cell_type": "markdown",
   "metadata": {
    "slideshow": {
     "slide_type": "subslide"
    }
   },
   "source": [
    "* Esquema em diferenças finitas, explícito, centrado e com precisão de O($\\Delta x^2$):\n",
    "\n",
    "\\begin{equation}\n",
    "    \\frac{\\partial^2 f}{\\partial x^2} = f_i'' = \\dfrac{f_{i+1} - 2 f_{i} + f_{i-1}}{(\\Delta x)^2}\n",
    "\\end{equation}\n",
    "\n",
    "\\begin{equation}\n",
    "\\begin{split}\n",
    "\\begin{bmatrix} f''_{0} \\\\ f''_{1} \\\\ \\vdots \\\\ f''_{i} \\\\ \\vdots \\\\ f''_{n-2}\\\\ f''_{n-1}\\end{bmatrix} =\n",
    "\\underbrace{\n",
    "\\frac{1}{(\\Delta x)^2}\n",
    "\\begin{bmatrix}\n",
    "-2 & 1 & & & & & 1\\\\\n",
    "1 & -2 & 1 & & \\\\\n",
    " & \\ddots & \\ddots & \\ddots & & & \\\\\n",
    "& & 1 & -2 & 1 & \\\\\n",
    "& & & \\ddots & \\ddots & \\ddots & \\\\\n",
    "& & & & 1 & -2 & 1\\\\\n",
    "1 & & & & & 1 & -2\n",
    "\\end{bmatrix}\n",
    "}_{D_x^2 = \\text{ Operador diferencial de segunda ordem}}\n",
    "\\begin{bmatrix} f_{0} \\\\ f_{1} \\\\ \\vdots \\\\ f_{i} \\\\ \\vdots \\\\ f_{n-2}\\\\ f_{n-1}\\end{bmatrix}\n",
    "\\\\\n",
    "\\mbox{com $2\\leq i \\leq n -3$ e $f_0 = f_n$}\n",
    "\\end{split}\n",
    "\\end{equation}\n",
    "\n",
    "\\begin{equation}\n",
    "    f'' = D_x^2 f\n",
    "\\end{equation}"
   ]
  },
  {
   "cell_type": "code",
   "execution_count": 70,
   "metadata": {
    "slideshow": {
     "slide_type": "subslide"
    }
   },
   "outputs": [],
   "source": [
    "x = np.linspace(0., 2.*np.pi, num=200, endpoint=False)\n",
    "\n",
    "dx = (x[1]-x[0])\n",
    "\n",
    "#Operador diferencial de primeira ordem\n",
    "Dx = sps.diags([-1., 0., 1.],\n",
    "              offsets=[-1, 0, 1],\n",
    "              shape=(x.size,x.size)\n",
    "              ).toarray()\n",
    "\n",
    "#Operador diferencial de segunda ordem\n",
    "Dx2 = sps.diags([1., -2., 1.],\n",
    "               offsets=[-1, 0, 1],\n",
    "               shape=(x.size,x.size)\n",
    "               ).toarray()\n",
    "\n",
    "Dx /= 2*dx\n",
    "Dx2 /= dx**2.\n",
    "\n",
    "#Condições de contorno Periódicas\n",
    "for D in [Dx, Dx2]:\n",
    "    D[0,-1] = D[1,0]\n",
    "    D[-1,0] = D[-2,-1]"
   ]
  },
  {
   "cell_type": "markdown",
   "metadata": {
    "slideshow": {
     "slide_type": "subslide"
    }
   },
   "source": [
    "Este é um bom momento para a criação de um módulo, já que operadores diferenciais serão muito utilizados durante os exemplos práticos. Para isso, vamos criar um arquivo nomeado `diferencial.py`, com as seguintes linhas de código:\n",
    "\n",
    "```python\n",
    "from scipy.sparse import diags\n",
    "from numpy import linspace, pi\n",
    "def ordem2(f=2*pi, i=0., n=7, P=False):\n",
    "    '''ordem2(f=2*pi, i=0., n=7, P=False)\n",
    "\n",
    "    Calcula os operadores diferenciais da primeira e segunda derivada, para uma\n",
    "    malha equidistante de i a f, com n pontos, e erro da ordem de h**2.\n",
    "\n",
    "    Parâmetros\n",
    "    ----------\n",
    "    f : real\n",
    "        Valor do contorno superior de x.\n",
    "        Padrão é 2*pi.\n",
    "    i : real\n",
    "        Valor do contorno inferior de x.\n",
    "        Padrão é zero.\n",
    "    n : inteiro\n",
    "        Número de pontos da malha na direção x.\n",
    "        Padrão é 7.\n",
    "    P : bool, opcional\n",
    "        Define que a condição de contorno é periódica quando True.\n",
    "        Padrão é False.\n",
    "\n",
    "    Retorna\n",
    "    -------\n",
    "    x, Dx e Dx2, respectivamente o vetor posição e os operadores diferenciais\n",
    "    para primeira e segunda ordem.\n",
    "    '''\n",
    "    #Vetor posição\n",
    "    x = linspace(i, f, num=n, endpoint=not P)\n",
    "    #Operador diferencial de primeira ordem\n",
    "    Dx = diags([-1., 0., 1.],\n",
    "              offsets=[-1, 0, 1],\n",
    "              shape=(x.size,x.size)\n",
    "              ).toarray()\n",
    "    #Operador diferencial de segunda ordem\n",
    "    Dx2 = diags([1., -2., 1.],\n",
    "               offsets=[-1, 0, 1],\n",
    "               shape=(x.size,x.size)\n",
    "               ).toarray()\n",
    "\n",
    "    if P: #Condições de contorno periódicas\n",
    "        for D in [Dx, Dx2]:\n",
    "            D[0,-1] = D[1,0]\n",
    "            D[-1,0] = D[-2,-1]\n",
    "    else: #Não Periódica\n",
    "        Dx[0,0], Dx[0,1], Dx[0,2] = -3., 4., -1.\n",
    "        Dx[-1,-3], Dx[-1,-2], Dx[-1,-1] = 1., -4., 3.\n",
    "        Dx2[0,0], Dx2[0,1], Dx2[0,2] = 1., -2., 1.\n",
    "        Dx2[-1,-3], Dx2[-1,-2], Dx2[-1,-1] = 1., -2., 1.\n",
    "\n",
    "    h = (x[1]-x[0])\n",
    "    Dx /= 2.*h\n",
    "    Dx2 /= h**2.\n",
    "    return x, Dx, Dx2\n",
    "```"
   ]
  },
  {
   "cell_type": "code",
   "execution_count": 71,
   "metadata": {
    "slideshow": {
     "slide_type": "subslide"
    }
   },
   "outputs": [
    {
     "data": {
      "image/png": "[encoded data removed]",
      "text/plain": [
       "<Figure size 576x396 with 1 Axes>"
      ]
     },
     "metadata": {
      "needs_background": "light"
     },
     "output_type": "display_data"
    }
   ],
   "source": [
    "#Agora pode-se importar o novo módulo com\n",
    "import diferencial as dv\n",
    "\n",
    "x, Dx, Dx2 = dv.ordem2(n=100, P=False)\n",
    "\n",
    "f = np.cos\n",
    "\n",
    "plt.plot(x, f(x), label='f(x)')\n",
    "plt.plot(x, Dx.dot(f(x)), label=\"f'(x)\")\n",
    "plt.plot(x, Dx2.dot(f(x)), label=\"f''(x)\")\n",
    "\n",
    "plt.legend()\n",
    "plt.show()"
   ]
  },
  {
   "cell_type": "markdown",
   "metadata": {
    "slideshow": {
     "slide_type": "subslide"
    }
   },
   "source": [
    "* Esquema em diferenças finitas, explícito, diferença para frente e com precisão de O($\\Delta t^1$):\n",
    "\n",
    "\\begin{equation}\n",
    "    \\frac{\\partial f}{\\partial t} = \\dfrac{f_{k+1}-f_{k}}{\\Delta t}\n",
    "\\end{equation}"
   ]
  },
  {
   "cell_type": "markdown",
   "metadata": {
    "slideshow": {
     "slide_type": "subslide"
    }
   },
   "source": [
    "* Esquema em diferenças finitas, implícito, centrado e com precisão de O($\\Delta x^6$):\n",
    "\n",
    "\n",
    "\\begin{equation}\n",
    "    \\frac{1}{3} f_{i-1}' + f_{i}' + \\frac{1}{3} f_{i+1}' = \\frac{14}{9} \\frac{f_{i+1}-f_{i-1}}{2\\Delta x} + \\frac{1}{9} \\frac{f_{i+2}-f_{i-2}}{4\\Delta x}\n",
    "\\end{equation}\n",
    "\n",
    "\n",
    "\\begin{equation}\n",
    "    f' = \\underbrace{A^{-1}B}_{D_x} f\n",
    "\\end{equation}"
   ]
  },
  {
   "cell_type": "markdown",
   "metadata": {
    "slideshow": {
     "slide_type": "subslide"
    }
   },
   "source": [
    "\\begin{equation}\n",
    "\\begin{split}\n",
    "\\underbrace{\n",
    "\\begin{bmatrix}\n",
    "1 & 1/3 & & & & & 1/3 \\\\\n",
    "1/3 & 1 & 1/3 & & \\\\\n",
    " & \\ddots & \\ddots & \\ddots & & & \\\\\n",
    "& & 1/3 & 1 & 1/3 & \\\\\n",
    "& & & \\ddots & \\ddots & \\ddots & \\\\\n",
    "& & & & 1/3 & 1 & 1/3\\\\\n",
    "1/3 & & & & & 1/3 & 1\n",
    "\\end{bmatrix}\n",
    "}_{A}\n",
    "\\begin{bmatrix} f'_{0} \\\\ f'_{1} \\\\ \\vdots \\\\ f'_{i} \\\\ \\vdots \\\\ f'_{n-2}\\\\ f'_{n-1}\\end{bmatrix} =\n",
    "\\underbrace{\n",
    "\\frac{1}{\\Delta x}\n",
    "\\begin{bmatrix}\n",
    "0 & 7/9 & 1/36 & & & 1/36 & 7/9 \\\\\n",
    "7/9 & 0 & 7/9 & 1/36 & & & 1/36\\\\\n",
    "& \\ddots & \\ddots & \\ddots & & & \\\\\n",
    "& 1/36 & 7/9 & 0 & 7/9 & 1/36 \\\\\n",
    "& & & \\ddots & \\ddots & \\ddots & \\\\\n",
    "1/36 & & & 1/36 & 7/9 & 0 & 7/9 \\\\\n",
    "7/9 & 1/36 & & & 1/36 & 7/9 & 0\n",
    "\\end{bmatrix}\n",
    "}_{B}\n",
    "\\begin{bmatrix} f_{0} \\\\ f_{1} \\\\ \\vdots \\\\ f_{i} \\\\ \\vdots \\\\ f_{n-2}\\\\ f_{n-1}\\end{bmatrix}\n",
    "\\\\\n",
    "\\mbox{com $2\\leq i \\leq n -3$, $f_0 = f_n$ e $f_0' = f_n'$}\n",
    "\\end{split}\n",
    "\\label{eq.dxx_matrix}\n",
    "\\end{equation}"
   ]
  },
  {
   "cell_type": "markdown",
   "metadata": {
    "slideshow": {
     "slide_type": "subslide"
    }
   },
   "source": [
    "2. Integração\n",
    "\n",
    "\n",
    "* Regra do Trapézio:"
   ]
  },
  {
   "cell_type": "markdown",
   "metadata": {
    "slideshow": {
     "slide_type": "skip"
    }
   },
   "source": [
    "\\begin{equation}\n",
    "\\int_a^b f(x)dx \\approx \\dfrac{f(a) + f(b)}{2} (b-a)\n",
    "\\end{equation}\n",
    "\n",
    "Pode-se dividir em $N$ intervalos:"
   ]
  },
  {
   "cell_type": "markdown",
   "metadata": {
    "slideshow": {
     "slide_type": "fragment"
    }
   },
   "source": [
    "\\begin{equation}\n",
    "\\int_a^b fdx \\approx \\sum_{i=0}^{N-1} \\dfrac{f_{i} + f_{i+1}}{2} \\Delta x = \\dfrac{\\Delta x}{2} \\left( f_0 + 2f_1 + \\dots + 2f_{n-1} + f_{n}\\right)\n",
    "\\end{equation}\n",
    "\n",
    "Escrito na forma matricial:\n",
    "\n",
    "\\begin{equation}\n",
    "\\int_a^b fdx = \\sum \\left(\n",
    "\\underbrace{\n",
    "\\Delta x\n",
    "\\begin{bmatrix}\n",
    "1/2 & & & & & & \\\\\n",
    "& 1 & & & & & \\\\\n",
    "& & \\ddots & & & & \\\\\n",
    "& & & 1 & & \\\\\n",
    "& & & & \\ddots & \\\\\n",
    "& & & & & 1 & \\\\\n",
    "& & & & & & 1/2\n",
    "\\end{bmatrix}\n",
    "}_{I_x = \\text{ Operador integral}}\n",
    "\\begin{bmatrix} f_{0} \\\\ f_{1} \\\\ \\vdots \\\\ f_{i} \\\\ \\vdots \\\\ f_{n-1}\\\\ f_{n}\\end{bmatrix}\n",
    "\\right)\n",
    "\\end{equation}"
   ]
  },
  {
   "cell_type": "code",
   "execution_count": 72,
   "metadata": {
    "slideshow": {
     "slide_type": "subslide"
    }
   },
   "outputs": [
    {
     "data": {
      "image/png": "[encoded data removed]",
      "text/latex": [
       "$\\displaystyle 2.220446049250313e-16$"
      ],
      "text/plain": [
       "2.220446049250313e-16"
      ]
     },
     "execution_count": 72,
     "metadata": {},
     "output_type": "execute_result"
    }
   ],
   "source": [
    "x = np.linspace(0., 2*np.pi, num=201, endpoint=True)\n",
    "\n",
    "f, dx = np.sin(x), (x[1]-x[0])\n",
    "\n",
    "Ix = dx*sps.eye(x.size).toarray() #Operador integral\n",
    "\n",
    "for i in [0, -1]: #Condições de contorno\n",
    "    Ix[i] *= 0.5\n",
    "\n",
    "Ix.dot(f).sum() #Integral"
   ]
  },
  {
   "cell_type": "code",
   "execution_count": 73,
   "metadata": {
    "slideshow": {
     "slide_type": "fragment"
    }
   },
   "outputs": [
    {
     "data": {
      "image/png": "[encoded data removed]",
      "text/latex": [
       "$\\displaystyle 0.0$"
      ],
      "text/plain": [
       "0.0"
      ]
     },
     "execution_count": 73,
     "metadata": {},
     "output_type": "execute_result"
    }
   ],
   "source": [
    "#Ou alternativamente, utilizando o scipy:\n",
    "import scipy.integrate\n",
    "sp.integrate.trapz(f,x)"
   ]
  },
  {
   "cell_type": "markdown",
   "metadata": {
    "slideshow": {
     "slide_type": "skip"
    }
   },
   "source": [
    "Material complementar:\n",
    "* [Finite Difference Coefficients Calculator](http://web.media.mit.edu/~crtaylor/calculator.html)\n",
    "* [Trapezoidal rule](https://en.wikipedia.org/wiki/Trapezoidal_rule)\n",
    "* MOIN, Parviz. **Fundamentals of engineering numerical analysis**. Cambridge University Press, 2010."
   ]
  },
  {
   "cell_type": "code",
   "execution_count": 74,
   "metadata": {
    "slideshow": {
     "slide_type": "skip"
    }
   },
   "outputs": [],
   "source": [
    "del D, Dx, Dx2, Ix, dx, f, i, x\n",
    "plt.close('all')"
   ]
  },
  {
   "cell_type": "markdown",
   "metadata": {
    "slideshow": {
     "slide_type": "subslide"
    }
   },
   "source": [
    "### Transferência de Calor"
   ]
  },
  {
   "cell_type": "markdown",
   "metadata": {
    "slideshow": {
     "slide_type": "subslide"
    }
   },
   "source": [
    "1. **Radiação e convecção combinadas em transferência de calor permanente unidirecional**. A superfície interior de uma parede de espessura $L=0,25m$ é mantida a $21^oC$, enquanto a temperatura no meio externo é $T_\\infty = 4^oC$. Considere que há troca de calor com a vizinhança $T_{viz} = 250 K$, o coeficiente de convecção é $h=23W/m^2$, a condutividade térmica do material que compõe a parede é $k=0,65 W/m \\cdot ^oC$, a emissividade da superfície externa vale $\\epsilon = 0,8$ e a constante de Stefan-Boltzmann $\\sigma = 5,67 \\times 10^{-8} [W/m^2 \\cdot K^4]$. Determine a temperatura externa da parede $T_2$.\n",
    "\n",
    "<img src=\"radiacao.png\">\n",
    "\n",
    "\\begin{equation}\n",
    "    k \\left( \\dfrac{T_1-T_2}{L} \\right) = \\epsilon \\sigma \\left( T_2^4 - T_{viz}^4 \\right) + h \\left( T_2 - T_\\infty \\right)\n",
    "\\end{equation}"
   ]
  },
  {
   "cell_type": "code",
   "execution_count": 697,
   "metadata": {
    "slideshow": {
     "slide_type": "subslide"
    }
   },
   "outputs": [
    {
     "name": "stdout",
     "output_type": "stream",
     "text": [
      "T2 = 2.94 graus celsius\n"
     ]
    }
   ],
   "source": [
    "# A esquerda como as variáveis serão tratadas computacionalmente, a direita como elas serão exibidas visualmente\n",
    "k, t1, t2, l, epsi, sigma, tviz, too, h = sm.symbols(\"k t_1 t_2 L \\epsilon \\sigma t_{viz} t_\\infty h\")\n",
    "\n",
    "# Definindo a equação do problema\n",
    "eq1 = sm.Eq(k*(t1-t2)/l,epsi*sigma*(t2**4.-tviz**4.)+h*(t2-too))\n",
    "\n",
    "# Dicionário com os valores que serão substituidos na eq1\n",
    "dic = {k: .65, t1: 21.+273., l: .25, epsi: .8, sigma: 5.67e-8, tviz: 255., too: 4.+273., h: 23.}\n",
    "\n",
    "# Resolvendo a equação\n",
    "sol = sm.solve(eq1.subs(dic), t2)\n",
    "\n",
    "# Procurando a solução desejada\n",
    "for val in sol:\n",
    "    if val.is_real: #A solução deve ser real\n",
    "        if val.is_positive: #E positiva\n",
    "            print('T2 = {0:3.2f} graus celsius'.format(val-273.))  "
   ]
  },
  {
   "cell_type": "code",
   "execution_count": 76,
   "metadata": {
    "slideshow": {
     "slide_type": "skip"
    }
   },
   "outputs": [],
   "source": [
    "del k, t1, t2, l, epsi, sigma, tviz, too, h, eq1, dic, sol, val"
   ]
  },
  {
   "cell_type": "markdown",
   "metadata": {
    "slideshow": {
     "slide_type": "subslide"
    }
   },
   "source": [
    "2. **Condição de calor transiente bidimensional**. Uma placa de cobre de $50cm \\times 50cm$ inicialmente possui temperatura em toda a sua extensão igual a $0^oC$. Instantaneamente, suas bordas são levadas às temperaturas de $60^oC$ em $x=0$; $20^oC$ em $x=50cm$; $0^oC$ em $y=0$ e $100^oC$ em $y=50$. A difusividade térmica do cobre é $1,1532cm^2/s$. Considerando um $\\Delta t = 4s$, $\\Delta x = \\Delta y = 5cm$, calcule a evolução da temperatura para a posição central da placa até o tempo de $400s$. Para o tempo de $200s$ apresente o perfil de temperatura em todos os pontos discretos do domínio.\n",
    "    Equação bidimensional:\n",
    "\\begin{equation}\n",
    "\\alpha \\left( \\dfrac{\\partial ^2 T}{\\partial x^2} + \\dfrac{\\partial ^2 T}{\\partial y^2} \\right) =\\dfrac{\\partial T}{\\partial t}\n",
    "\\end{equation}\n",
    "    Discretizando com a derivada segunda numa representação por diferença central e a derivada primeira com diferença ascendente:\n",
    "\n",
    "\\begin{equation}\n",
    "\\dfrac{T^{n+1}_{l,j}-T^{n}_{l,j}}{\\Delta t}=\\alpha \\left[ \\dfrac{T^{n}_{l-1,j}-2T^{n}_{l,j}+T^{n}_{l+1,j}}{(\\Delta x)^2} +\\dfrac{T^{n}_{l,j-1}-2T^{n}_{l,j}+T^{n}_{l,j+1}}{(\\Delta y)^2}  \\right]\n",
    "\\end{equation}"
   ]
  },
  {
   "cell_type": "code",
   "execution_count": 77,
   "metadata": {
    "slideshow": {
     "slide_type": "subslide"
    }
   },
   "outputs": [],
   "source": [
    "x = np.linspace(0., 50., num=11, endpoint=True)\n",
    "y = np.linspace(0., 50., num=11, endpoint=True)\n",
    "t = np.linspace(0., 400., num=101, endpoint=True)\n",
    "\n",
    "a = 1.1532\n",
    "\n",
    "# Condição inicial\n",
    "T = np.zeros((x.size,y.size,t.size))\n",
    "\n",
    "# Condições de contorno\n",
    "T[0,:,:], T[-1,:,:], T[:,0,:], T[:,-1,:] = 60., 20., 0., 100."
   ]
  },
  {
   "cell_type": "code",
   "execution_count": 78,
   "metadata": {
    "slideshow": {
     "slide_type": "fragment"
    }
   },
   "outputs": [],
   "source": [
    "dt = t[1]-t[0]\n",
    "dx2 = (x[1]-x[0])**2.\n",
    "dy2 = (y[1]-y[0])**2.\n",
    "for n in range(t.size-1):\n",
    "    for i in range(1,x.size-1):\n",
    "        for j in range(1,y.size-1):\n",
    "            T[i,j,n+1] = dt*a*((T[i-1,j,n]-2.*T[i,j,n]+T[i+1,j,n])/dx2+(T[i,j-1,n]-2.*T[i,j,n]+T[i,j+1,n])/dy2)+T[i,j,n]"
   ]
  },
  {
   "cell_type": "code",
   "execution_count": 79,
   "metadata": {
    "slideshow": {
     "slide_type": "subslide"
    }
   },
   "outputs": [
    {
     "data": {
      "image/png": "[encoded data removed]",
      "text/plain": [
       "<Figure size 576x396 with 5 Axes>"
      ]
     },
     "metadata": {
      "needs_background": "light"
     },
     "output_type": "display_data"
    }
   ],
   "source": [
    "#Adicionar subplot\n",
    "fig, ax = plt.subplots(nrows=1, ncols=5, sharex=True, sharey=True)\n",
    "\n",
    "for i, n in enumerate(T[:,:,::25].T):\n",
    "    ax[i].imshow(n)\n",
    "    ax[i].set_title('t={}'.format(t[i*25]))\n",
    "    \n",
    "plt.show()"
   ]
  },
  {
   "cell_type": "code",
   "execution_count": 80,
   "metadata": {
    "slideshow": {
     "slide_type": "subslide"
    }
   },
   "outputs": [
    {
     "data": {
      "image/png": "[encoded data removed]",
      "text/plain": [
       "<Figure size 576x396 with 1 Axes>"
      ]
     },
     "metadata": {
      "needs_background": "light"
     },
     "output_type": "display_data"
    }
   ],
   "source": [
    "plt.plot(t, T[5,5,:])\n",
    "plt.title('Evolução da temperatura no centro da placa')\n",
    "plt.xlabel('t')\n",
    "plt.ylabel('T')\n",
    "plt.show()"
   ]
  },
  {
   "cell_type": "code",
   "execution_count": 81,
   "metadata": {
    "slideshow": {
     "slide_type": "skip"
    }
   },
   "outputs": [],
   "source": [
    "del T, x, y, t, a, dx2, dy2, dt, i, n, ax, fig, j"
   ]
  },
  {
   "cell_type": "markdown",
   "metadata": {
    "slideshow": {
     "slide_type": "subslide"
    }
   },
   "source": [
    "3. **Convecção e difusão transiente unidimensional**. Resolver a EDP:\n",
    "\\begin{equation}\n",
    "    \\dfrac{\\partial T}{\\partial t}+u\\dfrac{\\partial T}{\\partial x}=\\alpha \\dfrac{\\partial^2 T}{\\partial x^2} \\quad 0\\leq x \\leq 1 ; 0\\leq t \\leq 8\n",
    "\\end{equation}\n",
    "Condições de contorno:\n",
    "\\begin{equation}\n",
    "    T(0,t)=T(1,t)=0\n",
    "\\end{equation}\n",
    "Condição inicial:\n",
    "\\begin{equation}\n",
    "    T(x,0) =  1 - ( 10 x - 1 )^2 \\quad \\text{ se $0 \\leq x \\leq 0,2$}, \\quad \\text{ senão } T(x,0) = 0\n",
    "\\end{equation}\n",
    "Discretizando com as derivadas espaciais numa representação por diferença central e a derivada temporal com diferença ascendente:\n",
    "\\begin{equation}\n",
    "\\dfrac{T_{i,k+1}-T_{i,k}}{\\Delta t}=\\alpha \\dfrac{T_{i-1,k}-2T_{i,k}+T_{i+1,k}}{(\\Delta x)^2} -u\\dfrac{T_{i+1,k}-T_{i-1,k}}{2\\Delta x}\n",
    "\\end{equation}"
   ]
  },
  {
   "cell_type": "markdown",
   "metadata": {
    "slideshow": {
     "slide_type": "skip"
    }
   },
   "source": [
    "O problema pode ser escrito na forma matricial como:\n",
    "\\begin{equation}\n",
    "\\begin{split}\n",
    "\\begin{bmatrix} T_{0,k+1} \\\\ T_{1,k+1} \\\\ \\vdots \\\\ T_{i,k+1} \\\\ \\vdots \\\\ T_{n-2,k+1}\\\\ T_{n-1,k+1}\\end{bmatrix} =\n",
    "\\begin{bmatrix} T_{0,k} \\\\ T_{1,k} \\\\ \\vdots \\\\ T_{i,k} \\\\ \\vdots \\\\ T_{n-2,k}\\\\ T_{n-1,k}\\end{bmatrix} +\n",
    "\\frac{\\alpha \\Delta t}{(\\Delta x)^2}\n",
    "\\begin{bmatrix}\n",
    "0 & 0 & & & & & \\\\\n",
    "1 & -2 & 1 & & \\\\\n",
    " & \\ddots & \\ddots & \\ddots & & & \\\\\n",
    "& & 1 & -2 & 1 & \\\\\n",
    "& & & \\ddots & \\ddots & \\ddots & \\\\\n",
    "& & & & 1 & -2 & 1\\\\\n",
    " & & & & & 0 & 0\n",
    "\\end{bmatrix}\n",
    "\\begin{bmatrix} T_{0,k} \\\\ T_{1,k} \\\\ \\vdots \\\\ T_{i,k} \\\\ \\vdots \\\\ T_{n-2,k}\\\\ T_{n-1,k}\\end{bmatrix} -\n",
    "\\frac{u \\Delta t}{2\\Delta x}\n",
    "\\begin{bmatrix}\n",
    "0 & 0 & & & & & \\\\\n",
    "-1 & 0 & 1 & & \\\\\n",
    " & \\ddots & \\ddots & \\ddots & & & \\\\\n",
    "& & -1 & 0 & 1 & \\\\\n",
    "& & & \\ddots & \\ddots & \\ddots & \\\\\n",
    "& & & & -1 & 0 & 1\\\\\n",
    " & & & & & 0 & 0\n",
    "\\end{bmatrix}\n",
    "\\begin{bmatrix} T_{0,k} \\\\ T_{1,k} \\\\ \\vdots \\\\ T_{i,k} \\\\ \\vdots \\\\ T_{n-2,k}\\\\ T_{n-1,k}\\end{bmatrix}\n",
    "\\\\\n",
    "\\mbox{com $2\\leq i \\leq n -3$,}\n",
    "\\end{split}\n",
    "\\end{equation}"
   ]
  },
  {
   "cell_type": "markdown",
   "metadata": {
    "slideshow": {
     "slide_type": "fragment"
    }
   },
   "source": [
    "ou simplesmente:\n",
    "\\begin{equation}\n",
    "   T_{k+1} = T_{k} + \\underbrace{ \\Delta t \\left( \\alpha D_x - u D_x^2 \\right)}_{A} T_{k},\n",
    "\\end{equation}\n",
    "\n",
    "onde $D_x$ e $D_x^2$ são os operadores diferenciais de primeira e segunda ordem, respectivamente."
   ]
  },
  {
   "cell_type": "code",
   "execution_count": 680,
   "metadata": {
    "slideshow": {
     "slide_type": "subslide"
    }
   },
   "outputs": [],
   "source": [
    "x, Dx, Dx2 = dv.ordem2(1., n=101)\n",
    "\n",
    "t = np.linspace(0., 8., num=8001, endpoint=True)\n",
    "\n",
    "dt = t[1]-t[0]\n",
    "\n",
    "#Condições de contorno\n",
    "for D in [Dx, Dx2]:\n",
    "    D[0,:] = 0.\n",
    "    D[-1,:] = 0."
   ]
  },
  {
   "cell_type": "code",
   "execution_count": 681,
   "metadata": {
    "slideshow": {
     "slide_type": "subslide"
    }
   },
   "outputs": [],
   "source": [
    "def convdiff(alpha, u):\n",
    "\n",
    "    # Condição inicial\n",
    "    T = np.zeros((x.size))\n",
    "    for i, ival in enumerate(x):\n",
    "        if ival > 0.2:\n",
    "            break\n",
    "        T[i] = 1. - (10. * ival - 1)**2.\n",
    "\n",
    "    # Operador matricial\n",
    "    A = dt*(alpha*Dx2-u*Dx)\n",
    "    \n",
    "    return A, T"
   ]
  },
  {
   "cell_type": "code",
   "execution_count": 682,
   "metadata": {
    "slideshow": {
     "slide_type": "subslide"
    }
   },
   "outputs": [
    {
     "data": {
      "image/png": "[encoded data removed]",
      "text/plain": [
       "<Figure size 576x396 with 1 Axes>"
      ]
     },
     "metadata": {
      "needs_background": "light"
     },
     "output_type": "display_data"
    }
   ],
   "source": [
    "alpha, u, visu = 0.001, 0.08, 2000 #Parâmetro de visualização: a cada quantos passos de tempo se deve graficar os resultados\n",
    "\n",
    "A, T = convdiff(alpha, u)\n",
    "for n in range(t.size):\n",
    "    T += A.dot(T)\n",
    "    if n % visu == 0:\n",
    "        plt.plot(x, T, label='t={}'.format(t[n]))\n",
    "\n",
    "plt.xlabel('x')\n",
    "plt.ylabel('T(x)')\n",
    "plt.legend()\n",
    "plt.show()"
   ]
  },
  {
   "cell_type": "markdown",
   "metadata": {
    "slideshow": {
     "slide_type": "subslide"
    }
   },
   "source": [
    "Mas o que acontece quando combinados diferentes valores para $\\alpha$ e $u$?"
   ]
  },
  {
   "cell_type": "code",
   "execution_count": 683,
   "metadata": {
    "slideshow": {
     "slide_type": "subslide"
    }
   },
   "outputs": [
    {
     "data": {
      "image/png": "[encoded data removed]",
      "text/plain": [
       "<Figure size 576x396 with 4 Axes>"
      ]
     },
     "metadata": {
      "needs_background": "light"
     },
     "output_type": "display_data"
    }
   ],
   "source": [
    "fig, ax = plt.subplots(nrows=2, ncols=2, sharex=True, sharey=True)\n",
    "for i, alpha in enumerate([0., 0.001]):\n",
    "    for j, u in enumerate([0., 0.08]):\n",
    "        A, T = convdiff(alpha, u)\n",
    "        for n in range(t.size):\n",
    "            T += A.dot(T)\n",
    "            if n % visu == 0:\n",
    "                ax[i,j].plot(x, T, label='t={}'.format(t[n]))\n",
    "                ax[-1,j].set_xlabel(r'$u = {}$'.format(u))\n",
    "                ax[i,0].set_ylabel(r'$\\alpha = {}$'.format(alpha))"
   ]
  },
  {
   "cell_type": "code",
   "execution_count": 334,
   "metadata": {
    "slideshow": {
     "slide_type": "skip"
    }
   },
   "outputs": [],
   "source": [
    "del A,D,Dx,Dx2,T,alpha,ax,dt,fig,i,j,n,t,u,visu,x\n",
    "plt.close('all')"
   ]
  },
  {
   "cell_type": "markdown",
   "metadata": {},
   "source": [
    "4. **Condução permanente com geração de calor**. Considere uma placa de urânio de espessura $L = 4cm$ e condutividade térmica $k = 28 W/m \\cdot K$ em que o calor é gerado uniformemente a uma taxa constante de $\\dot{e} = 5 \\times 10^6 W/m^3$. Um dos lados da placa é mantido a $0^oC$ com água gelada, enquanto o outro lado está sujeito à convecção para o ambiente a $T_\\infty = 30^oC$, com o coeficiente de transferência de calor $h=45 W/m^2 \\cdot K$. Considerando o total de três pontos igualmente espaçados no meio, dois nos contornos e um no centro, estime a temperatura da superfície exposta da placa sob condições permanentes usando a abordagem de diferenças finitas."
   ]
  },
  {
   "cell_type": "code",
   "execution_count": 688,
   "metadata": {},
   "outputs": [],
   "source": [
    "L = 0.04 #m\n",
    "k = 28.0 # W/mK\n",
    "eg = 5.0e6 # W/m^3\n",
    "T8 = 30.0 # graus C\n",
    "h = 45.0 # W/m^2K\n",
    "n = 3"
   ]
  },
  {
   "cell_type": "markdown",
   "metadata": {},
   "source": [
    "<img src=\"uranio.png\">\n",
    "\n",
    "Escrevendo a equações para cada nó:\n",
    "\\begin{equation}\n",
    "T_0 = 0 \\\\\n",
    "\\dfrac{T_0 - 2 T_1 + T_2}{\\Delta x^2} + \\dfrac{\\dot{e}_1}{k} = 0 \\\\\n",
    "h(T_\\infty - T_2) + k\\dfrac{T_1 - T_2}{\\Delta x} + \\dot{e}(\\Delta x/2) = 0\n",
    "\\end{equation}"
   ]
  },
  {
   "cell_type": "markdown",
   "metadata": {},
   "source": [
    "O problema pode ser reescrito na forma matricial como:\n",
    "\\begin{equation}\n",
    "\\begin{split}\n",
    "\\underbrace{\n",
    "\\begin{bmatrix}\n",
    "1 & 0 & 0 \\\\\n",
    "1/\\Delta x^2 & -2/\\Delta x^2 & 1/\\Delta x^2 \\\\\n",
    "0 & k/\\Delta x & -h-k/\\Delta x\n",
    "\\end{bmatrix}\n",
    "}_{A}\n",
    "\\begin{bmatrix}\n",
    "T_{0} \\\\ T_{1} \\\\ T_{2}\n",
    "\\end{bmatrix}\n",
    "=\n",
    "\\underbrace{\n",
    "\\begin{bmatrix} 0 \\\\ -\\dot{e}/k \\\\ -\\dot{e}\\Delta x/2 -hT_\\infty \\end{bmatrix}\n",
    "}_{B}\n",
    "\\end{split}\n",
    "\\end{equation}"
   ]
  },
  {
   "cell_type": "code",
   "execution_count": 689,
   "metadata": {},
   "outputs": [],
   "source": [
    "x = np.linspace(0., L, num=n, endpoint=True)\n",
    "dx = x[1] - x[0]\n",
    "\n",
    "A = np.array([[1., 0., 0.],\n",
    "              [1./dx**2., -2./dx**2., 1./dx**2.],\n",
    "              [0., k/dx, -h-k/dx]])\n",
    "B = np.array([0., -eg/k, -eg*(dx/2.)-h*T8])\n",
    "\n",
    "# Solver de álgebra linear do pacote numpy\n",
    "T = np.linalg.solve(A,B)"
   ]
  },
  {
   "cell_type": "code",
   "execution_count": 690,
   "metadata": {},
   "outputs": [
    {
     "name": "stdout",
     "output_type": "stream",
     "text": [
      "T0 = -0.00\n",
      "T1 = 103.73\n",
      "T2 = 136.04\n"
     ]
    }
   ],
   "source": [
    "# Escrevendo o resultado na tela\n",
    "for i, t in enumerate(T):\n",
    "    print(f'T{i} = {t:5.2f}')"
   ]
  },
  {
   "cell_type": "markdown",
   "metadata": {},
   "source": [
    "Esse problema pode também ser resolvido analiticamente como:\n",
    "\\begin{equation}\n",
    "    T(x) = \\dfrac{0,5 \\dot{e}hL^2/k + \\dot{e}L + T_\\infty h}{hL + k}x - \\dfrac{\\dot{e}x^2}{2k}\n",
    "\\end{equation}"
   ]
  },
  {
   "cell_type": "code",
   "execution_count": 691,
   "metadata": {},
   "outputs": [],
   "source": [
    "def T_exata(x):\n",
    "    return x*(0.5*eg*h*L**2./k + eg*L + T8*h)/(h*L +k) - 0.5*eg*x**2./k"
   ]
  },
  {
   "cell_type": "code",
   "execution_count": 692,
   "metadata": {},
   "outputs": [
    {
     "data": {
      "image/png": "[encoded data removed]",
      "text/plain": [
       "<Figure size 576x396 with 1 Axes>"
      ]
     },
     "metadata": {
      "needs_background": "light"
     },
     "output_type": "display_data"
    }
   ],
   "source": [
    "# Resposta numérica obtida anteriormente\n",
    "plt.plot(x,T, label=f'n={n}')\n",
    "\n",
    "# Solução exata\n",
    "x_exato = np.linspace(0., L, num=101, endpoint=True)\n",
    "plt.plot(x_exato,T_exata(x_exato),\n",
    "         label='Analítica',\n",
    "         color='silver',\n",
    "         ls='--')\n",
    "\n",
    "plt.legend()\n",
    "plt.xlabel('x[m]')\n",
    "plt.ylabel(r'T[$^o$C]')\n",
    "plt.show()"
   ]
  },
  {
   "cell_type": "markdown",
   "metadata": {},
   "source": [
    "O sistema matricial pode ser escrito de maneira genérica para uma decomposição em $n$ pontos, como:\n",
    "\\begin{equation}\n",
    "\\begin{split}\n",
    "\\begin{bmatrix}\n",
    "1 & 0 & 0 \\\\\n",
    "& \\ddots & \\ddots & \\ddots \\\\\n",
    "& & 1/\\Delta x^2 & -2/\\Delta x^2 & 1/\\Delta x^2 \\\\\n",
    "& & & \\ddots & \\ddots & \\ddots \\\\\n",
    "& & & 0 & k/\\Delta x & -h-k/\\Delta x\n",
    "\\end{bmatrix}\n",
    "\\begin{bmatrix}\n",
    "T_{0} \\\\ \\vdots \\\\ T_{i} \\\\ \\vdots \\\\ T_{n}\n",
    "\\end{bmatrix}\n",
    "=\n",
    "\\begin{bmatrix} 0 \\\\ \\vdots \\\\ -\\dot{e}_i/k \\\\ \\vdots \\\\ -\\dot{e}_n\\Delta x/2 -hT_\\infty \\end{bmatrix}\n",
    "\\\\\n",
    "\\mbox{com $1\\leq i \\leq n -1$,}\n",
    "\\end{split}\n",
    "\\end{equation}"
   ]
  },
  {
   "cell_type": "code",
   "execution_count": 694,
   "metadata": {},
   "outputs": [
    {
     "data": {
      "image/png": "[encoded data removed]",
      "text/plain": [
       "<Figure size 576x396 with 1 Axes>"
      ]
     },
     "metadata": {
      "needs_background": "light"
     },
     "output_type": "display_data"
    }
   ],
   "source": [
    "# Agora vamos testar a convergência da solução, para três valores de n\n",
    "for n in [3, 5, 10]:\n",
    "    x, Dx, Dx2 = dv.ordem2(L, n=n)\n",
    "    dx = x[1] - x[0]\n",
    "\n",
    "    A = Dx2\n",
    "    B = 0. * x - (eg/k)\n",
    "\n",
    "    ## Condição de contorno em x=0\n",
    "    A[0,0] = 1.\n",
    "    A[0,1:] = 0.\n",
    "    B[0] = 0.\n",
    "    ## Condição de contorno em x=L    \n",
    "    A[-1,-3] = 0.\n",
    "    A[-1,-2] = k/dx\n",
    "    A[-1,-1] = -h-k/dx\n",
    "    B[-1] = -eg*(dx/2.)-h*T8\n",
    "\n",
    "    T = np.linalg.solve(A,B)\n",
    "\n",
    "    plt.plot(x,T, label=f'n={n}')\n",
    "\n",
    "plt.plot(x_exato,T_exata(x_exato),\n",
    "         label='Analítica',\n",
    "         color='silver',\n",
    "         ls='--')\n",
    "\n",
    "plt.xlabel('x[m]')\n",
    "plt.ylabel(r'T[$^o$C]')\n",
    "plt.legend()\n",
    "plt.show()"
   ]
  },
  {
   "cell_type": "code",
   "execution_count": 695,
   "metadata": {},
   "outputs": [],
   "source": [
    "del L, k, eg, T8, h, n, x, dx, A, B, T, i, t, x_exato\n",
    "plt.close('all')"
   ]
  },
  {
   "cell_type": "markdown",
   "metadata": {},
   "source": [
    "5. **Armazenamento de energia solar em paredes de Trombe**.\n",
    "\n",
    "As paredes de alvenaria pintadas de cor escura, chamadas paredes de Trombe, são comumente usadas do lado sul das casas com energia solar passiva para absorver energia solar, armazenálas durante o dia e liberá-la para a casa durante a noite (mais informações [aqui](https://en.wikipedia.org/wiki/Trombe_wall)). Normalmente uma camada única ou dupla de vidro é colocada fora da parede e transmite a maior parte da energia solar, bloqueando as perdas de calor da superfície exposta da parede externa. Além disso, saídas de ar são comumente instaladas nas partes inferior e superior entre a parede de Trombe e os vidros. Em sua passagem, o ar tem a temperatura elevada e entra na sala através da abertura no lado superior da parece.\n",
    "\n",
    "<img src=\"casa_1.png\" width=\"300\">\n",
    "\n",
    "Considere uma parede Trombe com $30cm$ de espessura, condutividade térmica de $k=0,69W/m\\cdot K$ e difusividade térmica $\\alpha = 4,44 \\times 10^-7 m^2/s$. A variação de temperatura ambiente $T_{sai}$ e do fluxo de calor solar $\\dot{q}_{solar}$ inidente sobre a face vertical da superfície virada ao Sul ao longo de um dia típico de janeiro é dada por\n",
    "\n",
    "|Período do dia| Temperatura ambiente, $^oC$|Radiação solar, $W/m^2$|\n",
    "|--|--|--|\n",
    "|7h-10h|0,6|360|\n",
    "|10h-13|6,1|763|\n",
    "|13h-16h|7,2|562|\n",
    "|16h-19h|2,8|0|\n",
    "|19h-22h|0|0|\n",
    "|22h-1h|-2,8|0|\n",
    "|1h-4h|-3,3|0|\n",
    "|4h-7h|-3,9|0|\n",
    "\n",
    "A parede de Trombe tem vidro simples com um produto de absortividade e transmissividade de $ \\kappa = 0,77$ (ou seja, 77% da energia solar incidente é absorvida pela superfície exposta da parede de Trombe), e o coeficiente médio de transferência de calor combinada para perda de calor da parede de Trombe no ambiente é determinada a $h_{sai} = 4 W/m^2 \\cdot C$. O interior da casa é mantido a $T_{ent} = 21 ^oC$ todo o tempo, e o coeficiente de transferência de calor na superfície interna da parede de Trombe é $h_{ent} = 10 W/m^2 \\cdot ^oC$. Além disso, as aberturas na parede são mantidas fechadas, portanto a transferência de calor entre o ar da casa e a parede de Trombe ocorre apenas através da superfície interior da parede. Pressupondo que a temperatura da parede de Trombe varie linearmente entre $21 ^oC$ na superfície interna e $-1 ^oC$ na superfície externa às 7 h da manhã e usando o método explícito das diferenças finitas com espaçamento nodal uniforme de $\\Delta x = 6 cm$, determine a distribuição de temperatura ao longo da espessura da parede de Trombe após 12, 24, 36 e 48 h. Além disso, determine a quantidade líquida de calor transferido da parede de Trombe para a casa durante o primeiro e o segundo dia. Considere que a parede tem $3m$ de altura e $7,5m$ de comprimento e utilize um passo de tempo de $\\Delta t = 15min$. "
   ]
  },
  {
   "cell_type": "code",
   "execution_count": 706,
   "metadata": {},
   "outputs": [],
   "source": [
    "L = 0.3 # m\n",
    "dx = 0.06 # m\n",
    "dth = 0.25 # h\n",
    "k = 0.69 # W/mK\n",
    "alpha = 4.44e-7 # m^2/s\n",
    "kappa = 0.77\n",
    "hsai = 4 # W/m^2K\n",
    "Tent = 21.0 # graus C\n",
    "hent = 10 # W/m^2K"
   ]
  },
  {
   "cell_type": "code",
   "execution_count": 707,
   "metadata": {},
   "outputs": [],
   "source": [
    "table = pd.DataFrame({\n",
    "    \"ti\": [7., 10., 13., 16., 19., 22., 1., 4.],\n",
    "    \"tf\": [10., 13., 16., 19., 22., 1., 4., 7.],\n",
    "    \"Tsai\": [0.6, 6.1, 7.2, 2.8, 0.0, -2.8, -3.3, -3.9],\n",
    "    \"qsol\": [360., 763., 562., 0., 0., 0., 0., 0.]\n",
    "})"
   ]
  },
  {
   "cell_type": "markdown",
   "metadata": {},
   "source": [
    "<img src=\"casa_0.png\" width=\"300\">\n",
    "\n",
    "Escrevendo a equações para cada nó:\n",
    "\\begin{equation}\n",
    "T_0^{j+1} = \\left( 1 - 2\\tau -2 \\tau \\dfrac{h_{ent}\\Delta x}{k} \\right) T_0^{j} + 2\\tau T_1^{j} + 2\\tau \\dfrac{h_{ent}\\Delta x}{k} T_{ent} \\\\\n",
    "T_i^{j+1} = \\underbrace{\\tau (T_{i-1}^j + T_{i+1}^j) + (1-2\\tau)T_{i}^j}_{\\Delta t \\alpha D_x^2 + I}, \\mbox{com $1\\leq i \\leq n-1$,}\\\\\n",
    "T_n^{j+1} = \\left( 1 - 2\\tau -2 \\tau \\dfrac{h_{sai}\\Delta x}{k} \\right) T_n^{j} + 2\\tau T_{n-1}^{j} + 2\\tau \\dfrac{h_{sai}\\Delta x}{k} T_{sai}^j + 2\\tau \\dfrac{\\kappa \\dot{q}_{solar}^j \\Delta x}{k}\n",
    "\\end{equation}\n",
    "onde\n",
    "\n",
    "\\begin{equation}\n",
    "\\tau = \\dfrac{\\alpha \\Delta t}{\\Delta x^2}\n",
    "\\end{equation}"
   ]
  },
  {
   "cell_type": "markdown",
   "metadata": {},
   "source": [
    "O problema pode ser reescrito na forma matricial como:\n",
    "\\begin{equation}\n",
    "\\begin{split}\n",
    "\\begin{bmatrix}\n",
    "T_{0}^{j+1} \\\\ \\vdots \\\\ T_{i}^{j+1} \\\\ \\vdots \\\\ T_{n}^{j+1}\n",
    "\\end{bmatrix}\n",
    "=\n",
    "\\underbrace{\n",
    "\\begin{bmatrix}\n",
    "1 - 2\\tau -2 \\tau \\dfrac{h_{ent}\\Delta x}{k} & 2\\tau & 0 \\\\\n",
    "\\ddots & \\ddots & \\ddots \\\\\n",
    "\\tau & 1-2\\tau & \\tau \\\\\n",
    "\\ddots & \\ddots & \\ddots \\\\\n",
    "0 & 2\\tau & 1 - 2\\tau -2 \\tau \\dfrac{h_{sai}\\Delta x}{k}\n",
    "\\end{bmatrix}\n",
    "}_{A}\n",
    "\\begin{bmatrix}\n",
    "T_{0}^j \\\\ \\vdots \\\\ T_{i}^j \\\\ \\vdots \\\\ T_{n}^j\n",
    "\\end{bmatrix}\n",
    "+\n",
    "\\underbrace{\n",
    "\\begin{bmatrix} -2\\tau \\dfrac{h_{ent}\\Delta x}{k} T_{ent} \\\\ \\vdots \\\\ 0 \\\\ \\vdots \\\\ - 2\\tau \\dfrac{h_{sai}\\Delta x}{k} T_{sai}^j - 2\\tau \\dfrac{\\kappa \\dot{q}_{solar}^j \\Delta x}{k} \\end{bmatrix}\n",
    "}_{B}\n",
    "\\\\\n",
    "\\mbox{com $1 \\leq i \\leq n -1$,}\n",
    "\\end{split}\n",
    "\\end{equation}"
   ]
  },
  {
   "cell_type": "markdown",
   "metadata": {},
   "source": [
    "O critério de estabilidade para esse problema é dado por:\n",
    "\\begin{equation}\n",
    "\\Delta t \\le \\dfrac{\\Delta x^2}{3,74 \\alpha} = 36,13min\n",
    "\\end{equation}"
   ]
  },
  {
   "cell_type": "code",
   "execution_count": 723,
   "metadata": {},
   "outputs": [],
   "source": [
    "x, Dx, Dx2 = dv.ordem2(L, n=int(L/dx + 1))\n",
    "time = np.arange(0., 48.+dth, dth)\n",
    "\n",
    "T = np.zeros((x.size,time.size))\n",
    "\n",
    "#convertendo para segundos\n",
    "dt = dth * 3600.\n",
    "\n",
    "tau = alpha * dt / dx**2.\n",
    "\n",
    "# Condição Inicial\n",
    "T[:,0] = 21.0 - (22.0/L)*x\n",
    "time += 7.\n",
    "\n",
    "# Construção dos Operadores\n",
    "A = dt*(alpha*Dx2) + np.eye(x.size)\n",
    "B = np.zeros_like(x)\n",
    "\n",
    "# Laço de avanço temporal\n",
    "for j in range(time.size-1):\n",
    "    # Obter os valores do contorno à partir da tabela\n",
    "    index = int((time[j] - 7. )% 24. // 3)\n",
    "    Tsai = table.loc[index].Tsai\n",
    "    qsol = table.loc[index].qsol\n",
    "    # Condição de contorno em x=0\n",
    "    A[0,0] = 1.-2*tau-2.*tau*hent*dx/k\n",
    "    A[0,1] = 2.*tau\n",
    "    A[0,2] = 0.\n",
    "    B[0] = 2.*tau*hent*dx*Tent/k\n",
    "    # Condição de contorno em x=L    \n",
    "    A[-1,-3] = 0.\n",
    "    A[-1,-2] = 2.*tau\n",
    "    A[-1,-1] = 1.+-2.*tau -2.*tau*hsai*dx/k\n",
    "    B[-1] = 2.*tau*hsai*dx*Tsai/k + 2*tau*kappa*qsol*dx/k\n",
    "    #\n",
    "    T[:,j+1] = A.dot(T[:,j]) + B"
   ]
  },
  {
   "cell_type": "markdown",
   "metadata": {},
   "source": [
    "* Visualizando os resultados:"
   ]
  },
  {
   "cell_type": "code",
   "execution_count": 727,
   "metadata": {},
   "outputs": [
    {
     "data": {
      "image/png": "[encoded data removed]",
      "text/plain": [
       "<Figure size 576x396 with 1 Axes>"
      ]
     },
     "metadata": {
      "needs_background": "light"
     },
     "output_type": "display_data"
    }
   ],
   "source": [
    "for j in range(0,time.size,20):\n",
    "    plt.plot(x,T[:,j],label=f't={time[j]}')\n",
    "\n",
    "plt.legend(title='tempo [h]')\n",
    "plt.xlabel('x [m]')\n",
    "plt.ylabel(r'Temperatura [$^o$C]')\n",
    "plt.show()"
   ]
  },
  {
   "cell_type": "code",
   "execution_count": 749,
   "metadata": {},
   "outputs": [
    {
     "data": {
      "image/png": "[encoded data removed]",
      "text/plain": [
       "<Figure size 576x396 with 2 Axes>"
      ]
     },
     "metadata": {
      "needs_background": "light"
     },
     "output_type": "display_data"
    }
   ],
   "source": [
    "plt.pcolormesh(x,time,T.T, cmap='coolwarm')\n",
    "\n",
    "plt.colorbar(label='Temperatura [$^o$C]', orientation='vertical') \n",
    "\n",
    "plt.xlabel('x [m]')\n",
    "plt.ylabel(r'Tempo [h]')\n",
    "plt.show()"
   ]
  },
  {
   "cell_type": "markdown",
   "metadata": {},
   "source": [
    "* Variação da temperatura em três pontos da parede, em função do tempo"
   ]
  },
  {
   "cell_type": "code",
   "execution_count": 732,
   "metadata": {},
   "outputs": [
    {
     "data": {
      "image/png": "[encoded data removed]",
      "text/plain": [
       "<Figure size 576x396 with 1 Axes>"
      ]
     },
     "metadata": {
      "needs_background": "light"
     },
     "output_type": "display_data"
    }
   ],
   "source": [
    "for i in [0, x.size//2, -1]:\n",
    "    plt.plot(time,T[i,:],label=f'{x[i]}')\n",
    "\n",
    "plt.legend(title='x [m]')\n",
    "plt.xlabel('tempo [h]')\n",
    "plt.ylabel(r'Temperatura [$^o$C]')\n",
    "plt.show()"
   ]
  },
  {
   "cell_type": "code",
   "execution_count": 656,
   "metadata": {},
   "outputs": [],
   "source": [
    "plt.close('all')"
   ]
  }
 ],
 "metadata": {
  "celltoolbar": "Slideshow",
  "kernelspec": {
   "display_name": "Python 3",
   "language": "python",
   "name": "python3"
  },
  "language_info": {
   "codemirror_mode": {
    "name": "ipython",
    "version": 3
   },
   "file_extension": ".py",
   "mimetype": "text/x-python",
   "name": "python",
   "nbconvert_exporter": "python",
   "pygments_lexer": "ipython3",
   "version": "3.7.0"
  },
  "toc": {
   "base_numbering": 1,
   "nav_menu": {},
   "number_sections": true,
   "sideBar": true,
   "skip_h1_title": true,
   "title_cell": "Sumário",
   "title_sidebar": "Sumário",
   "toc_cell": true,
   "toc_position": {
    "height": "calc(100% - 180px)",
    "left": "10px",
    "top": "150px",
    "width": "334.6px"
   },
   "toc_section_display": true,
   "toc_window_display": true
  },
  "varInspector": {
   "cols": {
    "lenName": 16,
    "lenType": 16,
    "lenVar": 40
   },
   "kernels_config": {
    "python": {
     "delete_cmd_postfix": "",
     "delete_cmd_prefix": "del ",
     "library": "var_list.py",
     "varRefreshCmd": "print(var_dic_list())"
    },
    "r": {
     "delete_cmd_postfix": ") ",
     "delete_cmd_prefix": "rm(",
     "library": "var_list.r",
     "varRefreshCmd": "cat(var_dic_list()) "
    }
   },
   "oldHeight": 413.85,
   "position": {
    "height": "576.85px",
    "left": "1476px",
    "right": "20px",
    "top": "189px",
    "width": "342px"
   },
   "types_to_exclude": [
    "module",
    "function",
    "builtin_function_or_method",
    "instance",
    "_Feature"
   ],
   "varInspector_section_display": "block",
   "window_display": false
  }
 },
 "nbformat": 4,
 "nbformat_minor": 4
}
