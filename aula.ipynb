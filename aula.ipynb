{
 "cells": [
  {
   "cell_type": "markdown",
   "metadata": {
    "toc-hr-collapsed": false
   },
   "source": [
    "# Métodos Numéricos Aplicados à Transferência de Calor"
   ]
  },
  {
   "cell_type": "markdown",
   "metadata": {
    "colab_type": "text",
    "id": "xWip5AS5OehT"
   },
   "source": [
    "## Introdução"
   ]
  },
  {
   "cell_type": "markdown",
   "metadata": {
    "colab_type": "text",
    "id": "hoOtyRJEOehU"
   },
   "source": [
    "### Sobre o material\n",
    "\n",
    "* O objetivo desta palestra é **introduzir os principais conceitos empregados em programação e Python**, mais especificamente, no contexto interativo da plataforma Jupyter Notebook;\n",
    "* Além de demonstrar como **solucionar problemas em transferência de calor** por meio de propostas computacionais;\n",
    "* Para tanto, o material inclui uma breve **revisão de conceitos fundamentais** e as principais bibliotecas científicas disponíveis. Para maiores detalhes, **pode-se consultar a documentação disponível** ou mesmo as diversas leituras recomendadas que aparecem no decorrer do texto."
   ]
  },
  {
   "cell_type": "markdown",
   "metadata": {
    "colab_type": "text",
    "id": "1Imc09KQOehV"
   },
   "source": [
    "### Porque Python?"
   ]
  },
  {
   "cell_type": "markdown",
   "metadata": {
    "colab_type": "text",
    "id": "CGAn5ZvWOehW"
   },
   "source": [
    "<img src=\"https://github.com/fschuch/Python-Transferencia-de-Calor/blob/master/notebook.png?raw=1\">"
   ]
  },
  {
   "cell_type": "markdown",
   "metadata": {
    "colab_type": "text",
    "id": "33N69O2MOehX"
   },
   "source": [
    "> Leitura recomendada:\n",
    "> * [10 motivos para você aprender Python](https://www.hostgator.com.br/blog/10-motivos-para-voce-aprender-python/)"
   ]
  },
  {
   "cell_type": "markdown",
   "metadata": {
    "colab_type": "text",
    "id": "AumqKUUhOehX",
    "toc-hr-collapsed": false
   },
   "source": [
    "### Porque Jupyter Notebooks?\n",
    "\n",
    "![jupyter](https://jupyter.org/assets/main-logo.svg  \"jupyter\")\n",
    "\n",
    "* Ferramenta web interativa, grátis e de código aberto;\n",
    "* Exploração de dados. Permite executar o código, ver o que acontece, modificar e repetir, onde temos uma *\"conversa\"* com os dados disponíveis;\n",
    "* Útil para a criação de tutoriais interativos;\n",
    "* Ele fala a nossa língua. Disponível para várias liguagens de programação, como Python, Julia, R, Fortran e muitas outras;\n",
    "* É possível combinar o código com células `Markdown`, para renderizar equações e tabelas, inserir figuras e explicações sobre o código;\n",
    "* Facilmente extensível para diversos formatos (PDF, HTML, $\\LaTeX$, slides e outros);\n",
    "* Disponível em [jupyter.org](https://jupyter.org), além de:\n",
    "    - Acompanhar a instalação do [Anaconda](https://www.anaconda.com/);\n",
    "    - Ferramenta colaborativa na nuvem com [Google colab](https://colab.research.google.com) ou [binder](https://mybinder.org/)."
   ]
  },
  {
   "cell_type": "markdown",
   "metadata": {},
   "source": [
    "> Leitura recomendada:\n",
    "> - [Mastering Markdown](https://guides.github.com/features/mastering-markdown/)\n",
    "> - [LaTeX/Mathematics](https://en.wikibooks.org/wiki/LaTeX/Mathematics)\n",
    "> - [Why Jupyter is data scientists’ computational notebook of choice](https://www.nature.com/articles/d41586-018-07196-1)\n",
    "> - [Why I write with LaTeX (and why you should too)](https://medium.com/@marko_kovic/why-i-write-with-latex-and-why-you-should-too-ba6a764fadf9)\n",
    "> - [New Developer? You should’ve learned Git yesterday](https://codeburst.io/number-one-piece-of-advice-for-new-developers-ddd08abc8bfa)\n",
    "> - [12 passos para Navier-Stokes](https://www.fschuch.com/blog/2020/01/12/cfd-com-python-12-passos-para-navier-stokes/)\n",
    "> - [Jupyter Notebook como uma Poderosa Ferramenta Educacional](https://www.fschuch.com/blog/2021/01/22/jupyter-notebook-como-uma-poderosa-ferramenta-educacional/#formas-de-acessarcompartilhar)\n"
   ]
  },
  {
   "cell_type": "markdown",
   "metadata": {
    "colab_type": "text",
    "id": "KMHr-02qOeha"
   },
   "source": [
    "## Programação em Python"
   ]
  },
  {
   "cell_type": "markdown",
   "metadata": {
    "colab_type": "text",
    "id": "ZRiAA9-4Oehb"
   },
   "source": [
    "As primeiras linhas de código interativas dessa aula (`Shift+Enter` executam o bloco):"
   ]
  },
  {
   "cell_type": "code",
   "execution_count": null,
   "metadata": {
    "colab": {},
    "colab_type": "code",
    "id": "yq7eFbnlOehb"
   },
   "outputs": [],
   "source": [
    "\"\"\"\n",
    "Isso é um comentário\n",
    "\"\"\"\n",
    "\n",
    "print(\"Olá mundo\")\n",
    "\n",
    "# Isso também é um comentário"
   ]
  },
  {
   "cell_type": "markdown",
   "metadata": {
    "colab_type": "text",
    "id": "i4wlPN_kOehf"
   },
   "source": [
    "### Atribuição de variáveis:"
   ]
  },
  {
   "cell_type": "code",
   "execution_count": null,
   "metadata": {
    "colab": {},
    "colab_type": "code",
    "id": "s8dPgPbMOehg"
   },
   "outputs": [],
   "source": [
    "i = 5  # inteiro\n",
    "f = 6.7  # ponto flutuante\n",
    "g = 1e-2  # notação exponencial\n",
    "s = \"abcdef\"  # string\n",
    "c = 5.0 + 6j  # complexo"
   ]
  },
  {
   "cell_type": "markdown",
   "metadata": {
    "colab_type": "text",
    "id": "Kx2K9v7bOehk"
   },
   "source": [
    "### Operações matemáticas\n",
    "\n",
    "Operador | Descrição | Exemplo | Resultado\n",
    "---------|-----------|---------|----------\n",
    "`+`   | Soma   | `1 + 1` | `2`\n",
    "`-`   | Subtração | `2 - 1` | `1`\n",
    "`*`   | Multiplicação | `6 * 7` | `42`\n",
    "`/`   | Divisão | `8 / 4` | 2.0\n",
    "`//`  | Divisão inteira | `10 // 3` | 3\n",
    "`%`   | Resto da divisão | `10 % 3` | 1\n",
    "`**`  | Potência | `2 ** 3` | 8\n",
    "\n",
    "Teste qualquer uma das operações no bloco abaixo:"
   ]
  },
  {
   "cell_type": "code",
   "execution_count": null,
   "metadata": {
    "colab": {},
    "colab_type": "code",
    "id": "aACxizWxOehl"
   },
   "outputs": [],
   "source": [
    "10 % 7.5"
   ]
  },
  {
   "cell_type": "code",
   "execution_count": null,
   "metadata": {},
   "outputs": [],
   "source": [
    "a = 10.5\n",
    "b = 5\n",
    "\n",
    "c = a * b\n",
    "c"
   ]
  },
  {
   "cell_type": "markdown",
   "metadata": {
    "colab_type": "text",
    "id": "YgTV2JraOehv"
   },
   "source": [
    "### Operações em laços\n",
    "\n",
    "Computadores são ótimos para a realização de tarefas repetitivas. Para isso, temos à nossa disposição laços (ou *loops*), que geralmente percorrem um espaço definido pelo seu `valor inicial`, `valor final`, e o tamanho do `incremento`. Veja o exemplo:"
   ]
  },
  {
   "cell_type": "code",
   "execution_count": null,
   "metadata": {
    "colab": {},
    "colab_type": "code",
    "id": "rMMWLrXHOehw"
   },
   "outputs": [],
   "source": [
    "inicio = 0  # opcional, será zero se não informado\n",
    "final = 5\n",
    "incremento = 1  # opcional, será um se não informado\n",
    "\n",
    "for i in range(inicio, final, incremento):\n",
    "    print(i)\n",
    "    \"\"\"\n",
    "    Aqui realizaríamos operações da nossa aplicação\n",
    "    \"\"\""
   ]
  },
  {
   "cell_type": "markdown",
   "metadata": {},
   "source": [
    "**Nota**: Não precisamos indicar o final do laço em Python, porque isso é reconhecido por meio da identação.\n",
    "\n",
    "**Outra Nota:** sempre que precisar de ajuda para compreender qualquer objeto no Jupyter, digite seu nome seguido de uma interrogação `?`, ou use a função `help()`, veja só:"
   ]
  },
  {
   "cell_type": "code",
   "execution_count": null,
   "metadata": {},
   "outputs": [],
   "source": [
    "range?"
   ]
  },
  {
   "cell_type": "markdown",
   "metadata": {},
   "source": [
    "Observe que, em Python:\n",
    "* **A contagem começa em zero**;\n",
    "* **O argumento inicial é inclusivo** (ele estará no espaço a percorrer);\n",
    "* Enquanto **o argumento final é exclusivo** (ele não estará no espaço a percorrer).\n",
    "\n",
    "Compreenda melhor esses conceitos com exemplos:"
   ]
  },
  {
   "cell_type": "code",
   "execution_count": null,
   "metadata": {},
   "outputs": [],
   "source": [
    "for i in range(10):\n",
    "    print(i, end=\" \")"
   ]
  },
  {
   "cell_type": "code",
   "execution_count": null,
   "metadata": {},
   "outputs": [],
   "source": [
    "for i in range(0, 10, 1):\n",
    "    print(i, end=\" \")"
   ]
  },
  {
   "cell_type": "code",
   "execution_count": null,
   "metadata": {},
   "outputs": [],
   "source": [
    "for i in range(15, 30, 5):\n",
    "    print(i, end=\" \")"
   ]
  },
  {
   "cell_type": "code",
   "execution_count": null,
   "metadata": {},
   "outputs": [],
   "source": [
    "for i in range(0, 10, 3):\n",
    "    print(i, end=\" \")"
   ]
  },
  {
   "cell_type": "code",
   "execution_count": null,
   "metadata": {},
   "outputs": [],
   "source": [
    "for i in range(0, -10, -1):\n",
    "    print(i, end=\" \")"
   ]
  },
  {
   "cell_type": "code",
   "execution_count": null,
   "metadata": {},
   "outputs": [],
   "source": [
    "for i in range(0):\n",
    "    print(i, end=\" \")"
   ]
  },
  {
   "cell_type": "markdown",
   "metadata": {},
   "source": [
    "**Nota**: Perceba que `range` é apenas uma das diferentes possibilidades que temos para contruir um laço em Python."
   ]
  },
  {
   "cell_type": "markdown",
   "metadata": {
    "colab_type": "text",
    "id": "EjPM3SmAOehy"
   },
   "source": [
    "### Testes lógicos\n",
    "\n",
    "Operador | Descrição | Exemplo | Resultado\n",
    "---------|-----------|---------|----------\n",
    "`==`     | Igualdade | `1 == 2` | `False`\n",
    "`!=`     | Diferença | `1 != 2` | `True`\n",
    "`>`      | Maior que | `1 > 3` | `False`\n",
    "`<`      | Menor que | `1 < 3` | `True`\n",
    "`>=`     | Maior ou igual que | `1 >= 3` | `False`\n",
    "`=<`     | Menor ou igual que | `1 <= 3` | `True`\n",
    "`and`    | Operador lógico \"e\" | `True and False` | `False`\n",
    "`or`     | Operador lógico \"ou\" | `True or False` | `True`\n",
    "`not`    | Operador lógico \"não\" | `not False` | `True`"
   ]
  },
  {
   "cell_type": "code",
   "execution_count": null,
   "metadata": {
    "colab": {},
    "colab_type": "code",
    "id": "aZKkh1juOehy"
   },
   "outputs": [],
   "source": [
    "if 5 <= 3.0:\n",
    "    \"\"\"\n",
    "    Aqui realizaríamos operações da nossa aplicação\n",
    "    \"\"\"\n",
    "    print(\"Estou no bloco if\")\n",
    "elif 4 != 0:\n",
    "    \"\"\"\n",
    "    Aqui realizaríamos operações da nossa aplicação\n",
    "    \"\"\"\n",
    "    print(\"Estou no bloco elif\")\n",
    "else:\n",
    "    \"\"\"\n",
    "    Aqui realizaríamos operações da nossa aplicação\n",
    "    \"\"\"\n",
    "    print(\"estou no blobo else\")"
   ]
  },
  {
   "cell_type": "markdown",
   "metadata": {},
   "source": [
    "### Funções\n",
    "\n",
    "Funções são uma forma de encapsular trechos de código que você porventura queira executar diversas vezes. Argumentos são parâmetros opcionais de entrada, que podem alterar ou controlar o comportamento no interior da função. E elas podem ou não retornar algum valor.\n",
    "\n",
    "No bloco a seguir, definimos um exemplo didático. Uma função que testa se um dado número de entrada é ímpar, retornando `True`, ou não, retornando `False`. Veja o exemplo:"
   ]
  },
  {
   "cell_type": "code",
   "execution_count": null,
   "metadata": {},
   "outputs": [],
   "source": [
    "def testa_se_impar(numero):\n",
    "    return bool(numero % 2)"
   ]
  },
  {
   "cell_type": "markdown",
   "metadata": {},
   "source": [
    "Agora invocamos e testamos a nossa função:"
   ]
  },
  {
   "cell_type": "code",
   "execution_count": null,
   "metadata": {},
   "outputs": [],
   "source": [
    "testa_se_impar(4)"
   ]
  },
  {
   "cell_type": "code",
   "execution_count": null,
   "metadata": {},
   "outputs": [],
   "source": [
    "testa_se_impar(5)"
   ]
  },
  {
   "cell_type": "markdown",
   "metadata": {},
   "source": [
    "Podemos incrementar a apresentação de nossa função com recursos extras. Por exemplo, atribuir valores padrões aos argumentos, caso eles não sejam informados ao invocar a função. Além disso temos o *type hint*, ou uma dica do tipo, onde podemos anotar na função a tipagem dos argumentos de entrada e saída, para auxiliar quem estiver utilizando nossa função. Finalmente, o comentário inicial é conhecido como *Docstring*, o lugar ideal para uma documentação rápida, que também estará disponível para nossos usuários:"
   ]
  },
  {
   "cell_type": "code",
   "execution_count": null,
   "metadata": {},
   "outputs": [],
   "source": [
    "def testa_se_impar_v2(numero: int = 0) -> bool:\n",
    "    \"\"\"\n",
    "    Dado um número inteiro como argumento de entrada,\n",
    "    retorna True se ele é ímpar e False se ele é par\n",
    "    \"\"\"\n",
    "    return bool(numero % 2)"
   ]
  },
  {
   "cell_type": "markdown",
   "metadata": {},
   "source": [
    "Quando invocada sem argumentos, número será o valor definido como padrão, zero nesse caso, então a função é executada sem erros:"
   ]
  },
  {
   "cell_type": "code",
   "execution_count": null,
   "metadata": {},
   "outputs": [],
   "source": [
    "testa_se_impar_v2()"
   ]
  },
  {
   "cell_type": "markdown",
   "metadata": {},
   "source": [
    "O nome dos argumentos podem estar presentes na chamada, oferecendo legibilidade extra ao seu código:"
   ]
  },
  {
   "cell_type": "code",
   "execution_count": null,
   "metadata": {},
   "outputs": [],
   "source": [
    "testa_se_impar_v2(numero=67)"
   ]
  },
  {
   "cell_type": "markdown",
   "metadata": {},
   "source": [
    "Note que o *Docstring* é exibido na tela quando solicitamos ajuda:"
   ]
  },
  {
   "cell_type": "code",
   "execution_count": null,
   "metadata": {},
   "outputs": [],
   "source": [
    "testa_se_impar_v2?"
   ]
  },
  {
   "cell_type": "markdown",
   "metadata": {
    "colab_type": "text",
    "id": "eH4kyitYOeh0"
   },
   "source": [
    "Material complementar:\n",
    "\n",
    "* [More Control Flow Tools](https://docs.python.org/3/tutorial/controlflow.html)\n",
    "* [The Python Tutorial - Modules](https://docs.python.org/3/tutorial/modules.html)\n",
    "* [Data Structures](https://docs.python.org/3/tutorial/datastructures.html)\n",
    "* [Classes](https://docs.python.org/2/tutorial/classes.html)"
   ]
  },
  {
   "cell_type": "markdown",
   "metadata": {
    "colab_type": "text",
    "id": "q4dW6qDfOeiB"
   },
   "source": [
    "### Principais Pacotes\n",
    "\n",
    "Uma das grandes forças do Python é a enorme gama de pacotes que estão disponíveis, e em contínuo desenvolvimento, nas mais diversas áreas do conhecimento.\n",
    "\n",
    "A seguir, veremos algumas que são particularmente úteis para aplicações em transferência de calor."
   ]
  },
  {
   "cell_type": "markdown",
   "metadata": {
    "colab_type": "text",
    "id": "9apCaxQSOeiC"
   },
   "source": [
    "#### SciPy\n",
    "\n",
    "![SciPy](https://www.scipy.org/_static/images/scipy_med.png \"SciPy\")\n",
    "\n",
    "Ferramentas de computação científica para Python. SciPy refere-se a várias entidades relacionadas, mas distintas:\n",
    "\n",
    "* O ecossistema SciPy, uma coleção de software de código aberto para computação científica em Python;\n",
    "* A comunidade de pessoas que usam e desenvolvem essa biblioteca;\n",
    "* Várias conferências dedicadas à computação científica em Python - SciPy, EuroSciPy e SciPy.in;\n",
    "* Fazem parte da família os pacotes, que serão melhor descritos a seguir:\n",
    "    * Numpy;\n",
    "    * Matplotlib;\n",
    "    * Sympy;\n",
    "    * IPython;\n",
    "    * Pandas."
   ]
  },
  {
   "cell_type": "markdown",
   "metadata": {
    "colab_type": "text",
    "id": "qlis2j8OOeiE"
   },
   "source": [
    "* Além disso, a própria biblioteca SciPy, um componente do conjunto SciPy, fornecendo muitas rotinas numéricas:\n",
    "    * Funções especiais;\n",
    "    * Integração numérica;\n",
    "    * Diferenciação numérica;\n",
    "    * Otimização;\n",
    "    * Interpolação;\n",
    "    * Transformada de Fourier;\n",
    "    * Processamento de sinal;\n",
    "    * Algebra linear e Algebra linear esparsa;\n",
    "    * Problema de autovalor esparso com ARPACK;\n",
    "    * Algoritmos e estruturas de dados espaciais;\n",
    "    * Estatistica;\n",
    "    * Processamento de imagem multidimensional;\n",
    "    * I/O de arquivos;"
   ]
  },
  {
   "cell_type": "code",
   "execution_count": null,
   "metadata": {
    "colab": {},
    "colab_type": "code",
    "id": "VxTfWu9MOeiE"
   },
   "outputs": [],
   "source": [
    "import scipy as sp\n",
    "import scipy.optimize\n",
    "import scipy.integrate"
   ]
  },
  {
   "cell_type": "markdown",
   "metadata": {
    "colab_type": "text",
    "id": "5mZLE2EtOeiH"
   },
   "source": [
    "Material complementar:\n",
    "* [SciPy](https://www.scipy.org/)\n",
    "* [Getting Started](https://www.scipy.org/getting-started.html)\n",
    "* [Scipy Lecture Notes](http://scipy-lectures.org/index.html)"
   ]
  },
  {
   "cell_type": "markdown",
   "metadata": {
    "colab_type": "text",
    "id": "DbN37YL6OeiH"
   },
   "source": [
    "#### Numpy\n",
    "\n",
    "<img src=\"https://numpy.org/images/logos/numpy.svg\" alt=\"Logotipo do Numpy\" style=\"width: 100px;\"/>\n",
    "\n",
    "Numpy é um pacote fundamental para a **computação científica em Python**. Entre outras coisas, destaca-se:\n",
    "* Objetos em arranjos N-dimensionais\n",
    "* Funções sofisticadas\n",
    "* Ferramentas para integrar código C/C++ e Fortran\n",
    "* Conveniente álgebra linear, transformada de Fourier e capacidade de números aleatórios\n",
    "\n",
    "Além de seus usos científicos óbvios, o NumPy também pode ser usado como um contêiner multidimensional eficiente de dados genéricos. Tipos de dados arbitrários podem ser definidos. Isso permite que o NumPy integre-se de forma fácil e rápida a uma ampla variedade de bancos de dados."
   ]
  },
  {
   "cell_type": "code",
   "execution_count": null,
   "metadata": {
    "colab": {},
    "colab_type": "code",
    "id": "QhODk5alOeiI"
   },
   "outputs": [],
   "source": [
    "import numpy as np  # Importando a biblioteca numpy e definindo-a com o codnome de np"
   ]
  },
  {
   "cell_type": "code",
   "execution_count": null,
   "metadata": {},
   "outputs": [],
   "source": [
    "matriz = np.arange(15).reshape(3, 5)\n",
    "\n",
    "# exibe na tela\n",
    "matriz"
   ]
  },
  {
   "cell_type": "code",
   "execution_count": null,
   "metadata": {},
   "outputs": [],
   "source": [
    "matriz.shape"
   ]
  },
  {
   "cell_type": "code",
   "execution_count": null,
   "metadata": {},
   "outputs": [],
   "source": [
    "matriz.ndim"
   ]
  },
  {
   "cell_type": "code",
   "execution_count": null,
   "metadata": {},
   "outputs": [],
   "source": [
    "matriz.dtype.name"
   ]
  },
  {
   "cell_type": "code",
   "execution_count": null,
   "metadata": {},
   "outputs": [],
   "source": [
    "matriz.size"
   ]
  },
  {
   "cell_type": "code",
   "execution_count": null,
   "metadata": {},
   "outputs": [],
   "source": [
    "type(matriz)"
   ]
  },
  {
   "cell_type": "markdown",
   "metadata": {},
   "source": [
    "##### Construção e Seleção de Dados"
   ]
  },
  {
   "cell_type": "markdown",
   "metadata": {},
   "source": [
    "* Criar matrizes completas com valores iniciais em zero ou um:"
   ]
  },
  {
   "cell_type": "code",
   "execution_count": null,
   "metadata": {},
   "outputs": [],
   "source": [
    "np.zeros(shape=(3, 4), dtype=np.float64)"
   ]
  },
  {
   "cell_type": "code",
   "execution_count": null,
   "metadata": {},
   "outputs": [],
   "source": [
    "np.ones(shape=(2, 3, 4), dtype=np.int16)"
   ]
  },
  {
   "cell_type": "markdown",
   "metadata": {},
   "source": [
    "* Definição inicial de um intervalo, de maneira similar a função `range` do Python:"
   ]
  },
  {
   "cell_type": "code",
   "execution_count": null,
   "metadata": {},
   "outputs": [],
   "source": [
    "np.arange(10, 30, 5)"
   ]
  },
  {
   "cell_type": "code",
   "execution_count": null,
   "metadata": {},
   "outputs": [],
   "source": [
    "np.arange(0, 2, 0.3)"
   ]
  },
  {
   "cell_type": "markdown",
   "metadata": {},
   "source": [
    "* Ou ainda um espaço linear:"
   ]
  },
  {
   "cell_type": "code",
   "execution_count": null,
   "metadata": {},
   "outputs": [],
   "source": [
    "vetor = np.linspace(start=0.0, stop=2.0, num=9)\n",
    "vetor"
   ]
  },
  {
   "cell_type": "markdown",
   "metadata": {},
   "source": [
    "A seleção dos dados ocorre de maneira similar às listas, com o número inteiro representando a localização, começando a contagem em zero. Veja os exemplos:"
   ]
  },
  {
   "cell_type": "code",
   "execution_count": null,
   "metadata": {},
   "outputs": [],
   "source": [
    "vetor[0]"
   ]
  },
  {
   "cell_type": "code",
   "execution_count": null,
   "metadata": {},
   "outputs": [],
   "source": [
    "vetor[2]"
   ]
  },
  {
   "cell_type": "code",
   "execution_count": null,
   "metadata": {},
   "outputs": [],
   "source": [
    "vetor[0:4:2]"
   ]
  },
  {
   "cell_type": "code",
   "execution_count": null,
   "metadata": {},
   "outputs": [],
   "source": [
    "vetor[-1]"
   ]
  },
  {
   "cell_type": "markdown",
   "metadata": {},
   "source": [
    "No caso em que temos mais dimensões, como na matriz que definimos anteriormente, a mesma ideia se aplica, e separamos cada dimensão por vírgulas:"
   ]
  },
  {
   "cell_type": "code",
   "execution_count": null,
   "metadata": {},
   "outputs": [],
   "source": [
    "matriz"
   ]
  },
  {
   "cell_type": "code",
   "execution_count": null,
   "metadata": {},
   "outputs": [],
   "source": [
    "matriz[0, 0], matriz[0, 1], matriz[1, 0]"
   ]
  },
  {
   "cell_type": "code",
   "execution_count": null,
   "metadata": {},
   "outputs": [],
   "source": [
    "matriz[0, :]"
   ]
  },
  {
   "cell_type": "code",
   "execution_count": null,
   "metadata": {},
   "outputs": [],
   "source": [
    "matriz[:, -1]"
   ]
  },
  {
   "cell_type": "markdown",
   "metadata": {},
   "source": [
    "**Cuidado**, pois o sinal de igualdade não cria novas cópias dos tensores, e isso pode confundir os iniciantes:"
   ]
  },
  {
   "cell_type": "code",
   "execution_count": null,
   "metadata": {},
   "outputs": [],
   "source": [
    "outro_vetor = vetor\n",
    "outro_vetor"
   ]
  },
  {
   "cell_type": "code",
   "execution_count": null,
   "metadata": {},
   "outputs": [],
   "source": [
    "outro_vetor is vetor"
   ]
  },
  {
   "cell_type": "code",
   "execution_count": null,
   "metadata": {},
   "outputs": [],
   "source": [
    "outro_vetor *= 0\n",
    "\n",
    "print(vetor)"
   ]
  },
  {
   "cell_type": "markdown",
   "metadata": {},
   "source": [
    "Temos agora duas maneiras de acessar o mesmo vetor na memória, pois tanto `vetor` quanto `outro_vetor` apontam para a mesma posição na memória."
   ]
  },
  {
   "cell_type": "markdown",
   "metadata": {},
   "source": [
    "##### Operações Tensoriais\n",
    "\n",
    "Operações aritméticas e lógicas estão disponíveis para os objetos Numpy, e são propagados para todos os elementos do tensor. Veja os exemplos:"
   ]
  },
  {
   "cell_type": "code",
   "execution_count": null,
   "metadata": {},
   "outputs": [],
   "source": [
    "a = np.array([20, 30, 40, 50])\n",
    "b = np.array([0, 1, 2, 3])"
   ]
  },
  {
   "cell_type": "code",
   "execution_count": null,
   "metadata": {},
   "outputs": [],
   "source": [
    "a - b"
   ]
  },
  {
   "cell_type": "code",
   "execution_count": null,
   "metadata": {},
   "outputs": [],
   "source": [
    "b ** 2"
   ]
  },
  {
   "cell_type": "code",
   "execution_count": null,
   "metadata": {},
   "outputs": [],
   "source": [
    "10 * np.sin(a)"
   ]
  },
  {
   "cell_type": "code",
   "execution_count": null,
   "metadata": {},
   "outputs": [],
   "source": [
    "a < 35"
   ]
  },
  {
   "cell_type": "markdown",
   "metadata": {},
   "source": [
    "> Leitura recomendada:\n",
    "> * [NumPy Documentation](https://numpy.org/doc/)\n",
    "> * [NumPy quickstart](https://numpy.org/doc/1.20/user/quickstart.html)\n",
    "> * [NumPy: the absolute basics for beginners](https://numpy.org/doc/1.20/user/absolute_beginners.html)\n",
    "> * [Tutorial: Linear algebra on n-dimensional arrays](https://numpy.org/doc/1.20/user/tutorial-svd.html)\n",
    ">\n",
    "> Outros pacotes Python para manipulação de dados:\n",
    "> * [Pandas](https://pandas.pydata.org/) é uma pacote Python especializado na processamento eficiente de dados tabelados, podendo lidar com arquivos CSV, Excel, SQL, arranjos Numpy e outros;\n",
    "> * [Xarray](http://xarray.pydata.org/) introduz rótulos na forma de dimensões, coordenadas e atributos sobre os dados brutos dos arranjos em formato NumPy, permitindo uma experiência de desenvolvimento mais intuitiva, consistente e a prova de falhas;\n",
    "> * [Dask](https://dask.org/) fornece paralelismo avançado para análises, permitindo desempenho em escala para as ferramentas que você adora."
   ]
  },
  {
   "cell_type": "markdown",
   "metadata": {
    "slideshow": {
     "slide_type": "subslide"
    }
   },
   "source": [
    "#### **Pandas**\n",
    "\n",
    "![Pandas](https://www.scipy.org/_static/images/pandas_badge2.jpg \"Pandas\")\n",
    "\n",
    "O pandas é um pacote Python que fornece **estruturas de dados rápidas, flexíveis e expressivas**, projetadas para tornar o trabalho com dados “relacionais” ou “rotulados” fáceis e intuitivos. O objetivo é ser o alicerce fundamental de alto nível para a análise prática de dados do mundo real em Python. Além disso, tem o objetivo mais amplo de se tornar a mais poderosa e flexível ferramenta de análise / manipulação de dados de código aberto disponível em qualquer linguagem.\n",
    "\n",
    "Pandas é bem adequado para muitos tipos diferentes de dados:\n",
    "* Dados tabulares com colunas de tipos heterogêneos, como em uma **tabela SQL, arquivo `.csv` ou planilha do Excel**;\n",
    "* Dados de **séries temporais** ordenados e não ordenados (não necessariamente de frequência fixa);\n",
    "* Dados de matriz arbitrária (homogeneamente digitados ou heterogêneos) com rótulos de linha e coluna;\n",
    "* Qualquer outra forma de conjuntos de dados observacionais / estatísticos. Os dados realmente não precisam ser rotulados para serem colocados em uma estrutura de dados de pandas."
   ]
  },
  {
   "cell_type": "code",
   "execution_count": null,
   "metadata": {
    "slideshow": {
     "slide_type": "subslide"
    },
    "tags": []
   },
   "outputs": [],
   "source": [
    "import pandas as pd"
   ]
  },
  {
   "cell_type": "code",
   "execution_count": null,
   "metadata": {
    "slideshow": {
     "slide_type": "fragment"
    },
    "tags": []
   },
   "outputs": [],
   "source": [
    "df2 = pd.DataFrame({'A': 1.,\n",
    "                    'B': pd.Timestamp('20130102'),\n",
    "                    'C': pd.Series(1, index=list(range(4)), dtype='float32'),\n",
    "                    'D': np.array([3] * 4, dtype='int32'),\n",
    "                    'E': pd.Categorical([\"test\", \"train\", \"test\", \"train\"]),\n",
    "                    'F': 'foo'})"
   ]
  },
  {
   "cell_type": "code",
   "execution_count": null,
   "metadata": {
    "slideshow": {
     "slide_type": "fragment"
    }
   },
   "outputs": [],
   "source": [
    "df2"
   ]
  },
  {
   "cell_type": "markdown",
   "metadata": {
    "slideshow": {
     "slide_type": "skip"
    }
   },
   "source": [
    "> Material complementar:\n",
    "> * [Pandas](https://pandas.pydata.org/)\n",
    "> * [10 minutes to pandas](https://pandas.pydata.org/pandas-docs/version/0.25.0/getting_started/10min.html)"
   ]
  },
  {
   "cell_type": "markdown",
   "metadata": {},
   "source": [
    "#### Tqdm\n",
    "\n",
    "Produz uma barra de progresso. Recurso puramente estético, mas ainda assim, muito útil:"
   ]
  },
  {
   "cell_type": "code",
   "execution_count": null,
   "metadata": {},
   "outputs": [],
   "source": [
    "from tqdm.notebook import tqdm"
   ]
  },
  {
   "cell_type": "code",
   "execution_count": null,
   "metadata": {},
   "outputs": [],
   "source": [
    "for i in tqdm(range(100)):\n",
    "    ..."
   ]
  },
  {
   "cell_type": "markdown",
   "metadata": {
    "slideshow": {
     "slide_type": "subslide"
    }
   },
   "source": [
    "#### Sympy\n",
    "\n",
    "![Sympy](https://scipy.org/_static/images/sympy_logo.png \"Sympy\")\n",
    "\n",
    "SymPy é uma biblioteca Python para **matemática simbólica**. O objetivo é tornar-se um sistema de álgebra computacional (CAS) completo, mantendo o código o mais simples possível para ser compreensível e facilmente extensível. SymPy é escrito inteiramente em Python."
   ]
  },
  {
   "cell_type": "code",
   "execution_count": null,
   "metadata": {
    "slideshow": {
     "slide_type": "subslide"
    },
    "tags": []
   },
   "outputs": [],
   "source": [
    "import sympy as sm\n",
    "\n",
    "sm.init_printing(use_latex=\"mathjax\")  # Para escrever equações na tela"
   ]
  },
  {
   "cell_type": "code",
   "execution_count": null,
   "metadata": {
    "slideshow": {
     "slide_type": "fragment"
    },
    "tags": []
   },
   "outputs": [],
   "source": [
    "x, t = sm.symbols(\"x t\")  # Criando símbolos"
   ]
  },
  {
   "cell_type": "markdown",
   "metadata": {
    "slideshow": {
     "slide_type": "subslide"
    }
   },
   "source": [
    "\\begin{equation}\n",
    "\\text{calcular } \\int (e^x \\sin(x) + e^x \\cos(x)) dx\n",
    "\\end{equation}"
   ]
  },
  {
   "cell_type": "code",
   "execution_count": null,
   "metadata": {
    "slideshow": {
     "slide_type": "fragment"
    }
   },
   "outputs": [],
   "source": [
    "sm.integrate(sm.exp(x) * sm.sin(x) + sm.exp(x) * sm.cos(x), x)"
   ]
  },
  {
   "cell_type": "markdown",
   "metadata": {
    "slideshow": {
     "slide_type": "subslide"
    }
   },
   "source": [
    "\\begin{equation}\n",
    "\\text{calcular a derivada de }\\sin(x)e^x\n",
    "\\end{equation}"
   ]
  },
  {
   "cell_type": "code",
   "execution_count": null,
   "metadata": {
    "slideshow": {
     "slide_type": "fragment"
    }
   },
   "outputs": [],
   "source": [
    "sm.diff(sm.sin(x) * sm.exp(x), x)"
   ]
  },
  {
   "cell_type": "markdown",
   "metadata": {
    "slideshow": {
     "slide_type": "subslide"
    }
   },
   "source": [
    "\\begin{equation}\n",
    "\\text{calcular } \\int_{-\\infty}^{\\infty} \\sin(x^2)\n",
    "\\end{equation}"
   ]
  },
  {
   "cell_type": "code",
   "execution_count": null,
   "metadata": {
    "slideshow": {
     "slide_type": "fragment"
    }
   },
   "outputs": [],
   "source": [
    "sm.integrate(sm.sin(x ** 2), (x, -sm.oo, sm.oo))"
   ]
  },
  {
   "cell_type": "markdown",
   "metadata": {
    "slideshow": {
     "slide_type": "subslide"
    }
   },
   "source": [
    "\\begin{equation}\n",
    "\\text{calcular } \\lim_{x \\to 0} \\dfrac{\\sin(x)}{x}\n",
    "\\end{equation}"
   ]
  },
  {
   "cell_type": "code",
   "execution_count": null,
   "metadata": {
    "slideshow": {
     "slide_type": "fragment"
    }
   },
   "outputs": [],
   "source": [
    "sm.limit(sm.sin(x) / x, x, 0)"
   ]
  },
  {
   "cell_type": "markdown",
   "metadata": {
    "slideshow": {
     "slide_type": "subslide"
    }
   },
   "source": [
    "\\begin{equation}\n",
    "\\text{resolver } x^2 - 2 = 0\n",
    "\\end{equation}"
   ]
  },
  {
   "cell_type": "code",
   "execution_count": null,
   "metadata": {
    "slideshow": {
     "slide_type": "fragment"
    }
   },
   "outputs": [],
   "source": [
    "sm.solve(x ** 2 - 2, x)"
   ]
  },
  {
   "cell_type": "markdown",
   "metadata": {
    "slideshow": {
     "slide_type": "subslide"
    }
   },
   "source": [
    "\\begin{equation}\n",
    "\\text{resolver a equação diferencial } y'' - y = e^t\n",
    "\\end{equation}"
   ]
  },
  {
   "cell_type": "code",
   "execution_count": null,
   "metadata": {
    "scrolled": true,
    "slideshow": {
     "slide_type": "fragment"
    }
   },
   "outputs": [],
   "source": [
    "y = sm.Function(\"y\")\n",
    "eq1 = sm.dsolve(sm.Eq(y(t).diff(t, t) - y(t), sm.exp(t)), y(t))\n",
    "eq1"
   ]
  },
  {
   "cell_type": "code",
   "execution_count": null,
   "metadata": {
    "slideshow": {
     "slide_type": "fragment"
    }
   },
   "outputs": [],
   "source": [
    "# Bônus\n",
    "print(sm.latex(eq1))"
   ]
  },
  {
   "cell_type": "markdown",
   "metadata": {
    "slideshow": {
     "slide_type": "skip"
    }
   },
   "source": [
    "Material complementar:\n",
    "* [Sympy](https://www.sympy.org/en/index.html)\n",
    "* [Documentation](https://docs.sympy.org/latest/index.html)"
   ]
  },
  {
   "cell_type": "markdown",
   "metadata": {
    "colab_type": "text",
    "id": "FUrzoPIHOeiw"
   },
   "source": [
    "#### Matplotlib\n",
    "\n",
    "![Matplotlib](https://www.scipy.org/_static/images/matplotlib_med.png \"Matplotlib\")\n",
    "\n",
    "A Matplotlib é uma biblioteca de plotagem 2D do Python, que produz figuras de qualidade de publicação em uma variedade de formatos impressos e ambientes interativos entre plataformas. O Matplotlib pode ser usado em scripts Python, nos shells do Python e do IPython, no notebook Jupyter, nos servidores de aplicativos da web e em quatro kits de ferramentas de interface gráfica do usuário.\n",
    "\n",
    "A **Matplotlib tenta tornar as coisas fáceis simples e as coisas difíceis possíveis**. Você pode gerar gráficos, histogramas, espectros de potência, gráficos de barras, gráficos de erros, diagramas de dispersão, etc., com apenas algumas linhas de código.\n",
    "\n",
    "Como sempre, começamos importando a biblioteca:"
   ]
  },
  {
   "cell_type": "code",
   "execution_count": null,
   "metadata": {
    "colab": {},
    "colab_type": "code",
    "id": "-DWBTFwmOeiw"
   },
   "outputs": [],
   "source": [
    "import matplotlib.pyplot as plt"
   ]
  },
  {
   "cell_type": "markdown",
   "metadata": {},
   "source": [
    "Agora fazemos nossa primeira figura:"
   ]
  },
  {
   "cell_type": "code",
   "execution_count": null,
   "metadata": {
    "tags": []
   },
   "outputs": [],
   "source": [
    "x = np.linspace(start=0, stop=10, num=100)\n",
    "plt.plot(x, np.sin(x));"
   ]
  },
  {
   "cell_type": "markdown",
   "metadata": {},
   "source": [
    "O nome dos eixos são indispensáveis se você quiser mostrar sua figura para terceiros, um título pode ajudar também. Outro exemplo é como podemos definir os limites de cada eixo do gráfico. Veja nossa nova figura:"
   ]
  },
  {
   "cell_type": "code",
   "execution_count": null,
   "metadata": {},
   "outputs": [],
   "source": [
    "x = np.linspace(0, 10, 100)\n",
    "plt.plot(x, np.sin(x))\n",
    "\n",
    "plt.xlim([0, 2 * np.pi])\n",
    "plt.ylim([-2, 2])\n",
    "\n",
    "plt.xlabel(r\"eixo x $\\sigma^2$\")\n",
    "plt.ylabel(\"eixo y\")\n",
    "\n",
    "plt.title(\"Minha figura\");"
   ]
  },
  {
   "cell_type": "markdown",
   "metadata": {},
   "source": [
    "> Leitura recomendada:\n",
    "> * [Matplotlib](https://matplotlib.org/)\n",
    "> * [Style sheets reference](https://matplotlib.org/stable/gallery/style_sheets/style_sheets_reference.html)\n",
    "> * [Gallery](https://matplotlib.org/stable/gallery/index.html)\n",
    "> * [Gráficos com qualidade de publicação em Python com Matplotlib](https://www.fschuch.com/blog/2020/10/14/graficos-com-qualidade-de-publicacao-em-python-com-matplotlib/)"
   ]
  },
  {
   "cell_type": "markdown",
   "metadata": {},
   "source": [
    "#### Plotly"
   ]
  },
  {
   "cell_type": "markdown",
   "metadata": {},
   "source": [
    "A biblioteca de gráficos Python do Plotly cria **gráficos interativos** com qualidade de publicação. As possibilidades de como fazer gráficos são inumeras: de linha, gráficos de dispersão, gráficos de área, gráficos de barras, barras de erro, gráficos de caixa, histogramas, mapas de calor, subplots, eixos múltiplos, gráficos polares e gráficos de bolhas."
   ]
  },
  {
   "cell_type": "code",
   "execution_count": null,
   "metadata": {},
   "outputs": [],
   "source": [
    "import plotly.express as px\n",
    "import plotly.graph_objects as go"
   ]
  },
  {
   "cell_type": "code",
   "execution_count": null,
   "metadata": {},
   "outputs": [],
   "source": [
    "px.defaults.template = \"ggplot2\"\n",
    "px.defaults.height = 600"
   ]
  },
  {
   "cell_type": "code",
   "execution_count": null,
   "metadata": {},
   "outputs": [],
   "source": [
    "df = px.data.iris()\n",
    "fig = px.scatter(df, x=\"sepal_width\", y=\"sepal_length\", color=\"species\")\n",
    "fig.show()"
   ]
  },
  {
   "cell_type": "code",
   "execution_count": null,
   "metadata": {},
   "outputs": [],
   "source": [
    "fig = go.Figure(data =\n",
    "    go.Contour(\n",
    "        z=[[10, 10.625, 12.5, 15.625, 20],\n",
    "           [5.625, 6.25, 8.125, 11.25, 15.625],\n",
    "           [2.5, 3.125, 5., 8.125, 12.5],\n",
    "           [0.625, 1.25, 3.125, 6.25, 10.625],\n",
    "           [0, 0.625, 2.5, 5.625, 10]],\n",
    "        x=[-9, -6, -5 , -3, -1], # horizontal axis\n",
    "        y=[0, 1, 4, 5, 7] # vertical axis\n",
    "    ))\n",
    "fig.show()"
   ]
  },
  {
   "cell_type": "markdown",
   "metadata": {},
   "source": [
    "> Leitura recomendada:\n",
    "> * [Plotly](https://plotly.com/python/)\n",
    "> * [Plotly Express in Python](https://plotly.com/python/plotly-express/)\n",
    "> * [Dash App Gallery](https://dash-gallery.plotly.host/Portal/)"
   ]
  },
  {
   "cell_type": "markdown",
   "metadata": {},
   "source": [
    "#### Handcalcs\n",
    "\n",
    "Handcalcs é uma biblioteca para renderizar o código de cálculo Python automaticamente em $\\LaTeX$. Como o handcalcs mostra a substituição numérica, os cálculos se tornam significativamente mais fáceis de visualizar e verificar manualmente. A ferramenta é extremamente útil em vários contextos, mas pode-se destacar seu destaque na ramo do ensino, podendo ser empregada tanto por professores produzindo material didático, quanto por alunos preparando trabalhos e relatórios."
   ]
  },
  {
   "cell_type": "code",
   "execution_count": null,
   "metadata": {},
   "outputs": [],
   "source": [
    "import handcalcs.render"
   ]
  },
  {
   "cell_type": "markdown",
   "metadata": {},
   "source": [
    "Nós vamos ver a biblioteca na prática logo mais, caracterizada pelos blocos de código que começam com o comando mágico `%%render`:"
   ]
  },
  {
   "cell_type": "code",
   "execution_count": null,
   "metadata": {},
   "outputs": [],
   "source": [
    "%%render\n",
    "a = 2  # Eu sou um exemplo\n",
    "b = 3\n",
    "c = 2 * a + b / 3  # Olhe esse resultado!"
   ]
  },
  {
   "cell_type": "markdown",
   "metadata": {},
   "source": [
    "> Leitura complementar:\n",
    "> * [Veja no GitHub](www.github.com/connorferster/handcalcs)."
   ]
  },
  {
   "cell_type": "markdown",
   "metadata": {},
   "source": [
    "#### Pint\n",
    "\n",
    "Pint é um pacote Python para definir, operar e manipular quantidades físicas: o produto de um valor numérico e uma unidade de medida. Ele permite operações aritméticas entre eles e conversões de e para diferentes unidades."
   ]
  },
  {
   "cell_type": "code",
   "execution_count": null,
   "metadata": {},
   "outputs": [],
   "source": [
    "import pint"
   ]
  },
  {
   "cell_type": "code",
   "execution_count": null,
   "metadata": {},
   "outputs": [],
   "source": [
    "ureg = pint.UnitRegistry()"
   ]
  },
  {
   "cell_type": "markdown",
   "metadata": {},
   "source": [
    "Veja o exemplo com a combinação de diferentes unidades de medida:"
   ]
  },
  {
   "cell_type": "code",
   "execution_count": null,
   "metadata": {},
   "outputs": [],
   "source": [
    "distancia = 3 * ureg(\"meter\") + 4 * ureg(\"centimeter\")\n",
    "distancia"
   ]
  },
  {
   "cell_type": "markdown",
   "metadata": {},
   "source": [
    "Podemos agora converter essa distância facilmente para outras unidades:"
   ]
  },
  {
   "cell_type": "code",
   "execution_count": null,
   "metadata": {},
   "outputs": [],
   "source": [
    "distancia.to(\"inch\")"
   ]
  },
  {
   "cell_type": "markdown",
   "metadata": {},
   "source": [
    "Vamos para um exemplo mais aplicado, com as propriedados do material (prata):"
   ]
  },
  {
   "cell_type": "code",
   "execution_count": null,
   "metadata": {},
   "outputs": [],
   "source": [
    "%%render\n",
    "k = ( 429 * ureg(\"W/(m*K)\") ) # Condutividade térmica\n",
    "rho = ( 10.5e3 * ureg(\"kg/m**3\") )  # Massa específica\n",
    "c_p = ( 235 * ureg(\"J/(kg*K)\") ) # Calor específico"
   ]
  },
  {
   "cell_type": "markdown",
   "metadata": {},
   "source": [
    "Agora calculamos a difusividade térmica (perceba a combinação com o Handcalcs):"
   ]
  },
  {
   "cell_type": "code",
   "execution_count": null,
   "metadata": {},
   "outputs": [],
   "source": [
    "%%render\n",
    "alpha = k / (rho * c_p)  # Difusividade térmica"
   ]
  },
  {
   "cell_type": "markdown",
   "metadata": {},
   "source": [
    "Nem sempre a simplificação de unidades é automática, mas podemos acionar manualmente:"
   ]
  },
  {
   "cell_type": "code",
   "execution_count": null,
   "metadata": {},
   "outputs": [],
   "source": [
    "alpha.to_base_units()"
   ]
  },
  {
   "cell_type": "markdown",
   "metadata": {},
   "source": [
    "Note que o uso de unidades também é compatível com os arranjos numéricos do NumPy:"
   ]
  },
  {
   "cell_type": "code",
   "execution_count": null,
   "metadata": {},
   "outputs": [],
   "source": [
    "np.linspace(0, 10, num=11) * ureg(\"hour\")"
   ]
  },
  {
   "cell_type": "markdown",
   "metadata": {},
   "source": [
    "> Leitura recomendada:\n",
    "> * [Pint: makes units easy](https://pint.readthedocs.io/en/stable/)"
   ]
  },
  {
   "cell_type": "markdown",
   "metadata": {
    "colab_type": "text",
    "id": "7cXkW1EyOei7",
    "toc-hr-collapsed": false
   },
   "source": [
    "## Exercícios Resolvidos"
   ]
  },
  {
   "cell_type": "markdown",
   "metadata": {
    "colab_type": "text",
    "id": "2blbUt27OejJ"
   },
   "source": [
    "### Transferência de Calor"
   ]
  },
  {
   "cell_type": "markdown",
   "metadata": {
    "colab_type": "text",
    "id": "gjvGWTV5UZF2"
   },
   "source": [
    "#### Radiação e convecção combinadas em transferência de calor permanente unidirecional"
   ]
  },
  {
   "cell_type": "markdown",
   "metadata": {
    "colab_type": "text",
    "id": "vh0K2yb2OejK"
   },
   "source": [
    "A superfície interior de uma parede de espessura $L=0,25m$ é mantida a $21^oC$, enquanto a temperatura no meio externo é $T_\\infty = 4^oC$. Considere que há troca de calor com a vizinhança $T_{viz} = 250 K$, o coeficiente de convecção é $h=23W/m^2\\cdot ^oC$, a condutividade térmica do material que compõe a parede é $k=0,65 W/m \\cdot ^oC$, a emissividade da superfície externa vale $\\epsilon = 0,8$ e a constante de Stefan-Boltzmann $\\sigma = 5,67 \\times 10^{-8} [W/m^2 \\cdot K^4]$. Determine a temperatura externa da parede $T_2$.\n",
    "\n",
    "<img src=\"https://github.com/fschuch/Python-Transferencia-de-Calor/blob/master/radiacao.png?raw=1\">\n",
    "\n",
    "\\begin{equation}\n",
    "    k \\left( \\dfrac{T_1-T_2}{L} \\right) = \\epsilon \\sigma \\left( T_2^4 - T_{viz}^4 \\right) + h \\left( T_2 - T_\\infty \\right)\n",
    "\\end{equation}"
   ]
  },
  {
   "cell_type": "markdown",
   "metadata": {},
   "source": [
    "* **Resolução**:"
   ]
  },
  {
   "cell_type": "markdown",
   "metadata": {},
   "source": [
    "Como primeiro passo para resolver o problema proposto, vamos atribuir todos os parâmetros do problema:"
   ]
  },
  {
   "cell_type": "code",
   "execution_count": null,
   "metadata": {},
   "outputs": [],
   "source": [
    "%%render\n",
    "\n",
    "L = ( 0.25 * ureg(\"meter\") ) # Espessura da parede\n",
    "T_1 = ( ureg.Quantity(21.0, ureg.degC).to(\"K\") ) # Temperatura parede interior\n",
    "T_inf = ( ureg.Quantity(4.0, ureg.degC).to(\"K\") ) # Temperatura no meio externo\n",
    "T_viz = ( 250.0 * ureg(\"K\") ) # Temperatura da vizinhança\n",
    "h = ( 23.0 * ureg(\"W/(m**2*K)\") ) # Coeficiente de convecção\n",
    "k = ( 0.65 * ureg(\"W/(m*K)\") ) # Condutividade térmica do material da parede\n",
    "epsilon = ( 0.8 ) # Emissividade da superfície externa\n",
    "sigma = ( 5.68e-8 * ureg(\"W/(m**2*K**4)\") ) # Constante de Stefan-Boltzmann"
   ]
  },
  {
   "cell_type": "markdown",
   "metadata": {},
   "source": [
    "No segundo passo, reescrevemos a equação do problema deixando o lado esquerdo zerado, para que possamos programar e obter o resultado numérico para o lado direito:\n",
    "\n",
    "\\begin{equation}\n",
    "    0 = \\epsilon \\sigma \\left( T_2^4 - T_{viz}^4 \\right) + h \\left( T_2 - T_\\infty \\right) - k \\left( \\dfrac{T_1-T_2}{L} \\right) = f(T_2)\n",
    "\\end{equation}"
   ]
  },
  {
   "cell_type": "code",
   "execution_count": null,
   "metadata": {},
   "outputs": [],
   "source": [
    "def equação_exemplo_1(T_2: float) -> float:\n",
    "    T_2 *= ureg(\"K\")\n",
    "    \n",
    "    return (\n",
    "        epsilon * sigma * (T_2 ** 4.0 - T_viz ** 4.0)\n",
    "        + h * (T_2 - T_inf)\n",
    "        - k * (T_1 - T_2) / L\n",
    "    )"
   ]
  },
  {
   "cell_type": "markdown",
   "metadata": {},
   "source": [
    "Temos um caso de \"atingir a meta\", qual o valor de $T_2$ que zera a nossa função?\n",
    "\n",
    "O que fazemos agora é resolver esse problema numericamente, de maneira interativa. Podemos fazer suposições sobre o valor de $T_2$ até satisfazer a equação, ou seja, o retorno da função acima deve ser próximo de zero.\n",
    "\n",
    "Fisicamente, faz sentido que $T_{viz} < T_2 < T_1$, então vamos começar com esses palpites iniciais:"
   ]
  },
  {
   "cell_type": "code",
   "execution_count": null,
   "metadata": {},
   "outputs": [],
   "source": [
    "equação_exemplo_1(T_2 = 300.0)"
   ]
  },
  {
   "cell_type": "code",
   "execution_count": null,
   "metadata": {},
   "outputs": [],
   "source": [
    "equação_exemplo_1(T_2 = 250.0)"
   ]
  },
  {
   "cell_type": "markdown",
   "metadata": {},
   "source": [
    "Ambos valores com sinais opostos nos são um grande indicativo, pois existe de fato uma raiz da função nesse intervalo!\n",
    "\n",
    "Podemos ir fazendo novos palpites em intervalos cada vez menores, até encontrar a raiz da função. Nosso próximo passo seria:"
   ]
  },
  {
   "cell_type": "code",
   "execution_count": null,
   "metadata": {},
   "outputs": [],
   "source": [
    "equação_exemplo_1(T_2 = 275.0)"
   ]
  },
  {
   "cell_type": "markdown",
   "metadata": {},
   "source": [
    "Vamos esclarecer isso com a representação gráfica:"
   ]
  },
  {
   "cell_type": "code",
   "execution_count": null,
   "metadata": {},
   "outputs": [],
   "source": [
    "T_2 = np.linspace(start = 250.0, stop = 300.0, num = 201)\n",
    "\n",
    "resultados_T_2 = equação_exemplo_1(T_2)\n",
    "\n",
    "fig = px.line(x=T_2, y=resultados_T_2, labels = {\"x\": fr\"$T_2 [K]$\", \"y\": fr\"$f(T_2) [W/m^2]$\"})\n",
    "fig.show()"
   ]
  },
  {
   "cell_type": "markdown",
   "metadata": {},
   "source": [
    "Mas observe que Python conta com um leque enorme de ferramentas à nossa disposição, de modo que não precisamos programar todo esse processo, podemos por exemplo usar a função [`fsolve`](https://docs.scipy.org/doc/scipy/reference/generated/scipy.optimize.fsolve.html) do pacote SciPy (lembre-se a acessar a documentação com `sp.optimize.fsolve?` se você precisar de ajuda.\n",
    "\n",
    "Veja o código:"
   ]
  },
  {
   "cell_type": "code",
   "execution_count": null,
   "metadata": {},
   "outputs": [],
   "source": [
    "T_2 = sp.optimize.fsolve(equação_exemplo_1, x0 = T_1) * ureg(\"K\")\n",
    "T_2"
   ]
  },
  {
   "cell_type": "markdown",
   "metadata": {},
   "source": [
    "* **Resposta:**\n",
    "\n",
    "A aproveitando as facilidades para o gerenciamento de unidades, vamos converter o resultado para graus Celsius:"
   ]
  },
  {
   "cell_type": "code",
   "execution_count": null,
   "metadata": {},
   "outputs": [],
   "source": [
    "T_2.to(\"degC\")"
   ]
  },
  {
   "cell_type": "markdown",
   "metadata": {
    "colab_type": "text",
    "id": "TgCiNuiIUqmT"
   },
   "source": [
    "#### Condução de calor transiente bidimensional"
   ]
  },
  {
   "cell_type": "markdown",
   "metadata": {
    "colab_type": "text",
    "id": "ipFQNb0JOejO"
   },
   "source": [
    "Uma placa de cobre de $50cm \\times 50cm$ inicialmente possui temperatura em toda a sua extensão igual a $0^oC$. Instantaneamente, suas bordas são levadas às temperaturas de $60^oC$ em $x=0$; $20^oC$ em $x=50cm$; $0^oC$ em $y=0$ e $100^oC$ em $y=50$. A difusividade térmica do cobre é $1,1532cm^2/s$. Considerando um $\\Delta t = 4s$, $\\Delta x = \\Delta y = 5cm$, calcule a evolução da temperatura para a posição central da placa até o tempo de $400s$.\n",
    "    Equação bidimensional:\n",
    "\\begin{equation}\n",
    "\\alpha \\left( \\dfrac{\\partial ^2 T}{\\partial x^2} + \\dfrac{\\partial ^2 T}{\\partial y^2} \\right) =\\dfrac{\\partial T}{\\partial t}, \\quad 0 \\le x \\le L_x, \\quad 0 \\le y \\le L_y, \\quad t \\ge 0,\n",
    "\\end{equation}\n",
    "\n",
    "\\begin{equation}\n",
    "T(x=0,y) = T_a,\n",
    "\\end{equation}\n",
    "\\begin{equation}\n",
    "T(x=L_x,y) = T_b,\n",
    "\\end{equation}\n",
    "\\begin{equation}\n",
    "T(x,y=0) = T_c,\n",
    "\\end{equation}\n",
    "\\begin{equation}\n",
    "T(x,y=Ly) = T_d,\n",
    "\\end{equation}\n",
    "\\begin{equation}\n",
    "T(x,y) = T_i, \\quad para \\quad t=0.\n",
    "\\end{equation}"
   ]
  },
  {
   "cell_type": "markdown",
   "metadata": {
    "colab_type": "text",
    "id": "ipFQNb0JOejO"
   },
   "source": [
    "Lembre-se que o critério de estabilidade numérica do problema é:\n",
    "\\begin{equation}\n",
    "\\Delta t \\le \\dfrac{\\Delta x^2}{4 \\alpha}.\n",
    "\\end{equation}"
   ]
  },
  {
   "cell_type": "markdown",
   "metadata": {
    "colab_type": "text",
    "id": "ipFQNb0JOejO"
   },
   "source": [
    "Discretizando com a derivada segunda numa representação por diferença central e a derivada primeira com diferença ascendente:\n",
    "\n",
    "\\begin{equation}\n",
    "\\dfrac{T^{n+1}_{i,j}-T^{n}_{i,j}}{\\Delta t}=\\alpha \\left[ \\dfrac{T^{n}_{i-1,j}-2T^{n}_{i,j}+T^{n}_{i+1,j}}{(\\Delta x)^2} +\\dfrac{T^{n}_{i,j-1}-2T^{n}_{i,j}+T^{n}_{i,j+1}}{(\\Delta y)^2}  \\right], \\quad 1 \\le i \\le I - 2, \\quad 1 \\le j \\le J - 2, \\quad n > 0,\n",
    "\\end{equation}"
   ]
  },
  {
   "cell_type": "markdown",
   "metadata": {},
   "source": [
    "Agora devemos isolar a incógnita do nosso problema: o termo $T_{i,j}^{n+1}$. Perceba que todos os termos à direita são conhecidos, e usamos essa informação para avançar progressivamente no tempo:"
   ]
  },
  {
   "cell_type": "markdown",
   "metadata": {},
   "source": [
    "\\begin{equation}\n",
    "T^{n+1}_{i,j} = T^{n}_{i,j} + \\alpha \\Delta t \\left[ \\dfrac{T^{n}_{i-1,j}-2T^{n}_{i,j}+T^{n}_{i+1,j}}{(\\Delta x)^2} +\\dfrac{T^{n}_{i,j-1}-2T^{n}_{i,j}+T^{n}_{i,j+1}}{(\\Delta y)^2}  \\right], \\quad 1 \\le i \\le I - 2, \\quad 1 \\le j \\le J - 2, \\quad n \\ge 0.\n",
    "\\end{equation}\n",
    "\n",
    "Veja como ficou o código:"
   ]
  },
  {
   "cell_type": "code",
   "execution_count": null,
   "metadata": {},
   "outputs": [],
   "source": [
    "def equação_exemplo_2(x, y, t, alpha, T_a, T_b, T_c, T_d, T_i):\n",
    "    # Condição inicial\n",
    "    T = T_i * np.ones((x.size, y.size, t.size), order=\"F\")\n",
    "\n",
    "    # Condições de contorno\n",
    "    T[0, :, :], T[-1, :, :], T[:, 0, :], T[:, -1, :] = T_a, T_b, T_c, T_d\n",
    "    \n",
    "    # Passo de tempo e resolução da malha ao quadrado\n",
    "    dt, dx2, dy2 = t[1] - t[0], (x[1] - x[0]) ** 2.0, (y[1] - y[0]) ** 2.0\n",
    "\n",
    "    # Estabilidade numérica\n",
    "    print(f\"dt = {dt}; dx2/(4*alpha) = {dx2/(4.*alpha)}\")\n",
    "\n",
    "    # Aqui resolve-se a equação\n",
    "    for n in tqdm(range(0, t.size - 1)):\n",
    "        for i in range(1, x.size - 1):\n",
    "            for j in range(1, y.size - 1):\n",
    "                \n",
    "                T[i, j, n + 1] = T[i, j, n] + alpha * dt * (\n",
    "                    (T[i-1, j, n] - 2 * T[i, j, n] + T[i+1, j, n]) / dx2\n",
    "                    + (T[i, j-1, n] - 2 * T[i, j, n] + T[i, j+1, n]) / dy2\n",
    "                )\n",
    "    \n",
    "    return T"
   ]
  },
  {
   "cell_type": "markdown",
   "metadata": {},
   "source": [
    "Finalmente, podemos resolver o problema e graficar a solução:"
   ]
  },
  {
   "cell_type": "code",
   "execution_count": null,
   "metadata": {},
   "outputs": [],
   "source": [
    "x = np.linspace(start=0.0, stop=50.0, num=11) * ureg.cm\n",
    "y = np.linspace(start=0.0, stop=50.0, num=11) * ureg.cm\n",
    "t = np.linspace(start=0.0, stop=400.0, num=101) * ureg.seconds\n",
    "\n",
    "T = equação_exemplo_2(\n",
    "    x,\n",
    "    y,\n",
    "    t,\n",
    "    alpha = 1.1532 * ureg(\"cm**2/s\"),\n",
    "    T_a = ureg.Quantity(60.0, ureg.degC).to(\"K\"),\n",
    "    T_b = ureg.Quantity(20.0, ureg.degC).to(\"K\"),\n",
    "    T_c = ureg.Quantity(0.0, ureg.degC).to(\"K\"),\n",
    "    T_d = ureg.Quantity(100.0, ureg.degC).to(\"K\"),\n",
    "    T_i = ureg.Quantity(0.0, ureg.degC).to(\"K\")\n",
    ").to(\"degC\")"
   ]
  },
  {
   "cell_type": "code",
   "execution_count": null,
   "metadata": {},
   "outputs": [],
   "source": [
    "fig = px.imshow(\n",
    "    T,\n",
    "    animation_frame=-1,\n",
    "    x=x,\n",
    "    y=y[::-1],\n",
    "    color_continuous_scale='RdBu_r',\n",
    "    title=f\"Temperatura - {T.units}\",\n",
    "    labels=dict(x=f\"x - {x.units}\", y=f\"y - {x.units}\", animation_frame=\"snapshot\"),\n",
    "    origin = \"lower\"\n",
    ")\n",
    "fig.show()"
   ]
  },
  {
   "cell_type": "code",
   "execution_count": null,
   "metadata": {},
   "outputs": [],
   "source": [
    "fig = px.line(\n",
    "    x = t,\n",
    "    y = T[T.shape[0]//2,T.shape[1]//2,:],\n",
    "    title=f\"Temperatura no centro da placa\",\n",
    "    labels=dict(x=f\"tempo - {t.units}\", y=f\"T - {T.units}\")\n",
    ")\n",
    "fig.show()"
   ]
  },
  {
   "cell_type": "markdown",
   "metadata": {
    "colab_type": "text",
    "id": "xyxDPtUuU-Ij"
   },
   "source": [
    "#### Condução permanente com geração de calor"
   ]
  },
  {
   "cell_type": "markdown",
   "metadata": {
    "colab_type": "text",
    "id": "szp6sq5TOeji"
   },
   "source": [
    "Considere uma placa de urânio de espessura $L = 4cm$ e condutividade térmica $k = 28 W/m \\cdot K$ em que o calor é gerado uniformemente a uma taxa constante de $\\dot{e} = 5 \\times 10^6 W/m^3$. Um dos lados da placa é mantido a $0^oC$ com água gelada, enquanto o outro lado está sujeito à convecção para o ambiente a $T_\\infty = 30^oC$, com o coeficiente de transferência de calor $h=45 W/m^2 \\cdot K$. Considerando o total de três pontos igualmente espaçados no meio, dois nos contornos e um no centro, estime a temperatura da superfície exposta da placa sob condições permanentes usando a abordagem de diferenças finitas."
   ]
  },
  {
   "cell_type": "markdown",
   "metadata": {
    "colab_type": "text",
    "id": "u6SHfFWCOejk"
   },
   "source": [
    "<img src=\"https://github.com/fschuch/Python-Transferencia-de-Calor/blob/master/uranio.png?raw=1\">\n",
    "\n",
    "Escrevendo a equações para cada nó:\n",
    "\\begin{equation}\n",
    "T_0 = 0 \\\\\n",
    "\\dfrac{T_0 - 2 T_1 + T_2}{\\Delta x^2} + \\dfrac{\\dot{e}_1}{k} = 0 \\\\\n",
    "h(T_\\infty - T_2) + k\\dfrac{T_1 - T_2}{\\Delta x} + \\dot{e}(\\Delta x/2) = 0\n",
    "\\end{equation}"
   ]
  },
  {
   "cell_type": "markdown",
   "metadata": {
    "colab_type": "text",
    "id": "KhYJ1uHzOejl"
   },
   "source": [
    "O problema pode ser reescrito na forma matricial como:\n",
    "\\begin{equation}\n",
    "\\begin{split}\n",
    "\\underbrace{\n",
    "\\begin{bmatrix}\n",
    "1 & 0 & 0 \\\\\n",
    "1/\\Delta x^2 & -2/\\Delta x^2 & 1/\\Delta x^2 \\\\\n",
    "0 & k/\\Delta x & -h-k/\\Delta x\n",
    "\\end{bmatrix}\n",
    "}_{A}\n",
    "\\begin{bmatrix}\n",
    "T_{0} \\\\ T_{1} \\\\ T_{2}\n",
    "\\end{bmatrix}\n",
    "=\n",
    "\\underbrace{\n",
    "\\begin{bmatrix} 0 \\\\ -\\dot{e}/k \\\\ -\\dot{e}\\Delta x/2 -hT_\\infty \\end{bmatrix}\n",
    "}_{B}\n",
    "\\end{split}\n",
    "\\end{equation}"
   ]
  },
  {
   "cell_type": "code",
   "execution_count": null,
   "metadata": {
    "colab": {},
    "colab_type": "code",
    "id": "wxCgUN7oOejl"
   },
   "outputs": [],
   "source": [
    "def equação_exemplo_2(L, k, eg, T_inf, h):\n",
    "\n",
    "    x = np.linspace(0.0, L, num=3, endpoint=True)\n",
    "    dx = x[1] - x[0]\n",
    "\n",
    "    A = np.array(\n",
    "        [\n",
    "            [1.0, 0.0, 0.0],\n",
    "            [1.0 / dx ** 2.0, -2.0 / dx ** 2.0, 1.0 / dx ** 2.0],\n",
    "            [0.0, k / dx, -h - k / dx],\n",
    "        ]\n",
    "    )\n",
    "    B = np.array([0.0, -eg / k, -eg * (dx / 2.0) - h * T_inf])\n",
    "\n",
    "    # Solver de álgebra linear do pacote numpy\n",
    "    T = np.linalg.solve(A, B)\n",
    "    \n",
    "    return T"
   ]
  },
  {
   "cell_type": "code",
   "execution_count": null,
   "metadata": {},
   "outputs": [],
   "source": [
    "L = 0.04  # Espessura da placa\n",
    "k = 28.0 # Condutividade térmica do material\n",
    "eg = 5.0e6 # Taxa de geração de calor\n",
    "T_inf = 30.0  # Temperatura do ambiente\n",
    "h = 45.0 # Coeficiente de transferência de calor por convecção\n",
    "\n",
    "T = equação_exemplo_2(L, k, eg, T_inf, h)"
   ]
  },
  {
   "cell_type": "code",
   "execution_count": null,
   "metadata": {
    "colab": {},
    "colab_type": "code",
    "id": "Zf_PuRYkOejn"
   },
   "outputs": [],
   "source": [
    "# Escrevendo o resultado na tela\n",
    "for i, t in enumerate(T):\n",
    "    print(f\"T{i} = {t:5.2f}\")"
   ]
  },
  {
   "cell_type": "markdown",
   "metadata": {
    "colab_type": "text",
    "id": "S6C8rEVDOejp"
   },
   "source": [
    "Esse problema pode também ser resolvido analiticamente como:\n",
    "\\begin{equation}\n",
    "    T(x) = \\dfrac{0,5 \\dot{e}hL^2/k + \\dot{e}L + T_\\infty h}{hL + k}x - \\dfrac{\\dot{e}x^2}{2k}\n",
    "\\end{equation}"
   ]
  },
  {
   "cell_type": "code",
   "execution_count": null,
   "metadata": {
    "colab": {},
    "colab_type": "code",
    "id": "rz0IzBQuOejq"
   },
   "outputs": [],
   "source": [
    "def T_exata(x):\n",
    "    return (\n",
    "        x * (0.5 * eg * h * L ** 2.0 / k + eg * L + T_inf * h) / (h * L + k)\n",
    "        - 0.5 * eg * x ** 2.0 / k\n",
    "    )"
   ]
  },
  {
   "cell_type": "markdown",
   "metadata": {
    "colab_type": "text",
    "id": "FxBnYCDWOejs"
   },
   "source": [
    "O sistema matricial pode ser escrito de maneira genérica para uma decomposição em $n$ pontos, como:\n",
    "\\begin{equation}\n",
    "\\begin{split}\n",
    "\\begin{bmatrix}\n",
    "1 & 0 & 0 \\\\\n",
    "& \\ddots & \\ddots & \\ddots \\\\\n",
    "& & 1/\\Delta x^2 & -2/\\Delta x^2 & 1/\\Delta x^2 \\\\\n",
    "& & & \\ddots & \\ddots & \\ddots \\\\\n",
    "& & & 0 & k/\\Delta x & -h-k/\\Delta x\n",
    "\\end{bmatrix}\n",
    "\\begin{bmatrix}\n",
    "T_{0} \\\\ \\vdots \\\\ T_{i} \\\\ \\vdots \\\\ T_{n}\n",
    "\\end{bmatrix}\n",
    "=\n",
    "\\begin{bmatrix} 0 \\\\ \\vdots \\\\ -\\dot{e}_i/k \\\\ \\vdots \\\\ -\\dot{e}_n\\Delta x/2 -hT_\\infty \\end{bmatrix}\n",
    "\\\\\n",
    "\\mbox{com $1\\leq i \\leq n - 2$,}\n",
    "\\end{split}\n",
    "\\end{equation}"
   ]
  },
  {
   "cell_type": "markdown",
   "metadata": {},
   "source": [
    "Vamos programar a solução acima de maneira genérica, agora em função do número de pontos `n`, seja só:"
   ]
  },
  {
   "cell_type": "code",
   "execution_count": null,
   "metadata": {},
   "outputs": [],
   "source": [
    "def equação_exemplo_3(L, k, eg, T_inf, h, n):\n",
    "\n",
    "    x = np.linspace(0.0, L, num=n, endpoint=True)\n",
    "    dx = x[1] - x[0]\n",
    "\n",
    "    A = np.zeros((n,n), dtype=np.float64)\n",
    "    \n",
    "    A[0,0] = 1.0\n",
    "    \n",
    "    for i in range(1, x.size - 1):\n",
    "        A[i,i-1] = 1.0 / dx ** 2.0\n",
    "        A[i,i] = - 2.0 / dx ** 2.0\n",
    "        A[i,i+1] = 1.0 / dx ** 2.0\n",
    "        \n",
    "    A[-1, -2], A[-1, -1] = k / dx, -h - k / dx\n",
    "\n",
    "    B = np.ones((n), dtype=np.float64) * (-eg / k)\n",
    "    \n",
    "    B[0] = 0.0\n",
    "    B[-1] = -eg * (dx / 2.0) - h * T_inf\n",
    "\n",
    "    # Solver de álgebra linear do pacote numpy\n",
    "    T = np.linalg.solve(A, B)\n",
    "    \n",
    "    return x, T"
   ]
  },
  {
   "cell_type": "markdown",
   "metadata": {},
   "source": [
    "Agora vamos testar a convergência da solução, para três valores de n:"
   ]
  },
  {
   "cell_type": "code",
   "execution_count": null,
   "metadata": {},
   "outputs": [],
   "source": [
    "fig = go.Figure()\n",
    "\n",
    "# Solução exata\n",
    "x_exato = np.linspace(0., L, num=101)\n",
    "fig.add_trace(\n",
    "    go.Scatter(\n",
    "        x=x_exato, y=T_exata(x_exato),\n",
    "        mode='lines',\n",
    "        name='Analítica'\n",
    "    )\n",
    ")\n",
    "\n",
    "for n in [3, 5, 10]:\n",
    "    x, T = equação_exemplo_3(L, k, eg, T_inf, h, n)\n",
    "\n",
    "    fig.add_trace(\n",
    "        go.Scatter(\n",
    "            x=x, y=T,\n",
    "            mode='lines+markers',\n",
    "            name=f'n={n}'\n",
    "        )\n",
    "    )  \n",
    "\n",
    "fig.show()"
   ]
  },
  {
   "cell_type": "markdown",
   "metadata": {
    "colab_type": "text",
    "id": "_wrHfnSMVLHp"
   },
   "source": [
    "#### Armazenamento de energia solar em paredes de Trombe"
   ]
  },
  {
   "cell_type": "markdown",
   "metadata": {
    "colab_type": "text",
    "id": "hW_w1eNfOejw"
   },
   "source": [
    "As paredes de alvenaria pintadas de cor escura, chamadas paredes de Trombe, são comumente usadas do lado sul das casas com energia solar passiva para absorver energia solar, armazenálas durante o dia e liberá-la para a casa durante a noite (mais informações [aqui](https://en.wikipedia.org/wiki/Trombe_wall)). Normalmente uma camada única ou dupla de vidro é colocada fora da parede e transmite a maior parte da energia solar, bloqueando as perdas de calor da superfície exposta da parede externa. Além disso, saídas de ar são comumente instaladas nas partes inferior e superior entre a parede de Trombe e os vidros. Em sua passagem, o ar tem a temperatura elevada e entra na sala através da abertura no lado superior da parece.\n",
    "\n",
    "<img src=\"https://github.com/fschuch/Python-Transferencia-de-Calor/blob/master/casa_1.png?raw=1\" width=\"300\">\n",
    "\n",
    "Considere uma parede Trombe com $30cm$ de espessura, condutividade térmica de $k=0,69W/m\\cdot K$ e difusividade térmica $\\alpha = 4,44 \\times 10^-7 m^2/s$. A variação de temperatura ambiente $T_{sai}$ e do fluxo de calor solar $\\dot{q}_{solar}$ inidente sobre a face vertical da superfície virada ao Sul ao longo de um dia típico de janeiro é dada por\n",
    "\n",
    "|Período do dia| Temperatura ambiente, $^oC$|Radiação solar, $W/m^2$|\n",
    "|--|--|--|\n",
    "|7h-10h|0,6|360|\n",
    "|10h-13|6,1|763|\n",
    "|13h-16h|7,2|562|\n",
    "|16h-19h|2,8|0|\n",
    "|19h-22h|0|0|\n",
    "|22h-1h|-2,8|0|\n",
    "|1h-4h|-3,3|0|\n",
    "|4h-7h|-3,9|0|\n",
    "\n",
    "A parede de Trombe tem vidro simples com um produto de absortividade e transmissividade de $ \\kappa = 0,77$ (ou seja, 77% da energia solar incidente é absorvida pela superfície exposta da parede de Trombe), e o coeficiente médio de transferência de calor combinada para perda de calor da parede de Trombe no ambiente é determinada a $h_{sai} = 4 W/m^2 \\cdot C$. O interior da casa é mantido a $T_{ent} = 21 ^oC$ todo o tempo, e o coeficiente de transferência de calor na superfície interna da parede de Trombe é $h_{ent} = 10 W/m^2 \\cdot ^oC$. Além disso, as aberturas na parede são mantidas fechadas, portanto a transferência de calor entre o ar da casa e a parede de Trombe ocorre apenas através da superfície interior da parede. Pressupondo que a temperatura da parede de Trombe varie linearmente entre $21 ^oC$ na superfície interna e $-1 ^oC$ na superfície externa às 7 h da manhã e usando o método explícito das diferenças finitas com espaçamento nodal uniforme de $\\Delta x = 6 cm$, determine a distribuição de temperatura ao longo da espessura da parede de Trombe após 12, 24, 36 e 48 h. Além disso, determine a quantidade líquida de calor transferido da parede de Trombe para a casa durante o primeiro e o segundo dia. Considere que a parede tem $3m$ de altura e $7,5m$ de comprimento e utilize um passo de tempo de $\\Delta t = 15min$. "
   ]
  },
  {
   "cell_type": "code",
   "execution_count": null,
   "metadata": {
    "colab": {},
    "colab_type": "code",
    "id": "-YznZc4XOejy"
   },
   "outputs": [],
   "source": [
    "table = pd.DataFrame(\n",
    "    {\n",
    "        \"ti\": [7.0, 10.0, 13.0, 16.0, 19.0, 22.0, 1.0, 4.0],\n",
    "        \"tf\": [10.0, 13.0, 16.0, 19.0, 22.0, 1.0, 4.0, 7.0],\n",
    "        \"Tsai\": [0.6, 6.1, 7.2, 2.8, 0.0, -2.8, -3.3, -3.9],\n",
    "        \"qsol\": [360.0, 763.0, 562.0, 0.0, 0.0, 0.0, 0.0, 0.0],\n",
    "    }\n",
    ")"
   ]
  },
  {
   "cell_type": "markdown",
   "metadata": {
    "colab_type": "text",
    "id": "jyTyeMw5Oej0"
   },
   "source": [
    "<img src=\"https://github.com/fschuch/Python-Transferencia-de-Calor/blob/master/casa_0.png?raw=1\" width=\"300\">\n",
    "\n",
    "Escrevendo a equações para cada nó:\n",
    "\\begin{equation}\n",
    "T_0^{j+1} = \\left( 1 - 2\\tau -2 \\tau \\dfrac{h_{ent}\\Delta x}{k} \\right) T_0^{j} + 2\\tau T_1^{j} + 2\\tau \\dfrac{h_{ent}\\Delta x}{k} T_{ent} \\\\\n",
    "T_i^{j+1} = \\tau (T_{i-1}^j + T_{i+1}^j) + (1-2\\tau)T_{i}^j\\\\\n",
    "T_n^{j+1} = \\left( 1 - 2\\tau -2 \\tau \\dfrac{h_{sai}\\Delta x}{k} \\right) T_n^{j} + 2\\tau T_{n-1}^{j} + 2\\tau \\dfrac{h_{sai}\\Delta x}{k} T_{sai}^j + 2\\tau \\dfrac{\\kappa \\dot{q}_{solar}^j \\Delta x}{k}\n",
    "\\end{equation}\n",
    "onde\n",
    "\n",
    "\\begin{equation}\n",
    "\\tau = \\dfrac{\\alpha \\Delta t}{\\Delta x^2}\n",
    "\\end{equation}"
   ]
  },
  {
   "cell_type": "markdown",
   "metadata": {
    "colab_type": "text",
    "id": "tQ65oNRPOej0"
   },
   "source": [
    "O problema pode ser reescrito na forma matricial como:\n",
    "\\begin{equation}\n",
    "\\begin{split}\n",
    "\\begin{bmatrix}\n",
    "T_{0}^{j+1} \\\\ \\vdots \\\\ T_{i}^{j+1} \\\\ \\vdots \\\\ T_{n-1}^{j+1}\n",
    "\\end{bmatrix}\n",
    "=\n",
    "\\underbrace{\n",
    "\\begin{bmatrix}\n",
    "1 - 2\\tau -2 \\tau \\dfrac{h_{ent}\\Delta x}{k} & 2\\tau & 0 \\\\\n",
    "\\ddots & \\ddots & \\ddots \\\\\n",
    "\\tau & 1-2\\tau & \\tau \\\\\n",
    "\\ddots & \\ddots & \\ddots \\\\\n",
    "0 & 2\\tau & 1 - 2\\tau -2 \\tau \\dfrac{h_{sai}\\Delta x}{k}\n",
    "\\end{bmatrix}\n",
    "}_{A}\n",
    "\\begin{bmatrix}\n",
    "T_{0}^j \\\\ \\vdots \\\\ T_{i}^j \\\\ \\vdots \\\\ T_{n-1}^j\n",
    "\\end{bmatrix}\n",
    "+\n",
    "\\underbrace{\n",
    "\\begin{bmatrix} -2\\tau \\dfrac{h_{ent}\\Delta x}{k} T_{ent} \\\\ \\vdots \\\\ 0 \\\\ \\vdots \\\\ - 2\\tau \\dfrac{h_{sai}\\Delta x}{k} T_{sai}^j - 2\\tau \\dfrac{\\kappa \\dot{q}_{solar}^j \\Delta x}{k} \\end{bmatrix}\n",
    "}_{B}\n",
    "\\\\\n",
    "\\mbox{com $1 \\leq i \\leq n - 2$,}\n",
    "\\end{split}\n",
    "\\end{equation}"
   ]
  },
  {
   "cell_type": "markdown",
   "metadata": {
    "colab_type": "text",
    "id": "B30ybBjpOej1"
   },
   "source": [
    "O critério de estabilidade para esse problema é dado por:\n",
    "\\begin{equation}\n",
    "\\Delta t \\le \\dfrac{\\Delta x^2}{3,74 \\alpha} = 36,13min\n",
    "\\end{equation}"
   ]
  },
  {
   "cell_type": "code",
   "execution_count": null,
   "metadata": {},
   "outputs": [],
   "source": [
    "def equação_exemplo_4(L, dx, dth, k, alpha, kappa, hsai, Tent, hent, table):\n",
    "\n",
    "    x = np.arange(0, L + dx, dx)\n",
    "    time = np.arange(0.0, 48.0 + dth, dth)\n",
    "\n",
    "    T = np.zeros((x.size, time.size))\n",
    "    \n",
    "    # convertendo para segundos\n",
    "    dt = dth * 3600.0\n",
    "    \n",
    "    tau = alpha * dt / dx ** 2.0\n",
    "    \n",
    "    # Condição Inicial\n",
    "    T[:, 0] = 21.0 - (22.0 / L) * x\n",
    "    time += 7.0\n",
    "    \n",
    "    # Construção dos Operadores\n",
    "    A = np.zeros((x.size,x.size))\n",
    "    \n",
    "    for i in range(1, x.size - 1):\n",
    "        A[i,i-1] = tau\n",
    "        A[i,i] = 1.0 - 2.0 * tau\n",
    "        A[i,i+1] = tau\n",
    "    \n",
    "    B = np.zeros_like(x)\n",
    "\n",
    "    # Laço de avanço temporal\n",
    "    for j in tqdm(range(time.size - 1)):\n",
    "        #\n",
    "        # Obter os valores do contorno à partir da tabela\n",
    "        #\n",
    "        index = int((time[j] - 7.0) % 24.0 // 3)\n",
    "        Tsai = table.loc[index].Tsai\n",
    "        qsol = table.loc[index].qsol\n",
    "        #\n",
    "        # Condição de contorno em x=0\n",
    "        #\n",
    "        A[0, 0] = 1.0 - 2 * tau - 2.0 * tau * hent * dx / k\n",
    "        A[0, 1] = 2.0 * tau\n",
    "        A[0, 2] = 0.0\n",
    "        B[0] = 2.0 * tau * hent * dx * Tent / k\n",
    "        #\n",
    "        # Condição de contorno em x=L\n",
    "        #\n",
    "        A[-1, -3] = 0.0\n",
    "        A[-1, -2] = 2.0 * tau\n",
    "        A[-1, -1] = 1.0 + -2.0 * tau - 2.0 * tau * hsai * dx / k\n",
    "        B[-1] = 2.0 * tau * hsai * dx * Tsai / k + 2 * tau * kappa * qsol * dx / k\n",
    "        #\n",
    "        T[:, j + 1] = A.dot(T[:, j]) + B\n",
    "    \n",
    "    return x, time, T"
   ]
  },
  {
   "cell_type": "code",
   "execution_count": null,
   "metadata": {},
   "outputs": [],
   "source": [
    "x, time, T = equação_exemplo_4(\n",
    "    L = 0.3,  # m\n",
    "    dx = 0.06,  # m\n",
    "    dth = 0.25,  # h\n",
    "    k = 0.69,  # W/mK\n",
    "    alpha = 4.44e-7,  # m^2/s\n",
    "    kappa = 0.77,\n",
    "    hsai = 4,  # W/m^2K\n",
    "    Tent = 21.0,  # graus C\n",
    "    hent = 10,  # W/m^2K\n",
    "    table = table\n",
    ")"
   ]
  },
  {
   "cell_type": "markdown",
   "metadata": {
    "colab_type": "text",
    "id": "DAFpZNy6Oej2"
   },
   "source": [
    "* Visualizando os resultados:"
   ]
  },
  {
   "cell_type": "code",
   "execution_count": null,
   "metadata": {},
   "outputs": [],
   "source": [
    "fig = px.imshow(\n",
    "    T.T,\n",
    "    x=x,\n",
    "    y=time,\n",
    "    color_continuous_scale='RdBu_r',\n",
    "    title=r\"$\\text{Temperatura} [^oC]$\",\n",
    "    labels=dict(x=\"x [m]\", y=\"Tempo [h]\", color=\"T\"),\n",
    "    aspect = \"auto\",\n",
    "    origin = \"lower\"\n",
    ")\n",
    "fig.show()"
   ]
  },
  {
   "cell_type": "markdown",
   "metadata": {
    "colab_type": "text",
    "id": "NblobETwOej5"
   },
   "source": [
    "* Variação da temperatura em três pontos da parede, em função do tempo"
   ]
  },
  {
   "cell_type": "code",
   "execution_count": null,
   "metadata": {},
   "outputs": [],
   "source": [
    "fig = go.Figure()\n",
    "\n",
    "for i in [0, x.size//2, -1]:\n",
    "\n",
    "    fig.add_trace(\n",
    "        go.Scatter(\n",
    "            x=time, y=T[i,:],\n",
    "            mode='lines',\n",
    "            name=f'x={x[i]}'\n",
    "        )\n",
    "    )  \n",
    "\n",
    "fig.show()"
   ]
  },
  {
   "cell_type": "markdown",
   "metadata": {
    "colab": {},
    "colab_type": "code",
    "id": "hOC-0GylxlgY"
   },
   "source": [
    "-----\n",
    "\n",
    "> **Felipe N. Schuch**,<br>\n",
    "> Pesquisador em Fluidodinâmica Computacional na PUCRS, com interesse em: Escoamentos turbulentos, transferência de calor e massa, e interação fluido-estrutura; Processamento e visualização de dados em Python; Jupyter Notebook como uma ferramenta de colaboração, pesquisa e ensino.<br>\n",
    "> [felipeschuch@outlook.com](mailto:felipeschuch@outlook.com \"Email\") [@fschuch](https://twitter.com/fschuch \"Twitter\") [Aprenda.py](https://fschuch.github.io/aprenda.py \"Blog\") [@aprenda.py](https://www.instagram.com/aprenda.py/ \"Instagram\")<br>\n",
    "\n",
    "-----"
   ]
  }
 ],
 "metadata": {
  "celltoolbar": "Slideshow",
  "colab": {
   "include_colab_link": true,
   "name": "aula.ipynb",
   "provenance": [],
   "toc_visible": true
  },
  "kernelspec": {
   "display_name": "Python 3",
   "language": "python",
   "name": "python3"
  },
  "language_info": {
   "codemirror_mode": {
    "name": "ipython",
    "version": 3
   },
   "file_extension": ".py",
   "mimetype": "text/x-python",
   "name": "python",
   "nbconvert_exporter": "python",
   "pygments_lexer": "ipython3",
   "version": "3.8.8"
  },
  "toc": {
   "base_numbering": 1,
   "nav_menu": {},
   "number_sections": true,
   "sideBar": true,
   "skip_h1_title": true,
   "title_cell": "Sumário",
   "title_sidebar": "Sumário",
   "toc_cell": true,
   "toc_position": {
    "height": "calc(100% - 180px)",
    "left": "10px",
    "top": "150px",
    "width": "334.6px"
   },
   "toc_section_display": true,
   "toc_window_display": true
  },
  "toc-autonumbering": true,
  "varInspector": {
   "cols": {
    "lenName": 16,
    "lenType": 16,
    "lenVar": 40
   },
   "kernels_config": {
    "python": {
     "delete_cmd_postfix": "",
     "delete_cmd_prefix": "del ",
     "library": "var_list.py",
     "varRefreshCmd": "print(var_dic_list())"
    },
    "r": {
     "delete_cmd_postfix": ") ",
     "delete_cmd_prefix": "rm(",
     "library": "var_list.r",
     "varRefreshCmd": "cat(var_dic_list()) "
    }
   },
   "oldHeight": 413.85,
   "position": {
    "height": "576.85px",
    "left": "1476px",
    "right": "20px",
    "top": "189px",
    "width": "342px"
   },
   "types_to_exclude": [
    "module",
    "function",
    "builtin_function_or_method",
    "instance",
    "_Feature"
   ],
   "varInspector_section_display": "block",
   "window_display": false
  },
  "widgets": {
   "application/vnd.jupyter.widget-state+json": {
    "state": {},
    "version_major": 2,
    "version_minor": 0
   }
  }
 },
 "nbformat": 4,
 "nbformat_minor": 4
}
