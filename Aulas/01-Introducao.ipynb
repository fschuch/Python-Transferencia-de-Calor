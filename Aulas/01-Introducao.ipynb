{
 "cells": [
  {
   "cell_type": "markdown",
   "metadata": {
    "toc-hr-collapsed": false
   },
   "source": [
    "# Métodos Numéricos Aplicados à Transferência de Calor"
   ]
  },
  {
   "cell_type": "markdown",
   "metadata": {
    "colab_type": "text",
    "id": "xWip5AS5OehT"
   },
   "source": [
    "## Introdução"
   ]
  },
  {
   "cell_type": "markdown",
   "metadata": {
    "colab_type": "text",
    "id": "hoOtyRJEOehU"
   },
   "source": [
    "### Sobre o material\n",
    "\n",
    "* O objetivo desta palestra é **introduzir os principais conceitos empregados em programação e Python**, mais especificamente, no contexto interativo da plataforma Jupyter Notebook;\n",
    "* Além de demonstrar como **solucionar problemas em transferência de calor** por meio de propostas computacionais;\n",
    "* Para tanto, o material inclui uma breve **revisão de conceitos fundamentais** e as principais bibliotecas científicas disponíveis. Para maiores detalhes, **pode-se consultar a documentação disponível** ou mesmo as diversas leituras recomendadas que aparecem no decorrer do texto."
   ]
  },
  {
   "cell_type": "markdown",
   "metadata": {
    "colab_type": "text",
    "id": "1Imc09KQOehV"
   },
   "source": [
    "### Porque Python?"
   ]
  },
  {
   "cell_type": "markdown",
   "metadata": {
    "colab_type": "text",
    "id": "CGAn5ZvWOehW"
   },
   "source": [
    "<img src=\"../Assets/notebook.png\">"
   ]
  },
  {
   "cell_type": "markdown",
   "metadata": {
    "colab_type": "text",
    "id": "33N69O2MOehX"
   },
   "source": [
    "> Leitura recomendada:\n",
    "> * [10 motivos para você aprender Python](https://www.hostgator.com.br/blog/10-motivos-para-voce-aprender-python/)"
   ]
  },
  {
   "cell_type": "markdown",
   "metadata": {
    "colab_type": "text",
    "id": "AumqKUUhOehX",
    "toc-hr-collapsed": false
   },
   "source": [
    "### Porque Jupyter Notebooks?\n",
    "\n",
    "![jupyter](https://jupyter.org/assets/main-logo.svg  \"jupyter\")\n",
    "\n",
    "* Ferramenta web interativa, grátis e de código aberto;\n",
    "* Exploração de dados. Permite executar o código, ver o que acontece, modificar e repetir, onde temos uma *\"conversa\"* com os dados disponíveis;\n",
    "* Útil para a criação de tutoriais interativos;\n",
    "* Ele fala a nossa língua. Disponível para várias liguagens de programação, como Python, Julia, R, Fortran e muitas outras;\n",
    "* É possível combinar o código com células `Markdown`, para renderizar equações e tabelas, inserir figuras e explicações sobre o código;\n",
    "* Facilmente extensível para diversos formatos (PDF, HTML, $\\LaTeX$, slides e outros);\n",
    "* Disponível em [jupyter.org](https://jupyter.org), além de:\n",
    "    - Acompanhar a instalação do [Anaconda](https://www.anaconda.com/);\n",
    "    - Ferramenta colaborativa na nuvem com [Google colab](https://colab.research.google.com) ou [binder](https://mybinder.org/)."
   ]
  },
  {
   "cell_type": "markdown",
   "metadata": {},
   "source": [
    "> Leitura recomendada:\n",
    "> - [Mastering Markdown](https://guides.github.com/features/mastering-markdown/)\n",
    "> - [LaTeX/Mathematics](https://en.wikibooks.org/wiki/LaTeX/Mathematics)\n",
    "> - [Why Jupyter is data scientists’ computational notebook of choice](https://www.nature.com/articles/d41586-018-07196-1)\n",
    "> - [Why I write with LaTeX (and why you should too)](https://medium.com/@marko_kovic/why-i-write-with-latex-and-why-you-should-too-ba6a764fadf9)\n",
    "> - [New Developer? You should’ve learned Git yesterday](https://codeburst.io/number-one-piece-of-advice-for-new-developers-ddd08abc8bfa)\n",
    "> - [12 passos para Navier-Stokes](https://www.fschuch.com/blog/2020/01/12/cfd-com-python-12-passos-para-navier-stokes/)\n",
    "> - [Jupyter Notebook como uma Poderosa Ferramenta Educacional](https://www.fschuch.com/blog/2021/01/22/jupyter-notebook-como-uma-poderosa-ferramenta-educacional/#formas-de-acessarcompartilhar)\n"
   ]
  },
  {
   "cell_type": "markdown",
   "metadata": {
    "colab_type": "text",
    "id": "KMHr-02qOeha"
   },
   "source": [
    "## Programação em Python"
   ]
  },
  {
   "cell_type": "markdown",
   "metadata": {
    "colab_type": "text",
    "id": "ZRiAA9-4Oehb"
   },
   "source": [
    "As primeiras linhas de código interativas dessa aula (`Shift+Enter` executam o bloco):"
   ]
  },
  {
   "cell_type": "code",
   "execution_count": null,
   "metadata": {
    "colab": {},
    "colab_type": "code",
    "id": "yq7eFbnlOehb"
   },
   "outputs": [],
   "source": [
    "\"\"\"\n",
    "Isso é um comentário\n",
    "\"\"\"\n",
    "\n",
    "print(\"Olá mundo\")\n",
    "\n",
    "# Isso também é um comentário"
   ]
  },
  {
   "cell_type": "markdown",
   "metadata": {
    "colab_type": "text",
    "id": "i4wlPN_kOehf"
   },
   "source": [
    "### Atribuição de variáveis:"
   ]
  },
  {
   "cell_type": "code",
   "execution_count": null,
   "metadata": {
    "colab": {},
    "colab_type": "code",
    "id": "s8dPgPbMOehg"
   },
   "outputs": [],
   "source": [
    "i = 5  # inteiro\n",
    "f = 6.7  # ponto flutuante\n",
    "g = 1e-2  # notação exponencial\n",
    "s = \"abcdef\"  # string\n",
    "c = 5.0 + 6j  # complexo"
   ]
  },
  {
   "cell_type": "markdown",
   "metadata": {
    "colab_type": "text",
    "id": "Kx2K9v7bOehk"
   },
   "source": [
    "### Operações matemáticas\n",
    "\n",
    "Operador | Descrição | Exemplo | Resultado\n",
    "---------|-----------|---------|----------\n",
    "`+`   | Soma   | `1 + 1` | `2`\n",
    "`-`   | Subtração | `2 - 1` | `1`\n",
    "`*`   | Multiplicação | `6 * 7` | `42`\n",
    "`/`   | Divisão | `8 / 4` | 2.0\n",
    "`//`  | Divisão inteira | `10 // 3` | 3\n",
    "`%`   | Resto da divisão | `10 % 3` | 1\n",
    "`**`  | Potência | `2 ** 3` | 8\n",
    "\n",
    "Teste qualquer uma das operações no bloco abaixo:"
   ]
  },
  {
   "cell_type": "code",
   "execution_count": null,
   "metadata": {
    "colab": {},
    "colab_type": "code",
    "id": "aACxizWxOehl"
   },
   "outputs": [],
   "source": [
    "10 % 7.5"
   ]
  },
  {
   "cell_type": "code",
   "execution_count": null,
   "metadata": {},
   "outputs": [],
   "source": [
    "a = 10.5\n",
    "b = 5\n",
    "\n",
    "c = a * b\n",
    "c"
   ]
  },
  {
   "cell_type": "markdown",
   "metadata": {
    "colab_type": "text",
    "id": "YgTV2JraOehv"
   },
   "source": [
    "### Operações em laços\n",
    "\n",
    "Computadores são ótimos para a realização de tarefas repetitivas. Para isso, temos à nossa disposição laços (ou *loops*), que geralmente percorrem um espaço definido pelo seu `valor inicial`, `valor final`, e o tamanho do `incremento`. Veja o exemplo:"
   ]
  },
  {
   "cell_type": "code",
   "execution_count": null,
   "metadata": {
    "colab": {},
    "colab_type": "code",
    "id": "rMMWLrXHOehw"
   },
   "outputs": [],
   "source": [
    "inicio = 0  # opcional, será zero se não informado\n",
    "final = 5\n",
    "incremento = 1  # opcional, será um se não informado\n",
    "\n",
    "for i in range(inicio, final, incremento):\n",
    "    print(i)\n",
    "    \"\"\"\n",
    "    Aqui realizaríamos operações da nossa aplicação\n",
    "    \"\"\""
   ]
  },
  {
   "cell_type": "markdown",
   "metadata": {},
   "source": [
    "**Nota**: Não precisamos indicar o final do laço em Python, porque isso é reconhecido por meio da identação.\n",
    "\n",
    "**Outra Nota:** sempre que precisar de ajuda para compreender qualquer objeto no Jupyter, digite seu nome seguido de uma interrogação `?`, ou use a função `help()`, veja só:"
   ]
  },
  {
   "cell_type": "code",
   "execution_count": null,
   "metadata": {},
   "outputs": [],
   "source": [
    "range?"
   ]
  },
  {
   "cell_type": "markdown",
   "metadata": {},
   "source": [
    "Observe que, em Python:\n",
    "* **A contagem começa em zero**;\n",
    "* **O argumento inicial é inclusivo** (ele estará no espaço a percorrer);\n",
    "* Enquanto **o argumento final é exclusivo** (ele não estará no espaço a percorrer).\n",
    "\n",
    "Compreenda melhor esses conceitos com exemplos:"
   ]
  },
  {
   "cell_type": "code",
   "execution_count": null,
   "metadata": {},
   "outputs": [],
   "source": [
    "for i in range(10):\n",
    "    print(i, end=\" \")"
   ]
  },
  {
   "cell_type": "code",
   "execution_count": null,
   "metadata": {},
   "outputs": [],
   "source": [
    "for i in range(0, 10, 1):\n",
    "    print(i, end=\" \")"
   ]
  },
  {
   "cell_type": "code",
   "execution_count": null,
   "metadata": {},
   "outputs": [],
   "source": [
    "for i in range(15, 30, 5):\n",
    "    print(i, end=\" \")"
   ]
  },
  {
   "cell_type": "code",
   "execution_count": null,
   "metadata": {},
   "outputs": [],
   "source": [
    "for i in range(0, 10, 3):\n",
    "    print(i, end=\" \")"
   ]
  },
  {
   "cell_type": "code",
   "execution_count": null,
   "metadata": {},
   "outputs": [],
   "source": [
    "for i in range(0, -10, -1):\n",
    "    print(i, end=\" \")"
   ]
  },
  {
   "cell_type": "code",
   "execution_count": null,
   "metadata": {},
   "outputs": [],
   "source": [
    "for i in range(0):\n",
    "    print(i, end=\" \")"
   ]
  },
  {
   "cell_type": "markdown",
   "metadata": {},
   "source": [
    "**Nota**: Perceba que `range` é apenas uma das diferentes possibilidades que temos para contruir um laço em Python."
   ]
  },
  {
   "cell_type": "markdown",
   "metadata": {
    "colab_type": "text",
    "id": "EjPM3SmAOehy"
   },
   "source": [
    "### Testes lógicos\n",
    "\n",
    "Operador | Descrição | Exemplo | Resultado\n",
    "---------|-----------|---------|----------\n",
    "`==`     | Igualdade | `1 == 2` | `False`\n",
    "`!=`     | Diferença | `1 != 2` | `True`\n",
    "`>`      | Maior que | `1 > 3` | `False`\n",
    "`<`      | Menor que | `1 < 3` | `True`\n",
    "`>=`     | Maior ou igual que | `1 >= 3` | `False`\n",
    "`=<`     | Menor ou igual que | `1 <= 3` | `True`\n",
    "`and`    | Operador lógico \"e\" | `True and False` | `False`\n",
    "`or`     | Operador lógico \"ou\" | `True or False` | `True`\n",
    "`not`    | Operador lógico \"não\" | `not False` | `True`"
   ]
  },
  {
   "cell_type": "code",
   "execution_count": null,
   "metadata": {
    "colab": {},
    "colab_type": "code",
    "id": "aZKkh1juOehy"
   },
   "outputs": [],
   "source": [
    "if 5 <= 3.0:\n",
    "    \"\"\"\n",
    "    Aqui realizaríamos operações da nossa aplicação\n",
    "    \"\"\"\n",
    "    print(\"Estou no bloco if\")\n",
    "elif 4 != 0:\n",
    "    \"\"\"\n",
    "    Aqui realizaríamos operações da nossa aplicação\n",
    "    \"\"\"\n",
    "    print(\"Estou no bloco elif\")\n",
    "else:\n",
    "    \"\"\"\n",
    "    Aqui realizaríamos operações da nossa aplicação\n",
    "    \"\"\"\n",
    "    print(\"estou no blobo else\")"
   ]
  },
  {
   "cell_type": "markdown",
   "metadata": {},
   "source": [
    "### Funções\n",
    "\n",
    "Funções são uma forma de encapsular trechos de código que você porventura queira executar diversas vezes. Argumentos são parâmetros opcionais de entrada, que podem alterar ou controlar o comportamento no interior da função. E elas podem ou não retornar algum valor.\n",
    "\n",
    "No bloco a seguir, definimos um exemplo didático. Uma função que testa se um dado número de entrada é ímpar, retornando `True`, ou não, retornando `False`. Veja o exemplo:"
   ]
  },
  {
   "cell_type": "code",
   "execution_count": null,
   "metadata": {},
   "outputs": [],
   "source": [
    "def testa_se_impar(numero):\n",
    "    return bool(numero % 2)"
   ]
  },
  {
   "cell_type": "markdown",
   "metadata": {},
   "source": [
    "Agora invocamos e testamos a nossa função:"
   ]
  },
  {
   "cell_type": "code",
   "execution_count": null,
   "metadata": {},
   "outputs": [],
   "source": [
    "testa_se_impar(4)"
   ]
  },
  {
   "cell_type": "code",
   "execution_count": null,
   "metadata": {},
   "outputs": [],
   "source": [
    "testa_se_impar(5)"
   ]
  },
  {
   "cell_type": "markdown",
   "metadata": {},
   "source": [
    "Podemos incrementar a apresentação de nossa função com recursos extras. Por exemplo, atribuir valores padrões aos argumentos, caso eles não sejam informados ao invocar a função. Além disso temos o *type hint*, ou uma dica do tipo, onde podemos anotar na função a tipagem dos argumentos de entrada e saída, para auxiliar quem estiver utilizando nossa função. Finalmente, o comentário inicial é conhecido como *Docstring*, o lugar ideal para uma documentação rápida, que também estará disponível para nossos usuários:"
   ]
  },
  {
   "cell_type": "code",
   "execution_count": null,
   "metadata": {},
   "outputs": [],
   "source": [
    "def testa_se_impar_v2(numero: int = 0) -> bool:\n",
    "    \"\"\"\n",
    "    Dado um número inteiro como argumento de entrada,\n",
    "    retorna True se ele é ímpar e False se ele é par\n",
    "    \"\"\"\n",
    "    return bool(numero % 2)"
   ]
  },
  {
   "cell_type": "markdown",
   "metadata": {},
   "source": [
    "Quando invocada sem argumentos, número será o valor definido como padrão, zero nesse caso, então a função é executada sem erros:"
   ]
  },
  {
   "cell_type": "code",
   "execution_count": null,
   "metadata": {},
   "outputs": [],
   "source": [
    "testa_se_impar_v2()"
   ]
  },
  {
   "cell_type": "markdown",
   "metadata": {},
   "source": [
    "O nome dos argumentos podem estar presentes na chamada, oferecendo legibilidade extra ao seu código:"
   ]
  },
  {
   "cell_type": "code",
   "execution_count": null,
   "metadata": {},
   "outputs": [],
   "source": [
    "testa_se_impar_v2(numero=67)"
   ]
  },
  {
   "cell_type": "markdown",
   "metadata": {},
   "source": [
    "Note que o *Docstring* é exibido na tela quando solicitamos ajuda:"
   ]
  },
  {
   "cell_type": "code",
   "execution_count": null,
   "metadata": {},
   "outputs": [],
   "source": [
    "testa_se_impar_v2?"
   ]
  },
  {
   "cell_type": "markdown",
   "metadata": {
    "colab_type": "text",
    "id": "eH4kyitYOeh0"
   },
   "source": [
    "Material complementar:\n",
    "\n",
    "* [More Control Flow Tools](https://docs.python.org/3/tutorial/controlflow.html)\n",
    "* [The Python Tutorial - Modules](https://docs.python.org/3/tutorial/modules.html)\n",
    "* [Data Structures](https://docs.python.org/3/tutorial/datastructures.html)\n",
    "* [Classes](https://docs.python.org/2/tutorial/classes.html)"
   ]
  },
  {
   "cell_type": "markdown",
   "metadata": {
    "colab_type": "text",
    "id": "q4dW6qDfOeiB"
   },
   "source": [
    "### Principais Pacotes\n",
    "\n",
    "Uma das grandes forças do Python é a enorme gama de pacotes que estão disponíveis, e em contínuo desenvolvimento, nas mais diversas áreas do conhecimento.\n",
    "\n",
    "A seguir, veremos algumas que são particularmente úteis para aplicações em transferência de calor."
   ]
  },
  {
   "cell_type": "markdown",
   "metadata": {
    "colab_type": "text",
    "id": "9apCaxQSOeiC"
   },
   "source": [
    "#### SciPy\n",
    "\n",
    "![SciPy](https://www.scipy.org/_static/images/scipy_med.png \"SciPy\")\n",
    "\n",
    "Ferramentas de computação científica para Python. SciPy refere-se a várias entidades relacionadas, mas distintas:\n",
    "\n",
    "* O ecossistema SciPy, uma coleção de software de código aberto para computação científica em Python;\n",
    "* A comunidade de pessoas que usam e desenvolvem essa biblioteca;\n",
    "* Várias conferências dedicadas à computação científica em Python - SciPy, EuroSciPy e SciPy.in;\n",
    "* Fazem parte da família os pacotes, que serão melhor descritos a seguir:\n",
    "    * Numpy;\n",
    "    * Matplotlib;\n",
    "    * Sympy;\n",
    "    * IPython;\n",
    "    * Pandas."
   ]
  },
  {
   "cell_type": "markdown",
   "metadata": {
    "colab_type": "text",
    "id": "qlis2j8OOeiE"
   },
   "source": [
    "* Além disso, a própria biblioteca SciPy, um componente do conjunto SciPy, fornecendo muitas rotinas numéricas:\n",
    "    * Funções especiais;\n",
    "    * Integração numérica;\n",
    "    * Diferenciação numérica;\n",
    "    * Otimização;\n",
    "    * Interpolação;\n",
    "    * Transformada de Fourier;\n",
    "    * Processamento de sinal;\n",
    "    * Algebra linear e Algebra linear esparsa;\n",
    "    * Problema de autovalor esparso com ARPACK;\n",
    "    * Algoritmos e estruturas de dados espaciais;\n",
    "    * Estatistica;\n",
    "    * Processamento de imagem multidimensional;\n",
    "    * I/O de arquivos;"
   ]
  },
  {
   "cell_type": "code",
   "execution_count": null,
   "metadata": {
    "colab": {},
    "colab_type": "code",
    "id": "VxTfWu9MOeiE"
   },
   "outputs": [],
   "source": [
    "import scipy as sp\n",
    "import scipy.optimize\n",
    "import scipy.integrate"
   ]
  },
  {
   "cell_type": "markdown",
   "metadata": {
    "colab_type": "text",
    "id": "5mZLE2EtOeiH"
   },
   "source": [
    "Material complementar:\n",
    "* [SciPy](https://www.scipy.org/)\n",
    "* [Getting Started](https://www.scipy.org/getting-started.html)\n",
    "* [Scipy Lecture Notes](http://scipy-lectures.org/index.html)"
   ]
  },
  {
   "cell_type": "markdown",
   "metadata": {
    "colab_type": "text",
    "id": "DbN37YL6OeiH"
   },
   "source": [
    "#### Numpy\n",
    "\n",
    "<img src=\"https://numpy.org/images/logos/numpy.svg\" alt=\"Logotipo do Numpy\" style=\"width: 100px;\"/>\n",
    "\n",
    "Numpy é um pacote fundamental para a **computação científica em Python**. Entre outras coisas, destaca-se:\n",
    "* Objetos em arranjos N-dimensionais\n",
    "* Funções sofisticadas\n",
    "* Ferramentas para integrar código C/C++ e Fortran\n",
    "* Conveniente álgebra linear, transformada de Fourier e capacidade de números aleatórios\n",
    "\n",
    "Além de seus usos científicos óbvios, o NumPy também pode ser usado como um contêiner multidimensional eficiente de dados genéricos. Tipos de dados arbitrários podem ser definidos. Isso permite que o NumPy integre-se de forma fácil e rápida a uma ampla variedade de bancos de dados."
   ]
  },
  {
   "cell_type": "code",
   "execution_count": null,
   "metadata": {
    "colab": {},
    "colab_type": "code",
    "id": "QhODk5alOeiI"
   },
   "outputs": [],
   "source": [
    "import numpy as np  # Importando a biblioteca numpy e definindo-a com o codnome de np"
   ]
  },
  {
   "cell_type": "code",
   "execution_count": null,
   "metadata": {},
   "outputs": [],
   "source": [
    "matriz = np.arange(15).reshape(3, 5)\n",
    "\n",
    "# exibe na tela\n",
    "matriz"
   ]
  },
  {
   "cell_type": "code",
   "execution_count": null,
   "metadata": {},
   "outputs": [],
   "source": [
    "matriz.shape"
   ]
  },
  {
   "cell_type": "code",
   "execution_count": null,
   "metadata": {},
   "outputs": [],
   "source": [
    "matriz.ndim"
   ]
  },
  {
   "cell_type": "code",
   "execution_count": null,
   "metadata": {},
   "outputs": [],
   "source": [
    "matriz.dtype.name"
   ]
  },
  {
   "cell_type": "code",
   "execution_count": null,
   "metadata": {},
   "outputs": [],
   "source": [
    "matriz.size"
   ]
  },
  {
   "cell_type": "code",
   "execution_count": null,
   "metadata": {},
   "outputs": [],
   "source": [
    "type(matriz)"
   ]
  },
  {
   "cell_type": "markdown",
   "metadata": {},
   "source": [
    "##### Construção e Seleção de Dados"
   ]
  },
  {
   "cell_type": "markdown",
   "metadata": {},
   "source": [
    "* Criar matrizes completas com valores iniciais em zero ou um:"
   ]
  },
  {
   "cell_type": "code",
   "execution_count": null,
   "metadata": {},
   "outputs": [],
   "source": [
    "np.zeros(shape=(3, 4), dtype=np.float64)"
   ]
  },
  {
   "cell_type": "code",
   "execution_count": null,
   "metadata": {},
   "outputs": [],
   "source": [
    "np.ones(shape=(2, 3, 4), dtype=np.int16)"
   ]
  },
  {
   "cell_type": "markdown",
   "metadata": {},
   "source": [
    "* Definição inicial de um intervalo, de maneira similar a função `range` do Python:"
   ]
  },
  {
   "cell_type": "code",
   "execution_count": null,
   "metadata": {},
   "outputs": [],
   "source": [
    "np.arange(10, 30, 5)"
   ]
  },
  {
   "cell_type": "code",
   "execution_count": null,
   "metadata": {},
   "outputs": [],
   "source": [
    "np.arange(0, 2, 0.3)"
   ]
  },
  {
   "cell_type": "markdown",
   "metadata": {},
   "source": [
    "* Ou ainda um espaço linear:"
   ]
  },
  {
   "cell_type": "code",
   "execution_count": null,
   "metadata": {},
   "outputs": [],
   "source": [
    "vetor = np.linspace(start=0.0, stop=2.0, num=9)\n",
    "vetor"
   ]
  },
  {
   "cell_type": "markdown",
   "metadata": {},
   "source": [
    "A seleção dos dados ocorre de maneira similar às listas, com o número inteiro representando a localização, começando a contagem em zero. Veja os exemplos:"
   ]
  },
  {
   "cell_type": "code",
   "execution_count": null,
   "metadata": {},
   "outputs": [],
   "source": [
    "vetor[0]"
   ]
  },
  {
   "cell_type": "code",
   "execution_count": null,
   "metadata": {},
   "outputs": [],
   "source": [
    "vetor[2]"
   ]
  },
  {
   "cell_type": "code",
   "execution_count": null,
   "metadata": {},
   "outputs": [],
   "source": [
    "vetor[0:4:2]"
   ]
  },
  {
   "cell_type": "code",
   "execution_count": null,
   "metadata": {},
   "outputs": [],
   "source": [
    "vetor[-1]"
   ]
  },
  {
   "cell_type": "markdown",
   "metadata": {},
   "source": [
    "No caso em que temos mais dimensões, como na matriz que definimos anteriormente, a mesma ideia se aplica, e separamos cada dimensão por vírgulas:"
   ]
  },
  {
   "cell_type": "code",
   "execution_count": null,
   "metadata": {},
   "outputs": [],
   "source": [
    "matriz"
   ]
  },
  {
   "cell_type": "code",
   "execution_count": null,
   "metadata": {},
   "outputs": [],
   "source": [
    "matriz[0, 0], matriz[0, 1], matriz[1, 0]"
   ]
  },
  {
   "cell_type": "code",
   "execution_count": null,
   "metadata": {},
   "outputs": [],
   "source": [
    "matriz[0, :]"
   ]
  },
  {
   "cell_type": "code",
   "execution_count": null,
   "metadata": {},
   "outputs": [],
   "source": [
    "matriz[:, -1]"
   ]
  },
  {
   "cell_type": "markdown",
   "metadata": {},
   "source": [
    "**Cuidado**, pois o sinal de igualdade não cria novas cópias dos tensores, e isso pode confundir os iniciantes:"
   ]
  },
  {
   "cell_type": "code",
   "execution_count": null,
   "metadata": {},
   "outputs": [],
   "source": [
    "outro_vetor = vetor\n",
    "outro_vetor"
   ]
  },
  {
   "cell_type": "code",
   "execution_count": null,
   "metadata": {},
   "outputs": [],
   "source": [
    "outro_vetor is vetor"
   ]
  },
  {
   "cell_type": "code",
   "execution_count": null,
   "metadata": {},
   "outputs": [],
   "source": [
    "outro_vetor *= 0\n",
    "\n",
    "print(vetor)"
   ]
  },
  {
   "cell_type": "markdown",
   "metadata": {},
   "source": [
    "Temos agora duas maneiras de acessar o mesmo vetor na memória, pois tanto `vetor` quanto `outro_vetor` apontam para a mesma posição na memória."
   ]
  },
  {
   "cell_type": "markdown",
   "metadata": {},
   "source": [
    "##### Operações Tensoriais\n",
    "\n",
    "Operações aritméticas e lógicas estão disponíveis para os objetos Numpy, e são propagados para todos os elementos do tensor. Veja os exemplos:"
   ]
  },
  {
   "cell_type": "code",
   "execution_count": null,
   "metadata": {},
   "outputs": [],
   "source": [
    "a = np.array([20, 30, 40, 50])\n",
    "b = np.array([0, 1, 2, 3])"
   ]
  },
  {
   "cell_type": "code",
   "execution_count": null,
   "metadata": {},
   "outputs": [],
   "source": [
    "a - b"
   ]
  },
  {
   "cell_type": "code",
   "execution_count": null,
   "metadata": {},
   "outputs": [],
   "source": [
    "b ** 2"
   ]
  },
  {
   "cell_type": "code",
   "execution_count": null,
   "metadata": {},
   "outputs": [],
   "source": [
    "10 * np.sin(a)"
   ]
  },
  {
   "cell_type": "code",
   "execution_count": null,
   "metadata": {},
   "outputs": [],
   "source": [
    "a < 35"
   ]
  },
  {
   "cell_type": "markdown",
   "metadata": {},
   "source": [
    "> Leitura recomendada:\n",
    "> * [NumPy Documentation](https://numpy.org/doc/)\n",
    "> * [NumPy quickstart](https://numpy.org/doc/1.20/user/quickstart.html)\n",
    "> * [NumPy: the absolute basics for beginners](https://numpy.org/doc/1.20/user/absolute_beginners.html)\n",
    "> * [Tutorial: Linear algebra on n-dimensional arrays](https://numpy.org/doc/1.20/user/tutorial-svd.html)\n",
    ">\n",
    "> Outros pacotes Python para manipulação de dados:\n",
    "> * [Pandas](https://pandas.pydata.org/) é uma pacote Python especializado na processamento eficiente de dados tabelados, podendo lidar com arquivos CSV, Excel, SQL, arranjos Numpy e outros;\n",
    "> * [Xarray](http://xarray.pydata.org/) introduz rótulos na forma de dimensões, coordenadas e atributos sobre os dados brutos dos arranjos em formato NumPy, permitindo uma experiência de desenvolvimento mais intuitiva, consistente e a prova de falhas;\n",
    "> * [Dask](https://dask.org/) fornece paralelismo avançado para análises, permitindo desempenho em escala para as ferramentas que você adora."
   ]
  },
  {
   "cell_type": "markdown",
   "metadata": {
    "slideshow": {
     "slide_type": "subslide"
    }
   },
   "source": [
    "#### **Pandas**\n",
    "\n",
    "![Pandas](https://www.scipy.org/_static/images/pandas_badge2.jpg \"Pandas\")\n",
    "\n",
    "O pandas é um pacote Python que fornece **estruturas de dados rápidas, flexíveis e expressivas**, projetadas para tornar o trabalho com dados “relacionais” ou “rotulados” fáceis e intuitivos. O objetivo é ser o alicerce fundamental de alto nível para a análise prática de dados do mundo real em Python. Além disso, tem o objetivo mais amplo de se tornar a mais poderosa e flexível ferramenta de análise / manipulação de dados de código aberto disponível em qualquer linguagem.\n",
    "\n",
    "Pandas é bem adequado para muitos tipos diferentes de dados:\n",
    "* Dados tabulares com colunas de tipos heterogêneos, como em uma **tabela SQL, arquivo `.csv` ou planilha do Excel**;\n",
    "* Dados de **séries temporais** ordenados e não ordenados (não necessariamente de frequência fixa);\n",
    "* Dados de matriz arbitrária (homogeneamente digitados ou heterogêneos) com rótulos de linha e coluna;\n",
    "* Qualquer outra forma de conjuntos de dados observacionais / estatísticos. Os dados realmente não precisam ser rotulados para serem colocados em uma estrutura de dados de pandas."
   ]
  },
  {
   "cell_type": "code",
   "execution_count": null,
   "metadata": {
    "slideshow": {
     "slide_type": "subslide"
    },
    "tags": []
   },
   "outputs": [],
   "source": [
    "import pandas as pd"
   ]
  },
  {
   "cell_type": "code",
   "execution_count": null,
   "metadata": {
    "slideshow": {
     "slide_type": "fragment"
    },
    "tags": []
   },
   "outputs": [],
   "source": [
    "df2 = pd.DataFrame({'A': 1.,\n",
    "                    'B': pd.Timestamp('20130102'),\n",
    "                    'C': pd.Series(1, index=list(range(4)), dtype='float32'),\n",
    "                    'D': np.array([3] * 4, dtype='int32'),\n",
    "                    'E': pd.Categorical([\"test\", \"train\", \"test\", \"train\"]),\n",
    "                    'F': 'foo'})"
   ]
  },
  {
   "cell_type": "code",
   "execution_count": null,
   "metadata": {
    "slideshow": {
     "slide_type": "fragment"
    }
   },
   "outputs": [],
   "source": [
    "df2"
   ]
  },
  {
   "cell_type": "markdown",
   "metadata": {
    "slideshow": {
     "slide_type": "skip"
    }
   },
   "source": [
    "> Material complementar:\n",
    "> * [Pandas](https://pandas.pydata.org/)\n",
    "> * [10 minutes to pandas](https://pandas.pydata.org/pandas-docs/version/0.25.0/getting_started/10min.html)"
   ]
  },
  {
   "cell_type": "markdown",
   "metadata": {},
   "source": [
    "#### Tqdm\n",
    "\n",
    "Produz uma barra de progresso. Recurso puramente estético, mas ainda assim, muito útil:"
   ]
  },
  {
   "cell_type": "code",
   "execution_count": null,
   "metadata": {},
   "outputs": [],
   "source": [
    "from tqdm.notebook import tqdm"
   ]
  },
  {
   "cell_type": "code",
   "execution_count": null,
   "metadata": {},
   "outputs": [],
   "source": [
    "for i in tqdm(range(100)):\n",
    "    ..."
   ]
  },
  {
   "cell_type": "markdown",
   "metadata": {
    "slideshow": {
     "slide_type": "subslide"
    }
   },
   "source": [
    "#### Sympy\n",
    "\n",
    "![Sympy](https://scipy.org/_static/images/sympy_logo.png \"Sympy\")\n",
    "\n",
    "SymPy é uma biblioteca Python para **matemática simbólica**. O objetivo é tornar-se um sistema de álgebra computacional (CAS) completo, mantendo o código o mais simples possível para ser compreensível e facilmente extensível. SymPy é escrito inteiramente em Python."
   ]
  },
  {
   "cell_type": "code",
   "execution_count": null,
   "metadata": {
    "slideshow": {
     "slide_type": "subslide"
    },
    "tags": []
   },
   "outputs": [],
   "source": [
    "import sympy as sm\n",
    "\n",
    "sm.init_printing(use_latex=\"mathjax\")  # Para escrever equações na tela"
   ]
  },
  {
   "cell_type": "code",
   "execution_count": null,
   "metadata": {
    "slideshow": {
     "slide_type": "fragment"
    },
    "tags": []
   },
   "outputs": [],
   "source": [
    "x, t = sm.symbols(\"x t\")  # Criando símbolos"
   ]
  },
  {
   "cell_type": "markdown",
   "metadata": {
    "slideshow": {
     "slide_type": "subslide"
    }
   },
   "source": [
    "\\begin{equation}\n",
    "\\text{calcular } \\int (e^x \\sin(x) + e^x \\cos(x)) dx\n",
    "\\end{equation}"
   ]
  },
  {
   "cell_type": "code",
   "execution_count": null,
   "metadata": {
    "slideshow": {
     "slide_type": "fragment"
    }
   },
   "outputs": [],
   "source": [
    "sm.integrate(sm.exp(x) * sm.sin(x) + sm.exp(x) * sm.cos(x), x)"
   ]
  },
  {
   "cell_type": "markdown",
   "metadata": {
    "slideshow": {
     "slide_type": "subslide"
    }
   },
   "source": [
    "\\begin{equation}\n",
    "\\text{calcular a derivada de }\\sin(x)e^x\n",
    "\\end{equation}"
   ]
  },
  {
   "cell_type": "code",
   "execution_count": null,
   "metadata": {
    "slideshow": {
     "slide_type": "fragment"
    }
   },
   "outputs": [],
   "source": [
    "sm.diff(sm.sin(x) * sm.exp(x), x)"
   ]
  },
  {
   "cell_type": "markdown",
   "metadata": {
    "slideshow": {
     "slide_type": "subslide"
    }
   },
   "source": [
    "\\begin{equation}\n",
    "\\text{calcular } \\int_{-\\infty}^{\\infty} \\sin(x^2)\n",
    "\\end{equation}"
   ]
  },
  {
   "cell_type": "code",
   "execution_count": null,
   "metadata": {
    "slideshow": {
     "slide_type": "fragment"
    }
   },
   "outputs": [],
   "source": [
    "sm.integrate(sm.sin(x ** 2), (x, -sm.oo, sm.oo))"
   ]
  },
  {
   "cell_type": "markdown",
   "metadata": {
    "slideshow": {
     "slide_type": "subslide"
    }
   },
   "source": [
    "\\begin{equation}\n",
    "\\text{calcular } \\lim_{x \\to 0} \\dfrac{\\sin(x)}{x}\n",
    "\\end{equation}"
   ]
  },
  {
   "cell_type": "code",
   "execution_count": null,
   "metadata": {
    "slideshow": {
     "slide_type": "fragment"
    }
   },
   "outputs": [],
   "source": [
    "sm.limit(sm.sin(x) / x, x, 0)"
   ]
  },
  {
   "cell_type": "markdown",
   "metadata": {
    "slideshow": {
     "slide_type": "subslide"
    }
   },
   "source": [
    "\\begin{equation}\n",
    "\\text{resolver } x^2 - 2 = 0\n",
    "\\end{equation}"
   ]
  },
  {
   "cell_type": "code",
   "execution_count": null,
   "metadata": {
    "slideshow": {
     "slide_type": "fragment"
    }
   },
   "outputs": [],
   "source": [
    "sm.solve(x ** 2 - 2, x)"
   ]
  },
  {
   "cell_type": "markdown",
   "metadata": {
    "slideshow": {
     "slide_type": "subslide"
    }
   },
   "source": [
    "\\begin{equation}\n",
    "\\text{resolver a equação diferencial } y'' - y = e^t\n",
    "\\end{equation}"
   ]
  },
  {
   "cell_type": "code",
   "execution_count": null,
   "metadata": {
    "scrolled": true,
    "slideshow": {
     "slide_type": "fragment"
    }
   },
   "outputs": [],
   "source": [
    "y = sm.Function(\"y\")\n",
    "eq1 = sm.dsolve(sm.Eq(y(t).diff(t, t) - y(t), sm.exp(t)), y(t))\n",
    "eq1"
   ]
  },
  {
   "cell_type": "code",
   "execution_count": null,
   "metadata": {
    "slideshow": {
     "slide_type": "fragment"
    }
   },
   "outputs": [],
   "source": [
    "# Bônus\n",
    "print(sm.latex(eq1))"
   ]
  },
  {
   "cell_type": "markdown",
   "metadata": {
    "slideshow": {
     "slide_type": "skip"
    }
   },
   "source": [
    "Material complementar:\n",
    "* [Sympy](https://www.sympy.org/en/index.html)\n",
    "* [Documentation](https://docs.sympy.org/latest/index.html)"
   ]
  },
  {
   "cell_type": "markdown",
   "metadata": {
    "colab_type": "text",
    "id": "FUrzoPIHOeiw"
   },
   "source": [
    "#### Matplotlib\n",
    "\n",
    "![Matplotlib](https://www.scipy.org/_static/images/matplotlib_med.png \"Matplotlib\")\n",
    "\n",
    "A Matplotlib é uma biblioteca de plotagem 2D do Python, que produz figuras de qualidade de publicação em uma variedade de formatos impressos e ambientes interativos entre plataformas. O Matplotlib pode ser usado em scripts Python, nos shells do Python e do IPython, no notebook Jupyter, nos servidores de aplicativos da web e em quatro kits de ferramentas de interface gráfica do usuário.\n",
    "\n",
    "A **Matplotlib tenta tornar as coisas fáceis simples e as coisas difíceis possíveis**. Você pode gerar gráficos, histogramas, espectros de potência, gráficos de barras, gráficos de erros, diagramas de dispersão, etc., com apenas algumas linhas de código.\n",
    "\n",
    "Como sempre, começamos importando a biblioteca:"
   ]
  },
  {
   "cell_type": "code",
   "execution_count": null,
   "metadata": {
    "colab": {},
    "colab_type": "code",
    "id": "-DWBTFwmOeiw"
   },
   "outputs": [],
   "source": [
    "import matplotlib.pyplot as plt"
   ]
  },
  {
   "cell_type": "markdown",
   "metadata": {},
   "source": [
    "Agora fazemos nossa primeira figura:"
   ]
  },
  {
   "cell_type": "code",
   "execution_count": null,
   "metadata": {
    "tags": []
   },
   "outputs": [],
   "source": [
    "x = np.linspace(start=0, stop=10, num=100)\n",
    "plt.plot(x, np.sin(x));"
   ]
  },
  {
   "cell_type": "markdown",
   "metadata": {},
   "source": [
    "O nome dos eixos são indispensáveis se você quiser mostrar sua figura para terceiros, um título pode ajudar também. Outro exemplo é como podemos definir os limites de cada eixo do gráfico. Veja nossa nova figura:"
   ]
  },
  {
   "cell_type": "code",
   "execution_count": null,
   "metadata": {},
   "outputs": [],
   "source": [
    "x = np.linspace(0, 10, 100)\n",
    "plt.plot(x, np.sin(x))\n",
    "\n",
    "plt.xlim([0, 2 * np.pi])\n",
    "plt.ylim([-2, 2])\n",
    "\n",
    "plt.xlabel(r\"eixo x $\\sigma^2$\")\n",
    "plt.ylabel(\"eixo y\")\n",
    "\n",
    "plt.title(\"Minha figura\");"
   ]
  },
  {
   "cell_type": "markdown",
   "metadata": {},
   "source": [
    "> Leitura recomendada:\n",
    "> * [Matplotlib](https://matplotlib.org/)\n",
    "> * [Style sheets reference](https://matplotlib.org/stable/gallery/style_sheets/style_sheets_reference.html)\n",
    "> * [Gallery](https://matplotlib.org/stable/gallery/index.html)\n",
    "> * [Gráficos com qualidade de publicação em Python com Matplotlib](https://www.fschuch.com/blog/2020/10/14/graficos-com-qualidade-de-publicacao-em-python-com-matplotlib/)"
   ]
  },
  {
   "cell_type": "markdown",
   "metadata": {},
   "source": [
    "#### Plotly"
   ]
  },
  {
   "cell_type": "markdown",
   "metadata": {},
   "source": [
    "A biblioteca de gráficos Python do Plotly cria **gráficos interativos** com qualidade de publicação. As possibilidades de como fazer gráficos são inumeras: de linha, gráficos de dispersão, gráficos de área, gráficos de barras, barras de erro, gráficos de caixa, histogramas, mapas de calor, subplots, eixos múltiplos, gráficos polares e gráficos de bolhas."
   ]
  },
  {
   "cell_type": "code",
   "execution_count": null,
   "metadata": {},
   "outputs": [],
   "source": [
    "import plotly.express as px\n",
    "import plotly.graph_objects as go"
   ]
  },
  {
   "cell_type": "code",
   "execution_count": null,
   "metadata": {},
   "outputs": [],
   "source": [
    "px.defaults.template = \"ggplot2\"\n",
    "px.defaults.height = 600"
   ]
  },
  {
   "cell_type": "code",
   "execution_count": null,
   "metadata": {},
   "outputs": [],
   "source": [
    "df = px.data.iris()\n",
    "fig = px.scatter(df, x=\"sepal_width\", y=\"sepal_length\", color=\"species\")\n",
    "fig.show()"
   ]
  },
  {
   "cell_type": "code",
   "execution_count": null,
   "metadata": {},
   "outputs": [],
   "source": [
    "fig = go.Figure(data =\n",
    "    go.Contour(\n",
    "        z=[[10, 10.625, 12.5, 15.625, 20],\n",
    "           [5.625, 6.25, 8.125, 11.25, 15.625],\n",
    "           [2.5, 3.125, 5., 8.125, 12.5],\n",
    "           [0.625, 1.25, 3.125, 6.25, 10.625],\n",
    "           [0, 0.625, 2.5, 5.625, 10]],\n",
    "        x=[-9, -6, -5 , -3, -1], # horizontal axis\n",
    "        y=[0, 1, 4, 5, 7] # vertical axis\n",
    "    ))\n",
    "fig.show()"
   ]
  },
  {
   "cell_type": "markdown",
   "metadata": {},
   "source": [
    "> Leitura recomendada:\n",
    "> * [Plotly](https://plotly.com/python/)\n",
    "> * [Plotly Express in Python](https://plotly.com/python/plotly-express/)\n",
    "> * [Dash App Gallery](https://dash-gallery.plotly.host/Portal/)"
   ]
  },
  {
   "cell_type": "markdown",
   "metadata": {},
   "source": [
    "#### Handcalcs\n",
    "\n",
    "Handcalcs é uma biblioteca para renderizar o código de cálculo Python automaticamente em $\\LaTeX$. Como o handcalcs mostra a substituição numérica, os cálculos se tornam significativamente mais fáceis de visualizar e verificar manualmente. A ferramenta é extremamente útil em vários contextos, mas pode-se destacar seu destaque na ramo do ensino, podendo ser empregada tanto por professores produzindo material didático, quanto por alunos preparando trabalhos e relatórios."
   ]
  },
  {
   "cell_type": "code",
   "execution_count": null,
   "metadata": {},
   "outputs": [],
   "source": [
    "import handcalcs.render"
   ]
  },
  {
   "cell_type": "markdown",
   "metadata": {},
   "source": [
    "Nós vamos ver a biblioteca na prática logo mais, caracterizada pelos blocos de código que começam com o comando mágico `%%render`:"
   ]
  },
  {
   "cell_type": "code",
   "execution_count": null,
   "metadata": {},
   "outputs": [],
   "source": [
    "%%render\n",
    "a = 2  # Eu sou um exemplo\n",
    "b = 3\n",
    "c = 2 * a + b / 3  # Olhe esse resultado!"
   ]
  },
  {
   "cell_type": "markdown",
   "metadata": {},
   "source": [
    "> Leitura complementar:\n",
    "> * [Veja no GitHub](www.github.com/connorferster/handcalcs)."
   ]
  },
  {
   "cell_type": "markdown",
   "metadata": {},
   "source": [
    "#### Pint\n",
    "\n",
    "Pint é um pacote Python para definir, operar e manipular quantidades físicas: o produto de um valor numérico e uma unidade de medida. Ele permite operações aritméticas entre eles e conversões de e para diferentes unidades."
   ]
  },
  {
   "cell_type": "code",
   "execution_count": null,
   "metadata": {},
   "outputs": [],
   "source": [
    "import pint"
   ]
  },
  {
   "cell_type": "code",
   "execution_count": null,
   "metadata": {},
   "outputs": [],
   "source": [
    "ureg = pint.UnitRegistry()"
   ]
  },
  {
   "cell_type": "markdown",
   "metadata": {},
   "source": [
    "Veja o exemplo com a combinação de diferentes unidades de medida:"
   ]
  },
  {
   "cell_type": "code",
   "execution_count": null,
   "metadata": {},
   "outputs": [],
   "source": [
    "distancia = 3 * ureg(\"meter\") + 4 * ureg(\"centimeter\")\n",
    "distancia"
   ]
  },
  {
   "cell_type": "markdown",
   "metadata": {},
   "source": [
    "Podemos agora converter essa distância facilmente para outras unidades:"
   ]
  },
  {
   "cell_type": "code",
   "execution_count": null,
   "metadata": {},
   "outputs": [],
   "source": [
    "distancia.to(\"inch\")"
   ]
  },
  {
   "cell_type": "markdown",
   "metadata": {},
   "source": [
    "Vamos para um exemplo mais aplicado, com as propriedados do material (prata):"
   ]
  },
  {
   "cell_type": "code",
   "execution_count": null,
   "metadata": {},
   "outputs": [],
   "source": [
    "%%render\n",
    "k = ( 429 * ureg(\"W/(m*K)\") ) # Condutividade térmica\n",
    "rho = ( 10.5e3 * ureg(\"kg/m**3\") )  # Massa específica\n",
    "c_p = ( 235 * ureg(\"J/(kg*K)\") ) # Calor específico"
   ]
  },
  {
   "cell_type": "markdown",
   "metadata": {},
   "source": [
    "Agora calculamos a difusividade térmica (perceba a combinação com o Handcalcs):"
   ]
  },
  {
   "cell_type": "code",
   "execution_count": null,
   "metadata": {},
   "outputs": [],
   "source": [
    "%%render\n",
    "alpha = k / (rho * c_p)  # Difusividade térmica"
   ]
  },
  {
   "cell_type": "markdown",
   "metadata": {},
   "source": [
    "Nem sempre a simplificação de unidades é automática, mas podemos acionar manualmente:"
   ]
  },
  {
   "cell_type": "code",
   "execution_count": null,
   "metadata": {},
   "outputs": [],
   "source": [
    "alpha.to_base_units()"
   ]
  },
  {
   "cell_type": "markdown",
   "metadata": {},
   "source": [
    "Note que o uso de unidades também é compatível com os arranjos numéricos do NumPy:"
   ]
  },
  {
   "cell_type": "code",
   "execution_count": null,
   "metadata": {},
   "outputs": [],
   "source": [
    "np.linspace(0, 10, num=11) * ureg(\"hour\")"
   ]
  },
  {
   "cell_type": "markdown",
   "metadata": {},
   "source": [
    "> Leitura recomendada:\n",
    "> * [Pint: makes units easy](https://pint.readthedocs.io/en/stable/)"
   ]
  },
  {
   "cell_type": "markdown",
   "metadata": {
    "colab": {},
    "colab_type": "code",
    "id": "hOC-0GylxlgY"
   },
   "source": [
    "-----\n",
    "\n",
    "> **Felipe N. Schuch**,<br>\n",
    "> Pesquisador em Fluidodinâmica Computacional na PUCRS, com interesse em: Escoamentos turbulentos, transferência de calor e massa, e interação fluido-estrutura; Processamento e visualização de dados em Python; Jupyter Notebook como uma ferramenta de colaboração, pesquisa e ensino.<br>\n",
    "> [felipeschuch@outlook.com](mailto:felipeschuch@outlook.com \"Email\") [@fschuch](https://twitter.com/fschuch \"Twitter\") [Aprenda.py](https://fschuch.github.io/aprenda.py \"Blog\") [@aprenda.py](https://www.instagram.com/aprenda.py/ \"Instagram\")<br>\n",
    "\n",
    "-----"
   ]
  }
 ],
 "metadata": {
  "celltoolbar": "Slideshow",
  "colab": {
   "include_colab_link": true,
   "name": "aula.ipynb",
   "provenance": [],
   "toc_visible": true
  },
  "kernelspec": {
   "display_name": "Python 3",
   "language": "python",
   "name": "python3"
  },
  "language_info": {
   "codemirror_mode": {
    "name": "ipython",
    "version": 3
   },
   "file_extension": ".py",
   "mimetype": "text/x-python",
   "name": "python",
   "nbconvert_exporter": "python",
   "pygments_lexer": "ipython3",
   "version": "3.8.8"
  },
  "toc": {
   "base_numbering": 1,
   "nav_menu": {},
   "number_sections": true,
   "sideBar": true,
   "skip_h1_title": true,
   "title_cell": "Sumário",
   "title_sidebar": "Sumário",
   "toc_cell": true,
   "toc_position": {
    "height": "calc(100% - 180px)",
    "left": "10px",
    "top": "150px",
    "width": "334.6px"
   },
   "toc_section_display": true,
   "toc_window_display": true
  },
  "toc-autonumbering": true,
  "varInspector": {
   "cols": {
    "lenName": 16,
    "lenType": 16,
    "lenVar": 40
   },
   "kernels_config": {
    "python": {
     "delete_cmd_postfix": "",
     "delete_cmd_prefix": "del ",
     "library": "var_list.py",
     "varRefreshCmd": "print(var_dic_list())"
    },
    "r": {
     "delete_cmd_postfix": ") ",
     "delete_cmd_prefix": "rm(",
     "library": "var_list.r",
     "varRefreshCmd": "cat(var_dic_list()) "
    }
   },
   "oldHeight": 413.85,
   "position": {
    "height": "576.85px",
    "left": "1476px",
    "right": "20px",
    "top": "189px",
    "width": "342px"
   },
   "types_to_exclude": [
    "module",
    "function",
    "builtin_function_or_method",
    "instance",
    "_Feature"
   ],
   "varInspector_section_display": "block",
   "window_display": false
  },
  "widgets": {
   "application/vnd.jupyter.widget-state+json": {
    "state": {},
    "version_major": 2,
    "version_minor": 0
   }
  }
 },
 "nbformat": 4,
 "nbformat_minor": 4
}
