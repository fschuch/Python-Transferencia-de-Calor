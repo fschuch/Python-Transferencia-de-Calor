{
 "cells": [
  {
   "cell_type": "markdown",
   "metadata": {
    "toc-hr-collapsed": false
   },
   "source": [
    "# Métodos Numéricos Aplicados à Transferência de Calor"
   ]
  },
  {
   "cell_type": "markdown",
   "metadata": {},
   "source": [
    "## Introdução\n",
    "\n",
    "O normal do nosso fluxo de trabalho é iniciar importando as bibliotecas que vamos utilizar no decorrer do material.\n",
    "Um maior detalhamento sobre elas já foi feito na aula anterior, de modo que agora podemos utilizar diretamente:"
   ]
  },
  {
   "cell_type": "code",
   "execution_count": null,
   "metadata": {},
   "outputs": [],
   "source": [
    "import handcalcs.render\n",
    "import matplotlib.pyplot as plt\n",
    "import numpy as np\n",
    "import plotly.express as px\n",
    "import plotly.figure_factory as ff\n",
    "import plotly.graph_objects as go\n",
    "import plotly.io as pio\n",
    "from tqdm.notebook import tqdm"
   ]
  },
  {
   "cell_type": "markdown",
   "metadata": {},
   "source": [
    "O bloco a seguir é opcional, ele vai alterar o estilo padrão de nossas figuras, e aumentar um pouco o seu tamanho, melhorando a apresentação em nossa aula:"
   ]
  },
  {
   "cell_type": "code",
   "execution_count": null,
   "metadata": {},
   "outputs": [],
   "source": [
    "# Definindo um novo estilo para as figuras [opcional]\n",
    "# Esse bloco modifica alguns dos valores padrões para\n",
    "\n",
    "plt.rcdefaults()\n",
    "\n",
    "# https://matplotlib.org/3.1.0/gallery/style_sheets/style_sheets_reference.html\n",
    "plt.style.use(\"ggplot\")\n",
    "\n",
    "# https://matplotlib.org/3.1.1/tutorials/introductory/customizing.html\n",
    "plt.rcParams.update({\"figure.dpi\": 100, \"figure.figsize\": (6, 6)})\n",
    "\n",
    "px.defaults.template = \"ggplot2\"\n",
    "px.defaults.height = 600\n",
    "pio.templates.default = \"ggplot2\""
   ]
  },
  {
   "cell_type": "markdown",
   "metadata": {
    "colab_type": "text",
    "id": "7cXkW1EyOei7",
    "toc-hr-collapsed": false
   },
   "source": [
    "## Exercícios Resolvidos"
   ]
  },
  {
   "cell_type": "markdown",
   "metadata": {
    "slideshow": {
     "slide_type": "subslide"
    }
   },
   "source": [
    "### Convecção e difusão transiente unidimensional\n",
    "\n",
    "Resolver a EDP:\n",
    "\n",
    "\\begin{equation}\n",
    "    \\dfrac{\\partial T}{\\partial t} = \\alpha \\dfrac{\\partial^2 T}{\\partial x^2} - u\\dfrac{\\partial T}{\\partial x}, \\quad 0\\leq x \\leq 1 ; 0\\leq t \\leq 8\n",
    "\\end{equation}\n",
    "\n",
    "Condições de contorno:\n",
    "\n",
    "\\begin{equation}\n",
    "    T(0,t)=T(1,t)=0\n",
    "\\end{equation}\n",
    "\n",
    "Condição inicial:\n",
    "\n",
    "\\begin{equation}\n",
    "    T(x,0) =  1 - ( 10 x - 1 )^2 \\quad \\text{ se $0 \\leq x \\leq 0,2$}, \\quad \\text{ senão } T(x,0) = 0\n",
    "\\end{equation}\n",
    "\n",
    "\n",
    "Discretizando com as derivadas espaciais numa representação por diferença central e a derivada temporal com diferença ascendente:\n",
    "\n",
    "\\begin{equation}\n",
    "\\dfrac{T_{i,n+1}-T_{i,n}}{\\Delta t}=\\alpha \\dfrac{T_{i-1,n}-2T_{i,n}+T_{i+1,n}}{(\\Delta x)^2} -u\\dfrac{T_{i+1,n}-T_{i-1,n}}{2\\Delta x}, \\quad 1 \\le i \\le I - 2, \\quad n > 0,\n",
    "\\end{equation}\n",
    "\n",
    "\\begin{equation}\n",
    "T_{i=0,n} = 0,\n",
    "\\end{equation}\n",
    "\\begin{equation}\n",
    "T_{i=I-1,n} = 0.\n",
    "\\end{equation}"
   ]
  },
  {
   "cell_type": "markdown",
   "metadata": {},
   "source": [
    "Agora devemos isolar a incógnita do nosso problema: o termo $T_{i,n+1}$. Perceba que todos os termos à direita são conhecidos, e usamos essa informação para avançar progressivamente no tempo:"
   ]
  },
  {
   "cell_type": "markdown",
   "metadata": {},
   "source": [
    "\\begin{equation}\n",
    "T_{i,n+1} = T_{i,n} + \\Delta t \\left( \\alpha \\dfrac{T_{i-1,n}-2T_{i,n}+T_{i+1,n}}{(\\Delta x)^2} -u\\dfrac{T_{i+1,n}-T_{i-1,n}}{2\\Delta x} \\right), \\quad 1 \\le i \\le I - 2, \\quad n > 0,\n",
    "\\end{equation}"
   ]
  },
  {
   "cell_type": "markdown",
   "metadata": {},
   "source": [
    "Veja como podemos programar a solução para o problema, e note, principalmente, como ela se assemelha muito com a notação discretizada da equação acima. Aqui está o código:"
   ]
  },
  {
   "cell_type": "code",
   "execution_count": null,
   "metadata": {},
   "outputs": [],
   "source": [
    "def equação_exemplo_1(coord_x, coord_t, alpha, u):\n",
    "    \n",
    "    # Condição inicial\n",
    "    T = np.zeros(shape = (coord_x.size, coord_t.size))\n",
    "    \n",
    "    for i, x in enumerate(coord_x):\n",
    "        if x <= 0.2:\n",
    "            T[i] = 1. - (10. * x - 1) ** 2.\n",
    "    \n",
    "    # Condições de contorno\n",
    "    T[0, :] = 0.0\n",
    "    T[-1, :] = 0.0\n",
    "    \n",
    "    # Passo de tempo e resolução da malha\n",
    "    dt = coord_t[1] - coord_t[0]\n",
    "    dx = coord_x[1] - coord_x[0]\n",
    "\n",
    "    # Aqui resolve-se a equação\n",
    "    for n in tqdm(range(0, coord_t.size - 1)):\n",
    "        for i in range(1, coord_x.size - 1):\n",
    "                \n",
    "                T[i, n + 1] = T[i, n] + dt * (\n",
    "                    alpha * (T[i - 1, n] - 2.0 * T[i, n] + T[i + 1, n]) / dx**2.0\n",
    "                    - u * (T[i + 1, n] - T[i - 1, n]) / (2.0 * dx)\n",
    "                )\n",
    "    \n",
    "    return T"
   ]
  },
  {
   "cell_type": "markdown",
   "metadata": {},
   "source": [
    "Hora de executar o cálculo utilizando a função que definimos no bloco anterior:"
   ]
  },
  {
   "cell_type": "code",
   "execution_count": null,
   "metadata": {},
   "outputs": [],
   "source": [
    "coord_x = np.linspace(0., 1., num=101)\n",
    "coord_t = np.linspace(0., 8., num=2001)\n",
    "\n",
    "T = equação_exemplo_1(\n",
    "    coord_x,\n",
    "    coord_t,\n",
    "    alpha = 0.001,\n",
    "    u = 0.08\n",
    ")"
   ]
  },
  {
   "cell_type": "markdown",
   "metadata": {},
   "source": [
    "Por fim, exemplificamos a exibição dos resultados com `plotly`:"
   ]
  },
  {
   "cell_type": "code",
   "execution_count": null,
   "metadata": {},
   "outputs": [],
   "source": [
    "fig = go.Figure()\n",
    "\n",
    "for n in range(0, coord_t.size, 500):\n",
    "\n",
    "    fig.add_trace(\n",
    "        go.Scatter(\n",
    "            x=coord_x, y=T[:,n],\n",
    "            mode='lines',\n",
    "            name=f't={coord_t[n]}'\n",
    "        )\n",
    "    )  \n",
    "\n",
    "fig.update_layout(\n",
    "    title='Convecção e difusão transiente',\n",
    "    xaxis_title='x',\n",
    "    yaxis_title='Temperatura'\n",
    ")\n",
    "    \n",
    "fig.show()"
   ]
  },
  {
   "cell_type": "code",
   "execution_count": null,
   "metadata": {},
   "outputs": [],
   "source": [
    "fig = px.imshow(\n",
    "    T.T,\n",
    "    x = coord_x,\n",
    "    y = coord_t,\n",
    "    color_continuous_scale = 'RdBu_r',\n",
    "    title = \"Temperatura\",\n",
    "    labels = dict(x = \"x\", y = \"tempo\"),\n",
    "    aspect = \"auto\",\n",
    "    origin = \"lower\"\n",
    ")\n",
    "fig.show()"
   ]
  },
  {
   "cell_type": "markdown",
   "metadata": {},
   "source": [
    "### Escoamento em Cavidade com Transferência de Calor"
   ]
  },
  {
   "cell_type": "markdown",
   "metadata": {},
   "source": [
    "Aqui está o sistema de equações diferenciais: a equação da continuidade, duas equações para os componentes de velocidade $u,v$ e uma equação para a temperatura $\\Theta$:"
   ]
  },
  {
   "cell_type": "markdown",
   "metadata": {},
   "source": [
    "$$ \\frac{\\partial u}{\\partial x} + \\frac{\\partial v}{\\partial y} = 0 $$\n",
    "\n",
    "$$\\frac{\\partial u}{\\partial t}+u\\frac{\\partial u}{\\partial x}+v\\frac{\\partial u}{\\partial y} = - \\frac{\\partial p}{\\partial x}+ \\frac{1}{Re} \\left(\\frac{\\partial^2 u}{\\partial x^2}+\\frac{\\partial^2 u}{\\partial y^2} \\right) $$\n",
    "\n",
    "$$\\frac{\\partial v}{\\partial t}+u\\frac{\\partial v}{\\partial x}+v\\frac{\\partial v}{\\partial y} = - \\frac{\\partial p}{\\partial y}+ \\frac{1}{Re} \\left(\\frac{\\partial^2 v}{\\partial x^2}+\\frac{\\partial^2 v}{\\partial y^2}\\right) + Ri ~ \\Theta $$\n",
    "\n",
    "$$ \\frac{\\partial \\Theta}{\\partial t} + u\\frac{\\partial \\Theta}{\\partial x} + v\\frac{\\partial \\Theta}{\\partial y} = \\frac{1}{Re ~ Pr} \\left(\\frac{\\partial^2 \\Theta}{\\partial x^2}+\\frac{\\partial^2 \\Theta}{\\partial y^2} \\right) $$"
   ]
  },
  {
   "cell_type": "markdown",
   "metadata": {},
   "source": [
    "* Equações discretas:\n",
    "\n",
    "Primeiro, vamos discretizar a equação do momento para $u$, da seguinte maneira:\n",
    "\n",
    "$$\n",
    "\\begin{split}\n",
    "& \\frac{u_{i,j}^{n+1}-u_{i,j}^{n}}{\\Delta t}+u_{i,j}^{n}\\frac{u_{i+1,j}^{n}-u_{i-1,j}^{n}}{2 \\Delta x}+v_{i,j}^{n}\\frac{u_{i,j+1}^{n}-u_{i,j-1}^{n}}{2\\Delta y} = \\\\ \n",
    "& \\qquad -\\frac{p_{i+1,j}^{n}-p_{i-1,j}^{n}}{2\\Delta x}+\\frac{1}{Re}\\left(\\frac{u_{i+1,j}^{n}-2u_{i,j}^{n}+u_{i-1,j}^{n}}{\\Delta x^2}+\\frac{u_{i,j+1}^{n}-2u_{i,j}^{n}+u_{i,j-1}^{n}}{\\Delta y^2}\\right)\n",
    "\\end{split}\n",
    "$$"
   ]
  },
  {
   "cell_type": "markdown",
   "metadata": {},
   "source": [
    "Da mesma forma para a equação do momento para $v$:\n",
    "\n",
    "$$\n",
    "\\begin{split}\n",
    "&\\frac{v_{i,j}^{n+1}-v_{i,j}^{n}}{\\Delta t}+u_{i,j}^{n}\\frac{v_{i+1,j}^{n}-v_{i-1,j}^{n}}{2\\Delta x}+v_{i,j}^{n}\\frac{v_{i,j+1}^{n}-v_{i,j-1}^{n}}{2\\Delta y} = \\\\\n",
    "& \\qquad - \\frac{p_{i,j+1}^{n}-p_{i,j-1}^{n}}{2\\Delta y}\n",
    "+\\frac{1}{Re}\\left(\\frac{v_{i+1,j}^{n}-2v_{i,j}^{n}+v_{i-1,j}^{n}}{\\Delta x^2}+\\frac{v_{i,j+1}^{n}-2v_{i,j}^{n}+v_{i,j-1}^{n}}{\\Delta y^2}\\right) + Ri ~ \\Theta_{i,j}\n",
    "\\end{split}\n",
    "$$"
   ]
  },
  {
   "cell_type": "markdown",
   "metadata": {},
   "source": [
    "A obtenção da equação de pressão-Poisson discretizada está fora do escopo dessa aula, por ser parte da disciplina de mecânica dos fluidos computacional, mais detalhes podem ser obtidos nos passos 10 e 11 do curso [CFD com Python](https://github.com/fschuch/CFDPython-BR). De qualquer maneira, a equação pode ser escrita assim:\n",
    "\n",
    "$$\n",
    "\\begin{split}\n",
    "& \\frac{p_{i+1,j}^{n}-2p_{i,j}^{n}+p_{i-1,j}^{n}}{\\Delta x^2}+\\frac{p_{i,j+1}^{n}-2p_{i,j}^{n}+p_{i,j-1}^{n}}{\\Delta y^2} = \\\\\n",
    "& \\qquad \\left[ \\frac{1}{\\Delta t}\\left(\\frac{u_{i+1,j}-u_{i-1,j}}{2\\Delta x}+\\frac{v_{i,j+1}-v_{i,j-1}}{2\\Delta y}\\right) -\\frac{u_{i+1,j}-u_{i-1,j}}{2\\Delta x}\\frac{u_{i+1,j}-u_{i-1,j}}{2\\Delta x} - 2\\frac{u_{i,j+1}-u_{i,j-1}}{2\\Delta y}\\frac{v_{i+1,j}-v_{i-1,j}}{2\\Delta x} - \\frac{v_{i,j+1}-v_{i,j-1}}{2\\Delta y}\\frac{v_{i,j+1}-v_{i,j-1}}{2\\Delta y}\\right]\n",
    "\\end{split}\n",
    "$$\n",
    "\n",
    "Por fim, a equação para temperatura:\n",
    "\n",
    "$$\n",
    "\\begin{split}\n",
    "&\\frac{\\Theta_{i,j}^{n+1}-\\Theta_{i,j}^{n}}{\\Delta t}+u_{i,j}^{n}\\frac{\\Theta_{i+1,j}^{n}-\\Theta_{i-1,j}^{n}}{2\\Delta x}+v_{i,j}^{n}\\frac{\\Theta_{i,j+1}^{n}-\\Theta_{i,j-1}^{n}}{2\\Delta y} = \\\\\n",
    "& \\qquad + \\frac{1}{Re ~ Pr}\\left(\\frac{\\Theta_{i+1,j}^{n}-2\\Theta_{i,j}^{n}+\\Theta_{i-1,j}^{n}}{\\Delta x^2}+\\frac{\\Theta_{i,j+1}^{n}-2\\Theta_{i,j}^{n}+\\Theta_{i,j-1}^{n}}{\\Delta y^2}\\right)\n",
    "\\end{split}\n",
    "$$\n",
    "\n",
    "**Exercitando:** Você pode escrever essas equações em suas próprias anotações, manualmente, seguindo cada termo mentalmente à medida que as escreve.\n",
    "\n",
    "Como antes, vamos reorganizar as equações da maneira que as iterações devem proceder no código. Primeiro, as equações de momento para a velocidade no passo de tempo subsequente.\n",
    "\n",
    "A equação do momento na direção de $u$:\n",
    "\n",
    "$$\n",
    "\\begin{split}\n",
    "u_{i,j}^{n+1} = u_{i,j}^{n} & - u_{i,j}^{n} \\frac{\\Delta t}{2\\Delta x} \\left(u_{i+1,j}^{n}-u_{i-1,j}^{n}\\right) - v_{i,j}^{n} \\frac{\\Delta t}{2\\Delta y} \\left(u_{i,j+1}^{n}-u_{i,j-1}^{n}\\right) \\\\\n",
    "& - \\frac{\\Delta t}{2\\Delta x} \\left(p_{i+1,j}^{n}-p_{i-1,j}^{n}\\right) \\\\\n",
    "& + \\frac{1}{Re} \\left(\\frac{\\Delta t}{\\Delta x^2} \\left(u_{i+1,j}^{n}-2u_{i,j}^{n}+u_{i-1,j}^{n}\\right) + \\frac{\\Delta t}{\\Delta y^2} \\left(u_{i,j+1}^{n}-2u_{i,j}^{n}+u_{i,j-1}^{n}\\right)\\right)\n",
    "\\end{split}\n",
    "$$"
   ]
  },
  {
   "cell_type": "code",
   "execution_count": null,
   "metadata": {},
   "outputs": [],
   "source": [
    "def cavidade_u(u, v, dt, dx, dy, p, re):\n",
    "    return (\n",
    "        u[1:-1, 1:-1]\n",
    "        - u[1:-1, 1:-1] * dt / (2*dx) * (u[2:, 1:-1] - u[0:-2, 1:-1])\n",
    "        - v[1:-1, 1:-1] * dt / (2*dy) * (u[1:-1, 2:] - u[1:-1, 0:-2])\n",
    "        - dt / (2 * dx) * (p[2:, 1:-1] - p[0:-2, 1:-1])\n",
    "        + (1.0 / re)\n",
    "        * (\n",
    "            dt / dx ** 2 * (u[2:, 1:-1] - 2 * u[1:-1, 1:-1] + u[0:-2, 1:-1])\n",
    "            + dt / dy ** 2 * (u[1:-1, 2:] - 2 * u[1:-1, 1:-1] + u[1:-1, 0:-2])\n",
    "        )\n",
    "    )"
   ]
  },
  {
   "cell_type": "markdown",
   "metadata": {},
   "source": [
    "A equação do momento na direção de $v$:\n",
    "\n",
    "$$\n",
    "\\begin{split}\n",
    "v_{i,j}^{n+1} = v_{i,j}^{n} & - u_{i,j}^{n} \\frac{\\Delta t}{2\\Delta x} \\left(v_{i+1,j}^{n}-v_{i-1,j}^{n}\\right) - v_{i,j}^{n} \\frac{\\Delta t}{2\\Delta y} \\left(v_{i,j+1}^{n}-v_{i,j-1}^{n})\\right) \\\\\n",
    "& - \\frac{\\Delta t}{2\\Delta y} \\left(p_{i,j+1}^{n}-p_{i,j-1}^{n}\\right) \\\\\n",
    "& + \\frac{1}{Re} \\left(\\frac{\\Delta t}{\\Delta x^2} \\left(v_{i+1,j}^{n}-2v_{i,j}^{n}+v_{i-1,j}^{n}\\right) + \\frac{\\Delta t}{\\Delta y^2} \\left(v_{i,j+1}^{n}-2v_{i,j}^{n}+v_{i,j-1}^{n}\\right)\\right) + \\Delta t ~ Ri ~ \\Theta_{i,j}\n",
    "\\end{split}\n",
    "$$"
   ]
  },
  {
   "cell_type": "code",
   "execution_count": null,
   "metadata": {},
   "outputs": [],
   "source": [
    "def cavidade_v(u, v, theta, dt, dx, dy, p, re, ri):\n",
    "    return (\n",
    "        v[1:-1, 1:-1]\n",
    "        - u[1:-1, 1:-1] * dt / (2*dx) * (v[2:, 1:-1] - v[0:-2, 1:-1])\n",
    "        - v[1:-1, 1:-1] * dt / (2*dy) * (v[1:-1, 2:] - v[1:-1, 0:-2])\n",
    "        - dt / (2 * dy) * (p[1:-1, 2:] - p[1:-1, 0:-2])\n",
    "        + (1.0 / re)\n",
    "        * (\n",
    "            dt / dx ** 2 * (v[2:, 1:-1] - 2 * v[1:-1, 1:-1] + v[0:-2, 1:-1])\n",
    "            + dt / dy ** 2 * (v[1:-1, 2:] - 2 * v[1:-1, 1:-1] + v[1:-1, 0:-2])\n",
    "        )\n",
    "    ) + ri * dt * theta[1:-1, 1:-1]"
   ]
  },
  {
   "cell_type": "markdown",
   "metadata": {},
   "source": [
    "Agora, reorganizamos a equação de pressão-Poisson:\n",
    "\n",
    "$$\n",
    "\\begin{split}\n",
    "p_{i,j}^{n} = & \\frac{\\left(p_{i+1,j}^{n}+p_{i-1,j}^{n}\\right) \\Delta y^2 + \\left(p_{i,j+1}^{n}+p_{i,j-1}^{n}\\right) \\Delta x^2}{2\\left(\\Delta x^2+\\Delta y^2\\right)} \\\\\n",
    "& -\\frac{\\Delta x^2\\Delta y^2}{2\\left(\\Delta x^2+\\Delta y^2\\right)} \\\\\n",
    "& \\times \\left[\\frac{1}{\\Delta t}\\left(\\frac{u_{i+1,j}-u_{i-1,j}}{2\\Delta x}+\\frac{v_{i,j+1}-v_{i,j-1}}{2\\Delta y}\\right)-\\frac{u_{i+1,j}-u_{i-1,j}}{2\\Delta x}\\frac{u_{i+1,j}-u_{i-1,j}}{2\\Delta x} -2\\frac{u_{i,j+1}-u_{i,j-1}}{2\\Delta y}\\frac{v_{i+1,j}-v_{i-1,j}}{2\\Delta x}-\\frac{v_{i,j+1}-v_{i,j-1}}{2\\Delta y}\\frac{v_{i,j+1}-v_{i,j-1}}{2\\Delta y}\\right]\n",
    "\\end{split}\n",
    "$$"
   ]
  },
  {
   "cell_type": "code",
   "execution_count": null,
   "metadata": {},
   "outputs": [],
   "source": [
    "def build_up_b(u, v, dt, dx, dy):\n",
    "    \"\"\"Constrói o termo entre chaves na equação acima\"\"\"\n",
    "    \n",
    "    b = np.zeros_like(u)\n",
    "\n",
    "    b[1:-1, 1:-1] = (\n",
    "        1\n",
    "        / dt\n",
    "        * (\n",
    "            (u[2:, 1:-1] - u[0:-2, 1:-1]) / (2 * dx)\n",
    "            + (v[1:-1, 2:] - v[1:-1, 0:-2]) / (2 * dy)\n",
    "        )\n",
    "        - ((u[2:, 1:-1] - u[0:-2, 1:-1]) / (2 * dx)) ** 2\n",
    "        - 2\n",
    "        * (\n",
    "            (u[1:-1, 2:] - u[1:-1, 0:-2])\n",
    "            / (2 * dy)\n",
    "            * (v[2:, 1:-1] - v[0:-2, 1:-1])\n",
    "            / (2 * dx)\n",
    "        )\n",
    "        - ((v[1:-1, 2:] - v[1:-1, 0:-2]) / (2 * dy)) ** 2\n",
    "    )\n",
    "\n",
    "    return b\n",
    "\n",
    "\n",
    "def pressure_poisson(u, v, dt, dx, dy, p, nit=100):\n",
    "\n",
    "    b = build_up_b(u, v, dt, dx, dy)\n",
    "\n",
    "    for q in range(nit):\n",
    "        pn = p.copy()\n",
    "        p[1:-1, 1:-1] = (\n",
    "            (\n",
    "                (pn[2:, 1:-1] + pn[0:-2, 1:-1]) * dy ** 2\n",
    "                + (pn[1:-1, 2:] + pn[1:-1, 0:-2]) * dx ** 2\n",
    "            )\n",
    "            / (2 * (dx ** 2 + dy ** 2))\n",
    "            - dx ** 2 * dy ** 2 / (2 * (dx ** 2 + dy ** 2)) * b[1:-1, 1:-1]\n",
    "        )\n",
    "\n",
    "        p[-1, :] = p[-2, :]  # dp/dx = 0 at x = 2\n",
    "        p[:, 0] = p[:, 1]  # dp/dy = 0 at y = 0\n",
    "        p[0, :] = p[1, :]  # dp/dx = 0 at x = 0\n",
    "        p[:, -1] = 0  # p = 0 at y = 2\n",
    "\n",
    "    return p"
   ]
  },
  {
   "cell_type": "markdown",
   "metadata": {},
   "source": [
    "Quase lá! Só falta a equação para temperatura:\n",
    "\n",
    "$$\n",
    "\\begin{split}\n",
    "\\Theta_{i,j}^{n+1} = \\Theta_{i,j}^{n} & - u_{i,j}^{n} \\frac{\\Delta t}{2\\Delta x} \\left(\\Theta_{i+1,j}^{n}-\\Theta_{i-1,j}^{n}\\right) - v_{i,j}^{n} \\frac{\\Delta t}{2\\Delta y} \\left(\\Theta_{i,j+1}^{n}-\\Theta_{i,j-1}^{n})\\right) \\\\\n",
    "& + \\frac{1}{Re ~ Pr} \\left(\\frac{\\Delta t}{\\Delta x^2} \\left(\\Theta_{i+1,j}^{n}-2\\Theta_{i,j}^{n}+\\Theta_{i-1,j}^{n}\\right) + \\frac{\\Delta t}{\\Delta y^2} \\left(\\Theta_{i,j+1}^{n}-2\\Theta_{i,j}^{n}+\\Theta_{i,j-1}^{n}\\right)\\right)\n",
    "\\end{split}\n",
    "$$"
   ]
  },
  {
   "cell_type": "code",
   "execution_count": null,
   "metadata": {},
   "outputs": [],
   "source": [
    "def cavidade_theta(u, v, theta, dt, dx, dy, p, re, pr):\n",
    "    return (\n",
    "        theta[1:-1, 1:-1]\n",
    "        - u[1:-1, 1:-1] * dt / (2*dx) * (theta[2:, 1:-1] - theta[0:-2, 1:-1])\n",
    "        - v[1:-1, 1:-1] * dt / (2*dy) * (theta[1:-1, 2:] - theta[1:-1, 0:-2])\n",
    "        + (1.0 / re / pr)\n",
    "        * (\n",
    "            dt / dx ** 2 * (theta[2:, 1:-1] - 2 * theta[1:-1, 1:-1] + theta[0:-2, 1:-1])\n",
    "            + dt\n",
    "            / dy ** 2\n",
    "            * (theta[1:-1, 2:] - 2 * theta[1:-1, 1:-1] + theta[1:-1, 0:-2])\n",
    "        )\n",
    "    )"
   ]
  },
  {
   "cell_type": "markdown",
   "metadata": {},
   "source": [
    "A condição inicial é $u, v, p, \\Theta = 0 $ em todos os lugares, e as condições de contorno são:\n",
    "\n",
    "$u=1$ e $\\Theta=0$ em $y=2$ (a \"tampa\");\n",
    "\n",
    "$u, v = 0$ e $\\Theta=1$ nas fronteiras restantes;\n",
    "\n",
    "$\\frac{\\partial p}{\\partial y}=0$ em $y=0$;\n",
    "\n",
    "$p=0$ em $y=2$\n",
    "\n",
    "$\\frac{\\partial p}{\\partial x}=0$ em $x=0$ e $x=2$"
   ]
  },
  {
   "cell_type": "markdown",
   "metadata": {},
   "source": [
    "Agora todos juntos em uma nova função para efetivamente resolver o escoamento em uma cavidade:"
   ]
  },
  {
   "cell_type": "code",
   "execution_count": null,
   "metadata": {},
   "outputs": [],
   "source": [
    "def cavidade(x, y, t, re, ri, pr):\n",
    "\n",
    "    # Condição inicial\n",
    "    u = np.zeros((x.size, y.size))\n",
    "    v = np.zeros((x.size, y.size))\n",
    "    p = np.zeros((x.size, y.size))\n",
    "    theta = np.zeros((x.size, y.size))\n",
    "\n",
    "    # Passo de tempo e resolução da malha\n",
    "    dt = t[1] - t[0]\n",
    "    dx = x[1] - x[0]\n",
    "    dy = y[1] - y[0]\n",
    "\n",
    "    # Laço temporal\n",
    "    for n in tqdm(range(t.size)):\n",
    "        un = u.copy()\n",
    "        vn = v.copy()\n",
    "        thetan = theta.copy()\n",
    "        \n",
    "        p = pressure_poisson(un, vn, dt, dx, dy, p)\n",
    "        u[1:-1, 1:-1] = cavidade_u(un, vn, dt, dx, dy, p, re)\n",
    "        v[1:-1, 1:-1] = cavidade_v(un, vn, thetan, dt, dx, dy, p, re, ri)\n",
    "        theta[1:-1, 1:-1] = cavidade_theta(un, vn, thetan, dt, dx, dy, p, re, pr)\n",
    "        \n",
    "        # Condições de contorno\n",
    "        u[:, 0] = 0\n",
    "        u[0, :] = 0\n",
    "        u[-1, :] = 0\n",
    "        u[:, -1] = 1  # Definir velocidade na tampa da cavidade igual a 1\n",
    "        v[:, 0] = 0\n",
    "        v[:, -1] = 0\n",
    "        v[0, :] = 0\n",
    "        v[-1, :] = 0\n",
    "        theta[-1, :] = 1\n",
    "        theta[:, 0] = 1\n",
    "        theta[0, :] = 1\n",
    "        theta[:, -1] = 0  # Definir theta na tampa da cavidade igual a 1\n",
    "    \n",
    "    return u, v, theta, p"
   ]
  },
  {
   "cell_type": "markdown",
   "metadata": {},
   "source": [
    "Hora da ação:"
   ]
  },
  {
   "cell_type": "code",
   "execution_count": null,
   "metadata": {},
   "outputs": [],
   "source": [
    "# Coordenadas\n",
    "x = np.linspace(start = 0.0, stop = 2.0, num=21)\n",
    "y = np.linspace(start = 0.0, stop = 2.0, num=21)\n",
    "t = np.arange(start = 0.0, stop = 5.0, step = 0.001)\n",
    "\n",
    "u, v, theta, p = cavidade(x, y, t, re = 40.0, ri = 0.0, pr = 1.0)"
   ]
  },
  {
   "cell_type": "markdown",
   "metadata": {},
   "source": [
    "Verificando os resultados:"
   ]
  },
  {
   "cell_type": "code",
   "execution_count": null,
   "metadata": {},
   "outputs": [],
   "source": [
    "fig = px.imshow(\n",
    "    theta.T,\n",
    "    x=x,\n",
    "    y=y,\n",
    "    color_continuous_scale=\"RdBu_r\",\n",
    "    title=\"Temperatura\",\n",
    "    labels=dict(x=\"x\", y=\"y\"),\n",
    "    origin=\"lower\",\n",
    ")\n",
    "fig.show()"
   ]
  },
  {
   "cell_type": "code",
   "execution_count": null,
   "metadata": {},
   "outputs": [],
   "source": [
    "fig = ff.create_streamline(\n",
    "    x[1:-1], y[1:-1], u.T[1:-1, 1:-1], v.T[1:-1, 1:-1], marker_color=\"black\",\n",
    ")\n",
    "\n",
    "fig.add_trace(\n",
    "    go.Contour(\n",
    "        z=theta.T,\n",
    "        x=x,\n",
    "        y=y,\n",
    "        colorscale=\"RdBu_r\",\n",
    "        colorbar=dict(title=\"Temperatura\", titleside=\"right\"),\n",
    "    )\n",
    ")\n",
    "\n",
    "fig.update_layout(\n",
    "    title=\"Escoamento em Cavidade com Transferência de Calor\",\n",
    "    xaxis_title=\"x\",\n",
    "    yaxis_title=\"y\",\n",
    "    autosize=False,\n",
    "    width=800,\n",
    "    height=800,\n",
    ")\n",
    "\n",
    "fig.show()"
   ]
  },
  {
   "cell_type": "markdown",
   "metadata": {},
   "source": [
    "> Leitura recomendada:\n",
    "> * Gostaria de se apronfundar mais no assunto? Veja a aula [Métodos Numéricos com Python](https://github.com/fschuch/metodos-numericos-com-python), que inclui a solução do problema da cavidade com transferência de calor utilizando conceitos Python mais avançados, como a criação e manipulação de classes em programação orientada ao objeto (OOP)."
   ]
  },
  {
   "cell_type": "markdown",
   "metadata": {
    "colab": {},
    "colab_type": "code",
    "id": "hOC-0GylxlgY"
   },
   "source": [
    "-----\n",
    "\n",
    "> **Felipe N. Schuch**,<br>\n",
    "> Pesquisador em Fluidodinâmica Computacional na PUCRS, com interesse em: Escoamentos turbulentos, transferência de calor e massa, e interação fluido-estrutura; Processamento e visualização de dados em Python; Jupyter Notebook como uma ferramenta de colaboração, pesquisa e ensino.<br>\n",
    "> [felipeschuch@outlook.com](mailto:felipeschuch@outlook.com \"Email\") [@fschuch](https://twitter.com/fschuch \"Twitter\") [Aprenda.py](https://fschuch.github.io/aprenda.py \"Blog\") [@aprenda.py](https://www.instagram.com/aprenda.py/ \"Instagram\")<br>\n",
    "\n",
    "-----"
   ]
  }
 ],
 "metadata": {
  "celltoolbar": "Slideshow",
  "colab": {
   "include_colab_link": true,
   "name": "aula.ipynb",
   "provenance": [],
   "toc_visible": true
  },
  "kernelspec": {
   "display_name": "Python 3",
   "language": "python",
   "name": "python3"
  },
  "language_info": {
   "codemirror_mode": {
    "name": "ipython",
    "version": 3
   },
   "file_extension": ".py",
   "mimetype": "text/x-python",
   "name": "python",
   "nbconvert_exporter": "python",
   "pygments_lexer": "ipython3",
   "version": "3.8.8"
  },
  "toc": {
   "base_numbering": 1,
   "nav_menu": {},
   "number_sections": true,
   "sideBar": true,
   "skip_h1_title": true,
   "title_cell": "Sumário",
   "title_sidebar": "Sumário",
   "toc_cell": true,
   "toc_position": {
    "height": "calc(100% - 180px)",
    "left": "10px",
    "top": "150px",
    "width": "334.6px"
   },
   "toc_section_display": true,
   "toc_window_display": true
  },
  "toc-autonumbering": true,
  "varInspector": {
   "cols": {
    "lenName": 16,
    "lenType": 16,
    "lenVar": 40
   },
   "kernels_config": {
    "python": {
     "delete_cmd_postfix": "",
     "delete_cmd_prefix": "del ",
     "library": "var_list.py",
     "varRefreshCmd": "print(var_dic_list())"
    },
    "r": {
     "delete_cmd_postfix": ") ",
     "delete_cmd_prefix": "rm(",
     "library": "var_list.r",
     "varRefreshCmd": "cat(var_dic_list()) "
    }
   },
   "oldHeight": 413.85,
   "position": {
    "height": "576.85px",
    "left": "1476px",
    "right": "20px",
    "top": "189px",
    "width": "342px"
   },
   "types_to_exclude": [
    "module",
    "function",
    "builtin_function_or_method",
    "instance",
    "_Feature"
   ],
   "varInspector_section_display": "block",
   "window_display": false
  },
  "widgets": {
   "application/vnd.jupyter.widget-state+json": {
    "state": {},
    "version_major": 2,
    "version_minor": 0
   }
  }
 },
 "nbformat": 4,
 "nbformat_minor": 4
}
