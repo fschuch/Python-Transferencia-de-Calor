{
 "cells": [
  {
   "cell_type": "markdown",
   "metadata": {
    "toc-hr-collapsed": false
   },
   "source": [
    "# Métodos Numéricos Aplicados à Transferência de Calor"
   ]
  },
  {
   "cell_type": "markdown",
   "metadata": {},
   "source": [
    "## Introdução\n",
    "\n",
    "O normal do nosso fluxo de trabalho é iniciar importando as bibliotecas que vamos utilizar no decorrer do material.\n",
    "Um maior detalhamento sobre elas já foi feito na aula anterior, de modo que agora podemos utilizar diretamente:"
   ]
  },
  {
   "cell_type": "code",
   "execution_count": null,
   "metadata": {},
   "outputs": [],
   "source": [
    "import handcalcs.render\n",
    "import matplotlib.pyplot as plt\n",
    "import numpy as np\n",
    "import pandas as pd\n",
    "import pint\n",
    "import plotly.express as px\n",
    "import plotly.graph_objects as go\n",
    "import plotly.io as pio\n",
    "import scipy as sp\n",
    "import scipy.integrate\n",
    "import scipy.optimize\n",
    "from tqdm.notebook import tqdm\n",
    "\n",
    "px.defaults.template = \"ggplot2\"\n",
    "px.defaults.height = 600\n",
    "pio.templates.default = \"ggplot2\"\n",
    "\n",
    "ureg = pint.UnitRegistry()"
   ]
  },
  {
   "cell_type": "markdown",
   "metadata": {},
   "source": [
    "O bloco a seguir é opcional, ele vai alterar o estilo padrão de nossas figuras, e aumentar um pouco o seu tamanho, melhorando a apresentação em nossa aula:"
   ]
  },
  {
   "cell_type": "code",
   "execution_count": null,
   "metadata": {},
   "outputs": [],
   "source": [
    "# Definindo um novo estilo para as figuras [opcional]\n",
    "# Esse bloco modifica alguns dos valores padrões para\n",
    "\n",
    "plt.rcdefaults()\n",
    "\n",
    "# https://matplotlib.org/3.1.0/gallery/style_sheets/style_sheets_reference.html\n",
    "plt.style.use(\"ggplot\")\n",
    "\n",
    "# https://matplotlib.org/3.1.1/tutorials/introductory/customizing.html\n",
    "plt.rcParams.update({\"figure.dpi\": 100, \"figure.figsize\": (6, 6)})\n",
    "\n",
    "px.defaults.template = \"ggplot2\"\n",
    "px.defaults.height = 600\n",
    "pio.templates.default = \"ggplot2\""
   ]
  },
  {
   "cell_type": "markdown",
   "metadata": {
    "colab_type": "text",
    "id": "7cXkW1EyOei7",
    "toc-hr-collapsed": false
   },
   "source": [
    "## Exercícios Resolvidos"
   ]
  },
  {
   "cell_type": "markdown",
   "metadata": {
    "colab_type": "text",
    "id": "gjvGWTV5UZF2"
   },
   "source": [
    "### Radiação e convecção combinadas em transferência de calor permanente unidirecional"
   ]
  },
  {
   "cell_type": "markdown",
   "metadata": {
    "colab_type": "text",
    "id": "vh0K2yb2OejK"
   },
   "source": [
    "A superfície interior de uma parede de espessura $L=0,25m$ é mantida a $21^oC$, enquanto a temperatura no meio externo é $T_\\infty = 4^oC$. Considere que há troca de calor com a vizinhança $T_{viz} = 250 K$, o coeficiente de convecção é $h=23W/m^2\\cdot ^oC$, a condutividade térmica do material que compõe a parede é $k=0,65 W/m \\cdot ^oC$, a emissividade da superfície externa vale $\\epsilon = 0,8$ e a constante de Stefan-Boltzmann $\\sigma = 5,67 \\times 10^{-8} [W/m^2 \\cdot K^4]$. Determine a temperatura externa da parede $T_2$.\n",
    "\n",
    "<img src=\"../Assets/radiacao.png\">\n",
    "\n",
    "\\begin{equation}\n",
    "    k \\left( \\dfrac{T_1-T_2}{L} \\right) = \\epsilon \\sigma \\left( T_2^4 - T_{viz}^4 \\right) + h \\left( T_2 - T_\\infty \\right)\n",
    "\\end{equation}"
   ]
  },
  {
   "cell_type": "markdown",
   "metadata": {},
   "source": [
    "* **Resolução**:"
   ]
  },
  {
   "cell_type": "markdown",
   "metadata": {},
   "source": [
    "Como primeiro passo para resolver o problema proposto, vamos atribuir todos os parâmetros do problema:"
   ]
  },
  {
   "cell_type": "code",
   "execution_count": null,
   "metadata": {},
   "outputs": [],
   "source": [
    "%%render\n",
    "\n",
    "L = ( 0.25 * ureg(\"meter\") ) # Espessura da parede\n",
    "T_1 = ( ureg.Quantity(21.0, ureg.degC).to(\"K\") ) # Temperatura parede interior\n",
    "T_inf = ( ureg.Quantity(4.0, ureg.degC).to(\"K\") ) # Temperatura no meio externo\n",
    "T_viz = ( 250.0 * ureg(\"K\") ) # Temperatura da vizinhança\n",
    "h = ( 23.0 * ureg(\"W/(m**2*K)\") ) # Coeficiente de convecção\n",
    "k = ( 0.65 * ureg(\"W/(m*K)\") ) # Condutividade térmica do material da parede\n",
    "epsilon = ( 0.8 ) # Emissividade da superfície externa\n",
    "sigma = ( 5.68e-8 * ureg(\"W/(m**2*K**4)\") ) # Constante de Stefan-Boltzmann"
   ]
  },
  {
   "cell_type": "markdown",
   "metadata": {},
   "source": [
    "No segundo passo, reescrevemos a equação do problema deixando o lado esquerdo zerado, para que possamos programar e obter o resultado numérico para o lado direito:\n",
    "\n",
    "\\begin{equation}\n",
    "    0 = \\epsilon \\sigma \\left( T_2^4 - T_{viz}^4 \\right) + h \\left( T_2 - T_\\infty \\right) - k \\left( \\dfrac{T_1-T_2}{L} \\right) = f(T_2)\n",
    "\\end{equation}"
   ]
  },
  {
   "cell_type": "code",
   "execution_count": null,
   "metadata": {},
   "outputs": [],
   "source": [
    "def equação_exemplo_1(T_2: float) -> float:\n",
    "    T_2 *= ureg(\"K\")\n",
    "    \n",
    "    return (\n",
    "        epsilon * sigma * (T_2 ** 4.0 - T_viz ** 4.0)\n",
    "        + h * (T_2 - T_inf)\n",
    "        - k * (T_1 - T_2) / L\n",
    "    )"
   ]
  },
  {
   "cell_type": "markdown",
   "metadata": {},
   "source": [
    "Temos um caso de \"atingir a meta\", qual o valor de $T_2$ que zera a nossa função?\n",
    "\n",
    "O que fazemos agora é resolver esse problema numericamente, de maneira interativa. Podemos fazer suposições sobre o valor de $T_2$ até satisfazer a equação, ou seja, o retorno da função acima deve ser próximo de zero.\n",
    "\n",
    "Fisicamente, faz sentido que $T_{viz} < T_2 < T_1$, então vamos começar com esses palpites iniciais:"
   ]
  },
  {
   "cell_type": "code",
   "execution_count": null,
   "metadata": {},
   "outputs": [],
   "source": [
    "equação_exemplo_1(T_2 = 300.0)"
   ]
  },
  {
   "cell_type": "code",
   "execution_count": null,
   "metadata": {},
   "outputs": [],
   "source": [
    "equação_exemplo_1(T_2 = 250.0)"
   ]
  },
  {
   "cell_type": "markdown",
   "metadata": {},
   "source": [
    "Ambos valores com sinais opostos nos são um grande indicativo, pois existe de fato uma raiz da função nesse intervalo!\n",
    "\n",
    "Podemos ir fazendo novos palpites em intervalos cada vez menores, até encontrar a raiz da função. Nosso próximo passo seria:"
   ]
  },
  {
   "cell_type": "code",
   "execution_count": null,
   "metadata": {},
   "outputs": [],
   "source": [
    "equação_exemplo_1(T_2 = 275.0)"
   ]
  },
  {
   "cell_type": "markdown",
   "metadata": {},
   "source": [
    "Vamos esclarecer isso com a representação gráfica:"
   ]
  },
  {
   "cell_type": "code",
   "execution_count": null,
   "metadata": {},
   "outputs": [],
   "source": [
    "T_2 = np.linspace(start = 250.0, stop = 300.0, num = 201)\n",
    "\n",
    "resultados_T_2 = equação_exemplo_1(T_2)\n",
    "\n",
    "fig = px.line(x=T_2, y=resultados_T_2, labels = {\"x\": fr\"$T_2 [K]$\", \"y\": fr\"$f(T_2) [W/m^2]$\"})\n",
    "fig.show()"
   ]
  },
  {
   "cell_type": "markdown",
   "metadata": {},
   "source": [
    "Mas observe que Python conta com um leque enorme de ferramentas à nossa disposição, de modo que não precisamos programar todo esse processo, podemos por exemplo usar a função [`fsolve`](https://docs.scipy.org/doc/scipy/reference/generated/scipy.optimize.fsolve.html) do pacote SciPy (lembre-se a acessar a documentação com `sp.optimize.fsolve?` se você precisar de ajuda.\n",
    "\n",
    "Veja o código:"
   ]
  },
  {
   "cell_type": "code",
   "execution_count": null,
   "metadata": {},
   "outputs": [],
   "source": [
    "T_2 = sp.optimize.fsolve(equação_exemplo_1, x0 = T_1) * ureg(\"K\")\n",
    "T_2"
   ]
  },
  {
   "cell_type": "markdown",
   "metadata": {},
   "source": [
    "* **Resposta:**\n",
    "\n",
    "A aproveitando as facilidades para o gerenciamento de unidades, vamos converter o resultado para graus Celsius:"
   ]
  },
  {
   "cell_type": "code",
   "execution_count": null,
   "metadata": {},
   "outputs": [],
   "source": [
    "T_2.to(\"degC\")"
   ]
  },
  {
   "cell_type": "markdown",
   "metadata": {
    "colab_type": "text",
    "id": "TgCiNuiIUqmT"
   },
   "source": [
    "### Condução de calor transiente bidimensional"
   ]
  },
  {
   "cell_type": "markdown",
   "metadata": {
    "colab_type": "text",
    "id": "ipFQNb0JOejO"
   },
   "source": [
    "Uma placa de cobre de $50cm \\times 50cm$ inicialmente possui temperatura em toda a sua extensão igual a $0^oC$. Instantaneamente, suas bordas são levadas às temperaturas de $60^oC$ em $x=0$; $20^oC$ em $x=50cm$; $0^oC$ em $y=0$ e $100^oC$ em $y=50$. A difusividade térmica do cobre é $1,1532cm^2/s$. Considerando um $\\Delta t = 4s$, $\\Delta x = \\Delta y = 5cm$, calcule a evolução da temperatura para a posição central da placa até o tempo de $400s$.\n",
    "    Equação bidimensional:\n",
    "\\begin{equation}\n",
    "\\alpha \\left( \\dfrac{\\partial ^2 T}{\\partial x^2} + \\dfrac{\\partial ^2 T}{\\partial y^2} \\right) =\\dfrac{\\partial T}{\\partial t}, \\quad 0 \\le x \\le L_x, \\quad 0 \\le y \\le L_y, \\quad t \\ge 0,\n",
    "\\end{equation}\n",
    "\n",
    "\\begin{equation}\n",
    "T(x=0,y) = T_a,\n",
    "\\end{equation}\n",
    "\\begin{equation}\n",
    "T(x=L_x,y) = T_b,\n",
    "\\end{equation}\n",
    "\\begin{equation}\n",
    "T(x,y=0) = T_c,\n",
    "\\end{equation}\n",
    "\\begin{equation}\n",
    "T(x,y=Ly) = T_d,\n",
    "\\end{equation}\n",
    "\\begin{equation}\n",
    "T(x,y) = T_i, \\quad para \\quad t=0.\n",
    "\\end{equation}"
   ]
  },
  {
   "cell_type": "markdown",
   "metadata": {
    "colab_type": "text",
    "id": "ipFQNb0JOejO"
   },
   "source": [
    "Lembre-se que o critério de estabilidade numérica do problema é:\n",
    "\\begin{equation}\n",
    "\\Delta t \\le \\dfrac{\\Delta x^2}{4 \\alpha}.\n",
    "\\end{equation}"
   ]
  },
  {
   "cell_type": "markdown",
   "metadata": {
    "colab_type": "text",
    "id": "ipFQNb0JOejO"
   },
   "source": [
    "Discretizando com a derivada segunda numa representação por diferença central e a derivada primeira com diferença ascendente:\n",
    "\n",
    "\\begin{equation}\n",
    "\\dfrac{T^{n+1}_{i,j}-T^{n}_{i,j}}{\\Delta t}=\\alpha \\left[ \\dfrac{T^{n}_{i-1,j}-2T^{n}_{i,j}+T^{n}_{i+1,j}}{(\\Delta x)^2} +\\dfrac{T^{n}_{i,j-1}-2T^{n}_{i,j}+T^{n}_{i,j+1}}{(\\Delta y)^2}  \\right], \\quad 1 \\le i \\le I - 2, \\quad 1 \\le j \\le J - 2, \\quad n > 0,\n",
    "\\end{equation}"
   ]
  },
  {
   "cell_type": "markdown",
   "metadata": {},
   "source": [
    "Agora devemos isolar a incógnita do nosso problema: o termo $T_{i,j}^{n+1}$. Perceba que todos os termos à direita são conhecidos, e usamos essa informação para avançar progressivamente no tempo:"
   ]
  },
  {
   "cell_type": "markdown",
   "metadata": {},
   "source": [
    "\\begin{equation}\n",
    "T^{n+1}_{i,j} = T^{n}_{i,j} + \\alpha \\Delta t \\left[ \\dfrac{T^{n}_{i-1,j}-2T^{n}_{i,j}+T^{n}_{i+1,j}}{(\\Delta x)^2} +\\dfrac{T^{n}_{i,j-1}-2T^{n}_{i,j}+T^{n}_{i,j+1}}{(\\Delta y)^2}  \\right], \\quad 1 \\le i \\le I - 2, \\quad 1 \\le j \\le J - 2, \\quad n \\ge 0.\n",
    "\\end{equation}\n",
    "\n",
    "Veja como ficou o código:"
   ]
  },
  {
   "cell_type": "code",
   "execution_count": null,
   "metadata": {},
   "outputs": [],
   "source": [
    "def equação_exemplo_2(x, y, t, alpha, T_a, T_b, T_c, T_d, T_i):\n",
    "    # Condição inicial\n",
    "    T = T_i * np.ones((x.size, y.size, t.size), order=\"F\")\n",
    "\n",
    "    # Condições de contorno\n",
    "    T[0, :, :], T[-1, :, :], T[:, 0, :], T[:, -1, :] = T_a, T_b, T_c, T_d\n",
    "    \n",
    "    # Passo de tempo e resolução da malha ao quadrado\n",
    "    dt, dx2, dy2 = t[1] - t[0], (x[1] - x[0]) ** 2.0, (y[1] - y[0]) ** 2.0\n",
    "\n",
    "    # Estabilidade numérica\n",
    "    print(f\"dt = {dt}; dx2/(4*alpha) = {dx2/(4.*alpha)}\")\n",
    "\n",
    "    # Aqui resolve-se a equação\n",
    "    for n in tqdm(range(0, t.size - 1)):\n",
    "        for i in range(1, x.size - 1):\n",
    "            for j in range(1, y.size - 1):\n",
    "                \n",
    "                T[i, j, n + 1] = T[i, j, n] + alpha * dt * (\n",
    "                    (T[i-1, j, n] - 2 * T[i, j, n] + T[i+1, j, n]) / dx2\n",
    "                    + (T[i, j-1, n] - 2 * T[i, j, n] + T[i, j+1, n]) / dy2\n",
    "                )\n",
    "    \n",
    "    return T"
   ]
  },
  {
   "cell_type": "markdown",
   "metadata": {},
   "source": [
    "Finalmente, podemos resolver o problema e graficar a solução:"
   ]
  },
  {
   "cell_type": "code",
   "execution_count": null,
   "metadata": {},
   "outputs": [],
   "source": [
    "x = np.linspace(start=0.0, stop=50.0, num=11) * ureg.cm\n",
    "y = np.linspace(start=0.0, stop=50.0, num=11) * ureg.cm\n",
    "t = np.linspace(start=0.0, stop=400.0, num=101) * ureg.seconds\n",
    "\n",
    "T = equação_exemplo_2(\n",
    "    x,\n",
    "    y,\n",
    "    t,\n",
    "    alpha = 1.1532 * ureg(\"cm**2/s\"),\n",
    "    T_a = ureg.Quantity(60.0, ureg.degC).to(\"K\"),\n",
    "    T_b = ureg.Quantity(20.0, ureg.degC).to(\"K\"),\n",
    "    T_c = ureg.Quantity(0.0, ureg.degC).to(\"K\"),\n",
    "    T_d = ureg.Quantity(100.0, ureg.degC).to(\"K\"),\n",
    "    T_i = ureg.Quantity(0.0, ureg.degC).to(\"K\")\n",
    ").to(\"degC\")"
   ]
  },
  {
   "cell_type": "code",
   "execution_count": null,
   "metadata": {},
   "outputs": [],
   "source": [
    "fig = px.imshow(\n",
    "    T,\n",
    "    animation_frame=-1,\n",
    "    x=x,\n",
    "    y=y[::-1],\n",
    "    color_continuous_scale='RdBu_r',\n",
    "    title=f\"Temperatura - {T.units}\",\n",
    "    labels=dict(x=f\"x - {x.units}\", y=f\"y - {x.units}\", animation_frame=\"snapshot\"),\n",
    "    origin = \"lower\"\n",
    ")\n",
    "fig.show()"
   ]
  },
  {
   "cell_type": "code",
   "execution_count": null,
   "metadata": {},
   "outputs": [],
   "source": [
    "fig = px.line(\n",
    "    x = t,\n",
    "    y = T[T.shape[0]//2,T.shape[1]//2,:],\n",
    "    title=f\"Temperatura no centro da placa\",\n",
    "    labels=dict(x=f\"tempo - {t.units}\", y=f\"T - {T.units}\")\n",
    ")\n",
    "fig.show()"
   ]
  },
  {
   "cell_type": "markdown",
   "metadata": {
    "colab_type": "text",
    "id": "xyxDPtUuU-Ij"
   },
   "source": [
    "#### Condução permanente com geração de calor"
   ]
  },
  {
   "cell_type": "markdown",
   "metadata": {
    "colab_type": "text",
    "id": "szp6sq5TOeji"
   },
   "source": [
    "Considere uma placa de urânio de espessura $L = 4cm$ e condutividade térmica $k = 28 W/m \\cdot K$ em que o calor é gerado uniformemente a uma taxa constante de $\\dot{e} = 5 \\times 10^6 W/m^3$. Um dos lados da placa é mantido a $0^oC$ com água gelada, enquanto o outro lado está sujeito à convecção para o ambiente a $T_\\infty = 30^oC$, com o coeficiente de transferência de calor $h=45 W/m^2 \\cdot K$. Considerando o total de três pontos igualmente espaçados no meio, dois nos contornos e um no centro, estime a temperatura da superfície exposta da placa sob condições permanentes usando a abordagem de diferenças finitas."
   ]
  },
  {
   "cell_type": "markdown",
   "metadata": {
    "colab_type": "text",
    "id": "u6SHfFWCOejk"
   },
   "source": [
    "<img src=\"../Assets/uranio.png\">\n",
    "\n",
    "Escrevendo a equações para cada nó:\n",
    "\\begin{equation}\n",
    "T_0 = 0 \\\\\n",
    "\\dfrac{T_0 - 2 T_1 + T_2}{\\Delta x^2} + \\dfrac{\\dot{e}_1}{k} = 0 \\\\\n",
    "h(T_\\infty - T_2) + k\\dfrac{T_1 - T_2}{\\Delta x} + \\dot{e}(\\Delta x/2) = 0\n",
    "\\end{equation}"
   ]
  },
  {
   "cell_type": "markdown",
   "metadata": {
    "colab_type": "text",
    "id": "KhYJ1uHzOejl"
   },
   "source": [
    "O problema pode ser reescrito na forma matricial como:\n",
    "\\begin{equation}\n",
    "\\begin{split}\n",
    "\\underbrace{\n",
    "\\begin{bmatrix}\n",
    "1 & 0 & 0 \\\\\n",
    "1/\\Delta x^2 & -2/\\Delta x^2 & 1/\\Delta x^2 \\\\\n",
    "0 & k/\\Delta x & -h-k/\\Delta x\n",
    "\\end{bmatrix}\n",
    "}_{A}\n",
    "\\begin{bmatrix}\n",
    "T_{0} \\\\ T_{1} \\\\ T_{2}\n",
    "\\end{bmatrix}\n",
    "=\n",
    "\\underbrace{\n",
    "\\begin{bmatrix} 0 \\\\ -\\dot{e}/k \\\\ -\\dot{e}\\Delta x/2 -hT_\\infty \\end{bmatrix}\n",
    "}_{B}\n",
    "\\end{split}\n",
    "\\end{equation}"
   ]
  },
  {
   "cell_type": "code",
   "execution_count": null,
   "metadata": {
    "colab": {},
    "colab_type": "code",
    "id": "wxCgUN7oOejl"
   },
   "outputs": [],
   "source": [
    "def equação_exemplo_2(L, k, eg, T_inf, h):\n",
    "\n",
    "    x = np.linspace(0.0, L, num=3, endpoint=True)\n",
    "    dx = x[1] - x[0]\n",
    "\n",
    "    A = np.array(\n",
    "        [\n",
    "            [1.0, 0.0, 0.0],\n",
    "            [1.0 / dx ** 2.0, -2.0 / dx ** 2.0, 1.0 / dx ** 2.0],\n",
    "            [0.0, k / dx, -h - k / dx],\n",
    "        ]\n",
    "    )\n",
    "    B = np.array([0.0, -eg / k, -eg * (dx / 2.0) - h * T_inf])\n",
    "\n",
    "    # Solver de álgebra linear do pacote numpy\n",
    "    T = np.linalg.solve(A, B)\n",
    "    \n",
    "    return T"
   ]
  },
  {
   "cell_type": "code",
   "execution_count": null,
   "metadata": {},
   "outputs": [],
   "source": [
    "L = 0.04  # Espessura da placa\n",
    "k = 28.0 # Condutividade térmica do material\n",
    "eg = 5.0e6 # Taxa de geração de calor\n",
    "T_inf = 30.0  # Temperatura do ambiente\n",
    "h = 45.0 # Coeficiente de transferência de calor por convecção\n",
    "\n",
    "T = equação_exemplo_2(L, k, eg, T_inf, h)"
   ]
  },
  {
   "cell_type": "code",
   "execution_count": null,
   "metadata": {
    "colab": {},
    "colab_type": "code",
    "id": "Zf_PuRYkOejn"
   },
   "outputs": [],
   "source": [
    "# Escrevendo o resultado na tela\n",
    "for i, t in enumerate(T):\n",
    "    print(f\"T{i} = {t:5.2f}\")"
   ]
  },
  {
   "cell_type": "markdown",
   "metadata": {
    "colab_type": "text",
    "id": "S6C8rEVDOejp"
   },
   "source": [
    "Esse problema pode também ser resolvido analiticamente como:\n",
    "\\begin{equation}\n",
    "    T(x) = \\dfrac{0,5 \\dot{e}hL^2/k + \\dot{e}L + T_\\infty h}{hL + k}x - \\dfrac{\\dot{e}x^2}{2k}\n",
    "\\end{equation}"
   ]
  },
  {
   "cell_type": "code",
   "execution_count": null,
   "metadata": {
    "colab": {},
    "colab_type": "code",
    "id": "rz0IzBQuOejq"
   },
   "outputs": [],
   "source": [
    "def T_exata(x):\n",
    "    return (\n",
    "        x * (0.5 * eg * h * L ** 2.0 / k + eg * L + T_inf * h) / (h * L + k)\n",
    "        - 0.5 * eg * x ** 2.0 / k\n",
    "    )"
   ]
  },
  {
   "cell_type": "markdown",
   "metadata": {
    "colab_type": "text",
    "id": "FxBnYCDWOejs"
   },
   "source": [
    "O sistema matricial pode ser escrito de maneira genérica para uma decomposição em $n$ pontos, como:\n",
    "\\begin{equation}\n",
    "\\begin{split}\n",
    "\\begin{bmatrix}\n",
    "1 & 0 & 0 \\\\\n",
    "& \\ddots & \\ddots & \\ddots \\\\\n",
    "& & 1/\\Delta x^2 & -2/\\Delta x^2 & 1/\\Delta x^2 \\\\\n",
    "& & & \\ddots & \\ddots & \\ddots \\\\\n",
    "& & & 0 & k/\\Delta x & -h-k/\\Delta x\n",
    "\\end{bmatrix}\n",
    "\\begin{bmatrix}\n",
    "T_{0} \\\\ \\vdots \\\\ T_{i} \\\\ \\vdots \\\\ T_{n}\n",
    "\\end{bmatrix}\n",
    "=\n",
    "\\begin{bmatrix} 0 \\\\ \\vdots \\\\ -\\dot{e}_i/k \\\\ \\vdots \\\\ -\\dot{e}_n\\Delta x/2 -hT_\\infty \\end{bmatrix}\n",
    "\\\\\n",
    "\\mbox{com $1\\leq i \\leq n - 2$,}\n",
    "\\end{split}\n",
    "\\end{equation}"
   ]
  },
  {
   "cell_type": "markdown",
   "metadata": {},
   "source": [
    "Vamos programar a solução acima de maneira genérica, agora em função do número de pontos `n`, seja só:"
   ]
  },
  {
   "cell_type": "code",
   "execution_count": null,
   "metadata": {},
   "outputs": [],
   "source": [
    "def equação_exemplo_3(L, k, eg, T_inf, h, n):\n",
    "\n",
    "    x = np.linspace(0.0, L, num=n, endpoint=True)\n",
    "    dx = x[1] - x[0]\n",
    "\n",
    "    A = np.zeros((n,n), dtype=np.float64)\n",
    "    \n",
    "    A[0,0] = 1.0\n",
    "    \n",
    "    for i in range(1, x.size - 1):\n",
    "        A[i,i-1] = 1.0 / dx ** 2.0\n",
    "        A[i,i] = - 2.0 / dx ** 2.0\n",
    "        A[i,i+1] = 1.0 / dx ** 2.0\n",
    "        \n",
    "    A[-1, -2], A[-1, -1] = k / dx, -h - k / dx\n",
    "\n",
    "    B = np.ones((n), dtype=np.float64) * (-eg / k)\n",
    "    \n",
    "    B[0] = 0.0\n",
    "    B[-1] = -eg * (dx / 2.0) - h * T_inf\n",
    "\n",
    "    # Solver de álgebra linear do pacote numpy\n",
    "    T = np.linalg.solve(A, B)\n",
    "    \n",
    "    return x, T"
   ]
  },
  {
   "cell_type": "markdown",
   "metadata": {},
   "source": [
    "Agora vamos testar a convergência da solução, para três valores de n:"
   ]
  },
  {
   "cell_type": "code",
   "execution_count": null,
   "metadata": {},
   "outputs": [],
   "source": [
    "fig = go.Figure()\n",
    "\n",
    "# Solução exata\n",
    "x_exato = np.linspace(0., L, num=101)\n",
    "fig.add_trace(\n",
    "    go.Scatter(\n",
    "        x=x_exato, y=T_exata(x_exato),\n",
    "        mode='lines',\n",
    "        name='Analítica'\n",
    "    )\n",
    ")\n",
    "\n",
    "for n in [3, 5, 10]:\n",
    "    x, T = equação_exemplo_3(L, k, eg, T_inf, h, n)\n",
    "\n",
    "    fig.add_trace(\n",
    "        go.Scatter(\n",
    "            x=x, y=T,\n",
    "            mode='lines+markers',\n",
    "            name=f'n={n}'\n",
    "        )\n",
    "    )  \n",
    "\n",
    "fig.show()"
   ]
  },
  {
   "cell_type": "markdown",
   "metadata": {
    "colab_type": "text",
    "id": "_wrHfnSMVLHp"
   },
   "source": [
    "#### Armazenamento de energia solar em paredes de Trombe"
   ]
  },
  {
   "cell_type": "markdown",
   "metadata": {
    "colab_type": "text",
    "id": "hW_w1eNfOejw"
   },
   "source": [
    "As paredes de alvenaria pintadas de cor escura, chamadas paredes de Trombe, são comumente usadas do lado sul das casas com energia solar passiva para absorver energia solar, armazenálas durante o dia e liberá-la para a casa durante a noite (mais informações [aqui](https://en.wikipedia.org/wiki/Trombe_wall)). Normalmente uma camada única ou dupla de vidro é colocada fora da parede e transmite a maior parte da energia solar, bloqueando as perdas de calor da superfície exposta da parede externa. Além disso, saídas de ar são comumente instaladas nas partes inferior e superior entre a parede de Trombe e os vidros. Em sua passagem, o ar tem a temperatura elevada e entra na sala através da abertura no lado superior da parece.\n",
    "\n",
    "<img src=\"../Assets/casa_1.png\" width=\"300\">\n",
    "\n",
    "Considere uma parede Trombe com $30cm$ de espessura, condutividade térmica de $k=0,69W/m\\cdot K$ e difusividade térmica $\\alpha = 4,44 \\times 10^-7 m^2/s$. A variação de temperatura ambiente $T_{sai}$ e do fluxo de calor solar $\\dot{q}_{solar}$ inidente sobre a face vertical da superfície virada ao Sul ao longo de um dia típico de janeiro é dada por\n",
    "\n",
    "|Período do dia| Temperatura ambiente, $^oC$|Radiação solar, $W/m^2$|\n",
    "|--|--|--|\n",
    "|7h-10h|0,6|360|\n",
    "|10h-13|6,1|763|\n",
    "|13h-16h|7,2|562|\n",
    "|16h-19h|2,8|0|\n",
    "|19h-22h|0|0|\n",
    "|22h-1h|-2,8|0|\n",
    "|1h-4h|-3,3|0|\n",
    "|4h-7h|-3,9|0|\n",
    "\n",
    "A parede de Trombe tem vidro simples com um produto de absortividade e transmissividade de $ \\kappa = 0,77$ (ou seja, 77% da energia solar incidente é absorvida pela superfície exposta da parede de Trombe), e o coeficiente médio de transferência de calor combinada para perda de calor da parede de Trombe no ambiente é determinada a $h_{sai} = 4 W/m^2 \\cdot C$. O interior da casa é mantido a $T_{ent} = 21 ^oC$ todo o tempo, e o coeficiente de transferência de calor na superfície interna da parede de Trombe é $h_{ent} = 10 W/m^2 \\cdot ^oC$. Além disso, as aberturas na parede são mantidas fechadas, portanto a transferência de calor entre o ar da casa e a parede de Trombe ocorre apenas através da superfície interior da parede. Pressupondo que a temperatura da parede de Trombe varie linearmente entre $21 ^oC$ na superfície interna e $-1 ^oC$ na superfície externa às 7 h da manhã e usando o método explícito das diferenças finitas com espaçamento nodal uniforme de $\\Delta x = 6 cm$, determine a distribuição de temperatura ao longo da espessura da parede de Trombe após 12, 24, 36 e 48 h. Além disso, determine a quantidade líquida de calor transferido da parede de Trombe para a casa durante o primeiro e o segundo dia. Considere que a parede tem $3m$ de altura e $7,5m$ de comprimento e utilize um passo de tempo de $\\Delta t = 15min$. "
   ]
  },
  {
   "cell_type": "code",
   "execution_count": null,
   "metadata": {
    "colab": {},
    "colab_type": "code",
    "id": "-YznZc4XOejy"
   },
   "outputs": [],
   "source": [
    "table = pd.DataFrame(\n",
    "    {\n",
    "        \"ti\": [7.0, 10.0, 13.0, 16.0, 19.0, 22.0, 1.0, 4.0],\n",
    "        \"tf\": [10.0, 13.0, 16.0, 19.0, 22.0, 1.0, 4.0, 7.0],\n",
    "        \"Tsai\": [0.6, 6.1, 7.2, 2.8, 0.0, -2.8, -3.3, -3.9],\n",
    "        \"qsol\": [360.0, 763.0, 562.0, 0.0, 0.0, 0.0, 0.0, 0.0],\n",
    "    }\n",
    ")"
   ]
  },
  {
   "cell_type": "markdown",
   "metadata": {
    "colab_type": "text",
    "id": "jyTyeMw5Oej0"
   },
   "source": [
    "<img src=\"../Assets/casa_0.png\" width=\"300\">\n",
    "\n",
    "Escrevendo a equações para cada nó:\n",
    "\\begin{equation}\n",
    "T_0^{j+1} = \\left( 1 - 2\\tau -2 \\tau \\dfrac{h_{ent}\\Delta x}{k} \\right) T_0^{j} + 2\\tau T_1^{j} + 2\\tau \\dfrac{h_{ent}\\Delta x}{k} T_{ent} \\\\\n",
    "T_i^{j+1} = \\tau (T_{i-1}^j + T_{i+1}^j) + (1-2\\tau)T_{i}^j\\\\\n",
    "T_n^{j+1} = \\left( 1 - 2\\tau -2 \\tau \\dfrac{h_{sai}\\Delta x}{k} \\right) T_n^{j} + 2\\tau T_{n-1}^{j} + 2\\tau \\dfrac{h_{sai}\\Delta x}{k} T_{sai}^j + 2\\tau \\dfrac{\\kappa \\dot{q}_{solar}^j \\Delta x}{k}\n",
    "\\end{equation}\n",
    "onde\n",
    "\n",
    "\\begin{equation}\n",
    "\\tau = \\dfrac{\\alpha \\Delta t}{\\Delta x^2}\n",
    "\\end{equation}"
   ]
  },
  {
   "cell_type": "markdown",
   "metadata": {
    "colab_type": "text",
    "id": "tQ65oNRPOej0"
   },
   "source": [
    "O problema pode ser reescrito na forma matricial como:\n",
    "\\begin{equation}\n",
    "\\begin{split}\n",
    "\\begin{bmatrix}\n",
    "T_{0}^{j+1} \\\\ \\vdots \\\\ T_{i}^{j+1} \\\\ \\vdots \\\\ T_{n-1}^{j+1}\n",
    "\\end{bmatrix}\n",
    "=\n",
    "\\underbrace{\n",
    "\\begin{bmatrix}\n",
    "1 - 2\\tau -2 \\tau \\dfrac{h_{ent}\\Delta x}{k} & 2\\tau & 0 \\\\\n",
    "\\ddots & \\ddots & \\ddots \\\\\n",
    "\\tau & 1-2\\tau & \\tau \\\\\n",
    "\\ddots & \\ddots & \\ddots \\\\\n",
    "0 & 2\\tau & 1 - 2\\tau -2 \\tau \\dfrac{h_{sai}\\Delta x}{k}\n",
    "\\end{bmatrix}\n",
    "}_{A}\n",
    "\\begin{bmatrix}\n",
    "T_{0}^j \\\\ \\vdots \\\\ T_{i}^j \\\\ \\vdots \\\\ T_{n-1}^j\n",
    "\\end{bmatrix}\n",
    "+\n",
    "\\underbrace{\n",
    "\\begin{bmatrix} -2\\tau \\dfrac{h_{ent}\\Delta x}{k} T_{ent} \\\\ \\vdots \\\\ 0 \\\\ \\vdots \\\\ - 2\\tau \\dfrac{h_{sai}\\Delta x}{k} T_{sai}^j - 2\\tau \\dfrac{\\kappa \\dot{q}_{solar}^j \\Delta x}{k} \\end{bmatrix}\n",
    "}_{B}\n",
    "\\\\\n",
    "\\mbox{com $1 \\leq i \\leq n - 2$,}\n",
    "\\end{split}\n",
    "\\end{equation}"
   ]
  },
  {
   "cell_type": "markdown",
   "metadata": {
    "colab_type": "text",
    "id": "B30ybBjpOej1"
   },
   "source": [
    "O critério de estabilidade para esse problema é dado por:\n",
    "\\begin{equation}\n",
    "\\Delta t \\le \\dfrac{\\Delta x^2}{3,74 \\alpha} = 36,13min\n",
    "\\end{equation}"
   ]
  },
  {
   "cell_type": "code",
   "execution_count": null,
   "metadata": {},
   "outputs": [],
   "source": [
    "def equação_exemplo_4(L, dx, dth, k, alpha, kappa, hsai, Tent, hent, table):\n",
    "\n",
    "    x = np.arange(0, L + dx, dx)\n",
    "    time = np.arange(0.0, 48.0 + dth, dth)\n",
    "\n",
    "    T = np.zeros((x.size, time.size))\n",
    "    \n",
    "    # convertendo para segundos\n",
    "    dt = dth * 3600.0\n",
    "    \n",
    "    tau = alpha * dt / dx ** 2.0\n",
    "    \n",
    "    # Condição Inicial\n",
    "    T[:, 0] = 21.0 - (22.0 / L) * x\n",
    "    time += 7.0\n",
    "    \n",
    "    # Construção dos Operadores\n",
    "    A = np.zeros((x.size,x.size))\n",
    "    \n",
    "    for i in range(1, x.size - 1):\n",
    "        A[i,i-1] = tau\n",
    "        A[i,i] = 1.0 - 2.0 * tau\n",
    "        A[i,i+1] = tau\n",
    "    \n",
    "    B = np.zeros_like(x)\n",
    "\n",
    "    # Laço de avanço temporal\n",
    "    for j in tqdm(range(time.size - 1)):\n",
    "        #\n",
    "        # Obter os valores do contorno à partir da tabela\n",
    "        #\n",
    "        index = int((time[j] - 7.0) % 24.0 // 3)\n",
    "        Tsai = table.loc[index].Tsai\n",
    "        qsol = table.loc[index].qsol\n",
    "        #\n",
    "        # Condição de contorno em x=0\n",
    "        #\n",
    "        A[0, 0] = 1.0 - 2 * tau - 2.0 * tau * hent * dx / k\n",
    "        A[0, 1] = 2.0 * tau\n",
    "        A[0, 2] = 0.0\n",
    "        B[0] = 2.0 * tau * hent * dx * Tent / k\n",
    "        #\n",
    "        # Condição de contorno em x=L\n",
    "        #\n",
    "        A[-1, -3] = 0.0\n",
    "        A[-1, -2] = 2.0 * tau\n",
    "        A[-1, -1] = 1.0 + -2.0 * tau - 2.0 * tau * hsai * dx / k\n",
    "        B[-1] = 2.0 * tau * hsai * dx * Tsai / k + 2 * tau * kappa * qsol * dx / k\n",
    "        #\n",
    "        T[:, j + 1] = A.dot(T[:, j]) + B\n",
    "    \n",
    "    return x, time, T"
   ]
  },
  {
   "cell_type": "code",
   "execution_count": null,
   "metadata": {},
   "outputs": [],
   "source": [
    "x, time, T = equação_exemplo_4(\n",
    "    L = 0.3,  # m\n",
    "    dx = 0.06,  # m\n",
    "    dth = 0.25,  # h\n",
    "    k = 0.69,  # W/mK\n",
    "    alpha = 4.44e-7,  # m^2/s\n",
    "    kappa = 0.77,\n",
    "    hsai = 4,  # W/m^2K\n",
    "    Tent = 21.0,  # graus C\n",
    "    hent = 10,  # W/m^2K\n",
    "    table = table\n",
    ")"
   ]
  },
  {
   "cell_type": "markdown",
   "metadata": {
    "colab_type": "text",
    "id": "DAFpZNy6Oej2"
   },
   "source": [
    "* Visualizando os resultados:"
   ]
  },
  {
   "cell_type": "code",
   "execution_count": null,
   "metadata": {},
   "outputs": [],
   "source": [
    "fig = px.imshow(\n",
    "    T.T,\n",
    "    x=x,\n",
    "    y=time,\n",
    "    color_continuous_scale='RdBu_r',\n",
    "    title=r\"$\\text{Temperatura} [^oC]$\",\n",
    "    labels=dict(x=\"x [m]\", y=\"Tempo [h]\", color=\"T\"),\n",
    "    aspect = \"auto\",\n",
    "    origin = \"lower\"\n",
    ")\n",
    "fig.show()"
   ]
  },
  {
   "cell_type": "markdown",
   "metadata": {
    "colab_type": "text",
    "id": "NblobETwOej5"
   },
   "source": [
    "* Variação da temperatura em três pontos da parede, em função do tempo"
   ]
  },
  {
   "cell_type": "code",
   "execution_count": null,
   "metadata": {},
   "outputs": [],
   "source": [
    "fig = go.Figure()\n",
    "\n",
    "for i in [0, x.size//2, -1]:\n",
    "\n",
    "    fig.add_trace(\n",
    "        go.Scatter(\n",
    "            x=time, y=T[i,:],\n",
    "            mode='lines',\n",
    "            name=f'x={x[i]}'\n",
    "        )\n",
    "    )  \n",
    "\n",
    "fig.show()"
   ]
  },
  {
   "cell_type": "markdown",
   "metadata": {
    "colab": {},
    "colab_type": "code",
    "id": "hOC-0GylxlgY"
   },
   "source": [
    "-----\n",
    "\n",
    "> **Felipe N. Schuch**,<br>\n",
    "> Pesquisador em Fluidodinâmica Computacional na PUCRS, com interesse em: Escoamentos turbulentos, transferência de calor e massa, e interação fluido-estrutura; Processamento e visualização de dados em Python; Jupyter Notebook como uma ferramenta de colaboração, pesquisa e ensino.<br>\n",
    "> [felipeschuch@outlook.com](mailto:felipeschuch@outlook.com \"Email\") [@fschuch](https://twitter.com/fschuch \"Twitter\") [Aprenda.py](https://fschuch.github.io/aprenda.py \"Blog\") [@aprenda.py](https://www.instagram.com/aprenda.py/ \"Instagram\")<br>\n",
    "\n",
    "-----"
   ]
  }
 ],
 "metadata": {
  "celltoolbar": "Slideshow",
  "colab": {
   "include_colab_link": true,
   "name": "aula.ipynb",
   "provenance": [],
   "toc_visible": true
  },
  "kernelspec": {
   "display_name": "Python 3",
   "language": "python",
   "name": "python3"
  },
  "language_info": {
   "codemirror_mode": {
    "name": "ipython",
    "version": 3
   },
   "file_extension": ".py",
   "mimetype": "text/x-python",
   "name": "python",
   "nbconvert_exporter": "python",
   "pygments_lexer": "ipython3",
   "version": "3.8.8"
  },
  "toc": {
   "base_numbering": 1,
   "nav_menu": {},
   "number_sections": true,
   "sideBar": true,
   "skip_h1_title": true,
   "title_cell": "Sumário",
   "title_sidebar": "Sumário",
   "toc_cell": true,
   "toc_position": {
    "height": "calc(100% - 180px)",
    "left": "10px",
    "top": "150px",
    "width": "334.6px"
   },
   "toc_section_display": true,
   "toc_window_display": true
  },
  "toc-autonumbering": true,
  "varInspector": {
   "cols": {
    "lenName": 16,
    "lenType": 16,
    "lenVar": 40
   },
   "kernels_config": {
    "python": {
     "delete_cmd_postfix": "",
     "delete_cmd_prefix": "del ",
     "library": "var_list.py",
     "varRefreshCmd": "print(var_dic_list())"
    },
    "r": {
     "delete_cmd_postfix": ") ",
     "delete_cmd_prefix": "rm(",
     "library": "var_list.r",
     "varRefreshCmd": "cat(var_dic_list()) "
    }
   },
   "oldHeight": 413.85,
   "position": {
    "height": "576.85px",
    "left": "1476px",
    "right": "20px",
    "top": "189px",
    "width": "342px"
   },
   "types_to_exclude": [
    "module",
    "function",
    "builtin_function_or_method",
    "instance",
    "_Feature"
   ],
   "varInspector_section_display": "block",
   "window_display": false
  },
  "widgets": {
   "application/vnd.jupyter.widget-state+json": {
    "state": {},
    "version_major": 2,
    "version_minor": 0
   }
  }
 },
 "nbformat": 4,
 "nbformat_minor": 4
}
